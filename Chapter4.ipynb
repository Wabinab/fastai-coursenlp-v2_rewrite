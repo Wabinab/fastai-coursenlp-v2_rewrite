{
 "cells": [
  {
   "cell_type": "markdown",
   "id": "e24621f2",
   "metadata": {},
   "source": [
    "# Chapter 4: Regex"
   ]
  },
  {
   "cell_type": "code",
   "execution_count": 27,
   "id": "b70aac11",
   "metadata": {},
   "outputs": [],
   "source": [
    "%config Completer.use_jedi = False\n",
    "import numpy as np"
   ]
  },
  {
   "cell_type": "code",
   "execution_count": 2,
   "id": "d536ed12",
   "metadata": {},
   "outputs": [],
   "source": [
    "phone1 = \"123-456-7890\"\n",
    "\n",
    "phone2 = \"123 456 7890\"\n",
    "\n",
    "not_phone1 = \"101 fastai\""
   ]
  },
  {
   "cell_type": "code",
   "execution_count": 3,
   "id": "ed6b42ea",
   "metadata": {},
   "outputs": [
    {
     "data": {
      "text/plain": [
       "'0123456789'"
      ]
     },
     "execution_count": 3,
     "metadata": {},
     "output_type": "execute_result"
    }
   ],
   "source": [
    "import string\n",
    "string.digits"
   ]
  },
  {
   "cell_type": "code",
   "execution_count": 4,
   "id": "96d58d6c",
   "metadata": {},
   "outputs": [],
   "source": [
    "def check_phone(inp):\n",
    "    valid_chars = string.digits + ' -()'\n",
    "    for char in inp:\n",
    "        if char not in valid_chars: return False\n",
    "    return True"
   ]
  },
  {
   "cell_type": "code",
   "execution_count": 5,
   "id": "f9fb101b",
   "metadata": {},
   "outputs": [],
   "source": [
    "assert check_phone(phone1)\n",
    "assert check_phone(phone2)\n",
    "assert not check_phone(not_phone1)"
   ]
  },
  {
   "cell_type": "code",
   "execution_count": 6,
   "id": "1d17d987",
   "metadata": {},
   "outputs": [],
   "source": [
    "# Attempt 2 without regex\n",
    "not_phone2 = \"1234\""
   ]
  },
  {
   "cell_type": "code",
   "execution_count": 7,
   "id": "9e936ded",
   "metadata": {},
   "outputs": [],
   "source": [
    "import pytest\n",
    "\n",
    "with pytest.raises(AssertionError): assert not check_phone(not_phone2)"
   ]
  },
  {
   "cell_type": "code",
   "execution_count": 8,
   "id": "df151e65",
   "metadata": {},
   "outputs": [],
   "source": [
    "def check_phone(inp):\n",
    "    nums = string.digits\n",
    "    valid_chars = nums + ' -()'\n",
    "    num_counter = 0\n",
    "    for char in inp:\n",
    "        if char not in valid_chars: return False\n",
    "        if char in nums: num_counter += 1\n",
    "    if num_counter==10: return True\n",
    "    else: return False"
   ]
  },
  {
   "cell_type": "code",
   "execution_count": 9,
   "id": "87b9b12c",
   "metadata": {},
   "outputs": [],
   "source": [
    "assert check_phone(phone1)\n",
    "assert check_phone(phone2)\n",
    "assert not check_phone(not_phone1)\n",
    "assert not check_phone(not_phone2)"
   ]
  },
  {
   "cell_type": "markdown",
   "id": "7c843f5c",
   "metadata": {},
   "source": [
    "### Attempt 3 without regex\n",
    "We also need to extract the digits. "
   ]
  },
  {
   "cell_type": "code",
   "execution_count": 10,
   "id": "24c5ef43",
   "metadata": {},
   "outputs": [],
   "source": [
    "not_phone3 = \"34 50 98 21 32\"\n",
    "\n",
    "with pytest.raises(AssertionError): assert not check_phone(not_phone3)"
   ]
  },
  {
   "cell_type": "code",
   "execution_count": 11,
   "id": "84d40684",
   "metadata": {},
   "outputs": [],
   "source": [
    "not_phone4 = \"(34)(50)()()982132\"\n",
    "\n",
    "with pytest.raises(AssertionError): assert not check_phone(not_phone4)"
   ]
  },
  {
   "cell_type": "markdown",
   "id": "903645e5",
   "metadata": {},
   "source": [
    "## Introducing Regex\n",
    "**Best Practice: Be as specific as possible.**\n",
    "\n",
    "It is Domain Specific Language (DSL). Powerful (but limited) language. \n",
    "\n",
    "Other DSLs: SQL, Markdown, TensorFlow. \n",
    "\n",
    "For US Phone Number: \\d\\d\\d-\\d\\d\\d-\\d\\d\\d\\d\n",
    "\n",
    "**metacharacter** is one or more special characters that have a unique meaning and NOT used as literals in search expression. \\d means any digit. **Metacharacters are special sauce of regex**. \n",
    "\n",
    "### Quantifiers: \n",
    "How many times preceding expression should match. This uses {} curly braces. Refactor above: \\d{3}-\\d{3}-\\d{4}. \n",
    "\n",
    "### Unexact Quantifiers: \n",
    "1. ? question mark: 1 or 0 repeats. \n",
    "2. * star: zero or more repeats. \n",
    "3. + plus sign: one or more repeats. \n",
    "\n",
    "The best way to learn is through practice. Otherwise it's like reading lists of rules. \n",
    "\n",
    "### Pros and Cons: \n",
    "Pros:  \n",
    "1. Concise and powerful pattern matching DSL\n",
    "2. Supported by many computer languages, including SQL. \n",
    "\n",
    "Cons:\n",
    "1. Brittle\n",
    "2. Hard to write, can get complex to be correct. \n",
    "3. Hard to read. \n",
    "\n",
    "## Revisiting Tokenization. \n",
    "How do we make our own tokenizer? Create our own tokens? "
   ]
  },
  {
   "cell_type": "code",
   "execution_count": 13,
   "id": "fde01704",
   "metadata": {},
   "outputs": [],
   "source": [
    "import re"
   ]
  },
  {
   "cell_type": "code",
   "execution_count": 20,
   "id": "62116288",
   "metadata": {},
   "outputs": [],
   "source": [
    "re_punc = re.compile(\"([\\\"\\''().,;:/_?!—\\-])\")  # add spaces around punctuation. \n",
    "re_apos = re.compile(r\"n ' t \")  # n't\n",
    "re_bpos = re.compile(r\" ' s\")  # 's\n",
    "re_mult_space = re.compile(r\"  *\")  # replace multiple spaces with just one. (two spaces)\n",
    "\n",
    "def simple_toks(sent): \n",
    "    sent = re_punc.sub(r\" \\1 \", sent)\n",
    "    sent = re_apos.sub(r\" n't \", sent)\n",
    "    sent = re_bpos.sub(r\" 's \", sent)\n",
    "    sent = re_mult_space.sub(\" \", sent)\n",
    "    return sent.lower().split()"
   ]
  },
  {
   "cell_type": "code",
   "execution_count": 22,
   "id": "0ed2d13d",
   "metadata": {},
   "outputs": [
    {
     "data": {
      "text/plain": [
       "\"i do n't know who kara 's new friend is - - is it ' mr . toad ' ?\""
      ]
     },
     "execution_count": 22,
     "metadata": {},
     "output_type": "execute_result"
    }
   ],
   "source": [
    "text = \"I don't know who Kara's new friend is -- is it 'Mr. Toad'?\"\n",
    "\" \".join(simple_toks(text))"
   ]
  },
  {
   "cell_type": "code",
   "execution_count": 23,
   "id": "420591f0",
   "metadata": {},
   "outputs": [
    {
     "data": {
      "text/plain": [
       "\"I don ' t know who Kara ' s new friend is  -  -  is it  ' Mr .  Toad '  ? \""
      ]
     },
     "execution_count": 23,
     "metadata": {},
     "output_type": "execute_result"
    }
   ],
   "source": [
    "text2 = re_punc.sub(r\" \\1 \", text); text2"
   ]
  },
  {
   "cell_type": "code",
   "execution_count": 24,
   "id": "cfcc3be9",
   "metadata": {},
   "outputs": [
    {
     "data": {
      "text/plain": [
       "\"I do n't know who Kara ' s new friend is  -  -  is it  ' Mr .  Toad '  ? \""
      ]
     },
     "execution_count": 24,
     "metadata": {},
     "output_type": "execute_result"
    }
   ],
   "source": [
    "text3 = re_apos.sub(r\" n't \", text2); text3"
   ]
  },
  {
   "cell_type": "code",
   "execution_count": 25,
   "id": "3489943b",
   "metadata": {},
   "outputs": [
    {
     "data": {
      "text/plain": [
       "\"I do n't know who Kara 's  new friend is  -  -  is it  ' Mr .  Toad '  ? \""
      ]
     },
     "execution_count": 25,
     "metadata": {},
     "output_type": "execute_result"
    }
   ],
   "source": [
    "text4 = re_bpos.sub(r\" 's \", text3); text4"
   ]
  },
  {
   "cell_type": "code",
   "execution_count": 26,
   "id": "039a291e",
   "metadata": {},
   "outputs": [],
   "source": [
    "sentences = ['All this happened, more or less.',\n",
    "             'The war parts, anyway, are pretty much true.',\n",
    "             \"One guy I knew really was shot for taking a teapot that wasn't his.\",\n",
    "             'Another guy I knew really did threaten to have his personal enemies killed by hired gunmen after the war.',\n",
    "             'And so on.',\n",
    "             \"I've changed all their names.\"]"
   ]
  },
  {
   "cell_type": "code",
   "execution_count": 31,
   "id": "52302c52",
   "metadata": {},
   "outputs": [
    {
     "data": {
      "text/plain": [
       "[array(['all', 'this', 'happened', ',', 'more', 'or', 'less', '.'],\n",
       "       dtype='<U8'),\n",
       " array(['the', 'war', 'parts', ',', 'anyway', ',', 'are', 'pretty', 'much',\n",
       "        'true', '.'], dtype='<U6'),\n",
       " array(['one', 'guy', 'i', 'knew', 'really', 'was', 'shot', 'for',\n",
       "        'taking', 'a', 'teapot', 'that', 'was', \"n't\", 'his', '.'],\n",
       "       dtype='<U6'),\n",
       " array(['another', 'guy', 'i', 'knew', 'really', 'did', 'threaten', 'to',\n",
       "        'have', 'his', 'personal', 'enemies', 'killed', 'by', 'hired',\n",
       "        'gunmen', 'after', 'the', 'war', '.'], dtype='<U8'),\n",
       " array(['and', 'so', 'on', '.'], dtype='<U3'),\n",
       " array(['i', \"'\", 've', 'changed', 'all', 'their', 'names', '.'],\n",
       "       dtype='<U7')]"
      ]
     },
     "execution_count": 31,
     "metadata": {},
     "output_type": "execute_result"
    }
   ],
   "source": [
    "tokens = list(map(simple_toks, sentences))\n",
    "[np.array(token) for token in tokens]"
   ]
  },
  {
   "cell_type": "markdown",
   "id": "810e44af",
   "metadata": {},
   "source": [
    "We need to convert them to integer ids. We also need to know our vocabulary, and have a way to convert between words and ids. "
   ]
  },
  {
   "cell_type": "code",
   "execution_count": 32,
   "id": "418249e3",
   "metadata": {},
   "outputs": [],
   "source": [
    "import collections"
   ]
  },
  {
   "cell_type": "code",
   "execution_count": 34,
   "id": "553fdff9",
   "metadata": {},
   "outputs": [],
   "source": [
    "PAD = 0\n",
    "SOS = 1\n",
    "\n",
    "\n",
    "def toks2ids(sentences):\n",
    "    voc_cnt = collections.Counter(t for sent in sentences for t in sent)\n",
    "    vocab = sorted(voc_cnt, key=voc_cnt.get, reverse=True)\n",
    "    vocab.insert(PAD, \"<PAD>\")\n",
    "    vocab.insert(SOS, \"<SOS>\")\n",
    "    w2id = {w:i for i, w in enumerate(vocab)}\n",
    "    ids = [[w2id[t] for t in sent] for sent in sentences]\n",
    "    return ids, vocab, w2id, voc_cnt"
   ]
  },
  {
   "cell_type": "code",
   "execution_count": 35,
   "id": "4f02104c",
   "metadata": {},
   "outputs": [
    {
     "data": {
      "text/plain": [
       "[array([ 5, 13, 14,  3, 15, 16, 17,  2]),\n",
       " array([ 6,  7, 18,  3, 19,  3, 20, 21, 22, 23,  2]),\n",
       " array([24,  8,  4,  9, 10, 11, 25, 26, 27, 28, 29, 30, 11, 31, 12,  2]),\n",
       " array([32,  8,  4,  9, 10, 33, 34, 35, 36, 12, 37, 38, 39, 40, 41, 42, 43,\n",
       "         6,  7,  2]),\n",
       " array([44, 45, 46,  2]),\n",
       " array([ 4, 47, 48, 49,  5, 50, 51,  2])]"
      ]
     },
     "execution_count": 35,
     "metadata": {},
     "output_type": "execute_result"
    }
   ],
   "source": [
    "ids, vocab, w2id, voc_cnt = toks2ids(tokens)\n",
    "[np.array(id) for id in ids]"
   ]
  },
  {
   "cell_type": "code",
   "execution_count": 36,
   "id": "2182f3ec",
   "metadata": {},
   "outputs": [
    {
     "data": {
      "text/plain": [
       "array(['<PAD>', '<SOS>', '.', ',', 'i', 'all', 'the', 'war', 'guy',\n",
       "       'knew', 'really', 'was', 'his', 'this', 'happened', 'more', 'or',\n",
       "       'less', 'parts', 'anyway', 'are', 'pretty', 'much', 'true', 'one',\n",
       "       'shot', 'for', 'taking', 'a', 'teapot', 'that', \"n't\", 'another',\n",
       "       'did', 'threaten', 'to', 'have', 'personal', 'enemies', 'killed',\n",
       "       'by', 'hired', 'gunmen', 'after', 'and', 'so', 'on', \"'\", 've',\n",
       "       'changed', 'their', 'names'], dtype='<U8')"
      ]
     },
     "execution_count": 36,
     "metadata": {},
     "output_type": "execute_result"
    }
   ],
   "source": [
    "np.array(vocab)"
   ]
  },
  {
   "cell_type": "markdown",
   "id": "1ca3ce05",
   "metadata": {},
   "source": [
    "What could be another better name for `vocab` variable above? "
   ]
  },
  {
   "cell_type": "code",
   "execution_count": 37,
   "id": "ee2cace4",
   "metadata": {},
   "outputs": [
    {
     "data": {
      "text/plain": [
       "array({'<PAD>': 0, '<SOS>': 1, '.': 2, ',': 3, 'i': 4, 'all': 5, 'the': 6, 'war': 7, 'guy': 8, 'knew': 9, 'really': 10, 'was': 11, 'his': 12, 'this': 13, 'happened': 14, 'more': 15, 'or': 16, 'less': 17, 'parts': 18, 'anyway': 19, 'are': 20, 'pretty': 21, 'much': 22, 'true': 23, 'one': 24, 'shot': 25, 'for': 26, 'taking': 27, 'a': 28, 'teapot': 29, 'that': 30, \"n't\": 31, 'another': 32, 'did': 33, 'threaten': 34, 'to': 35, 'have': 36, 'personal': 37, 'enemies': 38, 'killed': 39, 'by': 40, 'hired': 41, 'gunmen': 42, 'after': 43, 'and': 44, 'so': 45, 'on': 46, \"'\": 47, 've': 48, 'changed': 49, 'their': 50, 'names': 51},\n",
       "      dtype=object)"
      ]
     },
     "execution_count": 37,
     "metadata": {},
     "output_type": "execute_result"
    }
   ],
   "source": [
    "np.array(w2id)"
   ]
  },
  {
   "cell_type": "markdown",
   "id": "d34a68e0",
   "metadata": {},
   "source": [
    "### What are the use of RegEx? \n",
    "1. Find / Search. \n",
    "2. Find & Replace. \n",
    "3. Cleaning. \n",
    "\n",
    "#### Don't forget about Python's `str` methods. \n",
    "`str.<tab>`  \n",
    "`str.find()`"
   ]
  },
  {
   "cell_type": "code",
   "execution_count": 40,
   "id": "d52f0c8f",
   "metadata": {},
   "outputs": [],
   "source": [
    "str.find?"
   ]
  },
  {
   "cell_type": "markdown",
   "id": "7f8cf40f",
   "metadata": {},
   "source": [
    "### Regex vs String method. \n",
    "String:  \n",
    "1. String methods are easier to understand\n",
    "2. String methods express the intent more clearly. \n",
    "\n",
    "--- \n",
    "\n",
    "Regex:  \n",
    "1. Regex handle much broader use cases. \n",
    "2. Regex can be language independent. \n",
    "3. Regex can be faster at scale. \n",
    "\n",
    "### What about unicode? "
   ]
  },
  {
   "cell_type": "code",
   "execution_count": 41,
   "id": "e8109e47",
   "metadata": {},
   "outputs": [
    {
     "data": {
      "text/plain": [
       "'😊🎦 😊🍕'"
      ]
     },
     "execution_count": 41,
     "metadata": {},
     "output_type": "execute_result"
    }
   ],
   "source": [
    "message = \"😒🎦 🤢🍕\"\n",
    "\n",
    "re_frown = re.compile(r\"😒|🤢\")\n",
    "re_frown.sub(r\"😊\", message)"
   ]
  },
  {
   "cell_type": "markdown",
   "id": "c54c3c43",
   "metadata": {},
   "source": [
    "### Regex Errors: \n",
    "**False positives** (Type I): Matching strings that we should **not** have matched.  \n",
    "**False negatives** (Type II): **Not** matching strings that we should have matched.  \n",
    "\n",
    "Reducing the error rate for a task often involves two antagonistic efforts: \n",
    "1. Minimizing false positives\n",
    "2. Minimizing false negatives. \n",
    "\n",
    "**Important to tests for both!**\n",
    "\n",
    "In reality, you often have to trade one for the other. \n",
    "\n",
    "Useful tools: \n",
    "- [Regex cheatsheet](http://www.cheatography.com/davechild/cheat-sheets/regular-expressions/)\n",
    "- [regexr.com](http://regexr.com/) Realtime regex engine.\n",
    "- [pyregex.com](https://pythex.org/) Realtime Python regex engine. \n",
    "\n",
    "### Summary\n",
    "1. We use regex as metalanguage to find string patterns in blocks of text. \n",
    "2. r\"\" are IRL friends for Python regex. \n",
    "3. We are just doing binary classification so use the same performance metrics. \n",
    "4. You'll make a lot of mistakes in regex. Think about FP and FN. "
   ]
  },
  {
   "cell_type": "markdown",
   "id": "f15e90da",
   "metadata": {},
   "source": [
    "### Regex Terms\n",
    "- **target string**: This term describes the string that we will be searching (string in which we want to find our match or search pattern). \n",
    "- **search expression**: The pattern we use to find what we want. Most commonly called regular expression (regex). \n",
    "- **literal**: Any character we use in a search or matching expression, for example, to find 'ind' in 'windows' the 'ind' is a literal string - each character plays a part in the search, it is literally the string we want to find. \n",
    "- **metacharacter**: One or more special characters that have a unique meaning and are NOT used as literals in the search expression. For example \".\" means any character. \n",
    "\n",
    "Metacharacters are the special sauce of regex. \n",
    "\n",
    "- **escape sequence**: A way of indicating that we want to use a metacharacters as a literal. \n",
    "\n",
    "In regex an escape sequence involves placing metacharacter \\ (backslash) in front of the metacharacter to use as literal. '\\.' means find literal period character (not match any character). \n",
    "\n",
    "### Regex workflow\n",
    "1. Create pattern in Plain English. \n",
    "2. Map to regex language. \n",
    "3. Make sure results are correct:  \n",
    "    - All Positives: Captures all examples of pattern. \n",
    "    - No Negatives: Everything captured is from pattern. \n",
    "4. Don't over-engineer regex. \n",
    "    - Your goal is to Get Stuff Done, not write best regex in the world. \n",
    "    - Filtering before and after are okay. "
   ]
  },
  {
   "cell_type": "code",
   "execution_count": null,
   "id": "a7647d7f",
   "metadata": {},
   "outputs": [],
   "source": []
  }
 ],
 "metadata": {
  "kernelspec": {
   "display_name": "Python 3",
   "language": "python",
   "name": "python3"
  },
  "language_info": {
   "codemirror_mode": {
    "name": "ipython",
    "version": 3
   },
   "file_extension": ".py",
   "mimetype": "text/x-python",
   "name": "python",
   "nbconvert_exporter": "python",
   "pygments_lexer": "ipython3",
   "version": "3.7.4"
  }
 },
 "nbformat": 4,
 "nbformat_minor": 5
}
