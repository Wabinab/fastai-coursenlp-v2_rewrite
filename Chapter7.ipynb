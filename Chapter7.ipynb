{
 "cells": [
  {
   "cell_type": "markdown",
   "source": [
    "# Seq2seq Translation\n",
    "## Translation with an RNN\n",
    "Seq2seq can be more challenging than classification, since output is of variable length (and typically different length from input). \n",
    "\n",
    "In pure PyTorch, translations is much harder. \n",
    "\n",
    "[data original website](http://www.statmt.org/wmt15/translation-task.html)"
   ],
   "metadata": {}
  },
  {
   "cell_type": "code",
   "execution_count": 1,
   "source": [
    "from fastai.text.all import *\n",
    "path = Config.config_path\n",
    "path"
   ],
   "outputs": [
    {
     "output_type": "execute_result",
     "data": {
      "text/plain": [
       "Path('/home/fastai2/.fastai')"
      ]
     },
     "metadata": {},
     "execution_count": 1
    }
   ],
   "metadata": {}
  },
  {
   "cell_type": "code",
   "execution_count": 2,
   "source": [
    "# !wget https://s3.amazonaws.com/fast-ai-nlp/giga-fren.tgz -P {path}\n",
    "# !tar xf {path}/giga-fren.tgz -C {path}"
   ],
   "outputs": [],
   "metadata": {}
  },
  {
   "cell_type": "code",
   "execution_count": 3,
   "source": [
    "path = path/\"giga-fren\"\n",
    "path.ls()"
   ],
   "outputs": [
    {
     "output_type": "execute_result",
     "data": {
      "text/plain": [
       "(#5) [Path('/home/fastai2/.fastai/giga-fren/giga-fren.release2.fixed.en'),Path('/home/fastai2/.fastai/giga-fren/questions_easy.csv'),Path('/home/fastai2/.fastai/giga-fren/cc.fr.300.bin'),Path('/home/fastai2/.fastai/giga-fren/cc.en.300.bin'),Path('/home/fastai2/.fastai/giga-fren/giga-fren.release2.fixed.fr')]"
      ]
     },
     "metadata": {},
     "execution_count": 3
    }
   ],
   "metadata": {}
  },
  {
   "cell_type": "markdown",
   "source": [
    "If we are going to train only on questions: these are the lines to be run once only. "
   ],
   "metadata": {}
  },
  {
   "cell_type": "code",
   "execution_count": 4,
   "source": [
    "# with open(path/\"giga-fren.release2.fixed.fr\") as f: fr = f.read().split(\"\\n\")\n",
    "# with open(path/\"giga-fren.release2.fixed.en\") as f: en = f.read().split(\"\\n\")\n",
    "\n",
    "# re_eq = re.compile(\"^(Wh[^?.!]+\\?)\")\n",
    "# re_fq = re.compile(\"^([^?.!]+\\?)\")\n",
    "# en_fname = path/\"giga-fren.release2.fixed.en\"\n",
    "# fr_fname = path/\"giga-fren.release2.fixed.fr\"\n",
    "\n",
    "# lines = ((re_eq.search(eq), re_fq.search(fq))\n",
    "#         for eq, fq in zip(open(en_fname, encoding=\"utf-8\"),\n",
    "#                           open(fr_fname, encoding=\"utf-8\")))\n",
    "\n",
    "# qs = [(e.group(), f.group()) for e, f, in lines if e and f]\n",
    "# qs = [(q1, q2) for q1, q2 in qs]\n",
    "\n",
    "# df = pd.DataFrame({\"fr\": [q[1] for q in qs], \"en\": [q[0] for q in qs]}, \n",
    "#         columns=[\"en\", \"fr\"])\n",
    "# df.to_csv(path/\"questions_easy.csv\", index=False)"
   ],
   "outputs": [],
   "metadata": {}
  },
  {
   "cell_type": "code",
   "execution_count": 5,
   "source": [
    "path.ls()"
   ],
   "outputs": [
    {
     "output_type": "execute_result",
     "data": {
      "text/plain": [
       "(#5) [Path('/home/fastai2/.fastai/giga-fren/giga-fren.release2.fixed.en'),Path('/home/fastai2/.fastai/giga-fren/questions_easy.csv'),Path('/home/fastai2/.fastai/giga-fren/cc.fr.300.bin'),Path('/home/fastai2/.fastai/giga-fren/cc.en.300.bin'),Path('/home/fastai2/.fastai/giga-fren/giga-fren.release2.fixed.fr')]"
      ]
     },
     "metadata": {},
     "execution_count": 5
    }
   ],
   "metadata": {}
  },
  {
   "cell_type": "markdown",
   "source": [
    "## Load data into DataBunch"
   ],
   "metadata": {}
  },
  {
   "cell_type": "code",
   "execution_count": 6,
   "source": [
    "df = pd.read_csv(path/\"questions_easy.csv\")\n",
    "df.head()"
   ],
   "outputs": [
    {
     "output_type": "execute_result",
     "data": {
      "text/html": [
       "<div>\n",
       "<style scoped>\n",
       "    .dataframe tbody tr th:only-of-type {\n",
       "        vertical-align: middle;\n",
       "    }\n",
       "\n",
       "    .dataframe tbody tr th {\n",
       "        vertical-align: top;\n",
       "    }\n",
       "\n",
       "    .dataframe thead th {\n",
       "        text-align: right;\n",
       "    }\n",
       "</style>\n",
       "<table border=\"1\" class=\"dataframe\">\n",
       "  <thead>\n",
       "    <tr style=\"text-align: right;\">\n",
       "      <th></th>\n",
       "      <th>en</th>\n",
       "      <th>fr</th>\n",
       "    </tr>\n",
       "  </thead>\n",
       "  <tbody>\n",
       "    <tr>\n",
       "      <th>0</th>\n",
       "      <td>What is light ?</td>\n",
       "      <td>Qu’est-ce que la lumière?</td>\n",
       "    </tr>\n",
       "    <tr>\n",
       "      <th>1</th>\n",
       "      <td>Who are we?</td>\n",
       "      <td>Où sommes-nous?</td>\n",
       "    </tr>\n",
       "    <tr>\n",
       "      <th>2</th>\n",
       "      <td>Where did we come from?</td>\n",
       "      <td>D'où venons-nous?</td>\n",
       "    </tr>\n",
       "    <tr>\n",
       "      <th>3</th>\n",
       "      <td>What would we do without it?</td>\n",
       "      <td>Que ferions-nous sans elle ?</td>\n",
       "    </tr>\n",
       "    <tr>\n",
       "      <th>4</th>\n",
       "      <td>What is the absolute location (latitude and longitude) of Badger, Newfoundland and Labrador?</td>\n",
       "      <td>Quelle sont les coordonnées (latitude et longitude) de Badger, à Terre-Neuve-etLabrador?</td>\n",
       "    </tr>\n",
       "  </tbody>\n",
       "</table>\n",
       "</div>"
      ],
      "text/plain": [
       "                                                                                             en  \\\n",
       "0                                                                               What is light ?   \n",
       "1                                                                                   Who are we?   \n",
       "2                                                                       Where did we come from?   \n",
       "3                                                                  What would we do without it?   \n",
       "4  What is the absolute location (latitude and longitude) of Badger, Newfoundland and Labrador?   \n",
       "\n",
       "                                                                                         fr  \n",
       "0                                                                 Qu’est-ce que la lumière?  \n",
       "1                                                                           Où sommes-nous?  \n",
       "2                                                                         D'où venons-nous?  \n",
       "3                                                              Que ferions-nous sans elle ?  \n",
       "4  Quelle sont les coordonnées (latitude et longitude) de Badger, à Terre-Neuve-etLabrador?  "
      ]
     },
     "metadata": {},
     "execution_count": 6
    }
   ],
   "metadata": {}
  },
  {
   "cell_type": "code",
   "execution_count": 7,
   "source": [
    "df[\"en\"] = df[\"en\"].apply(lambda x: x.lower())\n",
    "df[\"fr\"] = df[\"fr\"].apply(lambda x: x.lower())"
   ],
   "outputs": [],
   "metadata": {}
  },
  {
   "cell_type": "markdown",
   "source": [
    "We want to collate inputs and targets in a batch: they have different lengths so we need to add padding to make sequence length the same. "
   ],
   "metadata": {}
  },
  {
   "cell_type": "code",
   "execution_count": 8,
   "source": [
    "dls = DataBlock(\n",
    "    blocks=(TextBlock.from_df(\"fr\", tok=SpacyTokenizer(\"fr\")), TextBlock.from_df(\"en\")),\n",
    "    get_x=ColReader(\"text\"), get_y=ColReader(\"text\"), \n",
    "    splitter=RandomSplitter(0.1)\n",
    ").dataloaders(df, bs=64, num_workers=os.cpu_count(), seq_len=30)"
   ],
   "outputs": [
    {
     "output_type": "display_data",
     "data": {
      "text/html": [],
      "text/plain": [
       "<IPython.core.display.HTML object>"
      ]
     },
     "metadata": {}
    },
    {
     "output_type": "stream",
     "name": "stderr",
     "text": [
      "/anaconda/envs/fastai/lib/python3.8/site-packages/numpy/core/_asarray.py:102: VisibleDeprecationWarning: Creating an ndarray from ragged nested sequences (which is a list-or-tuple of lists-or-tuples-or ndarrays with different lengths or shapes) is deprecated. If you meant to do this, you must specify 'dtype=object' when creating the ndarray.\n",
      "  return array(a, dtype, copy=False, order=order)\n"
     ]
    },
    {
     "output_type": "display_data",
     "data": {
      "text/html": [],
      "text/plain": [
       "<IPython.core.display.HTML object>"
      ]
     },
     "metadata": {}
    }
   ],
   "metadata": {}
  },
  {
   "cell_type": "code",
   "execution_count": 9,
   "source": [
    "dls.show_batch(max_n=2)"
   ],
   "outputs": [
    {
     "output_type": "display_data",
     "data": {
      "text/html": [
       "<table border=\"1\" class=\"dataframe\">\n",
       "  <thead>\n",
       "    <tr style=\"text-align: right;\">\n",
       "      <th></th>\n",
       "      <th>text</th>\n",
       "      <th>text_</th>\n",
       "    </tr>\n",
       "  </thead>\n",
       "  <tbody>\n",
       "    <tr>\n",
       "      <th>0</th>\n",
       "      <td>xxbos dans un tel cas , où il s’ agit d ’ apprécier si un nom commercial a un fondement juridique antérieur à celui d ’ une marque aux fins de l’ article 16 , paragraphe 1 , troisième phrase , de l’ accord adpic , peut -on considérer comme décisif : i ) le fait que , dans l’ état où la marque est enregistrée et sa protection réclamée , le nom commercial ait été , du moins dans une certaine mesure , connu dans les milieux professionnels xxunk xxunk de l’ état concerné avant la date à laquelle l’ enregistrement de la marque y a été demandé ; ou que , dans les relations commerciales intéressant l’ état où la marque est xxunk ée et sa protection réclamée , le nom commercial ait été utilisé avant la date à laquelle l’ enregistrement de la marque a été demandé</td>\n",
       "      <td>xxbos when assessing , in such a case , whether a trade name has a legal basis prior to a trade mark for the purposes of the third sentence of article 16(1 ) of the trips agreement , may it thus be considered as decisive : ( i ) whether the trade name was well known at least to some extent among the relevant trade circles in the state in which the trade mark is registered and in which protection is sought for it , before the point in time at which registration of the trade mark was applied for in the state in question ; or whether the trade name was used in commerce directed to the state in which the trade mark is registered and in which protection is sought for it , before the point in time at which registration of the trade mark was applied for in the state in question ; or what other factor may decide whether the trade name is to be regarded as an existing prior right within the meaning of the third sentence of article 16(1 ) of the trips agreement ?</td>\n",
       "    </tr>\n",
       "    <tr>\n",
       "      <th>1</th>\n",
       "      <td>xxbos en xxunk que « les etats membres prennent les mesures nécessaires pour interdire le xxunk des travailleuses ( … ) ( enceintes , xxunk ou xxunk ) pendant la période allant du début de leur grossesse jusqu’ au terme du congé de maternité ( … ) , sauf dans les cas d’ exception non liés à leur état » , l’ article 10 de la directive oblige -t -il les etats membres à préciser de manière spéciale et exceptionnelle quelle peuvent être les causes de xxunk d’ une travailleuse enceinte , xxunk ou xxunk et à introduire à cet effet dans la législation nationale , parallèlement au régime général de xxunk des contrats de travail , un autre régime , spécial , exceptionnel , plus limité et xxunk pour les cas dans lesquels la travailleuse est enceinte , xxunk ou xxunk ?</td>\n",
       "      <td>xxbos where article 10 of the directive states that the dismissal of a worker who is pregnant , has given birth or is breast - feeding is to take place \" where applicable , provided that the competent require that a worker who is pregnant , has given birth or is breast - feeding may be dismissed only by means of a special procedure in which the appropriate competent authority gives its consent prior to the dismissal which the employer seeks ?</td>\n",
       "    </tr>\n",
       "  </tbody>\n",
       "</table>"
      ],
      "text/plain": [
       "<IPython.core.display.HTML object>"
      ]
     },
     "metadata": {}
    }
   ],
   "metadata": {}
  },
  {
   "cell_type": "code",
   "execution_count": 10,
   "source": [
    "import fasttext as ft "
   ],
   "outputs": [],
   "metadata": {}
  },
  {
   "cell_type": "markdown",
   "source": [
    "Download word vectors"
   ],
   "metadata": {}
  },
  {
   "cell_type": "code",
   "execution_count": 11,
   "source": [
    "# ! wget https://dl.fbaipublicfiles.com/fasttext/vectors-crawl/cc.en.300.bin.gz -P {path}\n",
    "# ! wget https://dl.fbaipublicfiles.com/fasttext/vectors-crawl/cc.fr.300.bin.gz -P {path}\n",
    "\n",
    "# !gunzip {path} / cc.en.300.bin.gz\n",
    "# !gunzip {path} / cc.fr.300.bin.gz"
   ],
   "outputs": [],
   "metadata": {}
  },
  {
   "cell_type": "code",
   "execution_count": 12,
   "source": [
    "import fasttext.util\n",
    "# fasttext.util.download_model(\"en\", if_exists=\"ignore\")\n",
    "# en_vecs = ft.load_model(\"cc.en.300.bin\")\n",
    "\n",
    "# fasttext.util.download_model(\"fr\", if_exists=\"ignore\")\n",
    "# fr_vecs = ft.load_model(\"cc.fr.300.bin\")"
   ],
   "outputs": [],
   "metadata": {}
  },
  {
   "cell_type": "code",
   "execution_count": 13,
   "source": [
    "fr_vecs = ft.load_model(str((path/\"cc.fr.300.bin\")))\n",
    "en_vecs = ft.load_model(str((path/\"cc.en.300.bin\")))"
   ],
   "outputs": [
    {
     "output_type": "stream",
     "name": "stderr",
     "text": [
      "Warning : `load_model` does not return WordVectorModel or SupervisedModel any more, but a `FastText` object which is very similar.\n",
      "Warning : `load_model` does not return WordVectorModel or SupervisedModel any more, but a `FastText` object which is very similar.\n"
     ]
    }
   ],
   "metadata": {}
  },
  {
   "cell_type": "markdown",
   "source": [
    "Create embedding module with pretrained vectors and random data for missing parts. "
   ],
   "metadata": {}
  },
  {
   "cell_type": "code",
   "execution_count": 14,
   "source": [
    "from tqdm.auto import tqdm\n",
    "\n",
    "\n",
    "def create_emb(vecs, itos, em_sz=300, mult=1.):\n",
    "    emb = nn.Embedding(len(itos), em_sz, padding_idx=1)\n",
    "    wgts = emb.weight.data\n",
    "    vec_dic = {w: vecs.get_word_vector(w) for w in vecs.get_words()}\n",
    "    miss = []\n",
    "    for i, w in enumerate(tqdm(itos)):\n",
    "        try: wgts[i] = tensor(vec_dic[w])\n",
    "        except Exception: miss.append(w)\n",
    "    return emb"
   ],
   "outputs": [],
   "metadata": {}
  },
  {
   "cell_type": "code",
   "execution_count": null,
   "source": [
    "dls.vocab[0][-5:]"
   ],
   "outputs": [],
   "metadata": {}
  },
  {
   "cell_type": "code",
   "execution_count": 15,
   "source": [
    "from utils import *\n",
    "emb_enc = create_emb(fr_vecs, dls.vocab[0])  # don't need int to str. It's already str. \n",
    "emb_dec = create_emb(en_vecs, dls.vocab[1])\n",
    "emb_enc.weight.size(), emb_dec.weight.size()"
   ],
   "outputs": [
    {
     "output_type": "display_data",
     "data": {
      "application/vnd.jupyter.widget-view+json": {
       "version_major": 2,
       "version_minor": 0,
       "model_id": "7a2404d1513948818aa22437916ad8e8"
      },
      "text/plain": [
       "  0%|          | 0/11600 [00:00<?, ?it/s]"
      ]
     },
     "metadata": {}
    },
    {
     "output_type": "display_data",
     "data": {
      "application/vnd.jupyter.widget-view+json": {
       "version_major": 2,
       "version_minor": 0,
       "model_id": "135ede4039ff4c4f9a7794b7d5aef392"
      },
      "text/plain": [
       "  0%|          | 0/9112 [00:00<?, ?it/s]"
      ]
     },
     "metadata": {}
    },
    {
     "output_type": "execute_result",
     "data": {
      "text/plain": [
       "(torch.Size([11600, 300]), torch.Size([9112, 300]))"
      ]
     },
     "metadata": {},
     "execution_count": 15
    }
   ],
   "metadata": {}
  },
  {
   "cell_type": "code",
   "execution_count": 16,
   "source": [
    "model_path = Config.config_path/\"models\"\n",
    "\n",
    "torch.save(emb_enc, model_path/\"fr_emb.pth\")\n",
    "torch.save(emb_dec, model_path/\"en_emb.pth\")"
   ],
   "outputs": [],
   "metadata": {}
  },
  {
   "cell_type": "markdown",
   "source": [
    "## Our Model\n",
    "Encoder is RNN, feed in input sentence, producing an output (that we discard for now) and hidden state. **Hidden state** is the activations that come out of an RNN. \n",
    "\n",
    "Hidden state is given to decoder (another RNN) using in conjunction with outputs it predicts to produce translation. We loop until decoder produces a padding token (or at least 30 iterations to make sure it's not infinite loop at beginning of training).\n",
    "\n",
    "We use GRU for encoder and separate GRU for decoder. Other options are LSTMs or QRNNs. "
   ],
   "metadata": {}
  },
  {
   "cell_type": "code",
   "execution_count": 17,
   "source": [
    "class Seq2SeqRNN(Module):\n",
    "    def __init__(self, emb_enc, emb_dec, nh, \n",
    "                out_sl, nl=2, bos_idx=0, pad_idx=1):\n",
    "        self.nl, self.nh, self.out_sl = nl, nh, out_sl\n",
    "        self.bos_idx, self.pad_idx = bos_idx, pad_idx\n",
    "        self.em_sz_enc = emb_enc.embedding_dim \n",
    "        self.em_sz_dec = emb_dec.embedding_dim\n",
    "        self.voc_sz_dec = emb_dec.num_embeddings\n",
    "\n",
    "        self.emb_enc = emb_enc\n",
    "        self.emb_enc_drop = nn.Dropout(0.15)\n",
    "        self.gru_enc = nn.GRU(self.em_sz_enc, nh, num_layers=nl, \n",
    "                    dropout=0.25, batch_first=True)\n",
    "        self.out_enc = nn.Linear(nh, self.em_sz_dec, bias=False)\n",
    "\n",
    "        self.emb_dec = emb_dec\n",
    "        self.gru_dec = nn.GRU(self.em_sz_dec, self.em_sz_dec, num_layers=nl,\n",
    "                    dropout=0.1, batch_first=True)\n",
    "        self.out_drop = nn.Dropout(0.35)\n",
    "        self.out = nn.Linear(self.em_sz_dec, self.voc_sz_dec)\n",
    "        self.out.weight.data = self.emb_dec.weight.data\n",
    "\n",
    "    def encoder(self, bs, inp):\n",
    "        h = self.initHidden(bs)\n",
    "        emb = self.emb_enc_drop(self.emb_enc(inp))\n",
    "        _, h = self.gru_enc(emb, h)\n",
    "        h = self.out_enc(h)\n",
    "        return h\n",
    "\n",
    "    def decoder(self, dec_inp, h):\n",
    "        emb = self.emb_dec(dec_inp).unsqueeze(1)\n",
    "        outp, h = self.gru_dec(emb, h)\n",
    "        outp = self.out(self.out_drop(outp[:, 0]))\n",
    "        return h, outp\n",
    "\n",
    "    def forward(self, inp):\n",
    "        bs, sl = inp.size()\n",
    "        h = self.encoder(bs, inp)\n",
    "        dec_inp = inp.new_zeros(bs).long() + self.bos_idx\n",
    "\n",
    "        res = []\n",
    "        for i in range(self.out_sl):\n",
    "            h, outp = self.decoder(dec_inp, h)\n",
    "            dec_inp = outp.max(1)[1]\n",
    "            res.append(outp)\n",
    "            if (dec_inp == self.pad_idx).all(): break\n",
    "\n",
    "        return torch.stack(res, dim=1)\n",
    "\n",
    "    def initHidden(self, bs): \n",
    "        return one_param(self).new_zeros(self.nl, bs, self.nh)"
   ],
   "outputs": [],
   "metadata": {}
  },
  {
   "cell_type": "markdown",
   "source": [
    "The 1st size is not the sequence length anymore. Instead, it's the sentence length. It might vary depends on what your first sentence is. **This is my guesses. Check if it is correct.**"
   ],
   "metadata": {}
  },
  {
   "cell_type": "code",
   "execution_count": 18,
   "source": [
    "xb, yb = next(iter(dls.valid))\n",
    "xb.shape"
   ],
   "outputs": [
    {
     "output_type": "execute_result",
     "data": {
      "text/plain": [
       "torch.Size([64, 131])"
      ]
     },
     "metadata": {},
     "execution_count": 18
    }
   ],
   "metadata": {}
  },
  {
   "cell_type": "code",
   "execution_count": 19,
   "source": [
    "device = torch.device(\"cuda\" if torch.cuda.is_available() else \"cpu\")\n",
    "rnn = Seq2SeqRNN(emb_enc, emb_dec, 256, 30).to(device)\n",
    "rnn"
   ],
   "outputs": [
    {
     "output_type": "execute_result",
     "data": {
      "text/plain": [
       "Seq2SeqRNN(\n",
       "  (emb_enc): Embedding(11600, 300, padding_idx=1)\n",
       "  (emb_enc_drop): Dropout(p=0.15, inplace=False)\n",
       "  (gru_enc): GRU(300, 256, num_layers=2, batch_first=True, dropout=0.25)\n",
       "  (out_enc): Linear(in_features=256, out_features=300, bias=False)\n",
       "  (emb_dec): Embedding(9112, 300, padding_idx=1)\n",
       "  (gru_dec): GRU(300, 300, num_layers=2, batch_first=True, dropout=0.1)\n",
       "  (out_drop): Dropout(p=0.35, inplace=False)\n",
       "  (out): Linear(in_features=300, out_features=9112, bias=True)\n",
       ")"
      ]
     },
     "metadata": {},
     "execution_count": 19
    }
   ],
   "metadata": {}
  },
  {
   "cell_type": "code",
   "execution_count": 20,
   "source": [
    "len(xb[0])"
   ],
   "outputs": [
    {
     "output_type": "execute_result",
     "data": {
      "text/plain": [
       "131"
      ]
     },
     "metadata": {},
     "execution_count": 20
    }
   ],
   "metadata": {}
  },
  {
   "cell_type": "code",
   "execution_count": 21,
   "source": [
    "h = rnn.encoder(64, xb.to(device))\n",
    "h.size()"
   ],
   "outputs": [
    {
     "output_type": "execute_result",
     "data": {
      "text/plain": [
       "torch.Size([2, 64, 300])"
      ]
     },
     "metadata": {},
     "execution_count": 21
    }
   ],
   "metadata": {}
  },
  {
   "cell_type": "markdown",
   "source": [
    "The loss pads output and target so they are of the same size before using the usual flattened version of cross entropy. We do the same for accuracy. "
   ],
   "metadata": {}
  },
  {
   "cell_type": "code",
   "execution_count": 22,
   "source": [
    "def seq2seq_loss(out, targ, pad_idx=1):\n",
    "    bs, targ_len = targ.size()\n",
    "    _, out_len, vs = out.size()\n",
    "    if targ_len > out_len: out = F.pad(out, (0, 0, 0, targ_len - out_len, 0, 0), value=pad_idx)\n",
    "    if out_len > targ_len: targ = F.pad(targ, (0, out_len - targ_len, 0, 0), value=pad_idx)\n",
    "    return CrossEntropyLossFlat()(out, targ)"
   ],
   "outputs": [],
   "metadata": {}
  },
  {
   "cell_type": "markdown",
   "source": [
    "### Train our model"
   ],
   "metadata": {}
  },
  {
   "cell_type": "markdown",
   "source": [
    "The accuracy supposed to be defined in the next section, but we are to include it in the training metrics, so let's write it out first before continuing. "
   ],
   "metadata": {}
  },
  {
   "cell_type": "code",
   "execution_count": 23,
   "source": [
    "def seq2seq_acc(out, targ, pad_idx=1):\n",
    "    bs, targ_len = targ.size()\n",
    "    _, out_len, vs = out.size()\n",
    "    if targ_len > out_len: out = F.pad(out, (0, 0, 0, targ_len - out_len, 0, 0), value=pad_idx)\n",
    "    if out_len > targ_len: targ = F.pad(targ, (0, out_len - targ_len, 0, 0), value=pad_idx)\n",
    "    out = out.argmax(2)\n",
    "    return (out == targ).float().mean()"
   ],
   "outputs": [],
   "metadata": {}
  },
  {
   "cell_type": "code",
   "execution_count": 24,
   "source": [
    "torch.cuda.empty_cache()\n",
    "learn = Learner(dls, rnn.cuda(), loss_func=seq2seq_loss)\n",
    "learn.lr_find()"
   ],
   "outputs": [
    {
     "output_type": "display_data",
     "data": {
      "text/html": [],
      "text/plain": [
       "<IPython.core.display.HTML object>"
      ]
     },
     "metadata": {}
    },
    {
     "output_type": "execute_result",
     "data": {
      "text/plain": [
       "SuggestedLRs(valley=tensor(0.0003))"
      ]
     },
     "metadata": {},
     "execution_count": 24
    },
    {
     "output_type": "display_data",
     "data": {
      "image/png": "[encoded data removed]",
      "text/plain": [
       "<Figure size 432x288 with 1 Axes>"
      ]
     },
     "metadata": {
      "needs_background": "light"
     }
    }
   ],
   "metadata": {}
  },
  {
   "cell_type": "code",
   "execution_count": 25,
   "source": [
    "learn.fit_one_cycle(4, 1e-2)"
   ],
   "outputs": [
    {
     "output_type": "display_data",
     "data": {
      "text/html": [
       "<table border=\"1\" class=\"dataframe\">\n",
       "  <thead>\n",
       "    <tr style=\"text-align: left;\">\n",
       "      <th>epoch</th>\n",
       "      <th>train_loss</th>\n",
       "      <th>valid_loss</th>\n",
       "      <th>time</th>\n",
       "    </tr>\n",
       "  </thead>\n",
       "  <tbody>\n",
       "    <tr>\n",
       "      <td>0</td>\n",
       "      <td>6.562098</td>\n",
       "      <td>8.108996</td>\n",
       "      <td>01:11</td>\n",
       "    </tr>\n",
       "    <tr>\n",
       "      <td>1</td>\n",
       "      <td>6.505287</td>\n",
       "      <td>7.040142</td>\n",
       "      <td>01:08</td>\n",
       "    </tr>\n",
       "    <tr>\n",
       "      <td>2</td>\n",
       "      <td>6.194099</td>\n",
       "      <td>6.553522</td>\n",
       "      <td>01:10</td>\n",
       "    </tr>\n",
       "    <tr>\n",
       "      <td>3</td>\n",
       "      <td>6.000668</td>\n",
       "      <td>5.502668</td>\n",
       "      <td>01:09</td>\n",
       "    </tr>\n",
       "  </tbody>\n",
       "</table>"
      ],
      "text/plain": [
       "<IPython.core.display.HTML object>"
      ]
     },
     "metadata": {}
    }
   ],
   "metadata": {}
  },
  {
   "cell_type": "code",
   "execution_count": 26,
   "source": [
    "# learnt = Learner(dls, rnn.cuda(), loss_func=seq2seq_loss, metrics=seq2seq_acc)\n",
    "# learnt.fit_one_cycle(1, 1e-2)"
   ],
   "outputs": [
    {
     "output_type": "display_data",
     "data": {
      "text/html": [
       "<table border=\"1\" class=\"dataframe\">\n",
       "  <thead>\n",
       "    <tr style=\"text-align: left;\">\n",
       "      <th>epoch</th>\n",
       "      <th>train_loss</th>\n",
       "      <th>valid_loss</th>\n",
       "      <th>seq2seq_acc</th>\n",
       "      <th>time</th>\n",
       "    </tr>\n",
       "  </thead>\n",
       "  <tbody>\n",
       "    <tr>\n",
       "      <td>0</td>\n",
       "      <td>6.039598</td>\n",
       "      <td>5.617062</td>\n",
       "      <td>0.288137</td>\n",
       "      <td>01:12</td>\n",
       "    </tr>\n",
       "  </tbody>\n",
       "</table>"
      ],
      "text/plain": [
       "<IPython.core.display.HTML object>"
      ]
     },
     "metadata": {}
    }
   ],
   "metadata": {}
  },
  {
   "cell_type": "code",
   "execution_count": 27,
   "source": [
    "# We can free up some RAM (although on this instance one rented it has 56GB of \n",
    "# RAM, sufficient to just keep it if required)\n",
    "del fr_vecs\n",
    "del en_vecs\n",
    "\n",
    "import gc\n",
    "gc.collect()"
   ],
   "outputs": [
    {
     "output_type": "execute_result",
     "data": {
      "text/plain": [
       "11364"
      ]
     },
     "metadata": {},
     "execution_count": 27
    }
   ],
   "metadata": {}
  },
  {
   "cell_type": "markdown",
   "source": [
    "We can use BLEU metric\n",
    "### BLEU \n"
   ],
   "metadata": {}
  },
  {
   "cell_type": "code",
   "execution_count": 28,
   "source": [
    "class NGram():\n",
    "    def __init__(self, ngram, max_n=5000): self.ngram, self.max_n = ngram, max_n\n",
    "    def __eq__(self, other): \n",
    "        if len(self.ngram) != len(other.ngram): return False\n",
    "        return np.all(np.array(self.ngram) == np.array(other.ngram))\n",
    "    def __hash__(self): return int(sum([o * self.max_i**i for i, o in enumerate(self.ngram)]))"
   ],
   "outputs": [],
   "metadata": {}
  },
  {
   "cell_type": "code",
   "execution_count": 29,
   "source": [
    "def get_grams(x, n, max_n=5000):\n",
    "    return x if n==1 else [NGram(x[i: i + n], max_n=max_n) for i in range(len(x) - n + 1)]"
   ],
   "outputs": [],
   "metadata": {}
  },
  {
   "cell_type": "code",
   "execution_count": 30,
   "source": [
    "def get_correct_ngrams(pred, targ, n, max_n=5000):\n",
    "    pred_grams, targ_grams = get_grams(pred, n, max_n=max_n), get_grams(targ, n, max_n=max_n)\n",
    "    pred_cnt, targ_cnt = Counter(pred_grams), Counter(targ_grams)\n",
    "    return sum([min(c, targ_cnt[g]) for g, c in pred_cnt.items()]), len(pred_grams)"
   ],
   "outputs": [],
   "metadata": {}
  },
  {
   "cell_type": "code",
   "execution_count": 31,
   "source": [
    "# class CorpusBLEU(Callback):\n",
    "#     def __init__(self, vocab_sz): \n",
    "#         self.vocab_sz = vocab_sz\n",
    "#         self.name = \"bleu\"\n",
    "\n",
    "#     def on_epoch_begin(self, **kwargs):\n",
    "#         self.pred_len, self.targ_len, self.corrects, self.counts = 0, 0, [0] * 4, [0] * 4\n",
    "\n",
    "#     def on_batch_end(self, last_output, last_target, **kwargs):\n",
    "#         last_output = last_output.argmax(dim=-1)\n",
    "        \n",
    "#         for pred, targ in zip(last_output.cpu().numpy(), last_target.cpu().numpy()):\n",
    "#             self.pred_len += len(pred)\n",
    "#             self.targ_len += len(targ)\n",
    "\n",
    "#             for i in range(4):\n",
    "#                 c, t = get_correct_ngrams(pred, targ, i + 1, max_n=self.vocab_sz)\n",
    "#                 self.corrects[i] += c\n",
    "#                 self.counts[i] += t\n",
    "\n",
    "#     def on_epoch_end(self, last_metrics, **kwargs):\n",
    "#         precs = [c / t for c, t in zip(self.corrects, self.counts)]\n",
    "#         len_penalty = np.exp(1 - self.targ_len/self.pred_len) if self.pred_len < self.targ_len else 1\n",
    "#         bleu = len_penalty * ((precs[0] * precs[1] * precs[2] * precs[3]) ** 0.25)\n",
    "#         return add_metrics(last_metrics, bleu)"
   ],
   "outputs": [],
   "metadata": {}
  },
  {
   "cell_type": "markdown",
   "source": [
    "For fastai v2, we already have `CorpusBLEUMetric` included. Plus `add_metrics` isn't available anymore (at least, it might be a different name, see [here](https://forums.fast.ai/t/equivalent-of-add-metrics-in-fastai2/77575/2) for a replacement). So, we will just use the internal metrics. "
   ],
   "metadata": {}
  },
  {
   "cell_type": "code",
   "execution_count": 32,
   "source": [
    "learn = Learner(dls, rnn.cuda(), loss_func=seq2seq_loss, \n",
    "        metrics=[seq2seq_acc, CorpusBLEUMetric(len(dls.vocab[1]))])\n",
    "learn.lr_find()"
   ],
   "outputs": [
    {
     "output_type": "display_data",
     "data": {
      "text/html": [],
      "text/plain": [
       "<IPython.core.display.HTML object>"
      ]
     },
     "metadata": {}
    },
    {
     "output_type": "execute_result",
     "data": {
      "text/plain": [
       "SuggestedLRs(valley=tensor(0.0025))"
      ]
     },
     "metadata": {},
     "execution_count": 32
    },
    {
     "output_type": "display_data",
     "data": {
      "image/png": "[encoded data removed]",
      "text/plain": [
       "<Figure size 432x288 with 1 Axes>"
      ]
     },
     "metadata": {
      "needs_background": "light"
     }
    }
   ],
   "metadata": {}
  },
  {
   "cell_type": "code",
   "execution_count": 33,
   "source": [
    "learn.fit_one_cycle(4, 1e-2)"
   ],
   "outputs": [
    {
     "output_type": "display_data",
     "data": {
      "text/html": [
       "<table border=\"1\" class=\"dataframe\">\n",
       "  <thead>\n",
       "    <tr style=\"text-align: left;\">\n",
       "      <th>epoch</th>\n",
       "      <th>train_loss</th>\n",
       "      <th>valid_loss</th>\n",
       "      <th>seq2seq_acc</th>\n",
       "      <th>corpus_bleu</th>\n",
       "      <th>time</th>\n",
       "    </tr>\n",
       "  </thead>\n",
       "  <tbody>\n",
       "    <tr>\n",
       "      <td>0</td>\n",
       "      <td>5.411106</td>\n",
       "      <td>6.927032</td>\n",
       "      <td>0.190018</td>\n",
       "      <td>0.158424</td>\n",
       "      <td>01:21</td>\n",
       "    </tr>\n",
       "    <tr>\n",
       "      <td>1</td>\n",
       "      <td>5.852787</td>\n",
       "      <td>4.201866</td>\n",
       "      <td>0.442469</td>\n",
       "      <td>0.272785</td>\n",
       "      <td>01:30</td>\n",
       "    </tr>\n",
       "    <tr>\n",
       "      <td>2</td>\n",
       "      <td>6.211847</td>\n",
       "      <td>4.701537</td>\n",
       "      <td>0.394371</td>\n",
       "      <td>0.266400</td>\n",
       "      <td>01:25</td>\n",
       "    </tr>\n",
       "    <tr>\n",
       "      <td>3</td>\n",
       "      <td>6.090792</td>\n",
       "      <td>5.671773</td>\n",
       "      <td>0.274415</td>\n",
       "      <td>0.225707</td>\n",
       "      <td>01:19</td>\n",
       "    </tr>\n",
       "  </tbody>\n",
       "</table>"
      ],
      "text/plain": [
       "<IPython.core.display.HTML object>"
      ]
     },
     "metadata": {}
    }
   ],
   "metadata": {}
  },
  {
   "cell_type": "code",
   "execution_count": 34,
   "source": [
    "learn.fit_one_cycle(4, 1e-3)"
   ],
   "outputs": [
    {
     "output_type": "display_data",
     "data": {
      "text/html": [
       "<table border=\"1\" class=\"dataframe\">\n",
       "  <thead>\n",
       "    <tr style=\"text-align: left;\">\n",
       "      <th>epoch</th>\n",
       "      <th>train_loss</th>\n",
       "      <th>valid_loss</th>\n",
       "      <th>seq2seq_acc</th>\n",
       "      <th>corpus_bleu</th>\n",
       "      <th>time</th>\n",
       "    </tr>\n",
       "  </thead>\n",
       "  <tbody>\n",
       "    <tr>\n",
       "      <td>0</td>\n",
       "      <td>6.032113</td>\n",
       "      <td>5.258982</td>\n",
       "      <td>0.319726</td>\n",
       "      <td>0.257719</td>\n",
       "      <td>01:20</td>\n",
       "    </tr>\n",
       "    <tr>\n",
       "      <td>1</td>\n",
       "      <td>5.900082</td>\n",
       "      <td>5.039589</td>\n",
       "      <td>0.337413</td>\n",
       "      <td>0.244741</td>\n",
       "      <td>01:19</td>\n",
       "    </tr>\n",
       "    <tr>\n",
       "      <td>2</td>\n",
       "      <td>5.875796</td>\n",
       "      <td>5.254868</td>\n",
       "      <td>0.315593</td>\n",
       "      <td>0.244840</td>\n",
       "      <td>01:20</td>\n",
       "    </tr>\n",
       "    <tr>\n",
       "      <td>3</td>\n",
       "      <td>5.798594</td>\n",
       "      <td>5.327102</td>\n",
       "      <td>0.306154</td>\n",
       "      <td>0.237269</td>\n",
       "      <td>01:19</td>\n",
       "    </tr>\n",
       "  </tbody>\n",
       "</table>"
      ],
      "text/plain": [
       "<IPython.core.display.HTML object>"
      ]
     },
     "metadata": {}
    }
   ],
   "metadata": {}
  },
  {
   "cell_type": "markdown",
   "source": [
    "Let's see a few predictions to see how good our model is. "
   ],
   "metadata": {}
  },
  {
   "cell_type": "code",
   "execution_count": 35,
   "source": [
    "# `get_predictions` is integrated within learner. \n",
    "inputs, preds, targs = learn.get_preds(with_input=True)"
   ],
   "outputs": [
    {
     "output_type": "display_data",
     "data": {
      "text/html": [],
      "text/plain": [
       "<IPython.core.display.HTML object>"
      ]
     },
     "metadata": {}
    }
   ],
   "metadata": {}
  },
  {
   "cell_type": "code",
   "execution_count": 36,
   "source": [
    "preds[0].shape"
   ],
   "outputs": [
    {
     "output_type": "execute_result",
     "data": {
      "text/plain": [
       "torch.Size([9, 9112])"
      ]
     },
     "metadata": {},
     "execution_count": 36
    }
   ],
   "metadata": {}
  },
  {
   "cell_type": "markdown",
   "source": [
    "Seems like our output size is wrong... "
   ],
   "metadata": {}
  },
  {
   "cell_type": "code",
   "execution_count": 37,
   "source": [
    "inputs[0].shape"
   ],
   "outputs": [
    {
     "output_type": "execute_result",
     "data": {
      "text/plain": [
       "torch.Size([67])"
      ]
     },
     "metadata": {},
     "execution_count": 37
    }
   ],
   "metadata": {}
  },
  {
   "cell_type": "markdown",
   "source": [
    "Notice we have a different shape here. If you try to pass a prediction to `learn.model(xb)` (just like in the original code), you got a shape that looks like `torch.Size([17, 24, 9112])` for example (the first digit will change, the second digit might change). Just like in the original example, `get_preds` takes the `argmax(1)`, leaving you with `torch.size([17, 9112])`. Now however, you want to take **one more argmax** because we want to know which vocab is being activated. So instead of passing `preds[0]` to `itos`, we will pass in `preds[0].argmax(1)`. \n",
    "\n",
    "Another noting from above is that, wouldn't that means our final length of `preds[0].argmax(1)` be shorter than both `inputs` and `targs`? Yes, that is of course! Because either the inputs or targs (depending on which one is longer) have paddings. So we would expect the original `targs` (for this index 0, in my case) to be a shorter sentence plus few paddings at the end. So this shorter is expected. "
   ],
   "metadata": {}
  },
  {
   "cell_type": "code",
   "execution_count": 38,
   "source": [
    "inputs[700]"
   ],
   "outputs": [
    {
     "output_type": "execute_result",
     "data": {
      "text/plain": [
       "TensorText([   2,   40,   17,   44,   19,   13,  752,   29,  610,   15,  998,   14,\n",
       "        1435,  982,   25,   61,   63, 3609,   55,    9,    1,    1,    1,    1,\n",
       "           1,    1])"
      ]
     },
     "metadata": {},
     "execution_count": 38
    }
   ],
   "metadata": {}
  },
  {
   "cell_type": "code",
   "execution_count": 39,
   "source": [
    "def get_predictions(num, inputs=inputs, preds=preds, targs=targs): \n",
    "    return (\n",
    "        itos(dls.vocab[0], inputs[num], join=True, ignore_pad=True),\n",
    "        itos(dls.vocab[1], targs[num], join=True, ignore_pad=True),\n",
    "        itos(dls.vocab[1], preds[num].argmax(1), join=True)\n",
    "    )"
   ],
   "outputs": [],
   "metadata": {}
  },
  {
   "cell_type": "code",
   "execution_count": 40,
   "source": [
    "get_predictions(700)"
   ],
   "outputs": [
    {
     "output_type": "execute_result",
     "data": {
      "text/plain": [
       "(\"xxbos qu' est -ce que le centre d' analyse des opérations et déclarations financières du canada ( canafe ) ?\",\n",
       " 'xxbos what is fintrac ?',\n",
       " 'xxbos what is the mean and and and and xxpad xxpad xxpad xxpad xxpad xxpad xxpad xxpad xxpad xxpad xxpad xxpad xxpad xxpad xxpad xxpad xxpad xxpad xxpad xxpad')"
      ]
     },
     "metadata": {},
     "execution_count": 40
    }
   ],
   "metadata": {}
  },
  {
   "cell_type": "code",
   "execution_count": 41,
   "source": [
    "get_predictions(701)"
   ],
   "outputs": [
    {
     "output_type": "execute_result",
     "data": {
      "text/plain": [
       "(\"xxbos qu' en est -il des contenus d' enseignement non directement religieux , mais qui comportent des modèles de comportements que certains citoyens xxunk au nom de leurs convictions religieuses ?\",\n",
       " 'xxbos what happens to the content of teaching that is not directly religious but includes behavioural models that some citizens condemn due to their religious beliefs ?',\n",
       " 'xxbos what is the the to to to to to , , , , xxpad xxpad xxpad xxpad xxpad xxpad xxpad xxpad xxpad xxpad xxpad xxpad xxpad xxpad xxpad xxpad')"
      ]
     },
     "metadata": {},
     "execution_count": 41
    }
   ],
   "metadata": {}
  },
  {
   "cell_type": "code",
   "execution_count": 42,
   "source": [
    "get_predictions(2513)"
   ],
   "outputs": [
    {
     "output_type": "execute_result",
     "data": {
      "text/plain": [
       "(\"xxbos qui , dans la mer de l' information et dans les voix de la concurrence , doit être représenté et pourquoi ?\",\n",
       " 'xxbos who in the great sea of information and competing voices should be represented , and why ?',\n",
       " 'xxbos who should the be to to to to to the and and and and and and and and and and and and and and and and and and and')"
      ]
     },
     "metadata": {},
     "execution_count": 42
    }
   ],
   "metadata": {}
  },
  {
   "cell_type": "code",
   "execution_count": 43,
   "source": [
    "get_predictions(4000)"
   ],
   "outputs": [
    {
     "output_type": "execute_result",
     "data": {
      "text/plain": [
       "('xxbos si le bénéficiaire n’ est toujours pas intéressé , quel est l’ intérêt ?',\n",
       " 'xxbos what ’s the point if the xxunk still go unanswered ?',\n",
       " 'xxbos what is the the of the the the xxpad xxpad xxpad xxpad xxpad xxpad xxpad xxpad xxpad xxpad xxpad')"
      ]
     },
     "metadata": {},
     "execution_count": 43
    }
   ],
   "metadata": {}
  },
  {
   "cell_type": "markdown",
   "source": [
    "## Teacher Forcing\n",
    "Feeding decoder real targets instead of predictions (if it starts with wrong words, it's very unlikely to give us the right translation). We do all time at beginning, and gradually reducing amount of teacher forcing. \n",
    "\n",
    "One doesn't know how to implement teacher forcing for fastai v2. However, it seems that in the forums, people already implemented it. So let's take it here. [Check its source](https://forums.fast.ai/t/timeseries/55861/102) and [here](https://forums.fast.ai/t/basic-seq2seq-teacher-forcing-troubles/85917/8)"
   ],
   "metadata": {}
  },
  {
   "cell_type": "code",
   "execution_count": 44,
   "source": [
    "class TeacherForcing(Callback):\n",
    "    def __init__(self, end_epoch): self.end_epoch = end_epoch\n",
    "    \n",
    "    def before_batch(self): \n",
    "        self.learn.xb = (self.x, self.y)\n",
    "\n",
    "    def before_epoch(self):\n",
    "        self.learn.model.pr_force = 1 - self.learn.epoch / self.end_epoch"
   ],
   "outputs": [],
   "metadata": {}
  },
  {
   "cell_type": "code",
   "execution_count": 45,
   "source": [
    "class Seq2SeqRNN_tf(Module):\n",
    "    def __init__(self, emb_enc, emb_dec, nh, \n",
    "                out_sl, nl=2, bos_idx=0, pad_idx=1):\n",
    "        self.nl, self.nh, self.out_sl = nl, nh, out_sl\n",
    "        self.bos_idx, self.pad_idx = bos_idx, pad_idx\n",
    "        self.em_sz_enc = emb_enc.embedding_dim \n",
    "        self.em_sz_dec = emb_dec.embedding_dim\n",
    "        self.voc_sz_dec = emb_dec.num_embeddings\n",
    "\n",
    "        self.emb_enc = emb_enc\n",
    "        self.emb_enc_drop = nn.Dropout(0.15)\n",
    "        self.gru_enc = nn.GRU(self.em_sz_enc, nh, num_layers=nl, \n",
    "                    dropout=0.25, batch_first=True)\n",
    "        self.out_enc = nn.Linear(nh, self.em_sz_dec, bias=False)\n",
    "\n",
    "        self.emb_dec = emb_dec\n",
    "        self.gru_dec = nn.GRU(self.em_sz_dec, self.em_sz_dec, num_layers=nl,\n",
    "                    dropout=0.1, batch_first=True)\n",
    "        self.out_drop = nn.Dropout(0.35)\n",
    "        self.out = nn.Linear(self.em_sz_dec, self.voc_sz_dec)\n",
    "        self.out.weight.data = self.emb_dec.weight.data\n",
    "        self.pr_force = 0.\n",
    "\n",
    "    def encoder(self, bs, inp):\n",
    "        h = self.initHidden(bs)\n",
    "        emb = self.emb_enc_drop(self.emb_enc(inp))\n",
    "        _, h = self.gru_enc(emb, h)\n",
    "        h = self.out_enc(h)\n",
    "        return h\n",
    "\n",
    "    def decoder(self, dec_inp, h):\n",
    "        emb = self.emb_dec(dec_inp).unsqueeze(1)\n",
    "        outp, h = self.gru_dec(emb, h)\n",
    "        outp = self.out(self.out_drop(outp[:, 0]))\n",
    "        return h, outp\n",
    "\n",
    "    def forward(self, inp, targ=None):\n",
    "        bs, sl = inp.size()\n",
    "        h = self.encoder(bs, inp)\n",
    "        dec_inp = inp.new_zeros(bs).long() + self.bos_idx\n",
    "\n",
    "        res = []\n",
    "        for i in range(self.out_sl):\n",
    "            h, outp = self.decoder(dec_inp, h)\n",
    "            dec_inp = outp.max(1)[1]\n",
    "            res.append(outp)\n",
    "            if (dec_inp == self.pad_idx).all(): break\n",
    "            \n",
    "            if (targ is not None) and (random.random() < self.pr_force):\n",
    "                if i >= targ.shape[1]: continue\n",
    "                dec_inp = targ[:, i]\n",
    "\n",
    "        return torch.stack(res, dim=1)\n",
    "\n",
    "    def initHidden(self, bs): \n",
    "        return one_param(self).new_zeros(self.nl, bs, self.nh)"
   ],
   "outputs": [],
   "metadata": {}
  },
  {
   "cell_type": "code",
   "execution_count": 46,
   "source": [
    "emb_enc = torch.load(model_path/\"fr_emb.pth\")\n",
    "emb_dec = torch.load(model_path/\"en_emb.pth\")"
   ],
   "outputs": [],
   "metadata": {}
  },
  {
   "cell_type": "code",
   "execution_count": 47,
   "source": [
    "rnn_tf = Seq2SeqRNN_tf(emb_enc, emb_dec, 256, 30).to(device)\n",
    "\n",
    "torch.cuda.empty_cache()\n",
    "learn = Learner(dls, rnn_tf, loss_func=seq2seq_loss, \n",
    "                metrics=[seq2seq_acc, CorpusBLEUMetric(len(dls.vocab[1]))],\n",
    "                cbs=[TeacherForcing(6)])\n",
    "learn.lr_find()"
   ],
   "outputs": [
    {
     "output_type": "display_data",
     "data": {
      "text/html": [],
      "text/plain": [
       "<IPython.core.display.HTML object>"
      ]
     },
     "metadata": {}
    },
    {
     "output_type": "execute_result",
     "data": {
      "text/plain": [
       "SuggestedLRs(valley=tensor(0.0006))"
      ]
     },
     "metadata": {},
     "execution_count": 47
    },
    {
     "output_type": "display_data",
     "data": {
      "image/png": "[encoded data removed]",
      "text/plain": [
       "<Figure size 432x288 with 1 Axes>"
      ]
     },
     "metadata": {
      "needs_background": "light"
     }
    }
   ],
   "metadata": {}
  },
  {
   "cell_type": "code",
   "execution_count": 48,
   "source": [
    "learn.fit_one_cycle(10, 3e-3)"
   ],
   "outputs": [
    {
     "output_type": "display_data",
     "data": {
      "text/html": [
       "<table border=\"1\" class=\"dataframe\">\n",
       "  <thead>\n",
       "    <tr style=\"text-align: left;\">\n",
       "      <th>epoch</th>\n",
       "      <th>train_loss</th>\n",
       "      <th>valid_loss</th>\n",
       "      <th>seq2seq_acc</th>\n",
       "      <th>corpus_bleu</th>\n",
       "      <th>time</th>\n",
       "    </tr>\n",
       "  </thead>\n",
       "  <tbody>\n",
       "    <tr>\n",
       "      <td>0</td>\n",
       "      <td>3.390180</td>\n",
       "      <td>3.198703</td>\n",
       "      <td>0.551186</td>\n",
       "      <td>0.372622</td>\n",
       "      <td>02:00</td>\n",
       "    </tr>\n",
       "    <tr>\n",
       "      <td>1</td>\n",
       "      <td>3.137193</td>\n",
       "      <td>3.455440</td>\n",
       "      <td>0.522183</td>\n",
       "      <td>0.335396</td>\n",
       "      <td>01:43</td>\n",
       "    </tr>\n",
       "    <tr>\n",
       "      <td>2</td>\n",
       "      <td>3.486295</td>\n",
       "      <td>3.609107</td>\n",
       "      <td>0.502148</td>\n",
       "      <td>0.315785</td>\n",
       "      <td>01:39</td>\n",
       "    </tr>\n",
       "    <tr>\n",
       "      <td>3</td>\n",
       "      <td>3.577449</td>\n",
       "      <td>3.408627</td>\n",
       "      <td>0.513732</td>\n",
       "      <td>0.342165</td>\n",
       "      <td>01:35</td>\n",
       "    </tr>\n",
       "    <tr>\n",
       "      <td>4</td>\n",
       "      <td>4.114766</td>\n",
       "      <td>4.361354</td>\n",
       "      <td>0.401254</td>\n",
       "      <td>0.263876</td>\n",
       "      <td>01:30</td>\n",
       "    </tr>\n",
       "    <tr>\n",
       "      <td>5</td>\n",
       "      <td>4.215417</td>\n",
       "      <td>4.654742</td>\n",
       "      <td>0.355950</td>\n",
       "      <td>0.237092</td>\n",
       "      <td>01:26</td>\n",
       "    </tr>\n",
       "    <tr>\n",
       "      <td>6</td>\n",
       "      <td>4.789557</td>\n",
       "      <td>4.902882</td>\n",
       "      <td>0.321629</td>\n",
       "      <td>0.213042</td>\n",
       "      <td>01:23</td>\n",
       "    </tr>\n",
       "    <tr>\n",
       "      <td>7</td>\n",
       "      <td>4.285396</td>\n",
       "      <td>4.676368</td>\n",
       "      <td>0.344412</td>\n",
       "      <td>0.228472</td>\n",
       "      <td>01:25</td>\n",
       "    </tr>\n",
       "    <tr>\n",
       "      <td>8</td>\n",
       "      <td>4.045466</td>\n",
       "      <td>4.486600</td>\n",
       "      <td>0.365141</td>\n",
       "      <td>0.243410</td>\n",
       "      <td>01:27</td>\n",
       "    </tr>\n",
       "    <tr>\n",
       "      <td>9</td>\n",
       "      <td>3.665760</td>\n",
       "      <td>4.481407</td>\n",
       "      <td>0.365789</td>\n",
       "      <td>0.242955</td>\n",
       "      <td>01:28</td>\n",
       "    </tr>\n",
       "  </tbody>\n",
       "</table>"
      ],
      "text/plain": [
       "<IPython.core.display.HTML object>"
      ]
     },
     "metadata": {}
    }
   ],
   "metadata": {}
  },
  {
   "cell_type": "markdown",
   "source": [
    "One is unsure what's the problem with teacher forcing. Perhaps there are some problems with the original callback function, or it is a problem with the training itself. One doesn't know for sure. "
   ],
   "metadata": {}
  },
  {
   "cell_type": "code",
   "execution_count": 49,
   "source": [
    "inputs, preds, targs = learn.get_preds(with_input=True)"
   ],
   "outputs": [
    {
     "output_type": "display_data",
     "data": {
      "text/html": [],
      "text/plain": [
       "<IPython.core.display.HTML object>"
      ]
     },
     "metadata": {}
    }
   ],
   "metadata": {}
  },
  {
   "cell_type": "code",
   "execution_count": 50,
   "source": [
    "get_predictions(700, inputs, preds, targs)"
   ],
   "outputs": [
    {
     "output_type": "execute_result",
     "data": {
      "text/plain": [
       "(\"xxbos qu' est -ce que le centre d' analyse des opérations et déclarations financières du canada ( canafe ) ?\",\n",
       " 'xxbos what is fintrac ?',\n",
       " 'xxbos what is the mean and and and and xxpad xxpad xxpad xxpad xxpad xxpad xxpad xxpad xxpad xxpad xxpad xxpad xxpad xxpad xxpad xxpad xxpad xxpad xxpad xxpad')"
      ]
     },
     "metadata": {},
     "execution_count": 50
    }
   ],
   "metadata": {}
  },
  {
   "cell_type": "code",
   "execution_count": 51,
   "source": [
    "get_predictions(2513, inputs, preds, targs)"
   ],
   "outputs": [
    {
     "output_type": "execute_result",
     "data": {
      "text/plain": [
       "(\"xxbos qui , dans la mer de l' information et dans les voix de la concurrence , doit être représenté et pourquoi ?\",\n",
       " 'xxbos who in the great sea of information and competing voices should be represented , and why ?',\n",
       " 'xxbos who should the be to to to to to the and and and and and and and and and and and and and and and and and and and')"
      ]
     },
     "metadata": {},
     "execution_count": 51
    }
   ],
   "metadata": {}
  },
  {
   "cell_type": "code",
   "execution_count": 52,
   "source": [
    "get_predictions(4000, inputs, preds, targs)"
   ],
   "outputs": [
    {
     "output_type": "execute_result",
     "data": {
      "text/plain": [
       "('xxbos si le bénéficiaire n’ est toujours pas intéressé , quel est l’ intérêt ?',\n",
       " 'xxbos what ’s the point if the xxunk still go unanswered ?',\n",
       " 'xxbos what is the the of the the the xxpad xxpad xxpad xxpad xxpad xxpad xxpad xxpad xxpad xxpad xxpad')"
      ]
     },
     "metadata": {},
     "execution_count": 52
    }
   ],
   "metadata": {}
  },
  {
   "cell_type": "markdown",
   "source": [
    "# Breakpoint"
   ],
   "metadata": {}
  },
  {
   "cell_type": "code",
   "execution_count": 1,
   "source": [
    "from fastai.text.all import *\n",
    "from utils import *\n",
    "\n",
    "path = untar_data(URLs.IMDB_SAMPLE)\n",
    "df = pd.read_csv(path/\"texts.csv\")\n",
    "\n",
    "imdb_clas = DataBlock(\n",
    "    blocks=(TextBlock.from_df(\"text\", seq_len=72), CategoryBlock),\n",
    "    get_x=ColReader(\"text\"), get_y=ColReader(\"label\"), splitter=ColSplitter()\n",
    ")\n",
    "\n",
    "dls = imdb_clas.dataloaders(df, bs=32)"
   ],
   "outputs": [
    {
     "output_type": "display_data",
     "data": {
      "text/html": [],
      "text/plain": [
       "<IPython.core.display.HTML object>"
      ]
     },
     "metadata": {}
    },
    {
     "output_type": "stream",
     "name": "stderr",
     "text": [
      "/anaconda/envs/fastai/lib/python3.8/site-packages/numpy/core/_asarray.py:102: VisibleDeprecationWarning: Creating an ndarray from ragged nested sequences (which is a list-or-tuple of lists-or-tuples-or ndarrays with different lengths or shapes) is deprecated. If you meant to do this, you must specify 'dtype=object' when creating the ndarray.\n",
      "  return array(a, dtype, copy=False, order=order)\n"
     ]
    }
   ],
   "metadata": {}
  },
  {
   "cell_type": "code",
   "execution_count": 2,
   "source": [
    "m = np.array([3, 5, 35, 42, 73, 81, 99, 102])  # random list\n",
    "baseline = np.array([dls.vocab[0][a] for a in m])\n",
    "baseline"
   ],
   "outputs": [
    {
     "output_type": "execute_result",
     "data": {
      "text/plain": [
       "array(['xxeos', 'xxrep', 'on', 'have', 'she', 'only', 'also', 'people'],\n",
       "      dtype='<U6')"
      ]
     },
     "metadata": {},
     "execution_count": 2
    }
   ],
   "metadata": {}
  },
  {
   "cell_type": "code",
   "execution_count": 4,
   "source": [
    "stoi(dls.vocab[0], np.array([\"what\", \"is\", \"this\", \"thing\"]))"
   ],
   "outputs": [
    {
     "output_type": "execute_result",
     "data": {
      "text/plain": [
       "array([ 64,  16,  21, 173], dtype=uint8)"
      ]
     },
     "metadata": {},
     "execution_count": 4
    }
   ],
   "metadata": {}
  },
  {
   "cell_type": "code",
   "execution_count": 5,
   "source": [
    "dls.vocab[0][64]"
   ],
   "outputs": [
    {
     "output_type": "execute_result",
     "data": {
      "text/plain": [
       "'what'"
      ]
     },
     "metadata": {},
     "execution_count": 5
    }
   ],
   "metadata": {}
  },
  {
   "cell_type": "code",
   "execution_count": 7,
   "source": [
    "str_list_to_par(dls, 0)"
   ],
   "outputs": [
    {
     "output_type": "execute_result",
     "data": {
      "text/plain": [
       "\"xxbos xxmaj un - bleeping - believable ! xxmaj meg xxmaj ryan does n't even look her usual pert lovable self in this , which normally makes me forgive her shallow ticky acting schtick . xxmaj hard to believe she was the producer on this dog . xxmaj plus xxmaj kevin xxmaj kline : what kind of suicide trip has his career been on ? xxmaj whoosh … xxmaj banzai xxrep 3 ! xxmaj finally this was directed by the guy who did xxmaj big xxmaj chill ? xxmaj must be a replay of xxmaj jonestown - hollywood style . w xxrep 3 o xxrep 3 f !\""
      ]
     },
     "metadata": {},
     "execution_count": 7
    }
   ],
   "metadata": {}
  },
  {
   "cell_type": "code",
   "execution_count": null,
   "source": [],
   "outputs": [],
   "metadata": {}
  }
 ],
 "metadata": {
  "orig_nbformat": 4,
  "language_info": {
   "name": "python",
   "version": "3.8.2",
   "mimetype": "text/x-python",
   "codemirror_mode": {
    "name": "ipython",
    "version": 3
   },
   "pygments_lexer": "ipython3",
   "nbconvert_exporter": "python",
   "file_extension": ".py"
  },
  "kernelspec": {
   "name": "python3",
   "display_name": "Python 3.8.2 64-bit ('fastai': conda)"
  },
  "interpreter": {
   "hash": "5aa457f694240ca52bec53eda6ed84b45efde55787bbd717cb0e138c3a892911"
  }
 },
 "nbformat": 4,
 "nbformat_minor": 2
}