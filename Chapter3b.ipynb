{
 "cells": [
  {
   "cell_type": "markdown",
   "source": [
    "# Chapter 3b\n",
    "Randomized SVD: \n",
    "- **fast**. \n",
    "- **Gives us truncated SVD** (traditional SVD throw away small singular values and their corresponding columns). \n",
    "\n",
    "Two keys are: \n",
    "- Often useful to reduce dimension of data in a way that preserves distances. Johnson-Lindenstrauss lemma is a classic result of this type. \n",
    "- No better general SVD method yet, so we use smaller matrix only. \n",
    "\n",
    "Below is over-simplified version of `randomized_svd` (core ideas). Main part is we multiply our original matrix by smaller random matrix (`M @ rand_matrix`) to produce `smaller_matrix`, and use same `np.linalg.svd` as before. "
   ],
   "metadata": {}
  },
  {
   "cell_type": "code",
   "execution_count": 1,
   "source": [
    "def randomized_svd(M, k=10):\n",
    "    m, n = M.shape\n",
    "    transpose = False\n",
    "    if m < n: \n",
    "        transpose = True\n",
    "        M = M.T\n",
    "\n",
    "    rand_matrix = np.random.normal(size=(M.shape[1], k))  # short side of k\n",
    "    Q, _ = np.linalg.qr(M @ rand_matrix, mode=\"reduced\")  # long side of k\n",
    "    smaller_matrix = Q.T @ M\n",
    "    U_hat, s, V = np.linalg.svd(smaller_matrix, full_matrices=False)\n",
    "    U = Q @ U_hat\n",
    "\n",
    "    if transpose: return V.T, s.T, U.T\n",
    "    else: return U, s, V"
   ],
   "outputs": [],
   "metadata": {}
  },
  {
   "cell_type": "markdown",
   "source": [
    "**Bayes theorem** useful for false positives and false negatives. \n",
    "\n",
    "## Numerical Stability\n",
    "We do $x_1 = f(\\frac{1}{10})$, and we continue with $x_2 = f(x_1)$ and keep going for many iterations. See what happens. "
   ],
   "metadata": {}
  },
  {
   "cell_type": "code",
   "execution_count": 2,
   "source": [
    "def f(x): \n",
    "    if x < 1/2: return 2 * x\n",
    "    else: return 2 * x - 1"
   ],
   "outputs": [],
   "metadata": {}
  },
  {
   "cell_type": "code",
   "execution_count": 3,
   "source": [
    "x = 1/10\n",
    "for i in range(80): \n",
    "    print(x)\n",
    "    x = f(x)"
   ],
   "outputs": [
    {
     "output_type": "stream",
     "name": "stdout",
     "text": [
      "0.1\n",
      "0.2\n",
      "0.4\n",
      "0.8\n",
      "0.6000000000000001\n",
      "0.20000000000000018\n",
      "0.40000000000000036\n",
      "0.8000000000000007\n",
      "0.6000000000000014\n",
      "0.20000000000000284\n",
      "0.4000000000000057\n",
      "0.8000000000000114\n",
      "0.6000000000000227\n",
      "0.20000000000004547\n",
      "0.40000000000009095\n",
      "0.8000000000001819\n",
      "0.6000000000003638\n",
      "0.2000000000007276\n",
      "0.4000000000014552\n",
      "0.8000000000029104\n",
      "0.6000000000058208\n",
      "0.20000000001164153\n",
      "0.40000000002328306\n",
      "0.8000000000465661\n",
      "0.6000000000931323\n",
      "0.20000000018626451\n",
      "0.40000000037252903\n",
      "0.8000000007450581\n",
      "0.6000000014901161\n",
      "0.20000000298023224\n",
      "0.4000000059604645\n",
      "0.800000011920929\n",
      "0.6000000238418579\n",
      "0.20000004768371582\n",
      "0.40000009536743164\n",
      "0.8000001907348633\n",
      "0.6000003814697266\n",
      "0.20000076293945312\n",
      "0.40000152587890625\n",
      "0.8000030517578125\n",
      "0.600006103515625\n",
      "0.20001220703125\n",
      "0.4000244140625\n",
      "0.800048828125\n",
      "0.60009765625\n",
      "0.2001953125\n",
      "0.400390625\n",
      "0.80078125\n",
      "0.6015625\n",
      "0.203125\n",
      "0.40625\n",
      "0.8125\n",
      "0.625\n",
      "0.25\n",
      "0.5\n",
      "0.0\n",
      "0.0\n",
      "0.0\n",
      "0.0\n",
      "0.0\n",
      "0.0\n",
      "0.0\n",
      "0.0\n",
      "0.0\n",
      "0.0\n",
      "0.0\n",
      "0.0\n",
      "0.0\n",
      "0.0\n",
      "0.0\n",
      "0.0\n",
      "0.0\n",
      "0.0\n",
      "0.0\n",
      "0.0\n",
      "0.0\n",
      "0.0\n",
      "0.0\n",
      "0.0\n",
      "0.0\n"
     ]
    }
   ],
   "metadata": {}
  },
  {
   "cell_type": "markdown",
   "source": [
    "Math is continuous and infinite, but computers are discrete and finite. Limitations of number representations (mantissa and exponent):  \n",
    "1) They can't be arbitrarily large or small. \n",
    "2) There must be gaps between them. \n",
    "\n",
    "It's possible to create calculations that give very wrong answers (particularly repeating operation many times, since each operation could multiply error.)\n",
    "\n",
    "IEEE Double precision arithmetic allows number as large as $1.79 \\times 10^{308}$ and as small as $2.23 \\times 10^{-308}$. Floats and doubles are not equidistant. \n",
    "\n",
    "### Machine Epsilon\n",
    "Half the distance between 1 and next large number can vary by computer. IEEE standards for double precision specify: \n",
    "$$ \\epsilon_{\\text{machine}} = 2^{-53} \\approx 1.11 \\times 10^{-16} $$\n",
    "\n",
    "Two important properties of FP arithmetic: \n",
    "- Difference between real number $x$ and closest FP approx $fl(x)$ is always smaller than $\\epsilon_{\\text{machine}}$ in relative terms. FOr some $\\epsilon$, where $|\\epsilon| \\leq \\epsilon_{\\text{machine}}$: \n",
    "$$ fl(x) = x \\cdot (1 + \\epsilon) $$\n",
    "- Where is any operation ($+, -, \\times, \\div$), and $\\otimes$ is its *floating point analogue*: \n",
    "$$ x \\otimes y = (xy)(1 + \\varepsilon) $$\n",
    "for some $\\varepsilon$, where $|\\varepsilon| \\leq \\varepsilon_{\\text{machine}}$. Every FP arithmetic is exact up to a relative error of size $\\varepsilon_{\\text{machine}}$. "
   ],
   "metadata": {}
  },
  {
   "cell_type": "markdown",
   "source": [
    "## Speed of different types of memory: \n",
    "| What | Speed (ns) |\n",
    "| ---- | ---------- |\n",
    "| L1 cache reference | 0.5 |\n",
    "| L2 cache reference | 7 |\n",
    "| Main memory reference/RAM | 100 |\n",
    "| Send 2K bytes over 1 Gbps network | 20 µs |\n",
    "| Read 1 MB sequentially from memory | 250 µs |\n",
    "| Round trip within same datacenter | 500 µs |\n",
    "| Disk seek | 10 ms |\n",
    "| Read 1 MB sequentially from network | 10 ms |\n",
    "| Read 1 MB sequentially from disk | 30 ms |\n",
    "| Send packet CA -> Netherlands -> CA | 150 ms |\n",
    "\n",
    "Check the updated [interactive version here](https://colin-scott.github.io/personal_website/research/interactive_latency.html).\n",
    "\n",
    "Each successive memory type is (at least) an order of magnitude worse than the one before it. Disk seeks are **very slow**. "
   ],
   "metadata": {}
  },
  {
   "cell_type": "markdown",
   "source": [
    "# Regex"
   ],
   "metadata": {}
  },
  {
   "cell_type": "code",
   "execution_count": 4,
   "source": [
    "%reload_ext autoreload\n",
    "%autoreload 2\n",
    "%matplotlib inline"
   ],
   "outputs": [],
   "metadata": {}
  },
  {
   "cell_type": "code",
   "execution_count": 5,
   "source": [
    "from pathlib import Path\n",
    "import pandas as pd\n",
    "import re\n",
    "path = Path(\"input\")"
   ],
   "outputs": [],
   "metadata": {}
  },
  {
   "cell_type": "code",
   "execution_count": 6,
   "source": [
    "df = pd.read_csv(path/\"Austin_Public_Health_Locations.csv\")\n",
    "df.head()"
   ],
   "outputs": [
    {
     "output_type": "execute_result",
     "data": {
      "text/html": [
       "<div>\n",
       "<style scoped>\n",
       "    .dataframe tbody tr th:only-of-type {\n",
       "        vertical-align: middle;\n",
       "    }\n",
       "\n",
       "    .dataframe tbody tr th {\n",
       "        vertical-align: top;\n",
       "    }\n",
       "\n",
       "    .dataframe thead th {\n",
       "        text-align: right;\n",
       "    }\n",
       "</style>\n",
       "<table border=\"1\" class=\"dataframe\">\n",
       "  <thead>\n",
       "    <tr style=\"text-align: right;\">\n",
       "      <th></th>\n",
       "      <th>Facility Name</th>\n",
       "      <th>Street Address</th>\n",
       "      <th>Zip Code</th>\n",
       "      <th>Hours</th>\n",
       "      <th>Website</th>\n",
       "      <th>Phone Number</th>\n",
       "      <th>Other Phone</th>\n",
       "      <th>Building ID</th>\n",
       "      <th>Ownership Status</th>\n",
       "      <th>Owner</th>\n",
       "      <th>Occupying Division</th>\n",
       "      <th>Occupancy Type</th>\n",
       "      <th>Sq. Ft.</th>\n",
       "      <th>Year Built</th>\n",
       "    </tr>\n",
       "  </thead>\n",
       "  <tbody>\n",
       "    <tr>\n",
       "      <th>0</th>\n",
       "      <td>Bastrop WIC Clinic</td>\n",
       "      <td>443 Texas Highway 71\\nBastrop, Texas 78602\\n(3...</td>\n",
       "      <td>78602</td>\n",
       "      <td>Monday 7:30am to 7pm, closed 12 noon to 1pm; T...</td>\n",
       "      <td>NaN</td>\n",
       "      <td>512-972-4942</td>\n",
       "      <td>NaN</td>\n",
       "      <td>BAS</td>\n",
       "      <td>Lease</td>\n",
       "      <td>The Marketplace at Bastrop</td>\n",
       "      <td>Community Services</td>\n",
       "      <td>Clinic</td>\n",
       "      <td>1400.0</td>\n",
       "      <td>NaN</td>\n",
       "    </tr>\n",
       "    <tr>\n",
       "      <th>1</th>\n",
       "      <td>Blackland Neighborhood Center</td>\n",
       "      <td>2005 Salina St\\nAustin, Texas 78722\\n(30.28075...</td>\n",
       "      <td>78722</td>\n",
       "      <td>Monday to Thursday 8am to 6pm; Friday 8am to 1...</td>\n",
       "      <td>NaN</td>\n",
       "      <td>512-972-5790</td>\n",
       "      <td>NaN</td>\n",
       "      <td>BNC</td>\n",
       "      <td>Own</td>\n",
       "      <td>City of Austin</td>\n",
       "      <td>Community Services</td>\n",
       "      <td>Neighborhood Center, Offices</td>\n",
       "      <td>347.0</td>\n",
       "      <td>1984.0</td>\n",
       "    </tr>\n",
       "    <tr>\n",
       "      <th>2</th>\n",
       "      <td>Clarksville Community Health Center</td>\n",
       "      <td>1000 Toyath Street\\nAustin, Texas 78703\\n(30.2...</td>\n",
       "      <td>78703</td>\n",
       "      <td>Monday to Friday, 8am - 4:30pm</td>\n",
       "      <td>http://www.austintexas.gov/department/clarksvi...</td>\n",
       "      <td>NaN</td>\n",
       "      <td>NaN</td>\n",
       "      <td>CNC</td>\n",
       "      <td>Own</td>\n",
       "      <td>City of Austin</td>\n",
       "      <td>Disease Prevnetion and Health Promotion</td>\n",
       "      <td>Clinic, Offices</td>\n",
       "      <td>3500.0</td>\n",
       "      <td>NaN</td>\n",
       "    </tr>\n",
       "    <tr>\n",
       "      <th>3</th>\n",
       "      <td>Del Valle WIC Clinic</td>\n",
       "      <td>3518 FM 973\\nDel Valle, Texas 78617\\n(30.19879...</td>\n",
       "      <td>78617</td>\n",
       "      <td>Monday 8am to 7pm; closed 12 noon to 12:30pm; ...</td>\n",
       "      <td>http://www.austintexas.gov/department/del-vall...</td>\n",
       "      <td>512-972-4942</td>\n",
       "      <td>NaN</td>\n",
       "      <td>DEL</td>\n",
       "      <td>NaN</td>\n",
       "      <td>Travis County</td>\n",
       "      <td>Community Services</td>\n",
       "      <td>Clinic</td>\n",
       "      <td>1000.0</td>\n",
       "      <td>NaN</td>\n",
       "    </tr>\n",
       "    <tr>\n",
       "      <th>4</th>\n",
       "      <td>East Austin Neighborhood Center</td>\n",
       "      <td>211 Comal St\\nAustin, Texas 78702\\n(30.259718,...</td>\n",
       "      <td>78702</td>\n",
       "      <td>Monday toThursday 8am to 6pm; Friday 8am to noon</td>\n",
       "      <td>http://www.austintexas.gov/department/east-aus...</td>\n",
       "      <td>512-972-6650</td>\n",
       "      <td>NaN</td>\n",
       "      <td>EAN</td>\n",
       "      <td>Own</td>\n",
       "      <td>City of Austin</td>\n",
       "      <td>Community Services</td>\n",
       "      <td>Clinic, Neighborhood Center</td>\n",
       "      <td>4304.0</td>\n",
       "      <td>1981.0</td>\n",
       "    </tr>\n",
       "  </tbody>\n",
       "</table>\n",
       "</div>"
      ],
      "text/plain": [
       "                         Facility Name  \\\n",
       "0                   Bastrop WIC Clinic   \n",
       "1        Blackland Neighborhood Center   \n",
       "2  Clarksville Community Health Center   \n",
       "3                 Del Valle WIC Clinic   \n",
       "4      East Austin Neighborhood Center   \n",
       "\n",
       "                                      Street Address  Zip Code  \\\n",
       "0  443 Texas Highway 71\\nBastrop, Texas 78602\\n(3...     78602   \n",
       "1  2005 Salina St\\nAustin, Texas 78722\\n(30.28075...     78722   \n",
       "2  1000 Toyath Street\\nAustin, Texas 78703\\n(30.2...     78703   \n",
       "3  3518 FM 973\\nDel Valle, Texas 78617\\n(30.19879...     78617   \n",
       "4  211 Comal St\\nAustin, Texas 78702\\n(30.259718,...     78702   \n",
       "\n",
       "                                               Hours  \\\n",
       "0  Monday 7:30am to 7pm, closed 12 noon to 1pm; T...   \n",
       "1  Monday to Thursday 8am to 6pm; Friday 8am to 1...   \n",
       "2                     Monday to Friday, 8am - 4:30pm   \n",
       "3  Monday 8am to 7pm; closed 12 noon to 12:30pm; ...   \n",
       "4   Monday toThursday 8am to 6pm; Friday 8am to noon   \n",
       "\n",
       "                                             Website  Phone Number  \\\n",
       "0                                                NaN  512-972-4942   \n",
       "1                                                NaN  512-972-5790   \n",
       "2  http://www.austintexas.gov/department/clarksvi...           NaN   \n",
       "3  http://www.austintexas.gov/department/del-vall...  512-972-4942   \n",
       "4  http://www.austintexas.gov/department/east-aus...  512-972-6650   \n",
       "\n",
       "  Other Phone Building ID Ownership Status                       Owner  \\\n",
       "0         NaN         BAS            Lease  The Marketplace at Bastrop   \n",
       "1         NaN         BNC              Own              City of Austin   \n",
       "2         NaN         CNC              Own              City of Austin   \n",
       "3         NaN         DEL              NaN              Travis County    \n",
       "4         NaN         EAN              Own              City of Austin   \n",
       "\n",
       "                        Occupying Division                 Occupancy Type  \\\n",
       "0                      Community Services                          Clinic   \n",
       "1                       Community Services  Neighborhood Center, Offices    \n",
       "2  Disease Prevnetion and Health Promotion               Clinic, Offices    \n",
       "3                      Community Services                         Clinic    \n",
       "4                      Community Services    Clinic, Neighborhood Center    \n",
       "\n",
       "   Sq. Ft.   Year Built   \n",
       "0    1400.0          NaN  \n",
       "1     347.0       1984.0  \n",
       "2    3500.0          NaN  \n",
       "3    1000.0          NaN  \n",
       "4    4304.0       1981.0  "
      ]
     },
     "metadata": {},
     "execution_count": 6
    }
   ],
   "metadata": {}
  },
  {
   "cell_type": "markdown",
   "source": [
    "First, read database into raw text string. "
   ],
   "metadata": {}
  },
  {
   "cell_type": "code",
   "execution_count": 7,
   "source": [
    "with open(path/\"Austin_Public_Health_Locations.csv\", \"r\") as file:\n",
    "    data = file.read().replace(\"\\n\", \"\")"
   ],
   "outputs": [],
   "metadata": {}
  },
  {
   "cell_type": "markdown",
   "source": [
    "### Extract the phone numbers\n",
    "Constructing regex to match phone numbers and break them into tuples. This involves trial and error. "
   ],
   "metadata": {}
  },
  {
   "cell_type": "code",
   "execution_count": 8,
   "source": [
    "re_extract_phone_number = re.compile(r\"(\\d\\d\\d)-(\\d+)-(\\d+)\")"
   ],
   "outputs": [],
   "metadata": {}
  },
  {
   "cell_type": "code",
   "execution_count": 9,
   "source": [
    "# from IPython import display\n",
    "phone_number_list = re_extract_phone_number.findall(data)\n",
    "phone_number_list"
   ],
   "outputs": [
    {
     "output_type": "execute_result",
     "data": {
      "text/plain": [
       "[('512', '972', '4942'),\n",
       " ('512', '972', '5790'),\n",
       " ('512', '972', '4942'),\n",
       " ('512', '972', '6650'),\n",
       " ('512', '972', '4784'),\n",
       " ('512', '972', '4942'),\n",
       " ('512', '972', '4942'),\n",
       " ('512', '972', '4942'),\n",
       " ('512', '972', '4942'),\n",
       " ('512', '972', '4942'),\n",
       " ('512', '719', '3010'),\n",
       " ('800', '514', '6667'),\n",
       " ('512', '962', '6650'),\n",
       " ('512', '972', '4942'),\n",
       " ('512', '972', '4942'),\n",
       " ('512', '972', '4942'),\n",
       " ('512', '972', '4942'),\n",
       " ('512', '972', '5400'),\n",
       " ('512', '972', '6740'),\n",
       " ('512', '972', '4942'),\n",
       " ('512', '978', '0300'),\n",
       " ('512', '972', '6840'),\n",
       " ('512', '972', '4942'),\n",
       " ('512', '972', '5139'),\n",
       " ('512', '972', '4942'),\n",
       " ('512', '972', '5010'),\n",
       " ('512', '978', '9740'),\n",
       " ('512', '972', '5000'),\n",
       " ('512', '972', '4100'),\n",
       " ('512', '972', '5000')]"
      ]
     },
     "metadata": {},
     "execution_count": 9
    }
   ],
   "metadata": {}
  },
  {
   "cell_type": "code",
   "execution_count": 10,
   "source": [
    "# Join together separated by space: \n",
    "[\" \".join(pn) for pn in phone_number_list]"
   ],
   "outputs": [
    {
     "output_type": "execute_result",
     "data": {
      "text/plain": [
       "['512 972 4942',\n",
       " '512 972 5790',\n",
       " '512 972 4942',\n",
       " '512 972 6650',\n",
       " '512 972 4784',\n",
       " '512 972 4942',\n",
       " '512 972 4942',\n",
       " '512 972 4942',\n",
       " '512 972 4942',\n",
       " '512 972 4942',\n",
       " '512 719 3010',\n",
       " '800 514 6667',\n",
       " '512 962 6650',\n",
       " '512 972 4942',\n",
       " '512 972 4942',\n",
       " '512 972 4942',\n",
       " '512 972 4942',\n",
       " '512 972 5400',\n",
       " '512 972 6740',\n",
       " '512 972 4942',\n",
       " '512 978 0300',\n",
       " '512 972 6840',\n",
       " '512 972 4942',\n",
       " '512 972 5139',\n",
       " '512 972 4942',\n",
       " '512 972 5010',\n",
       " '512 978 9740',\n",
       " '512 972 5000',\n",
       " '512 972 4100',\n",
       " '512 972 5000']"
      ]
     },
     "metadata": {},
     "execution_count": 10
    }
   ],
   "metadata": {}
  },
  {
   "cell_type": "markdown",
   "source": [
    "# Revisiting Naïve Bayes in Excel Spreadsheet. "
   ],
   "metadata": {}
  },
  {
   "cell_type": "code",
   "execution_count": 63,
   "source": [
    "from fastai.text.all import *\n",
    "from utils import *"
   ],
   "outputs": [],
   "metadata": {}
  },
  {
   "cell_type": "code",
   "execution_count": 64,
   "source": [
    "path = untar_data(URLs.IMDB_SAMPLE)\n",
    "df = pd.read_csv(path/\"texts.csv\")\n",
    "\n",
    "imdb_clas = DataBlock(\n",
    "    blocks=(TextBlock.from_df(\"text\", seq_len=72), CategoryBlock),\n",
    "    get_x=ColReader(\"text\"), get_y=ColReader(\"label\"), splitter=ColSplitter()\n",
    ")\n",
    "\n",
    "dls = imdb_clas.dataloaders(df, bs=64)"
   ],
   "outputs": [
    {
     "output_type": "display_data",
     "data": {
      "text/html": [],
      "text/plain": [
       "<IPython.core.display.HTML object>"
      ]
     },
     "metadata": {}
    },
    {
     "output_type": "stream",
     "name": "stderr",
     "text": [
      "/anaconda/envs/fastai/lib/python3.8/site-packages/numpy/core/_asarray.py:102: VisibleDeprecationWarning: Creating an ndarray from ragged nested sequences (which is a list-or-tuple of lists-or-tuples-or ndarrays with different lengths or shapes) is deprecated. If you meant to do this, you must specify 'dtype=object' when creating the ndarray.\n",
      "  return array(a, dtype, copy=False, order=order)\n"
     ]
    }
   ],
   "metadata": {}
  },
  {
   "cell_type": "code",
   "execution_count": 65,
   "source": [
    "def get_doc_term_matrix(train_ds, n_terms):\n",
    "    \"\"\"\n",
    "    inputs: train_ds, n_terms. \n",
    "    output: CSR format as scipy.sparse.csr.csr_matrix object. \n",
    "    \"\"\"\n",
    "    values, column_indices, row_pointer = [], [], []\n",
    "    row_pointer.append(0)\n",
    "\n",
    "    for _, (doc, label) in enumerate(train_ds):\n",
    "        feature_counter = Counter(doc.data.numpy())\n",
    "        column_indices.extend(feature_counter.keys())\n",
    "        values.extend(feature_counter.values())\n",
    "         # Tack on N (number of nonzero elements in the matrix) to the end of the row_pointer array\n",
    "        row_pointer.append(len(values))\n",
    "\n",
    "    return scipy.sparse.csr_matrix((values, column_indices, row_pointer),\n",
    "                                    shape=(len(row_pointer) - 1, n_terms),\n",
    "                                    dtype=int)"
   ],
   "outputs": [],
   "metadata": {}
  },
  {
   "cell_type": "code",
   "execution_count": 66,
   "source": [
    "trn_term_doc = get_doc_term_matrix(dls.train_ds, len(dls.vocab.itemgot()[0]))"
   ],
   "outputs": [],
   "metadata": {}
  },
  {
   "cell_type": "markdown",
   "source": [
    "#### Getting data for spreadsheet: \n",
    "To ensure manageable, just get 40 shortest reviews."
   ],
   "metadata": {}
  },
  {
   "cell_type": "code",
   "execution_count": 67,
   "source": [
    "inds = np.asarray(trn_term_doc.todense())\n",
    "inds = np.argpartition(np.count_nonzero(inds, 1), 40, axis=0)[:40]\n",
    "inds = np.squeeze(np.asarray(inds))\n",
    "\n",
    "\n",
    "list_text = [dls.train_ds.items.text[i] for i in inds]\n",
    "\n",
    "# Get counts for all vocab used in our selection of 40 shortest reviews: \n",
    "vocab_used = defaultdict(int)\n",
    "\n",
    "for i in inds:\n",
    "    for val in dls.train_ds.items.text[i]:\n",
    "        vocab_used[val] += 1"
   ],
   "outputs": [],
   "metadata": {}
  },
  {
   "cell_type": "code",
   "execution_count": 68,
   "source": [
    "interesting_inds = [key for key, val in vocab_used.items() if val < 30 and val > 6]\n",
    "len(interesting_inds)"
   ],
   "outputs": [
    {
     "output_type": "execute_result",
     "data": {
      "text/plain": [
       "45"
      ]
     },
     "metadata": {},
     "execution_count": 68
    }
   ],
   "metadata": {}
  },
  {
   "cell_type": "markdown",
   "source": [
    "Copy vocab and text of movie reviews directly from here to paste into spreadsheet."
   ],
   "metadata": {}
  },
  {
   "cell_type": "code",
   "execution_count": 70,
   "source": [
    "np.array(interesting_inds)"
   ],
   "outputs": [
    {
     "output_type": "execute_result",
     "data": {
      "text/plain": [
       "array(['so', 'bad', 'very', 'acting', '\\n\\n', 'do', 'xxup', \"n't\", 'one',\n",
       "       'have', 'seen', 'with', 'are', 'just', 'film', 'but', '!', \"'s\",\n",
       "       'story', 'no', 'that', 'as', 'some', 'an', '\"', 'great', 'on',\n",
       "       'if', 'see', 'up', 'will', 'all', 'from', 'me', 'was', 'for',\n",
       "       'about', 'like', '-', 'not', 'has', 'good', '…', ')', 'out'],\n",
       "      dtype='<U6')"
      ]
     },
     "metadata": {},
     "execution_count": 70
    }
   ],
   "metadata": {}
  },
  {
   "cell_type": "code",
   "execution_count": 73,
   "source": [
    "np.array([\" \".join(sentence) for sentence in list_text])[:2]"
   ],
   "outputs": [
    {
     "output_type": "execute_result",
     "data": {
      "text/plain": [
       "array([\"xxbos xxmaj this movie is so bad , i knew how it ends right after this little girl killed the first person . xxmaj very bad acting very bad plot very bad movie \\n\\n do yourself a favour and xxup do n't watch it 1 / 10\",\n",
       "       'xxbos xxmaj this is by far one of the worst movies i have ever seen , the poor special effects along with the poor acting are just a few of the things wrong with this film . i am fan of the first two major leagues but this one is lame !'],\n",
       "      dtype='<U962')"
      ]
     },
     "metadata": {},
     "execution_count": 73
    }
   ],
   "metadata": {}
  },
  {
   "cell_type": "code",
   "execution_count": 74,
   "source": [
    "x = trn_term_doc[inds, :]\n",
    "y = get_y(dls, inds)"
   ],
   "outputs": [],
   "metadata": {}
  },
  {
   "cell_type": "code",
   "execution_count": 85,
   "source": [
    "stoi(dls.vocab[0], interesting_inds)"
   ],
   "outputs": [
    {
     "output_type": "execute_result",
     "data": {
      "text/plain": [
       "array([ 52,  97,  70, 124,  26,  61,   7,  37,  44,  42, 136,  30,  38,\n",
       "        58,  32,  31,  54,  23,  84,  75,  20,  27,  63,  49,  22, 113,\n",
       "        35,  59,  88,  71,  96,  46,  51,  90,  25,  28,  56,  50,  24,\n",
       "        39,  66,  68,  87,  34,  60], dtype=uint8)"
      ]
     },
     "metadata": {},
     "execution_count": 85
    }
   ],
   "metadata": {}
  },
  {
   "cell_type": "code",
   "execution_count": 93,
   "source": [
    "from IPython.display import FileLink, FileLinks\n",
    "\n",
    "path = Path(\"output\")\n",
    "\n",
    "try: interesting_inds = stoi(dls.vocab[0], interesting_inds)\n",
    "except Exception: pass\n",
    "\n",
    "np.savetxt(path/\"x_3b.csv\", np.asarray(x.todense())[:, interesting_inds].astype(np.uint8),\n",
    "            delimiter=\",\", fmt=\"%i\")\n",
    "FileLink(path/\"x_3b.csv\")"
   ],
   "outputs": [
    {
     "output_type": "execute_result",
     "data": {
      "text/html": [
       "<a href='output/x_3b.csv' target='_blank'>output/x_3b.csv</a><br>"
      ],
      "text/plain": [
       "/home/fastai2/notebooks/fastai_NLP/output/x_3b.csv"
      ]
     },
     "metadata": {},
     "execution_count": 93
    }
   ],
   "metadata": {}
  },
  {
   "cell_type": "code",
   "execution_count": 87,
   "source": [
    "np.savetxt(path/\"y_3b.csv\", y, delimiter=\",\", fmt=\"%i\")\n",
    "FileLink(path/\"y_3b.csv\")"
   ],
   "outputs": [
    {
     "output_type": "execute_result",
     "data": {
      "text/html": [
       "<a href='output/y_3b.csv' target='_blank'>output/y_3b.csv</a><br>"
      ],
      "text/plain": [
       "/home/fastai2/notebooks/fastai_NLP/output/y_3b.csv"
      ]
     },
     "metadata": {},
     "execution_count": 87
    }
   ],
   "metadata": {}
  },
  {
   "cell_type": "code",
   "execution_count": null,
   "source": [],
   "outputs": [],
   "metadata": {}
  }
 ],
 "metadata": {
  "orig_nbformat": 4,
  "language_info": {
   "name": "python",
   "version": "3.8.2",
   "mimetype": "text/x-python",
   "codemirror_mode": {
    "name": "ipython",
    "version": 3
   },
   "pygments_lexer": "ipython3",
   "nbconvert_exporter": "python",
   "file_extension": ".py"
  },
  "kernelspec": {
   "name": "python3",
   "display_name": "Python 3.8.2 64-bit ('fastai': conda)"
  },
  "interpreter": {
   "hash": "5aa457f694240ca52bec53eda6ed84b45efde55787bbd717cb0e138c3a892911"
  }
 },
 "nbformat": 4,
 "nbformat_minor": 2
}