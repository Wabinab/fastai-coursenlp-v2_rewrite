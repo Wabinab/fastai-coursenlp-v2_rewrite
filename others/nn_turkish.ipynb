{
 "cells": [
  {
   "cell_type": "markdown",
   "metadata": {},
   "source": [
    "# Turkish ULMFiT from scratch\n",
    "Created on: 13 Septembre 2021."
   ]
  },
  {
   "cell_type": "code",
   "execution_count": 29,
   "metadata": {},
   "outputs": [],
   "source": [
    "%reload_ext autoreload\n",
    "%autoreload 2\n",
    "%matplotlib inline\n",
    "\n",
    "from fastai.text.all import *"
   ]
  },
  {
   "cell_type": "code",
   "execution_count": 30,
   "metadata": {},
   "outputs": [],
   "source": [
    "bs = 144\n",
    "torch.cuda.set_device(0)\n",
    "data_path = Config.config_path\n",
    "\n",
    "lang = \"tr\"\n",
    "name = f\"{lang}wiki\"\n",
    "path = data_path/name\n",
    "path.mkdir(exist_ok=True, parents=True)"
   ]
  },
  {
   "cell_type": "code",
   "execution_count": 31,
   "metadata": {},
   "outputs": [],
   "source": [
    "mdl_path = path/\"models\"\n",
    "mdl_path.mkdir(exist_ok=True)\n",
    "lm_fns = [mdl_path/f\"{lang}_wt\", mdl_path/f\"{lang}_wt_vocab\"]"
   ]
  },
  {
   "cell_type": "markdown",
   "metadata": {},
   "source": [
    "## Turkish wikipedia model"
   ]
  },
  {
   "cell_type": "code",
   "execution_count": 32,
   "metadata": {},
   "outputs": [],
   "source": [
    "from nlputils import split_wiki, get_wiki\n",
    "\n",
    "# get_wiki(path, lang)\n",
    "# !head -n4 {path}/{name}"
   ]
  },
  {
   "cell_type": "code",
   "execution_count": 33,
   "metadata": {},
   "outputs": [],
   "source": [
    "# dest = split_wiki(path, lang)"
   ]
  },
  {
   "cell_type": "code",
   "execution_count": 34,
   "metadata": {},
   "outputs": [
    {
     "data": {
      "text/html": [
       "<table border=\"1\" class=\"dataframe\">\n",
       "  <thead>\n",
       "    <tr style=\"text-align: right;\">\n",
       "      <th></th>\n",
       "      <th>text</th>\n",
       "      <th>text_</th>\n",
       "    </tr>\n",
       "  </thead>\n",
       "  <tbody>\n",
       "    <tr>\n",
       "      <th>0</th>\n",
       "      <td>▁xxbos ▁xxmaj ▁kütleçekimsel ▁dalgaların ▁ilk ▁gözlemi ▁xxmaj ▁kütleçekimsel ▁dalgaların ▁ilk ▁gözlemi , ▁ilk ▁gözlemi ▁14 ▁xxmaj ▁eylül ▁2015 ▁tarihinde ▁meydana ▁gelmesine ▁rağmen , ▁xxmaj ▁yerçekimsel ▁dalgaların ▁buluşu , ▁daha ▁sonra ▁11 ▁şubat ▁2016 ▁tarihinde , ▁xxup ▁lig o ▁ve ▁xxmaj ▁ vir go ▁iş ▁birliği ▁tarafından , ▁birlikte ▁açıklandı . ▁xxmaj ▁yerçekimi ▁dalgaları ▁ikili ▁yıldız ▁sistemlerinde ▁atar ca ların ▁zamanlama larının ▁üzerindeki ▁etkileri ▁yoluyla , ▁sadece ▁dolaylı ▁olarak ▁anlaşılma kta ya dı</td>\n",
       "      <td>▁xxmaj ▁kütleçekimsel ▁dalgaların ▁ilk ▁gözlemi ▁xxmaj ▁kütleçekimsel ▁dalgaların ▁ilk ▁gözlemi , ▁ilk ▁gözlemi ▁14 ▁xxmaj ▁eylül ▁2015 ▁tarihinde ▁meydana ▁gelmesine ▁rağmen , ▁xxmaj ▁yerçekimsel ▁dalgaların ▁buluşu , ▁daha ▁sonra ▁11 ▁şubat ▁2016 ▁tarihinde , ▁xxup ▁lig o ▁ve ▁xxmaj ▁ vir go ▁iş ▁birliği ▁tarafından , ▁birlikte ▁açıklandı . ▁xxmaj ▁yerçekimi ▁dalgaları ▁ikili ▁yıldız ▁sistemlerinde ▁atar ca ların ▁zamanlama larının ▁üzerindeki ▁etkileri ▁yoluyla , ▁sadece ▁dolaylı ▁olarak ▁anlaşılma kta ya dı .</td>\n",
       "    </tr>\n",
       "    <tr>\n",
       "      <th>1</th>\n",
       "      <td>▁ii . ▁el - a lam eyn ▁xxmaj ▁muharebesi ' nde ▁( kasım ▁1942 ) ▁xxmaj ▁müttefiklerin ▁zaferi ▁ve ▁özellikle ▁xxmaj ▁stalingrad ▁xxmaj ▁savaşı ' ndaki ▁fe ci ▁yenilgi ▁( ▁şubat ▁1943 ) ▁ - ▁savaştan ▁giderek ▁daha ▁fazla ▁bık an ▁ve ▁kazan ı labileceği nden ▁şüphe lenen ▁xxmaj ▁alman ▁halkına ▁sunmak ▁zor ▁konu lardı . ▁16 ▁xxmaj ▁kasım ▁1942' de ▁xxmaj ▁goebbels , ▁tüm ▁xxmaj ▁ gau le iter ' lar</td>\n",
       "      <td>. ▁el - a lam eyn ▁xxmaj ▁muharebesi ' nde ▁( kasım ▁1942 ) ▁xxmaj ▁müttefiklerin ▁zaferi ▁ve ▁özellikle ▁xxmaj ▁stalingrad ▁xxmaj ▁savaşı ' ndaki ▁fe ci ▁yenilgi ▁( ▁şubat ▁1943 ) ▁ - ▁savaştan ▁giderek ▁daha ▁fazla ▁bık an ▁ve ▁kazan ı labileceği nden ▁şüphe lenen ▁xxmaj ▁alman ▁halkına ▁sunmak ▁zor ▁konu lardı . ▁16 ▁xxmaj ▁kasım ▁1942' de ▁xxmaj ▁goebbels , ▁tüm ▁xxmaj ▁ gau le iter ' lar ▁gibi</td>\n",
       "    </tr>\n",
       "  </tbody>\n",
       "</table>"
      ],
      "text/plain": [
       "<IPython.core.display.HTML object>"
      ]
     },
     "metadata": {},
     "output_type": "display_data"
    }
   ],
   "source": [
    "get_tr = partial(get_text_files, folders=[\"docs\"])\n",
    "\n",
    "dls_lm = DataBlock(\n",
    "    blocks=TextBlock.from_folder(path, is_lm=True, tok=SentencePieceTokenizer(\"tr\")),\n",
    "    get_items=get_tr, splitter=RandomSplitter(0.1)\n",
    ").dataloaders(path, path=path, bs=bs, seq_len=72, num_workers=os.cpu_count())\n",
    "dls_lm.show_batch(max_n=2)"
   ]
  },
  {
   "cell_type": "code",
   "execution_count": 35,
   "metadata": {},
   "outputs": [
    {
     "data": {
      "text/html": [],
      "text/plain": [
       "<IPython.core.display.HTML object>"
      ]
     },
     "metadata": {},
     "output_type": "display_data"
    },
    {
     "name": "stderr",
     "output_type": "stream",
     "text": [
      "/home/wabinab/anaconda3/envs/fastai/lib/python3.8/site-packages/fastai/callback/schedule.py:270: UserWarning: color is redundantly defined by the 'color' keyword argument and the fmt string \"ro\" (-> color='r'). The keyword argument will take precedence.\n",
      "  ax.plot(val, idx, 'ro', label=nm, c=color)\n"
     ]
    },
    {
     "data": {
      "text/plain": [
       "SuggestedLRs(valley=tensor(0.0001))"
      ]
     },
     "execution_count": 35,
     "metadata": {},
     "output_type": "execute_result"
    },
    {
     "data": {
      "image/png": "[encoded data removed]",
      "text/plain": [
       "<Figure size 432x288 with 1 Axes>"
      ]
     },
     "metadata": {
      "needs_background": "light"
     },
     "output_type": "display_data"
    }
   ],
   "source": [
    "torch.cuda.empty_cache()\n",
    "learn = language_model_learner(dls_lm, AWD_LSTM, drop_mult=0.1, wd=0.1, \n",
    "                metrics=[accuracy, Perplexity()], pretrained=False).to_fp16()\n",
    "learn.lr_find()"
   ]
  },
  {
   "cell_type": "code",
   "execution_count": 36,
   "metadata": {},
   "outputs": [
    {
     "data": {
      "text/html": [
       "<table border=\"1\" class=\"dataframe\">\n",
       "  <thead>\n",
       "    <tr style=\"text-align: left;\">\n",
       "      <th>epoch</th>\n",
       "      <th>train_loss</th>\n",
       "      <th>valid_loss</th>\n",
       "      <th>accuracy</th>\n",
       "      <th>perplexity</th>\n",
       "      <th>time</th>\n",
       "    </tr>\n",
       "  </thead>\n",
       "  <tbody>\n",
       "    <tr>\n",
       "      <td>0</td>\n",
       "      <td>5.614775</td>\n",
       "      <td>5.773619</td>\n",
       "      <td>0.210335</td>\n",
       "      <td>321.699768</td>\n",
       "      <td>02:44</td>\n",
       "    </tr>\n",
       "    <tr>\n",
       "      <td>1</td>\n",
       "      <td>4.755323</td>\n",
       "      <td>5.031287</td>\n",
       "      <td>0.245797</td>\n",
       "      <td>153.129913</td>\n",
       "      <td>02:45</td>\n",
       "    </tr>\n",
       "    <tr>\n",
       "      <td>2</td>\n",
       "      <td>4.511978</td>\n",
       "      <td>4.852171</td>\n",
       "      <td>0.258168</td>\n",
       "      <td>128.018066</td>\n",
       "      <td>02:46</td>\n",
       "    </tr>\n",
       "    <tr>\n",
       "      <td>3</td>\n",
       "      <td>4.426910</td>\n",
       "      <td>4.771465</td>\n",
       "      <td>0.264296</td>\n",
       "      <td>118.092102</td>\n",
       "      <td>02:47</td>\n",
       "    </tr>\n",
       "    <tr>\n",
       "      <td>4</td>\n",
       "      <td>4.361788</td>\n",
       "      <td>4.704693</td>\n",
       "      <td>0.269557</td>\n",
       "      <td>110.464348</td>\n",
       "      <td>02:48</td>\n",
       "    </tr>\n",
       "    <tr>\n",
       "      <td>5</td>\n",
       "      <td>4.314601</td>\n",
       "      <td>4.648013</td>\n",
       "      <td>0.271828</td>\n",
       "      <td>104.377342</td>\n",
       "      <td>02:49</td>\n",
       "    </tr>\n",
       "    <tr>\n",
       "      <td>6</td>\n",
       "      <td>4.214610</td>\n",
       "      <td>4.575909</td>\n",
       "      <td>0.277089</td>\n",
       "      <td>97.116295</td>\n",
       "      <td>02:50</td>\n",
       "    </tr>\n",
       "    <tr>\n",
       "      <td>7</td>\n",
       "      <td>4.152083</td>\n",
       "      <td>4.513559</td>\n",
       "      <td>0.281464</td>\n",
       "      <td>91.245972</td>\n",
       "      <td>02:51</td>\n",
       "    </tr>\n",
       "    <tr>\n",
       "      <td>8</td>\n",
       "      <td>4.116148</td>\n",
       "      <td>4.445042</td>\n",
       "      <td>0.285984</td>\n",
       "      <td>85.203430</td>\n",
       "      <td>02:50</td>\n",
       "    </tr>\n",
       "    <tr>\n",
       "      <td>9</td>\n",
       "      <td>4.063055</td>\n",
       "      <td>4.342351</td>\n",
       "      <td>0.294970</td>\n",
       "      <td>76.888084</td>\n",
       "      <td>02:51</td>\n",
       "    </tr>\n",
       "    <tr>\n",
       "      <td>10</td>\n",
       "      <td>3.924994</td>\n",
       "      <td>4.250171</td>\n",
       "      <td>0.303769</td>\n",
       "      <td>70.117416</td>\n",
       "      <td>02:52</td>\n",
       "    </tr>\n",
       "    <tr>\n",
       "      <td>11</td>\n",
       "      <td>3.852530</td>\n",
       "      <td>4.158002</td>\n",
       "      <td>0.312216</td>\n",
       "      <td>63.943661</td>\n",
       "      <td>02:48</td>\n",
       "    </tr>\n",
       "    <tr>\n",
       "      <td>12</td>\n",
       "      <td>3.771016</td>\n",
       "      <td>4.082539</td>\n",
       "      <td>0.319843</td>\n",
       "      <td>59.295837</td>\n",
       "      <td>02:47</td>\n",
       "    </tr>\n",
       "    <tr>\n",
       "      <td>13</td>\n",
       "      <td>3.654580</td>\n",
       "      <td>4.038623</td>\n",
       "      <td>0.325093</td>\n",
       "      <td>56.748165</td>\n",
       "      <td>02:47</td>\n",
       "    </tr>\n",
       "    <tr>\n",
       "      <td>14</td>\n",
       "      <td>3.564716</td>\n",
       "      <td>4.033367</td>\n",
       "      <td>0.325931</td>\n",
       "      <td>56.450668</td>\n",
       "      <td>02:49</td>\n",
       "    </tr>\n",
       "  </tbody>\n",
       "</table>"
      ],
      "text/plain": [
       "<IPython.core.display.HTML object>"
      ]
     },
     "metadata": {},
     "output_type": "display_data"
    }
   ],
   "source": [
    "lr = 3e-3\n",
    "lr *= bs/48  # scale lr by batch size\n",
    "\n",
    "learn.unfreeze()\n",
    "learn.fit_one_cycle(15, lr)"
   ]
  },
  {
   "cell_type": "code",
   "execution_count": 37,
   "metadata": {},
   "outputs": [],
   "source": [
    "mdl_path = path/\"models\"\n",
    "mdl_path.mkdir(exist_ok=True)\n",
    "learn.to_fp32().save(lm_fns[0], with_opt=False)\n",
    "save_pickle(lm_fns[1].with_suffix(\".pkl\"), learn.dls.vocab)"
   ]
  },
  {
   "cell_type": "markdown",
   "metadata": {},
   "source": [
    "## Turkish Sentiment Analysis"
   ]
  },
  {
   "cell_type": "code",
   "execution_count": 38,
   "metadata": {},
   "outputs": [
    {
     "data": {
      "text/plain": [
       "(#2) [Path('/home/wabinab/.fastai/trwiki/movies/tr_polarity.pos'),Path('/home/wabinab/.fastai/trwiki/movies/tr_polarity.neg')]"
      ]
     },
     "execution_count": 38,
     "metadata": {},
     "output_type": "execute_result"
    }
   ],
   "source": [
    "path_clas = path/\"movies\"\n",
    "path_clas.ls()"
   ]
  },
  {
   "cell_type": "code",
   "execution_count": 39,
   "metadata": {},
   "outputs": [
    {
     "data": {
      "text/html": [
       "<div>\n",
       "<style scoped>\n",
       "    .dataframe tbody tr th:only-of-type {\n",
       "        vertical-align: middle;\n",
       "    }\n",
       "\n",
       "    .dataframe tbody tr th {\n",
       "        vertical-align: top;\n",
       "    }\n",
       "\n",
       "    .dataframe thead th {\n",
       "        text-align: right;\n",
       "    }\n",
       "</style>\n",
       "<table border=\"1\" class=\"dataframe\">\n",
       "  <thead>\n",
       "    <tr style=\"text-align: right;\">\n",
       "      <th></th>\n",
       "      <th>text</th>\n",
       "      <th>pos</th>\n",
       "    </tr>\n",
       "  </thead>\n",
       "  <tbody>\n",
       "    <tr>\n",
       "      <th>0</th>\n",
       "      <td>gerçekten harika bir yapim birçok kez izledim gene izlerim özgürlük askini ve ingilizlerin ne kadar vahset olduklarini gözler önüne seren bir film ve tabi ki ask.... \\n</td>\n",
       "      <td>1</td>\n",
       "    </tr>\n",
       "    <tr>\n",
       "      <th>1</th>\n",
       "      <td>her izledigimde hayranlik duydugum gerçek klasik diyebilecegimiz filmlerden . içinde teknik hatalar barindirsa bile sinema olgusunun en üst noktalarindan.. \\n</td>\n",
       "      <td>1</td>\n",
       "    </tr>\n",
       "    <tr>\n",
       "      <th>2</th>\n",
       "      <td>gerçekten tarihi savas filmleri arasinda tartismasiz en iyisi , 12 yil boyunca acaba ikincisi çekirimi diye bekledigim bir film ,belki william wallace babasinin ölümünden sonra amcasi yanina almisti onu yetistirmisti belki bunu anlatan mükkemmel bir filim olablilr=). \\n</td>\n",
       "      <td>1</td>\n",
       "    </tr>\n",
       "    <tr>\n",
       "      <th>3</th>\n",
       "      <td>aldigi ödülleri sonuna dek hak eden muhtesem bir basyapit . \\n</td>\n",
       "      <td>1</td>\n",
       "    </tr>\n",
       "    <tr>\n",
       "      <th>4</th>\n",
       "      <td>özgürlük denilince aklima gelen ilk film.bir basyapit.. \\n</td>\n",
       "      <td>1</td>\n",
       "    </tr>\n",
       "  </tbody>\n",
       "</table>\n",
       "</div>"
      ],
      "text/plain": [
       "                                                                                                                                                                                                                                                                             text  \\\n",
       "0                                                                                                        gerçekten harika bir yapim birçok kez izledim gene izlerim özgürlük askini ve ingilizlerin ne kadar vahset olduklarini gözler önüne seren bir film ve tabi ki ask.... \\n   \n",
       "1                                                                                                                  her izledigimde hayranlik duydugum gerçek klasik diyebilecegimiz filmlerden . içinde teknik hatalar barindirsa bile sinema olgusunun en üst noktalarindan.. \\n   \n",
       "2  gerçekten tarihi savas filmleri arasinda tartismasiz en iyisi , 12 yil boyunca acaba ikincisi çekirimi diye bekledigim bir film ,belki william wallace babasinin ölümünden sonra amcasi yanina almisti onu yetistirmisti belki bunu anlatan mükkemmel bir filim olablilr=). \\n   \n",
       "3                                                                                                                                                                                                                  aldigi ödülleri sonuna dek hak eden muhtesem bir basyapit . \\n   \n",
       "4                                                                                                                                                                                                                      özgürlük denilince aklima gelen ilk film.bir basyapit.. \\n   \n",
       "\n",
       "   pos  \n",
       "0    1  \n",
       "1    1  \n",
       "2    1  \n",
       "3    1  \n",
       "4    1  "
      ]
     },
     "execution_count": 39,
     "metadata": {},
     "output_type": "execute_result"
    }
   ],
   "source": [
    "pos = (path_clas/\"tr_polarity.pos\").open(encoding=\"iso-8859-9\").readlines()\n",
    "pos_df = pd.DataFrame({\"text\": pos})\n",
    "pos_df[\"pos\"] = 1\n",
    "pos_df.head()"
   ]
  },
  {
   "cell_type": "code",
   "execution_count": 40,
   "metadata": {},
   "outputs": [
    {
     "data": {
      "text/html": [
       "<div>\n",
       "<style scoped>\n",
       "    .dataframe tbody tr th:only-of-type {\n",
       "        vertical-align: middle;\n",
       "    }\n",
       "\n",
       "    .dataframe tbody tr th {\n",
       "        vertical-align: top;\n",
       "    }\n",
       "\n",
       "    .dataframe thead th {\n",
       "        text-align: right;\n",
       "    }\n",
       "</style>\n",
       "<table border=\"1\" class=\"dataframe\">\n",
       "  <thead>\n",
       "    <tr style=\"text-align: right;\">\n",
       "      <th></th>\n",
       "      <th>text</th>\n",
       "      <th>pos</th>\n",
       "    </tr>\n",
       "  </thead>\n",
       "  <tbody>\n",
       "    <tr>\n",
       "      <th>0</th>\n",
       "      <td>giseye oynayan bir film.mel gibson'in oyunculugu yine çok kötü.film bastan sona duygu sömürüsü ama anlayan nerde!. \\n</td>\n",
       "      <td>0</td>\n",
       "    </tr>\n",
       "    <tr>\n",
       "      <th>1</th>\n",
       "      <td>bircok yonden sahip olduklari zayifliklari populerligi iyi kullanmasiyla gidermis zayif bir yapim... \\n</td>\n",
       "      <td>0</td>\n",
       "    </tr>\n",
       "    <tr>\n",
       "      <th>2</th>\n",
       "      <td>1995 ten bu yana bu tür filmler artti , o zamanlar basarili sayilabilecekse de suan emin degilim. konusu baya siradan .. \\n</td>\n",
       "      <td>0</td>\n",
       "    </tr>\n",
       "    <tr>\n",
       "      <th>3</th>\n",
       "      <td>mel gibson tam bir ingiliz düsmani her filminde belirtiyor bunu. film yine cok iyi. biz kurtulus mücadelemizi böyle bir filmle simgeleyemedik. üzülüyorum bu yüzden.. \\n</td>\n",
       "      <td>0</td>\n",
       "    </tr>\n",
       "    <tr>\n",
       "      <th>4</th>\n",
       "      <td>milliyetçi bir film tavsiye etmiyorum.... \\n</td>\n",
       "      <td>0</td>\n",
       "    </tr>\n",
       "  </tbody>\n",
       "</table>\n",
       "</div>"
      ],
      "text/plain": [
       "                                                                                                                                                                       text  \\\n",
       "0                                                     giseye oynayan bir film.mel gibson'in oyunculugu yine çok kötü.film bastan sona duygu sömürüsü ama anlayan nerde!. \\n   \n",
       "1                                                                   bircok yonden sahip olduklari zayifliklari populerligi iyi kullanmasiyla gidermis zayif bir yapim... \\n   \n",
       "2                                               1995 ten bu yana bu tür filmler artti , o zamanlar basarili sayilabilecekse de suan emin degilim. konusu baya siradan .. \\n   \n",
       "3  mel gibson tam bir ingiliz düsmani her filminde belirtiyor bunu. film yine cok iyi. biz kurtulus mücadelemizi böyle bir filmle simgeleyemedik. üzülüyorum bu yüzden.. \\n   \n",
       "4                                                                                                                              milliyetçi bir film tavsiye etmiyorum.... \\n   \n",
       "\n",
       "   pos  \n",
       "0    0  \n",
       "1    0  \n",
       "2    0  \n",
       "3    0  \n",
       "4    0  "
      ]
     },
     "execution_count": 40,
     "metadata": {},
     "output_type": "execute_result"
    }
   ],
   "source": [
    "neg = (path_clas/\"tr_polarity.neg\").open(encoding=\"iso-8859-9\").readlines()\n",
    "neg_df = pd.DataFrame({\"text\": neg})\n",
    "neg_df[\"pos\"] = 0\n",
    "neg_df.head()"
   ]
  },
  {
   "cell_type": "code",
   "execution_count": 41,
   "metadata": {},
   "outputs": [],
   "source": [
    "df = pd.concat([pos_df, neg_df], sort=False)"
   ]
  },
  {
   "cell_type": "code",
   "execution_count": 42,
   "metadata": {},
   "outputs": [
    {
     "data": {
      "text/html": [
       "<table border=\"1\" class=\"dataframe\">\n",
       "  <thead>\n",
       "    <tr style=\"text-align: right;\">\n",
       "      <th></th>\n",
       "      <th>text</th>\n",
       "      <th>text_</th>\n",
       "    </tr>\n",
       "  </thead>\n",
       "  <tbody>\n",
       "    <tr>\n",
       "      <th>0</th>\n",
       "      <td>xxbos ç xxrep 4 o k bos xxunk xxunk cd veya xxunk xxunk xxunk xxunk film xxunk xxunk xxunk xxunk xxunk xxunk xxunk xxunk . xxbos hem xxunk hem xxunk xxunk bir xxunk xxunk xxunk xxunk çok xxunk xxunk xxunk oldukça xxunk bir xxunk xxunk xxbos xxunk xxunk xxunk xxunk bu xxunk xxunk xxunk da bu xxunk xxunk bir xxunk xxunk xxunk . xxunk bi film xxunk xxunk xxbos film o xxunk</td>\n",
       "      <td>ç xxrep 4 o k bos xxunk xxunk cd veya xxunk xxunk xxunk xxunk film xxunk xxunk xxunk xxunk xxunk xxunk xxunk xxunk . xxbos hem xxunk hem xxunk xxunk bir xxunk xxunk xxunk xxunk çok xxunk xxunk xxunk oldukça xxunk bir xxunk xxunk xxbos xxunk xxunk xxunk xxunk bu xxunk xxunk xxunk da bu xxunk xxunk bir xxunk xxunk xxunk . xxunk bi film xxunk xxunk xxbos film o xxunk xxunk</td>\n",
       "    </tr>\n",
       "    <tr>\n",
       "      <th>1</th>\n",
       "      <td>xxunk bir film , xxunk bir xxunk xxunk bir xxunk xxunk bir xxunk xxunk . lük xxunk ne xxunk . hiç xxunk 10 xxunk 10 xxunk . xxbos dünya xxunk xxunk a xxunk bir xxunk xxunk bu film de xxunk xxunk . . xxbos çok kötü bir film . xxunk xxunk xxunk xxunk xxunk xxunk xxunk bu xxunk xxunk xxunk xxunk xxunk xxunk . xxbos bir xxunk sever olarak xxunk bir insan</td>\n",
       "      <td>bir film , xxunk bir xxunk xxunk bir xxunk xxunk bir xxunk xxunk . lük xxunk ne xxunk . hiç xxunk 10 xxunk 10 xxunk . xxbos dünya xxunk xxunk a xxunk bir xxunk xxunk bu film de xxunk xxunk . . xxbos çok kötü bir film . xxunk xxunk xxunk xxunk xxunk xxunk xxunk bu xxunk xxunk xxunk xxunk xxunk xxunk . xxbos bir xxunk sever olarak xxunk bir insan olarak</td>\n",
       "    </tr>\n",
       "  </tbody>\n",
       "</table>"
      ],
      "text/plain": [
       "<IPython.core.display.HTML object>"
      ]
     },
     "metadata": {},
     "output_type": "display_data"
    }
   ],
   "source": [
    "dls_lm = DataBlock(\n",
    "    blocks=TextBlock.from_df(\"text\", is_lm=True, vocab=dls_lm.vocab),\n",
    "    get_items=ColReader(\"text\"), splitter=RandomSplitter(0.1)\n",
    ").dataloaders(df, bs=bs, seq_len=72, num_workers=os.cpu_count())\n",
    "dls_lm.show_batch(max_n=2)"
   ]
  },
  {
   "cell_type": "code",
   "execution_count": 43,
   "metadata": {},
   "outputs": [
    {
     "data": {
      "text/html": [],
      "text/plain": [
       "<IPython.core.display.HTML object>"
      ]
     },
     "metadata": {},
     "output_type": "display_data"
    },
    {
     "name": "stderr",
     "output_type": "stream",
     "text": [
      "/home/wabinab/anaconda3/envs/fastai/lib/python3.8/site-packages/fastai/callback/schedule.py:270: UserWarning: color is redundantly defined by the 'color' keyword argument and the fmt string \"ro\" (-> color='r'). The keyword argument will take precedence.\n",
      "  ax.plot(val, idx, 'ro', label=nm, c=color)\n"
     ]
    },
    {
     "data": {
      "text/plain": [
       "SuggestedLRs(valley=tensor(0.0014))"
      ]
     },
     "execution_count": 43,
     "metadata": {},
     "output_type": "execute_result"
    },
    {
     "data": {
      "image/png": "[encoded data removed]",
      "text/plain": [
       "<Figure size 432x288 with 1 Axes>"
      ]
     },
     "metadata": {
      "needs_background": "light"
     },
     "output_type": "display_data"
    }
   ],
   "source": [
    "torch.cuda.empty_cache()\n",
    "learn_lm = language_model_learner(dls_lm, AWD_LSTM, pretrained_fnames=lm_fns, \n",
    "            drop_mult=1.0, metrics=accuracy)\n",
    "learn_lm.lr_find()"
   ]
  },
  {
   "cell_type": "code",
   "execution_count": 44,
   "metadata": {},
   "outputs": [
    {
     "data": {
      "text/html": [
       "<table border=\"1\" class=\"dataframe\">\n",
       "  <thead>\n",
       "    <tr style=\"text-align: left;\">\n",
       "      <th>epoch</th>\n",
       "      <th>train_loss</th>\n",
       "      <th>valid_loss</th>\n",
       "      <th>accuracy</th>\n",
       "      <th>time</th>\n",
       "    </tr>\n",
       "  </thead>\n",
       "  <tbody>\n",
       "    <tr>\n",
       "      <td>0</td>\n",
       "      <td>3.223907</td>\n",
       "      <td>2.359976</td>\n",
       "      <td>0.590404</td>\n",
       "      <td>00:05</td>\n",
       "    </tr>\n",
       "  </tbody>\n",
       "</table>"
      ],
      "text/plain": [
       "<IPython.core.display.HTML object>"
      ]
     },
     "metadata": {},
     "output_type": "display_data"
    }
   ],
   "source": [
    "lr = 1e-3\n",
    "lr *= bs/48\n",
    "\n",
    "learn_lm.fit_one_cycle(1, lr*10)"
   ]
  },
  {
   "cell_type": "code",
   "execution_count": 45,
   "metadata": {},
   "outputs": [
    {
     "data": {
      "text/html": [
       "<table border=\"1\" class=\"dataframe\">\n",
       "  <thead>\n",
       "    <tr style=\"text-align: left;\">\n",
       "      <th>epoch</th>\n",
       "      <th>train_loss</th>\n",
       "      <th>valid_loss</th>\n",
       "      <th>accuracy</th>\n",
       "      <th>time</th>\n",
       "    </tr>\n",
       "  </thead>\n",
       "  <tbody>\n",
       "    <tr>\n",
       "      <td>0</td>\n",
       "      <td>2.323274</td>\n",
       "      <td>2.284609</td>\n",
       "      <td>0.593409</td>\n",
       "      <td>00:05</td>\n",
       "    </tr>\n",
       "    <tr>\n",
       "      <td>1</td>\n",
       "      <td>2.288027</td>\n",
       "      <td>2.127599</td>\n",
       "      <td>0.607427</td>\n",
       "      <td>00:05</td>\n",
       "    </tr>\n",
       "    <tr>\n",
       "      <td>2</td>\n",
       "      <td>2.187270</td>\n",
       "      <td>2.088588</td>\n",
       "      <td>0.606209</td>\n",
       "      <td>00:05</td>\n",
       "    </tr>\n",
       "    <tr>\n",
       "      <td>3</td>\n",
       "      <td>2.121723</td>\n",
       "      <td>2.068782</td>\n",
       "      <td>0.605875</td>\n",
       "      <td>00:05</td>\n",
       "    </tr>\n",
       "    <tr>\n",
       "      <td>4</td>\n",
       "      <td>2.076757</td>\n",
       "      <td>2.062034</td>\n",
       "      <td>0.607323</td>\n",
       "      <td>00:05</td>\n",
       "    </tr>\n",
       "  </tbody>\n",
       "</table>"
      ],
      "text/plain": [
       "<IPython.core.display.HTML object>"
      ]
     },
     "metadata": {},
     "output_type": "display_data"
    }
   ],
   "source": [
    "learn_lm.unfreeze()\n",
    "learn_lm.fit_one_cycle(5, slice(lr/10, lr*10))"
   ]
  },
  {
   "cell_type": "code",
   "execution_count": 46,
   "metadata": {},
   "outputs": [],
   "source": [
    "learn_lm.save(mdl_path/f\"{lang}fine_tuned\")\n",
    "learn_lm.save_encoder(mdl_path/f\"{lang}fine_tuned_enc\")"
   ]
  },
  {
   "cell_type": "markdown",
   "metadata": {},
   "source": [
    "## Classifier"
   ]
  },
  {
   "cell_type": "code",
   "execution_count": 47,
   "metadata": {},
   "outputs": [
    {
     "data": {
      "text/html": [],
      "text/plain": [
       "<IPython.core.display.HTML object>"
      ]
     },
     "metadata": {},
     "output_type": "display_data"
    },
    {
     "data": {
      "text/html": [
       "<table border=\"1\" class=\"dataframe\">\n",
       "  <thead>\n",
       "    <tr style=\"text-align: right;\">\n",
       "      <th></th>\n",
       "      <th>text</th>\n",
       "      <th>category</th>\n",
       "    </tr>\n",
       "  </thead>\n",
       "  <tbody>\n",
       "    <tr>\n",
       "      <th>0</th>\n",
       "      <td>xxbos o xxunk film xxunk ama bu xxunk xxunk xxunk bir film xxunk xxunk bu xxunk xxunk her xxunk xxunk : xxunk , xxunk , xxunk , xxunk , xxunk , xxunk , xxunk . , . , . , . xxunk xxunk var xxunk tam xxunk m - ü - k - e - m - m - e - l xxunk xxunk daha xxunk xxunk xxunk</td>\n",
       "      <td>1</td>\n",
       "    </tr>\n",
       "    <tr>\n",
       "      <th>1</th>\n",
       "      <td>xxbos xxunk xxunk 2013 xxunk xxunk 2013 xxunk xxunk xxrep 3 ? xxunk xxunk ama xxunk xxunk xxunk 4 - 5 xxunk xxunk xxunk xxunk de xxunk bu xxunk xxunk xxunk bi 3 xxunk xxunk , 4 xxunk daha xxunk . ne ki yani xxunk alt xxunk 4 xxunk xxunk ian xxunk xxunk de , adam 70 xxunk . xxunk xxunk xxunk . . xxunk</td>\n",
       "      <td>1</td>\n",
       "    </tr>\n",
       "  </tbody>\n",
       "</table>"
      ],
      "text/plain": [
       "<IPython.core.display.HTML object>"
      ]
     },
     "metadata": {},
     "output_type": "display_data"
    }
   ],
   "source": [
    "dls_clas = DataBlock(\n",
    "    blocks=(TextBlock.from_df(\"text\", vocab=dls_lm.vocab), CategoryBlock),\n",
    "    get_x=ColReader(\"text\"), get_y=ColReader(\"pos\"), \n",
    "    splitter=RandomSplitter(0.1)\n",
    ").dataloaders(df, bs=bs, num_workers=os.cpu_count())\n",
    "dls_clas.show_batch(max_n=2)"
   ]
  },
  {
   "cell_type": "code",
   "execution_count": 48,
   "metadata": {},
   "outputs": [
    {
     "data": {
      "text/html": [],
      "text/plain": [
       "<IPython.core.display.HTML object>"
      ]
     },
     "metadata": {},
     "output_type": "display_data"
    },
    {
     "name": "stderr",
     "output_type": "stream",
     "text": [
      "/home/wabinab/anaconda3/envs/fastai/lib/python3.8/site-packages/fastai/callback/schedule.py:270: UserWarning: color is redundantly defined by the 'color' keyword argument and the fmt string \"ro\" (-> color='r'). The keyword argument will take precedence.\n",
      "  ax.plot(val, idx, 'ro', label=nm, c=color)\n"
     ]
    },
    {
     "data": {
      "text/plain": [
       "SuggestedLRs(valley=tensor(0.0044))"
      ]
     },
     "execution_count": 48,
     "metadata": {},
     "output_type": "execute_result"
    },
    {
     "data": {
      "image/png": "[encoded data removed]",
      "text/plain": [
       "<Figure size 432x288 with 1 Axes>"
      ]
     },
     "metadata": {
      "needs_background": "light"
     },
     "output_type": "display_data"
    }
   ],
   "source": [
    "torch.cuda.empty_cache()\n",
    "learn_c = text_classifier_learner(dls_clas, AWD_LSTM, drop_mult=0.5, \n",
    "            pretrained=False, metrics=[accuracy, F1Score()], wd=0.1).to_fp16()\n",
    "learn_c.load_encoder(mdl_path/f\"{lang}fine_tuned_enc\")\n",
    "learn_c.freeze()\n",
    "learn_c.lr_find()"
   ]
  },
  {
   "cell_type": "code",
   "execution_count": 49,
   "metadata": {},
   "outputs": [
    {
     "data": {
      "text/html": [
       "<table border=\"1\" class=\"dataframe\">\n",
       "  <thead>\n",
       "    <tr style=\"text-align: left;\">\n",
       "      <th>epoch</th>\n",
       "      <th>train_loss</th>\n",
       "      <th>valid_loss</th>\n",
       "      <th>accuracy</th>\n",
       "      <th>f1_score</th>\n",
       "      <th>time</th>\n",
       "    </tr>\n",
       "  </thead>\n",
       "  <tbody>\n",
       "    <tr>\n",
       "      <td>0</td>\n",
       "      <td>0.669044</td>\n",
       "      <td>0.652131</td>\n",
       "      <td>0.600375</td>\n",
       "      <td>0.449612</td>\n",
       "      <td>00:03</td>\n",
       "    </tr>\n",
       "    <tr>\n",
       "      <td>1</td>\n",
       "      <td>0.633458</td>\n",
       "      <td>0.602144</td>\n",
       "      <td>0.687617</td>\n",
       "      <td>0.679500</td>\n",
       "      <td>00:03</td>\n",
       "    </tr>\n",
       "  </tbody>\n",
       "</table>"
      ],
      "text/plain": [
       "<IPython.core.display.HTML object>"
      ]
     },
     "metadata": {},
     "output_type": "display_data"
    }
   ],
   "source": [
    "lr = 2e-2\n",
    "lr *= bs/48\n",
    "\n",
    "learn_c.fit_one_cycle(2, lr)"
   ]
  },
  {
   "cell_type": "code",
   "execution_count": 50,
   "metadata": {},
   "outputs": [
    {
     "data": {
      "text/html": [
       "<table border=\"1\" class=\"dataframe\">\n",
       "  <thead>\n",
       "    <tr style=\"text-align: left;\">\n",
       "      <th>epoch</th>\n",
       "      <th>train_loss</th>\n",
       "      <th>valid_loss</th>\n",
       "      <th>accuracy</th>\n",
       "      <th>f1_score</th>\n",
       "      <th>time</th>\n",
       "    </tr>\n",
       "  </thead>\n",
       "  <tbody>\n",
       "    <tr>\n",
       "      <td>0</td>\n",
       "      <td>0.640302</td>\n",
       "      <td>0.619043</td>\n",
       "      <td>0.660413</td>\n",
       "      <td>0.680212</td>\n",
       "      <td>00:03</td>\n",
       "    </tr>\n",
       "    <tr>\n",
       "      <td>1</td>\n",
       "      <td>0.626821</td>\n",
       "      <td>0.606859</td>\n",
       "      <td>0.664165</td>\n",
       "      <td>0.683186</td>\n",
       "      <td>00:04</td>\n",
       "    </tr>\n",
       "  </tbody>\n",
       "</table>"
      ],
      "text/plain": [
       "<IPython.core.display.HTML object>"
      ]
     },
     "metadata": {},
     "output_type": "display_data"
    }
   ],
   "source": [
    "learn_c.fit_one_cycle(2, lr)"
   ]
  },
  {
   "cell_type": "code",
   "execution_count": 51,
   "metadata": {},
   "outputs": [
    {
     "data": {
      "text/html": [
       "<table border=\"1\" class=\"dataframe\">\n",
       "  <thead>\n",
       "    <tr style=\"text-align: left;\">\n",
       "      <th>epoch</th>\n",
       "      <th>train_loss</th>\n",
       "      <th>valid_loss</th>\n",
       "      <th>accuracy</th>\n",
       "      <th>f1_score</th>\n",
       "      <th>time</th>\n",
       "    </tr>\n",
       "  </thead>\n",
       "  <tbody>\n",
       "    <tr>\n",
       "      <td>0</td>\n",
       "      <td>0.607588</td>\n",
       "      <td>0.575123</td>\n",
       "      <td>0.688555</td>\n",
       "      <td>0.589109</td>\n",
       "      <td>00:03</td>\n",
       "    </tr>\n",
       "    <tr>\n",
       "      <td>1</td>\n",
       "      <td>0.559860</td>\n",
       "      <td>0.520369</td>\n",
       "      <td>0.738274</td>\n",
       "      <td>0.722388</td>\n",
       "      <td>00:03</td>\n",
       "    </tr>\n",
       "  </tbody>\n",
       "</table>"
      ],
      "text/plain": [
       "<IPython.core.display.HTML object>"
      ]
     },
     "metadata": {},
     "output_type": "display_data"
    }
   ],
   "source": [
    "learn_c.freeze_to(-2)\n",
    "learn_c.fit_one_cycle(2, slice(lr/(2.6**4), lr))"
   ]
  },
  {
   "cell_type": "code",
   "execution_count": 52,
   "metadata": {},
   "outputs": [
    {
     "data": {
      "text/html": [
       "<table border=\"1\" class=\"dataframe\">\n",
       "  <thead>\n",
       "    <tr style=\"text-align: left;\">\n",
       "      <th>epoch</th>\n",
       "      <th>train_loss</th>\n",
       "      <th>valid_loss</th>\n",
       "      <th>accuracy</th>\n",
       "      <th>f1_score</th>\n",
       "      <th>time</th>\n",
       "    </tr>\n",
       "  </thead>\n",
       "  <tbody>\n",
       "    <tr>\n",
       "      <td>0</td>\n",
       "      <td>0.561699</td>\n",
       "      <td>0.640088</td>\n",
       "      <td>0.621951</td>\n",
       "      <td>0.392157</td>\n",
       "      <td>00:03</td>\n",
       "    </tr>\n",
       "    <tr>\n",
       "      <td>1</td>\n",
       "      <td>0.532977</td>\n",
       "      <td>0.528496</td>\n",
       "      <td>0.727955</td>\n",
       "      <td>0.731481</td>\n",
       "      <td>00:04</td>\n",
       "    </tr>\n",
       "  </tbody>\n",
       "</table>"
      ],
      "text/plain": [
       "<IPython.core.display.HTML object>"
      ]
     },
     "metadata": {},
     "output_type": "display_data"
    }
   ],
   "source": [
    "learn_c.freeze_to(-3)\n",
    "learn_c.fit_one_cycle(2, slice(lr/2/(2.6**4), lr/2))"
   ]
  },
  {
   "cell_type": "code",
   "execution_count": 53,
   "metadata": {},
   "outputs": [
    {
     "data": {
      "text/html": [
       "<table border=\"1\" class=\"dataframe\">\n",
       "  <thead>\n",
       "    <tr style=\"text-align: left;\">\n",
       "      <th>epoch</th>\n",
       "      <th>train_loss</th>\n",
       "      <th>valid_loss</th>\n",
       "      <th>accuracy</th>\n",
       "      <th>f1_score</th>\n",
       "      <th>time</th>\n",
       "    </tr>\n",
       "  </thead>\n",
       "  <tbody>\n",
       "    <tr>\n",
       "      <td>0</td>\n",
       "      <td>0.495248</td>\n",
       "      <td>0.511488</td>\n",
       "      <td>0.741088</td>\n",
       "      <td>0.725646</td>\n",
       "      <td>00:04</td>\n",
       "    </tr>\n",
       "    <tr>\n",
       "      <td>1</td>\n",
       "      <td>0.487642</td>\n",
       "      <td>0.528759</td>\n",
       "      <td>0.729831</td>\n",
       "      <td>0.733826</td>\n",
       "      <td>00:04</td>\n",
       "    </tr>\n",
       "    <tr>\n",
       "      <td>2</td>\n",
       "      <td>0.469766</td>\n",
       "      <td>0.542421</td>\n",
       "      <td>0.726079</td>\n",
       "      <td>0.726592</td>\n",
       "      <td>00:04</td>\n",
       "    </tr>\n",
       "    <tr>\n",
       "      <td>3</td>\n",
       "      <td>0.449999</td>\n",
       "      <td>0.546921</td>\n",
       "      <td>0.726079</td>\n",
       "      <td>0.728119</td>\n",
       "      <td>00:04</td>\n",
       "    </tr>\n",
       "  </tbody>\n",
       "</table>"
      ],
      "text/plain": [
       "<IPython.core.display.HTML object>"
      ]
     },
     "metadata": {},
     "output_type": "display_data"
    }
   ],
   "source": [
    "learn_c.unfreeze()\n",
    "learn_c.fit_one_cycle(4, slice(lr/10/(2.6**4), lr/10))"
   ]
  },
  {
   "cell_type": "code",
   "execution_count": 55,
   "metadata": {},
   "outputs": [
    {
     "data": {
      "text/plain": [
       "Path('/home/wabinab/.fastai/trwiki/models/trclas.pth')"
      ]
     },
     "execution_count": 55,
     "metadata": {},
     "output_type": "execute_result"
    }
   ],
   "source": [
    "learn_c.save(mdl_path/f\"{lang}clas\")"
   ]
  },
  {
   "cell_type": "code",
   "execution_count": null,
   "metadata": {},
   "outputs": [],
   "source": []
  }
 ],
 "metadata": {
  "interpreter": {
   "hash": "5aa457f694240ca52bec53eda6ed84b45efde55787bbd717cb0e138c3a892911"
  },
  "kernelspec": {
   "display_name": "fastai",
   "language": "python",
   "name": "fastai"
  },
  "language_info": {
   "codemirror_mode": {
    "name": "ipython",
    "version": 3
   },
   "file_extension": ".py",
   "mimetype": "text/x-python",
   "name": "python",
   "nbconvert_exporter": "python",
   "pygments_lexer": "ipython3",
   "version": "3.8.11"
  }
 },
 "nbformat": 4,
 "nbformat_minor": 4
}
