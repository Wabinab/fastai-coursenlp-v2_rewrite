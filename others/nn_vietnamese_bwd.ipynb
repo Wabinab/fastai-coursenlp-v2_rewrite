{
 "cells": [
  {
   "cell_type": "markdown",
   "metadata": {},
   "source": [
    "# Vietnamese NLP example\n",
    "Created on: 12 Septembre 2021."
   ]
  },
  {
   "cell_type": "code",
   "execution_count": 1,
   "metadata": {},
   "outputs": [
    {
     "data": {
      "text/plain": [
       "'2.4'"
      ]
     },
     "execution_count": 1,
     "metadata": {},
     "output_type": "execute_result"
    }
   ],
   "source": [
    "import fastai\n",
    "fastai.__version__"
   ]
  },
  {
   "cell_type": "code",
   "execution_count": 2,
   "metadata": {},
   "outputs": [
    {
     "data": {
      "text/plain": [
       "Path('/home/wabinab/.fastai')"
      ]
     },
     "execution_count": 2,
     "metadata": {},
     "output_type": "execute_result"
    }
   ],
   "source": [
    "%reload_ext autoreload\n",
    "%autoreload 2\n",
    "%matplotlib inline\n",
    "\n",
    "from fastai.text.all import *\n",
    "bs = 144\n",
    "torch.cuda.set_device(0)\n",
    "\n",
    "# data_path = Config.data_path()   # for fastai v1\n",
    "# data_path = Path(os.getenv('FASTAI_HOME', '~/.fastai')).expanduser()  #  for fastai v2. \n",
    "# data_path = Path(\"./\")\n",
    "data_path = Config.config_path\n",
    "data_path"
   ]
  },
  {
   "cell_type": "markdown",
   "metadata": {},
   "source": [
    "This will create a `viwiki` folder, containing `viwiki` text file with wikipedia contents. (For other languages, replace `vi` with appropriate code from [list of wikipedias](https://meta.wikimedia.org/wiki/List_of_Wikipedias)). "
   ]
  },
  {
   "cell_type": "code",
   "execution_count": 3,
   "metadata": {},
   "outputs": [],
   "source": [
    "lang = \"vi\"\n",
    "# lang = \"zh\"\n",
    "\n",
    "name = f\"{lang}wiki\"\n",
    "path = data_path/name\n",
    "path.mkdir(exist_ok=True, parents=True)\n",
    "lm_fns = [f\"{lang}_wt_bwd\", f\"{lang}_wt_vocab_bwd\"]"
   ]
  },
  {
   "cell_type": "markdown",
   "metadata": {},
   "source": [
    "## Vietnamese Wikipedia model\n",
    "### Download data"
   ]
  },
  {
   "cell_type": "markdown",
   "metadata": {},
   "source": [
    "It was noticed the new `wikiextractor` doesn't have several of the functions that used to have. It might result in stub files also being downloaded. "
   ]
  },
  {
   "cell_type": "code",
   "execution_count": 4,
   "metadata": {
    "tags": []
   },
   "outputs": [],
   "source": [
    "from nlputils import split_wiki, get_wiki\n",
    "# get_wiki(path, lang)\n",
    "# path.ls()"
   ]
  },
  {
   "cell_type": "markdown",
   "metadata": {},
   "source": [
    "Indeed one already checks that it doesn't, so one have to do the thing manually after it extracts. "
   ]
  },
  {
   "cell_type": "code",
   "execution_count": 5,
   "metadata": {},
   "outputs": [],
   "source": [
    "# !head -n4 {path}/{name}"
   ]
  },
  {
   "cell_type": "markdown",
   "metadata": {},
   "source": [
    "If we use curly braces, it is an actual python variable that could be use in IPython bash. Looking at the first line, it always start with `<doc...>` and it always contains the title inside this html marking. So we can split wiki into multiple text files. "
   ]
  },
  {
   "cell_type": "code",
   "execution_count": 6,
   "metadata": {},
   "outputs": [
    {
     "name": "stdout",
     "output_type": "stream",
     "text": [
      "/home/wabinab/.fastai/viwiki/docs already exists; not splitting.\n"
     ]
    },
    {
     "data": {
      "text/plain": [
       "(#5) [Path('/home/wabinab/.fastai/viwiki/docs/Quỹ đầu tư.txt'),Path('/home/wabinab/.fastai/viwiki/docs/Voltaire.txt'),Path('/home/wabinab/.fastai/viwiki/docs/Dãy núi Ba Vì.txt'),Path('/home/wabinab/.fastai/viwiki/docs/Pakistan.txt'),Path('/home/wabinab/.fastai/viwiki/docs/Càn lăng.txt')]"
      ]
     },
     "execution_count": 6,
     "metadata": {},
     "output_type": "execute_result"
    }
   ],
   "source": [
    "dest = split_wiki(path, lang)\n",
    "dest.ls()[:5]"
   ]
  },
  {
   "cell_type": "markdown",
   "metadata": {},
   "source": [
    "# Breakpoint\n",
    "For continuation of this file, we would do this on Kaggle for training purposes. "
   ]
  },
  {
   "cell_type": "code",
   "execution_count": 7,
   "metadata": {},
   "outputs": [
    {
     "data": {
      "text/html": [
       "<table border=\"1\" class=\"dataframe\">\n",
       "  <thead>\n",
       "    <tr style=\"text-align: right;\">\n",
       "      <th></th>\n",
       "      <th>text</th>\n",
       "      <th>text_</th>\n",
       "    </tr>\n",
       "  </thead>\n",
       "  <tbody>\n",
       "    <tr>\n",
       "      <th>0</th>\n",
       "      <td>&gt; doc / &lt; \\n\\n tvb xxup niên thường thưởng giải xxmaj | \" ; daa520 xxup # : style=\"background \" colspan=\"3 ! \\n . ngoài kết liên xxmaj \\n . bè bạn là chỉ họ rằng cho và này tin thông nhận phủ tiếng lên đã huyên xxmaj tuyên xxmaj nhưng , lạc xxmaj thiên xxmaj cổ xxup và lương xxmaj gia xxmaj la xxmaj là phim bộ nhiều trong cô với chung đóng thường viên diễn nam hai</td>\n",
       "      <td>doc / &lt; \\n\\n tvb xxup niên thường thưởng giải xxmaj | \" ; daa520 xxup # : style=\"background \" colspan=\"3 ! \\n . ngoài kết liên xxmaj \\n . bè bạn là chỉ họ rằng cho và này tin thông nhận phủ tiếng lên đã huyên xxmaj tuyên xxmaj nhưng , lạc xxmaj thiên xxmaj cổ xxup và lương xxmaj gia xxmaj la xxmaj là phim bộ nhiều trong cô với chung đóng thường viên diễn nam hai với</td>\n",
       "    </tr>\n",
       "    <tr>\n",
       "      <th>1</th>\n",
       "      <td>năm vào thêm triển phát được và , 1997 năm vào hành phát , leaf xxmaj của \" heart xxmaj to \" novel visual từ yếu chủ hưởng ảnh chịu đầu ban này thức công xxmaj . phúc hạnh đầy xúc cảm bậc khung những của hợp tái sự là ) luôn luôn phải không ( cùng cuối , mát mất và cắt chia sự của đau nỗi là đến kế , hước hài lẫn xen ấm nồng mạn lãng</td>\n",
       "      <td>vào thêm triển phát được và , 1997 năm vào hành phát , leaf xxmaj của \" heart xxmaj to \" novel visual từ yếu chủ hưởng ảnh chịu đầu ban này thức công xxmaj . phúc hạnh đầy xúc cảm bậc khung những của hợp tái sự là ) luôn luôn phải không ( cùng cuối , mát mất và cắt chia sự của đau nỗi là đến kế , hước hài lẫn xen ấm nồng mạn lãng khắc</td>\n",
       "    </tr>\n",
       "  </tbody>\n",
       "</table>"
      ],
      "text/plain": [
       "<IPython.core.display.HTML object>"
      ]
     },
     "metadata": {},
     "output_type": "display_data"
    }
   ],
   "source": [
    "get_vi = partial(get_text_files, folders=[\"docs\"])\n",
    "\n",
    "dls_lm = DataBlock(\n",
    "    blocks=TextBlock.from_folder(path, is_lm=True, backwards=True),\n",
    "    get_items=get_vi, splitter=RandomSplitter(0.1)\n",
    ").dataloaders(path, path=path, bs=bs, seq_len=80, num_workers=os.cpu_count(), \n",
    "             backwards=True)  # not sure if need pass here or not? \n",
    "\n",
    "dls_lm.show_batch(max_n=2)"
   ]
  },
  {
   "cell_type": "code",
   "execution_count": 8,
   "metadata": {},
   "outputs": [
    {
     "data": {
      "text/html": [],
      "text/plain": [
       "<IPython.core.display.HTML object>"
      ]
     },
     "metadata": {},
     "output_type": "display_data"
    },
    {
     "name": "stderr",
     "output_type": "stream",
     "text": [
      "/home/wabinab/anaconda3/envs/fastai/lib/python3.8/site-packages/fastai/callback/schedule.py:270: UserWarning: color is redundantly defined by the 'color' keyword argument and the fmt string \"ro\" (-> color='r'). The keyword argument will take precedence.\n",
      "  ax.plot(val, idx, 'ro', label=nm, c=color)\n"
     ]
    },
    {
     "data": {
      "text/plain": [
       "SuggestedLRs(valley=tensor(0.0002))"
      ]
     },
     "execution_count": 8,
     "metadata": {},
     "output_type": "execute_result"
    },
    {
     "data": {
      "image/png": "[encoded data removed]",
      "text/plain": [
       "<Figure size 432x288 with 1 Axes>"
      ]
     },
     "metadata": {
      "needs_background": "light"
     },
     "output_type": "display_data"
    }
   ],
   "source": [
    "torch.cuda.empty_cache()\n",
    "learn = language_model_learner(dls_lm, AWD_LSTM, pretrained=False, drop_mult=0.3,\n",
    "                        metrics=[accuracy, Perplexity()]).to_fp16()\n",
    "lr = 3e-3\n",
    "lr *= bs/48  # scale learning rate by batch size.\n",
    "learn.lr_find()  # For your curiosity. "
   ]
  },
  {
   "cell_type": "code",
   "execution_count": 9,
   "metadata": {
    "tags": []
   },
   "outputs": [
    {
     "data": {
      "text/html": [
       "<table border=\"1\" class=\"dataframe\">\n",
       "  <thead>\n",
       "    <tr style=\"text-align: left;\">\n",
       "      <th>epoch</th>\n",
       "      <th>train_loss</th>\n",
       "      <th>valid_loss</th>\n",
       "      <th>accuracy</th>\n",
       "      <th>perplexity</th>\n",
       "      <th>time</th>\n",
       "    </tr>\n",
       "  </thead>\n",
       "  <tbody>\n",
       "    <tr>\n",
       "      <td>0</td>\n",
       "      <td>3.686874</td>\n",
       "      <td>4.032805</td>\n",
       "      <td>0.346884</td>\n",
       "      <td>56.418941</td>\n",
       "      <td>14:47</td>\n",
       "    </tr>\n",
       "    <tr>\n",
       "      <td>1</td>\n",
       "      <td>3.398120</td>\n",
       "      <td>3.538973</td>\n",
       "      <td>0.379564</td>\n",
       "      <td>34.431553</td>\n",
       "      <td>14:04</td>\n",
       "    </tr>\n",
       "    <tr>\n",
       "      <td>2</td>\n",
       "      <td>3.359316</td>\n",
       "      <td>3.430507</td>\n",
       "      <td>0.390554</td>\n",
       "      <td>30.892307</td>\n",
       "      <td>14:04</td>\n",
       "    </tr>\n",
       "    <tr>\n",
       "      <td>3</td>\n",
       "      <td>3.241295</td>\n",
       "      <td>3.350292</td>\n",
       "      <td>0.399472</td>\n",
       "      <td>28.511070</td>\n",
       "      <td>14:22</td>\n",
       "    </tr>\n",
       "    <tr>\n",
       "      <td>4</td>\n",
       "      <td>3.151138</td>\n",
       "      <td>3.269285</td>\n",
       "      <td>0.408591</td>\n",
       "      <td>26.292526</td>\n",
       "      <td>14:00</td>\n",
       "    </tr>\n",
       "    <tr>\n",
       "      <td>5</td>\n",
       "      <td>3.118259</td>\n",
       "      <td>3.191454</td>\n",
       "      <td>0.418093</td>\n",
       "      <td>24.323778</td>\n",
       "      <td>13:59</td>\n",
       "    </tr>\n",
       "    <tr>\n",
       "      <td>6</td>\n",
       "      <td>3.046379</td>\n",
       "      <td>3.112161</td>\n",
       "      <td>0.427294</td>\n",
       "      <td>22.469542</td>\n",
       "      <td>13:59</td>\n",
       "    </tr>\n",
       "    <tr>\n",
       "      <td>7</td>\n",
       "      <td>2.971502</td>\n",
       "      <td>3.037523</td>\n",
       "      <td>0.436382</td>\n",
       "      <td>20.853531</td>\n",
       "      <td>14:02</td>\n",
       "    </tr>\n",
       "    <tr>\n",
       "      <td>8</td>\n",
       "      <td>2.904907</td>\n",
       "      <td>2.988927</td>\n",
       "      <td>0.443223</td>\n",
       "      <td>19.864359</td>\n",
       "      <td>14:03</td>\n",
       "    </tr>\n",
       "    <tr>\n",
       "      <td>9</td>\n",
       "      <td>2.937794</td>\n",
       "      <td>2.976365</td>\n",
       "      <td>0.445052</td>\n",
       "      <td>19.616373</td>\n",
       "      <td>14:02</td>\n",
       "    </tr>\n",
       "  </tbody>\n",
       "</table>"
      ],
      "text/plain": [
       "<IPython.core.display.HTML object>"
      ]
     },
     "metadata": {},
     "output_type": "display_data"
    }
   ],
   "source": [
    "learn.unfreeze()\n",
    "learn.fit_one_cycle(10, lr)  # make sure change this, this is just testing. "
   ]
  },
  {
   "cell_type": "code",
   "execution_count": 10,
   "metadata": {},
   "outputs": [],
   "source": [
    "save_path = Path(\".\")  # also change this with kaggle\n",
    "\n",
    "mdl_path = path/\"models\"\n",
    "mdl_path.mkdir(exist_ok=True)\n",
    "learn.to_fp32().save(mdl_path/lm_fns[0], with_opt=False)\n",
    "save_pickle(mdl_path/(lm_fns[1] + \".pkl\"), learn.dls.vocab)"
   ]
  },
  {
   "cell_type": "markdown",
   "metadata": {},
   "source": [
    "We want to find baseline (someone using that to predict sentiment). Sentiment analysis dataset in Vietnamese, and someone whom would use that dataset to predict sentiment. It's difficult especially when in another language. Find for competitions if we need from the internet, and use Google Translate. We can find what score it displays, find for forum, e.g. \n",
    "\n",
    "## Vietnamese sentiment analysis"
   ]
  },
  {
   "cell_type": "code",
   "execution_count": 11,
   "metadata": {},
   "outputs": [
    {
     "data": {
      "text/html": [
       "<div>\n",
       "<style scoped>\n",
       "    .dataframe tbody tr th:only-of-type {\n",
       "        vertical-align: middle;\n",
       "    }\n",
       "\n",
       "    .dataframe tbody tr th {\n",
       "        vertical-align: top;\n",
       "    }\n",
       "\n",
       "    .dataframe thead th {\n",
       "        text-align: right;\n",
       "    }\n",
       "</style>\n",
       "<table border=\"1\" class=\"dataframe\">\n",
       "  <thead>\n",
       "    <tr style=\"text-align: right;\">\n",
       "      <th></th>\n",
       "      <th>id</th>\n",
       "      <th>comment</th>\n",
       "      <th>label</th>\n",
       "    </tr>\n",
       "  </thead>\n",
       "  <tbody>\n",
       "    <tr>\n",
       "      <th>0</th>\n",
       "      <td>train_000000</td>\n",
       "      <td>Dung dc sp tot cam on \\nshop Đóng gói sản phẩm rất đẹp và chắc chắn Chất lượng sản phẩm tuyệt vời</td>\n",
       "      <td>0</td>\n",
       "    </tr>\n",
       "    <tr>\n",
       "      <th>1</th>\n",
       "      <td>train_000001</td>\n",
       "      <td>Chất lượng sản phẩm tuyệt vời . Son mịn nhưng khi đánh lên không như màu trên ảnh</td>\n",
       "      <td>0</td>\n",
       "    </tr>\n",
       "    <tr>\n",
       "      <th>2</th>\n",
       "      <td>train_000002</td>\n",
       "      <td>Chất lượng sản phẩm tuyệt vời nhưng k có hộp k có dây giày đen k có tất</td>\n",
       "      <td>0</td>\n",
       "    </tr>\n",
       "    <tr>\n",
       "      <th>3</th>\n",
       "      <td>train_000003</td>\n",
       "      <td>:(( Mình hơi thất vọng 1 chút vì mình đã kỳ vọng cuốn sách khá nhiều hi vọng nó sẽ nói về việc học tập của cách sinh viên trường Harvard ra sao những nỗ lực của họ như thế nào 4h sáng? tại sao họ lại phải thức dậy vào thời khắc đấy? sau đó là cả một câu chuyện ra sao. Cái mình thực sự cần ở đây là câu chuyện ẩn dấu trong đó để tự bản thân mỗi người cảm nhận và đi sâu vào lòng người hơn. Còn cuốn sách này chỉ đơn thuần là cuốn sách dạy kĩ năng mà hầu như sách nào cũng đã có. BUồn...</td>\n",
       "      <td>1</td>\n",
       "    </tr>\n",
       "    <tr>\n",
       "      <th>4</th>\n",
       "      <td>train_000004</td>\n",
       "      <td>Lần trước mình mua áo gió màu hồng rất ok mà đợt này lại giao 2 cái áo gió chất khác như vải mưa ý :((</td>\n",
       "      <td>1</td>\n",
       "    </tr>\n",
       "  </tbody>\n",
       "</table>\n",
       "</div>"
      ],
      "text/plain": [
       "             id  \\\n",
       "0  train_000000   \n",
       "1  train_000001   \n",
       "2  train_000002   \n",
       "3  train_000003   \n",
       "4  train_000004   \n",
       "\n",
       "                                                                                                                                                                                                                                                                                                                                                                                                                                                                                                  comment  \\\n",
       "0                                                                                                                                                                                                                                                                                                                                                                                                       Dung dc sp tot cam on \\nshop Đóng gói sản phẩm rất đẹp và chắc chắn Chất lượng sản phẩm tuyệt vời   \n",
       "1                                                                                                                                                                                                                                                                                                                                                                                                                       Chất lượng sản phẩm tuyệt vời . Son mịn nhưng khi đánh lên không như màu trên ảnh   \n",
       "2                                                                                                                                                                                                                                                                                                                                                                                                                                 Chất lượng sản phẩm tuyệt vời nhưng k có hộp k có dây giày đen k có tất   \n",
       "3  :(( Mình hơi thất vọng 1 chút vì mình đã kỳ vọng cuốn sách khá nhiều hi vọng nó sẽ nói về việc học tập của cách sinh viên trường Harvard ra sao những nỗ lực của họ như thế nào 4h sáng? tại sao họ lại phải thức dậy vào thời khắc đấy? sau đó là cả một câu chuyện ra sao. Cái mình thực sự cần ở đây là câu chuyện ẩn dấu trong đó để tự bản thân mỗi người cảm nhận và đi sâu vào lòng người hơn. Còn cuốn sách này chỉ đơn thuần là cuốn sách dạy kĩ năng mà hầu như sách nào cũng đã có. BUồn...   \n",
       "4                                                                                                                                                                                                                                                                                                                                                                                                  Lần trước mình mua áo gió màu hồng rất ok mà đợt này lại giao 2 cái áo gió chất khác như vải mưa ý :((   \n",
       "\n",
       "   label  \n",
       "0      0  \n",
       "1      0  \n",
       "2      0  \n",
       "3      1  \n",
       "4      1  "
      ]
     },
     "execution_count": 11,
     "metadata": {},
     "output_type": "execute_result"
    }
   ],
   "source": [
    "train_df = pd.read_csv(path/\"sentiment/train.csv\")\n",
    "train_df.loc[pd.isna(train_df.comment), \"comment\"] = \"NA\"\n",
    "train_df.head()"
   ]
  },
  {
   "cell_type": "code",
   "execution_count": 12,
   "metadata": {},
   "outputs": [
    {
     "data": {
      "text/html": [
       "<div>\n",
       "<style scoped>\n",
       "    .dataframe tbody tr th:only-of-type {\n",
       "        vertical-align: middle;\n",
       "    }\n",
       "\n",
       "    .dataframe tbody tr th {\n",
       "        vertical-align: top;\n",
       "    }\n",
       "\n",
       "    .dataframe thead th {\n",
       "        text-align: right;\n",
       "    }\n",
       "</style>\n",
       "<table border=\"1\" class=\"dataframe\">\n",
       "  <thead>\n",
       "    <tr style=\"text-align: right;\">\n",
       "      <th></th>\n",
       "      <th>id</th>\n",
       "      <th>comment</th>\n",
       "      <th>label</th>\n",
       "    </tr>\n",
       "  </thead>\n",
       "  <tbody>\n",
       "    <tr>\n",
       "      <th>0</th>\n",
       "      <td>test_000000</td>\n",
       "      <td>Chưa dùng thử nên chưa biết</td>\n",
       "      <td>0</td>\n",
       "    </tr>\n",
       "    <tr>\n",
       "      <th>1</th>\n",
       "      <td>test_000001</td>\n",
       "      <td>Không đáng tiềnVì ngay đợt sale nên mới mua nhưng sp thì như đã qua sử dụng ! Đã nt trao đổi vs shop cũng đưa ra cách giải quyết nhưng kg được đổi hàng mà chỉ hoàn tiền !! Nên mình quyết định kg đổi hàng vì kg có time  chỉ muốn đánh giá sp như những gì mình nhận được !</td>\n",
       "      <td>0</td>\n",
       "    </tr>\n",
       "    <tr>\n",
       "      <th>2</th>\n",
       "      <td>test_000002</td>\n",
       "      <td>Cám ơn shop. Đóng gói sản phẩm rất đẹp và chắc chắn</td>\n",
       "      <td>0</td>\n",
       "    </tr>\n",
       "    <tr>\n",
       "      <th>3</th>\n",
       "      <td>test_000003</td>\n",
       "      <td>Vải đẹp.phom oki luôn.quá ưng</td>\n",
       "      <td>0</td>\n",
       "    </tr>\n",
       "    <tr>\n",
       "      <th>4</th>\n",
       "      <td>test_000004</td>\n",
       "      <td>Chuẩn hàng đóng gói đẹp</td>\n",
       "      <td>0</td>\n",
       "    </tr>\n",
       "  </tbody>\n",
       "</table>\n",
       "</div>"
      ],
      "text/plain": [
       "            id  \\\n",
       "0  test_000000   \n",
       "1  test_000001   \n",
       "2  test_000002   \n",
       "3  test_000003   \n",
       "4  test_000004   \n",
       "\n",
       "                                                                                                                                                                                                                                                                          comment  \\\n",
       "0                                                                                                                                                                                                                                                     Chưa dùng thử nên chưa biết   \n",
       "1   Không đáng tiềnVì ngay đợt sale nên mới mua nhưng sp thì như đã qua sử dụng ! Đã nt trao đổi vs shop cũng đưa ra cách giải quyết nhưng kg được đổi hàng mà chỉ hoàn tiền !! Nên mình quyết định kg đổi hàng vì kg có time  chỉ muốn đánh giá sp như những gì mình nhận được !   \n",
       "2                                                                                                                                                                                                                             Cám ơn shop. Đóng gói sản phẩm rất đẹp và chắc chắn   \n",
       "3                                                                                                                                                                                                                                                   Vải đẹp.phom oki luôn.quá ưng   \n",
       "4                                                                                                                                                                                                                                                         Chuẩn hàng đóng gói đẹp   \n",
       "\n",
       "   label  \n",
       "0      0  \n",
       "1      0  \n",
       "2      0  \n",
       "3      0  \n",
       "4      0  "
      ]
     },
     "execution_count": 12,
     "metadata": {},
     "output_type": "execute_result"
    }
   ],
   "source": [
    "test_df = pd.read_csv(path/\"sentiment/test.csv\")\n",
    "test_df.loc[pd.isna(test_df.comment), \"comment\"] = \"NA\"\n",
    "test_df[\"label\"] = 0  # Not sure why for this but it is included. \n",
    "test_df.head()"
   ]
  },
  {
   "cell_type": "code",
   "execution_count": 13,
   "metadata": {},
   "outputs": [],
   "source": [
    "df = pd.concat([train_df, test_df], sort=False)"
   ]
  },
  {
   "cell_type": "code",
   "execution_count": 14,
   "metadata": {},
   "outputs": [
    {
     "data": {
      "text/html": [
       "<table border=\"1\" class=\"dataframe\">\n",
       "  <thead>\n",
       "    <tr style=\"text-align: right;\">\n",
       "      <th></th>\n",
       "      <th>text</th>\n",
       "      <th>text_</th>\n",
       "    </tr>\n",
       "  </thead>\n",
       "  <tbody>\n",
       "    <tr>\n",
       "      <th>0</th>\n",
       "      <td>! 7 xxrep .. … thôi mũi và giày cổ cái là một có xxup . hợp phù giá cái 1 là quả đó tiền giá vs so xxmaj . vời tuyệt khá phẩm sản lượng chất xxmaj xxbos thường bình thì hàng lượng chất xxmaj . kh với câu 1 có hề ko cũng nhưng sale super đơn đóng bận shop rồi vừa đợt là biết cũng xxmaj . lời trả</td>\n",
       "      <td>7 xxrep .. … thôi mũi và giày cổ cái là một có xxup . hợp phù giá cái 1 là quả đó tiền giá vs so xxmaj . vời tuyệt khá phẩm sản lượng chất xxmaj xxbos thường bình thì hàng lượng chất xxmaj . kh với câu 1 có hề ko cũng nhưng sale super đơn đóng bận shop rồi vừa đợt là biết cũng xxmaj . lời trả thèm</td>\n",
       "    </tr>\n",
       "    <tr>\n",
       "      <th>1</th>\n",
       "      <td>xxmaj xxbos thử uống mua nên thường bình với so hơn rẻ gía xxmaj . quá gắt đường vị ngọt ngon không uống thấy e mà nhau khác vị khẩu do chắc nhiên tuy xxmaj . mãi khuyến đợt ngay mua mình xxmaj xxbos dài lâu shop hộ ủng sẽ ^^ đẹp mà rẻ giày xxmaj xxbos lun cố bà nóng máy xxmaj xxbos ? ? cả gì trước báo chả chứ</td>\n",
       "      <td>xxbos thử uống mua nên thường bình với so hơn rẻ gía xxmaj . quá gắt đường vị ngọt ngon không uống thấy e mà nhau khác vị khẩu do chắc nhiên tuy xxmaj . mãi khuyến đợt ngay mua mình xxmaj xxbos dài lâu shop hộ ủng sẽ ^^ đẹp mà rẻ giày xxmaj xxbos lun cố bà nóng máy xxmaj xxbos ? ? cả gì trước báo chả chứ thoại</td>\n",
       "    </tr>\n",
       "  </tbody>\n",
       "</table>"
      ],
      "text/plain": [
       "<IPython.core.display.HTML object>"
      ]
     },
     "metadata": {},
     "output_type": "display_data"
    }
   ],
   "source": [
    "dls_lm = DataBlock(\n",
    "    blocks=TextBlock.from_df(\"comment\", is_lm=True, backwards=True),\n",
    "    get_items=ColReader(\"comment\"), splitter=RandomSplitter(0.1)\n",
    ").dataloaders(df, bs=bs, seq_len=72, num_workers=os.cpu_count(), backwards=True)\n",
    "dls_lm.show_batch(max_n=2)"
   ]
  },
  {
   "cell_type": "code",
   "execution_count": 16,
   "metadata": {},
   "outputs": [
    {
     "data": {
      "text/html": [],
      "text/plain": [
       "<IPython.core.display.HTML object>"
      ]
     },
     "metadata": {},
     "output_type": "display_data"
    },
    {
     "name": "stderr",
     "output_type": "stream",
     "text": [
      "/home/wabinab/anaconda3/envs/fastai/lib/python3.8/site-packages/fastai/callback/schedule.py:270: UserWarning: color is redundantly defined by the 'color' keyword argument and the fmt string \"ro\" (-> color='r'). The keyword argument will take precedence.\n",
      "  ax.plot(val, idx, 'ro', label=nm, c=color)\n"
     ]
    },
    {
     "data": {
      "text/plain": [
       "SuggestedLRs(valley=tensor(0.0017))"
      ]
     },
     "execution_count": 16,
     "metadata": {},
     "output_type": "execute_result"
    },
    {
     "data": {
      "image/png": "[encoded data removed]",
      "text/plain": [
       "<Figure size 432x288 with 1 Axes>"
      ]
     },
     "metadata": {
      "needs_background": "light"
     },
     "output_type": "display_data"
    }
   ],
   "source": [
    "torch.cuda.empty_cache()\n",
    "parent_lm_fns = [path/\"models\"/lmf for lmf in lm_fns]\n",
    "learn_lm = language_model_learner(dls_lm, AWD_LSTM, pretrained_fnames=parent_lm_fns, metrics=accuracy,\n",
    "                                  config={**awd_lstm_lm_config, \"n_hid\": 1152}, drop_mult=1.0)\n",
    "learn_lm.lr_find()"
   ]
  },
  {
   "cell_type": "code",
   "execution_count": 17,
   "metadata": {},
   "outputs": [
    {
     "data": {
      "text/html": [
       "<table border=\"1\" class=\"dataframe\">\n",
       "  <thead>\n",
       "    <tr style=\"text-align: left;\">\n",
       "      <th>epoch</th>\n",
       "      <th>train_loss</th>\n",
       "      <th>valid_loss</th>\n",
       "      <th>accuracy</th>\n",
       "      <th>time</th>\n",
       "    </tr>\n",
       "  </thead>\n",
       "  <tbody>\n",
       "    <tr>\n",
       "      <td>0</td>\n",
       "      <td>4.734736</td>\n",
       "      <td>4.040380</td>\n",
       "      <td>0.324243</td>\n",
       "      <td>00:08</td>\n",
       "    </tr>\n",
       "    <tr>\n",
       "      <td>1</td>\n",
       "      <td>4.282218</td>\n",
       "      <td>3.921920</td>\n",
       "      <td>0.336190</td>\n",
       "      <td>00:08</td>\n",
       "    </tr>\n",
       "  </tbody>\n",
       "</table>"
      ],
      "text/plain": [
       "<IPython.core.display.HTML object>"
      ]
     },
     "metadata": {},
     "output_type": "display_data"
    }
   ],
   "source": [
    "lr = 1e-3\n",
    "lr *= bs/48\n",
    "\n",
    "learn_lm.fit_one_cycle(2, lr*10)"
   ]
  },
  {
   "cell_type": "code",
   "execution_count": 18,
   "metadata": {},
   "outputs": [
    {
     "data": {
      "text/html": [
       "<table border=\"1\" class=\"dataframe\">\n",
       "  <thead>\n",
       "    <tr style=\"text-align: left;\">\n",
       "      <th>epoch</th>\n",
       "      <th>train_loss</th>\n",
       "      <th>valid_loss</th>\n",
       "      <th>accuracy</th>\n",
       "      <th>time</th>\n",
       "    </tr>\n",
       "  </thead>\n",
       "  <tbody>\n",
       "    <tr>\n",
       "      <td>0</td>\n",
       "      <td>4.006910</td>\n",
       "      <td>3.826614</td>\n",
       "      <td>0.346760</td>\n",
       "      <td>00:08</td>\n",
       "    </tr>\n",
       "    <tr>\n",
       "      <td>1</td>\n",
       "      <td>3.899430</td>\n",
       "      <td>3.704142</td>\n",
       "      <td>0.359175</td>\n",
       "      <td>00:08</td>\n",
       "    </tr>\n",
       "    <tr>\n",
       "      <td>2</td>\n",
       "      <td>3.776097</td>\n",
       "      <td>3.625240</td>\n",
       "      <td>0.367463</td>\n",
       "      <td>00:09</td>\n",
       "    </tr>\n",
       "    <tr>\n",
       "      <td>3</td>\n",
       "      <td>3.670741</td>\n",
       "      <td>3.580811</td>\n",
       "      <td>0.371431</td>\n",
       "      <td>00:09</td>\n",
       "    </tr>\n",
       "    <tr>\n",
       "      <td>4</td>\n",
       "      <td>3.593476</td>\n",
       "      <td>3.550883</td>\n",
       "      <td>0.375172</td>\n",
       "      <td>00:08</td>\n",
       "    </tr>\n",
       "    <tr>\n",
       "      <td>5</td>\n",
       "      <td>3.542312</td>\n",
       "      <td>3.536903</td>\n",
       "      <td>0.376332</td>\n",
       "      <td>00:08</td>\n",
       "    </tr>\n",
       "    <tr>\n",
       "      <td>6</td>\n",
       "      <td>3.493093</td>\n",
       "      <td>3.531152</td>\n",
       "      <td>0.377729</td>\n",
       "      <td>00:08</td>\n",
       "    </tr>\n",
       "    <tr>\n",
       "      <td>7</td>\n",
       "      <td>3.479572</td>\n",
       "      <td>3.529681</td>\n",
       "      <td>0.377607</td>\n",
       "      <td>00:09</td>\n",
       "    </tr>\n",
       "  </tbody>\n",
       "</table>"
      ],
      "text/plain": [
       "<IPython.core.display.HTML object>"
      ]
     },
     "metadata": {},
     "output_type": "display_data"
    }
   ],
   "source": [
    "learn_lm.unfreeze()\n",
    "learn_lm.fit_one_cycle(8, lr)"
   ]
  },
  {
   "cell_type": "code",
   "execution_count": 19,
   "metadata": {},
   "outputs": [],
   "source": [
    "learn_lm.save(mdl_path/f\"{lang}fine_tuned_bwd\")\n",
    "learn_lm.save_encoder(mdl_path/f\"{lang}fine_tuned_enc_bwd\")"
   ]
  },
  {
   "cell_type": "markdown",
   "metadata": {},
   "source": [
    "# Classifier"
   ]
  },
  {
   "cell_type": "code",
   "execution_count": 20,
   "metadata": {},
   "outputs": [
    {
     "data": {
      "text/html": [],
      "text/plain": [
       "<IPython.core.display.HTML object>"
      ]
     },
     "metadata": {},
     "output_type": "display_data"
    },
    {
     "data": {
      "text/html": [
       "<table border=\"1\" class=\"dataframe\">\n",
       "  <thead>\n",
       "    <tr style=\"text-align: right;\">\n",
       "      <th></th>\n",
       "      <th>text</th>\n",
       "      <th>category</th>\n",
       "    </tr>\n",
       "  </thead>\n",
       "  <tbody>\n",
       "    <tr>\n",
       "      <th>0</th>\n",
       "      <td>. đáng xứng khen lời những nhận để đủ cũng vậy như niên thiếu cho dành phẩm tác một với đối nhưng xxmaj \\n . nhiều gì lại đọng không , tuột xxunk trôi thế cứ truyện dung nội lại sách cuốn gấp , ngẫm suy phải đọc người được bắt không truyện , là hai thứ xxmaj \\n . sắc sâu tượng ấn tạo không , nhạt nhàn cứ vật nhân các giác cảm nên , thân bản lộ xxunk tự vật nhân để là hơn nhiều lể kể về thiên vật nhân dựng xây , là nhất thứ xxmaj \\n . này sách cuốn về lòng hài chưa tôi khiến điểm hai có xxup \\n\\n ? người con vệ bảo việc trong lùi bước hay tiến bước là đó , hỏi tự tôi và xxup … cãi bàn không , vậy như xử cư phải người con yếu</td>\n",
       "      <td>1</td>\n",
       "    </tr>\n",
       "    <tr>\n",
       "      <th>1</th>\n",
       "      <td>? lậu bản đọc đang mình hay xxmaj ? nào tí tâm có chả sách làm ông mấy thấy mình làm cũng thôi nhiêu bấy nhưng xong đọc chưa mình xxmaj . cười buồn rất đọc . \" \" trẻ ở tinh động hoạt \" \" . em trẻ với liền đi này từ cụm là cái le éo mà xxup ? xxunk tờ tinh hay rùng tờ tinh xxmaj ? không gì là tinh động hoạt hiểu có bạn các xxmaj . ) ấy sách trong đầu trang chục vài ở nằm ( \" \" tinh động hoạt \" \" \" \" tinh động hoạt \" \" : luôn nghĩa ý được hiểu không mình chắc đời suốt là thề mà từ cụm 1 nhớ mình xxmaj . ngầu xà loạn viết giả tác ông do hay kém dịch do này cái rõ không xxmaj . ) cả gì</td>\n",
       "      <td>1</td>\n",
       "    </tr>\n",
       "  </tbody>\n",
       "</table>"
      ],
      "text/plain": [
       "<IPython.core.display.HTML object>"
      ]
     },
     "metadata": {},
     "output_type": "display_data"
    }
   ],
   "source": [
    "dls_clas = DataBlock(\n",
    "    blocks=(TextBlock.from_df(\"comment\", vocab=dls_lm.vocab, backwards=True), CategoryBlock),\n",
    "    get_x=ColReader(\"text\"), get_y=ColReader(\"label\"), \n",
    "    splitter=RandomSplitter(0.1)\n",
    ").dataloaders(df, bs=bs, num_workers=os.cpu_count(), backwards=True)\n",
    "dls_clas.show_batch(max_n=2)"
   ]
  },
  {
   "cell_type": "code",
   "execution_count": 21,
   "metadata": {},
   "outputs": [],
   "source": [
    "from sklearn.metrics import f1_score\n",
    "\n",
    "@np_func\n",
    "def f1(inp, targ): return f1_score(targ, np.argmax(inp, axis=-1))"
   ]
  },
  {
   "cell_type": "markdown",
   "metadata": {},
   "source": [
    "Actually, we already have `f1_score` from fastai v2, however we will just use our own function to compare with v1 availability. "
   ]
  },
  {
   "cell_type": "code",
   "execution_count": 23,
   "metadata": {},
   "outputs": [
    {
     "data": {
      "text/html": [],
      "text/plain": [
       "<IPython.core.display.HTML object>"
      ]
     },
     "metadata": {},
     "output_type": "display_data"
    },
    {
     "name": "stderr",
     "output_type": "stream",
     "text": [
      "/home/wabinab/anaconda3/envs/fastai/lib/python3.8/site-packages/fastai/callback/schedule.py:270: UserWarning: color is redundantly defined by the 'color' keyword argument and the fmt string \"ro\" (-> color='r'). The keyword argument will take precedence.\n",
      "  ax.plot(val, idx, 'ro', label=nm, c=color)\n"
     ]
    },
    {
     "data": {
      "text/plain": [
       "SuggestedLRs(valley=tensor(0.0021))"
      ]
     },
     "execution_count": 23,
     "metadata": {},
     "output_type": "execute_result"
    },
    {
     "data": {
      "image/png": "[encoded data removed]",
      "text/plain": [
       "<Figure size 432x288 with 1 Axes>"
      ]
     },
     "metadata": {
      "needs_background": "light"
     },
     "output_type": "display_data"
    }
   ],
   "source": [
    "# metrics = [accuracy, f1_score]  # for using internal f1_score. \n",
    "learn_c = text_classifier_learner(dls_clas, AWD_LSTM, drop_mult=0.5, \n",
    "                metrics=[accuracy, f1]).to_fp16()\n",
    "learn_c.load_encoder(mdl_path/f\"{lang}fine_tuned_enc_bwd\")\n",
    "learn_c.freeze()\n",
    "learn_c.lr_find()"
   ]
  },
  {
   "cell_type": "code",
   "execution_count": 24,
   "metadata": {},
   "outputs": [
    {
     "data": {
      "text/html": [
       "<table border=\"1\" class=\"dataframe\">\n",
       "  <thead>\n",
       "    <tr style=\"text-align: left;\">\n",
       "      <th>epoch</th>\n",
       "      <th>train_loss</th>\n",
       "      <th>valid_loss</th>\n",
       "      <th>accuracy</th>\n",
       "      <th>f1</th>\n",
       "      <th>time</th>\n",
       "    </tr>\n",
       "  </thead>\n",
       "  <tbody>\n",
       "    <tr>\n",
       "      <td>0</td>\n",
       "      <td>0.436744</td>\n",
       "      <td>0.382030</td>\n",
       "      <td>0.764597</td>\n",
       "      <td>0.603090</td>\n",
       "      <td>00:06</td>\n",
       "    </tr>\n",
       "    <tr>\n",
       "      <td>1</td>\n",
       "      <td>0.420229</td>\n",
       "      <td>0.379550</td>\n",
       "      <td>0.770880</td>\n",
       "      <td>0.518112</td>\n",
       "      <td>00:06</td>\n",
       "    </tr>\n",
       "  </tbody>\n",
       "</table>"
      ],
      "text/plain": [
       "<IPython.core.display.HTML object>"
      ]
     },
     "metadata": {},
     "output_type": "display_data"
    }
   ],
   "source": [
    "lr = 2e-2\n",
    "lr *= bs/48\n",
    "\n",
    "learn_c.fit_one_cycle(2, lr)"
   ]
  },
  {
   "cell_type": "code",
   "execution_count": 25,
   "metadata": {},
   "outputs": [
    {
     "data": {
      "text/html": [
       "<table border=\"1\" class=\"dataframe\">\n",
       "  <thead>\n",
       "    <tr style=\"text-align: left;\">\n",
       "      <th>epoch</th>\n",
       "      <th>train_loss</th>\n",
       "      <th>valid_loss</th>\n",
       "      <th>accuracy</th>\n",
       "      <th>f1</th>\n",
       "      <th>time</th>\n",
       "    </tr>\n",
       "  </thead>\n",
       "  <tbody>\n",
       "    <tr>\n",
       "      <td>0</td>\n",
       "      <td>0.425414</td>\n",
       "      <td>0.376272</td>\n",
       "      <td>0.776423</td>\n",
       "      <td>0.525850</td>\n",
       "      <td>00:08</td>\n",
       "    </tr>\n",
       "    <tr>\n",
       "      <td>1</td>\n",
       "      <td>0.418404</td>\n",
       "      <td>0.374201</td>\n",
       "      <td>0.775314</td>\n",
       "      <td>0.503831</td>\n",
       "      <td>00:11</td>\n",
       "    </tr>\n",
       "  </tbody>\n",
       "</table>"
      ],
      "text/plain": [
       "<IPython.core.display.HTML object>"
      ]
     },
     "metadata": {},
     "output_type": "display_data"
    }
   ],
   "source": [
    "learn_c.fit_one_cycle(2, lr)"
   ]
  },
  {
   "cell_type": "code",
   "execution_count": 26,
   "metadata": {},
   "outputs": [
    {
     "data": {
      "text/html": [
       "<table border=\"1\" class=\"dataframe\">\n",
       "  <thead>\n",
       "    <tr style=\"text-align: left;\">\n",
       "      <th>epoch</th>\n",
       "      <th>train_loss</th>\n",
       "      <th>valid_loss</th>\n",
       "      <th>accuracy</th>\n",
       "      <th>f1</th>\n",
       "      <th>time</th>\n",
       "    </tr>\n",
       "  </thead>\n",
       "  <tbody>\n",
       "    <tr>\n",
       "      <td>0</td>\n",
       "      <td>0.410345</td>\n",
       "      <td>0.367340</td>\n",
       "      <td>0.773836</td>\n",
       "      <td>0.589374</td>\n",
       "      <td>00:12</td>\n",
       "    </tr>\n",
       "    <tr>\n",
       "      <td>1</td>\n",
       "      <td>0.393534</td>\n",
       "      <td>0.381253</td>\n",
       "      <td>0.779749</td>\n",
       "      <td>0.570039</td>\n",
       "      <td>00:12</td>\n",
       "    </tr>\n",
       "  </tbody>\n",
       "</table>"
      ],
      "text/plain": [
       "<IPython.core.display.HTML object>"
      ]
     },
     "metadata": {},
     "output_type": "display_data"
    }
   ],
   "source": [
    "learn_c.freeze_to(-2)\n",
    "learn_c.fit_one_cycle(2, slice(lr/(2.6**4), lr))"
   ]
  },
  {
   "cell_type": "code",
   "execution_count": 27,
   "metadata": {},
   "outputs": [
    {
     "data": {
      "text/html": [
       "<table border=\"1\" class=\"dataframe\">\n",
       "  <thead>\n",
       "    <tr style=\"text-align: left;\">\n",
       "      <th>epoch</th>\n",
       "      <th>train_loss</th>\n",
       "      <th>valid_loss</th>\n",
       "      <th>accuracy</th>\n",
       "      <th>f1</th>\n",
       "      <th>time</th>\n",
       "    </tr>\n",
       "  </thead>\n",
       "  <tbody>\n",
       "    <tr>\n",
       "      <td>0</td>\n",
       "      <td>0.389544</td>\n",
       "      <td>0.363741</td>\n",
       "      <td>0.773836</td>\n",
       "      <td>0.590586</td>\n",
       "      <td>00:15</td>\n",
       "    </tr>\n",
       "    <tr>\n",
       "      <td>1</td>\n",
       "      <td>0.376116</td>\n",
       "      <td>0.355826</td>\n",
       "      <td>0.783075</td>\n",
       "      <td>0.592611</td>\n",
       "      <td>00:14</td>\n",
       "    </tr>\n",
       "  </tbody>\n",
       "</table>"
      ],
      "text/plain": [
       "<IPython.core.display.HTML object>"
      ]
     },
     "metadata": {},
     "output_type": "display_data"
    }
   ],
   "source": [
    "learn_c.freeze_to(-3)\n",
    "learn_c.fit_one_cycle(2, slice(lr/2/(2.6**4), lr/2))"
   ]
  },
  {
   "cell_type": "code",
   "execution_count": 28,
   "metadata": {},
   "outputs": [
    {
     "data": {
      "text/html": [
       "<table border=\"1\" class=\"dataframe\">\n",
       "  <thead>\n",
       "    <tr style=\"text-align: left;\">\n",
       "      <th>epoch</th>\n",
       "      <th>train_loss</th>\n",
       "      <th>valid_loss</th>\n",
       "      <th>accuracy</th>\n",
       "      <th>f1</th>\n",
       "      <th>time</th>\n",
       "    </tr>\n",
       "  </thead>\n",
       "  <tbody>\n",
       "    <tr>\n",
       "      <td>0</td>\n",
       "      <td>0.342563</td>\n",
       "      <td>0.380948</td>\n",
       "      <td>0.782336</td>\n",
       "      <td>0.594261</td>\n",
       "      <td>00:16</td>\n",
       "    </tr>\n",
       "  </tbody>\n",
       "</table>"
      ],
      "text/plain": [
       "<IPython.core.display.HTML object>"
      ]
     },
     "metadata": {},
     "output_type": "display_data"
    }
   ],
   "source": [
    "learn_c.unfreeze()\n",
    "learn_c.fit_one_cycle(1, slice(lr/10/(2.6**4), lr/10))"
   ]
  },
  {
   "cell_type": "code",
   "execution_count": 30,
   "metadata": {},
   "outputs": [
    {
     "data": {
      "text/plain": [
       "Path('/home/wabinab/.fastai/viwiki/models/viclas_bwd.pth')"
      ]
     },
     "execution_count": 30,
     "metadata": {},
     "output_type": "execute_result"
    }
   ],
   "source": [
    "learn_c.save(mdl_path/f\"{lang}clas_bwd\")"
   ]
  },
  {
   "cell_type": "code",
   "execution_count": 33,
   "metadata": {},
   "outputs": [],
   "source": [
    "save_pickle(mdl_path/f\"{lang}_vocab_bwd.pkl\", dls_lm.vocab)"
   ]
  },
  {
   "cell_type": "code",
   "execution_count": null,
   "metadata": {},
   "outputs": [],
   "source": []
  }
 ],
 "metadata": {
  "interpreter": {
   "hash": "5aa457f694240ca52bec53eda6ed84b45efde55787bbd717cb0e138c3a892911"
  },
  "kernelspec": {
   "display_name": "fastai",
   "language": "python",
   "name": "fastai"
  },
  "language_info": {
   "codemirror_mode": {
    "name": "ipython",
    "version": 3
   },
   "file_extension": ".py",
   "mimetype": "text/x-python",
   "name": "python",
   "nbconvert_exporter": "python",
   "pygments_lexer": "ipython3",
   "version": "3.8.11"
  }
 },
 "nbformat": 4,
 "nbformat_minor": 4
}
