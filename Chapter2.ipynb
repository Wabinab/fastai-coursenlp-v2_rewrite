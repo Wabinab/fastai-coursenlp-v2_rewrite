{
 "cells": [
  {
   "cell_type": "markdown",
   "id": "d400ff90",
   "metadata": {},
   "source": [
    "# Fastai NLP Course Chapter 2\n",
    "Created on: 01 Aout 2021"
   ]
  },
  {
   "cell_type": "code",
   "execution_count": 1,
   "id": "3efd420e",
   "metadata": {},
   "outputs": [],
   "source": [
    "%config Completer.use_jedi = False"
   ]
  },
  {
   "cell_type": "code",
   "execution_count": 2,
   "id": "7d1e063e",
   "metadata": {},
   "outputs": [],
   "source": [
    "import numpy as np\n",
    "from sklearn.datasets import fetch_20newsgroups\n",
    "from sklearn import decomposition\n",
    "from scipy import linalg\n",
    "import matplotlib.pyplot as plt\n",
    "\n",
    "%matplotlib inline\n",
    "np.set_printoptions(suppress=True)"
   ]
  },
  {
   "cell_type": "code",
   "execution_count": 3,
   "id": "b9c136f0",
   "metadata": {},
   "outputs": [
    {
     "data": {
      "text/plain": [
       "((2034,), (2034,))"
      ]
     },
     "execution_count": 3,
     "metadata": {},
     "output_type": "execute_result"
    }
   ],
   "source": [
    "categories = [\"alt.atheism\", \"talk.religion.misc\", \"comp.graphics\", \"sci.space\"]\n",
    "remove = (\"headers\", \"footers\", \"quotes\")\n",
    "newsgroups_train = fetch_20newsgroups(subset=\"train\", categories=categories, remove=remove)\n",
    "newsgroups_test = fetch_20newsgroups(subset=\"test\", categories=categories, remove=remove)\n",
    "\n",
    "newsgroups_train.filenames.shape, newsgroups_train.target.shape"
   ]
  },
  {
   "cell_type": "code",
   "execution_count": 4,
   "id": "732f8607",
   "metadata": {},
   "outputs": [
    {
     "name": "stdout",
     "output_type": "stream",
     "text": [
      "Hi,\n",
      "\n",
      "I've noticed that if you only save a model (with all your mapping planes\n",
      "positioned carefully) to a .3DS file that when you reload it after restarting\n",
      "3DS, they are given a default position and orientation.  But if you save\n",
      "to a .PRJ file their positions/orientation are preserved.  Does anyone\n",
      "know why this information is not stored in the .3DS file?  Nothing is\n",
      "explicitly said in the manual about saving texture rules in the .PRJ file. \n",
      "I'd like to be able to read the texture rule information, does anyone have \n",
      "the format for the .PRJ file?\n",
      "\n",
      "Is the .CEL file format available from somewhere?\n",
      "\n",
      "Rych\n",
      "\n",
      "\n",
      "Seems to be, barring evidence to the contrary, that Koresh was simply\n",
      "another deranged fanatic who thought it neccessary to take a whole bunch of\n",
      "folks with him, children and all, to satisfy his delusional mania. Jim\n",
      "Jones, circa 1993.\n",
      "\n",
      "\n",
      "Nope - fruitcakes like Koresh have been demonstrating such evil corruption\n",
      "for centuries.\n",
      "\n",
      " >In article <1993Apr19.020359.26996@sq.sq.com>, msb@sq.sq.com (Mark Brader) \n",
      "\n",
      "MB>                                                             So the\n",
      "MB> 1970 figure seems unlikely to actually be anything but a perijove.\n",
      "\n",
      "JG>Sorry, _perijoves_...I'm not used to talking this language.\n",
      "\n",
      "Couldn't we just say periapsis or apoapsis?\n",
      "\n",
      " \n"
     ]
    }
   ],
   "source": [
    "print(\"\\n\".join(newsgroups_train.data[:3]))"
   ]
  },
  {
   "cell_type": "markdown",
   "id": "97d30d2e",
   "metadata": {},
   "source": [
    "*perijove* is the point in the orbit of satellite of Jupiter nearest the planet's center. "
   ]
  },
  {
   "cell_type": "code",
   "execution_count": 5,
   "id": "6c40c54a",
   "metadata": {},
   "outputs": [
    {
     "data": {
      "text/plain": [
       "array(['comp.graphics', 'talk.religion.misc', 'sci.space'], dtype='<U18')"
      ]
     },
     "execution_count": 5,
     "metadata": {},
     "output_type": "execute_result"
    }
   ],
   "source": [
    "np.array(newsgroups_train.target_names)[newsgroups_train.target[:3]]"
   ]
  },
  {
   "cell_type": "code",
   "execution_count": 6,
   "id": "55bc5999",
   "metadata": {},
   "outputs": [
    {
     "data": {
      "text/plain": [
       "array([1, 3, 2, 0, 2, 0, 2, 1, 2, 1])"
      ]
     },
     "execution_count": 6,
     "metadata": {},
     "output_type": "execute_result"
    }
   ],
   "source": [
    "newsgroups_train.target[:10]"
   ]
  },
  {
   "cell_type": "code",
   "execution_count": 7,
   "id": "1772046f",
   "metadata": {},
   "outputs": [],
   "source": [
    "num_topics, num_top_words = 6, 8"
   ]
  },
  {
   "cell_type": "markdown",
   "id": "799e4566",
   "metadata": {},
   "source": [
    "### Stop words, stemming, lemmatization\n",
    "\n",
    "**NLTK**"
   ]
  },
  {
   "cell_type": "code",
   "execution_count": 8,
   "id": "3aa38a28",
   "metadata": {},
   "outputs": [
    {
     "name": "stdout",
     "output_type": "stream",
     "text": [
      "Stop words have been deprecated. \n"
     ]
    }
   ],
   "source": [
    "try:\n",
    "    from sklearn.feature_extraction import stop_words\n",
    "    sorted(list(stop_words.ENGLIST_STOP_WORDS))[:20]\n",
    "except ImportError: \n",
    "    print(\"Stop words have been deprecated. \")"
   ]
  },
  {
   "cell_type": "code",
   "execution_count": 9,
   "id": "3cbb4d4e",
   "metadata": {},
   "outputs": [
    {
     "name": "stderr",
     "output_type": "stream",
     "text": [
      "[nltk_data] Downloading package wordnet to /home/nt-user/nltk_data...\n",
      "[nltk_data]   Unzipping corpora/wordnet.zip.\n"
     ]
    },
    {
     "data": {
      "text/plain": [
       "True"
      ]
     },
     "execution_count": 9,
     "metadata": {},
     "output_type": "execute_result"
    }
   ],
   "source": [
    "import nltk\n",
    "nltk.download(\"wordnet\")"
   ]
  },
  {
   "cell_type": "code",
   "execution_count": 10,
   "id": "d04265ed",
   "metadata": {},
   "outputs": [],
   "source": [
    "from nltk import stem"
   ]
  },
  {
   "cell_type": "code",
   "execution_count": 11,
   "id": "df1fd6a3",
   "metadata": {},
   "outputs": [
    {
     "data": {
      "text/plain": [
       "['foot', 'foot', 'foot', 'footing']"
      ]
     },
     "execution_count": 11,
     "metadata": {},
     "output_type": "execute_result"
    }
   ],
   "source": [
    "wnl = stem.WordNetLemmatizer()\n",
    "porter = stem.porter.PorterStemmer()\n",
    "\n",
    "word_list = [\"feet\", \"foot\", \"foots\", \"footing\"]\n",
    "[wnl.lemmatize(word) for word in word_list]"
   ]
  },
  {
   "cell_type": "code",
   "execution_count": 12,
   "id": "28c55b32",
   "metadata": {},
   "outputs": [
    {
     "data": {
      "text/plain": [
       "['feet', 'foot', 'foot', 'foot']"
      ]
     },
     "execution_count": 12,
     "metadata": {},
     "output_type": "execute_result"
    }
   ],
   "source": [
    "[porter.stem(word) for word in word_list]"
   ]
  },
  {
   "cell_type": "code",
   "execution_count": 13,
   "id": "e6ec7a1b",
   "metadata": {},
   "outputs": [],
   "source": [
    "def lemmatize_word(word_list):\n",
    "    print(\"Lemmatization: \", [wnl.lemmatize(word) for word in word_list])\n",
    "    print(\"Stemming: \", [porter.stem(word) for word in word_list])"
   ]
  },
  {
   "cell_type": "code",
   "execution_count": 14,
   "id": "6cd88605",
   "metadata": {},
   "outputs": [
    {
     "name": "stdout",
     "output_type": "stream",
     "text": [
      "Lemmatization:  ['fly', 'fly', 'flying']\n",
      "Stemming:  ['fli', 'fli', 'fli']\n"
     ]
    }
   ],
   "source": [
    "word_list = [\"fly\", \"flies\", \"flying\"]\n",
    "lemmatize_word(word_list)"
   ]
  },
  {
   "cell_type": "code",
   "execution_count": 15,
   "id": "dca1c797",
   "metadata": {},
   "outputs": [
    {
     "name": "stdout",
     "output_type": "stream",
     "text": [
      "Lemmatization:  ['organize', 'organizes', 'organizing']\n",
      "Stemming:  ['organ', 'organ', 'organ']\n"
     ]
    }
   ],
   "source": [
    "lemmatize_word([\"organize\", \"organizes\", \"organizing\"])"
   ]
  },
  {
   "cell_type": "code",
   "execution_count": 16,
   "id": "dcce00b0",
   "metadata": {},
   "outputs": [
    {
     "name": "stdout",
     "output_type": "stream",
     "text": [
      "Lemmatization:  ['universe', 'university']\n",
      "Stemming:  ['univers', 'univers']\n"
     ]
    }
   ],
   "source": [
    "lemmatize_word([\"universe\", \"university\"])"
   ]
  },
  {
   "cell_type": "code",
   "execution_count": 17,
   "id": "458e6288",
   "metadata": {},
   "outputs": [],
   "source": [
    "import spacy"
   ]
  },
  {
   "cell_type": "code",
   "execution_count": 18,
   "id": "3feca7d0",
   "metadata": {},
   "outputs": [],
   "source": [
    "# from spacy.lemmatizer import Lemmatizer\n",
    "# lemmatizer = Lemmatizer()\n",
    "\n",
    "nlp = spacy.load(\"en_core_web_sm\")\n",
    "lemmatizer = nlp.Defaults.create_lemmatizer()"
   ]
  },
  {
   "cell_type": "code",
   "execution_count": 19,
   "id": "a67bd0bd",
   "metadata": {},
   "outputs": [
    {
     "data": {
      "text/plain": [
       "['fly', 'flies', 'flying']"
      ]
     },
     "execution_count": 19,
     "metadata": {},
     "output_type": "execute_result"
    }
   ],
   "source": [
    "[lemmatizer.lookup(word) for word in word_list]"
   ]
  },
  {
   "cell_type": "code",
   "execution_count": 20,
   "id": "57b0ba29",
   "metadata": {},
   "outputs": [
    {
     "data": {
      "text/plain": [
       "[\"'d\",\n",
       " \"'ll\",\n",
       " \"'m\",\n",
       " \"'re\",\n",
       " \"'s\",\n",
       " \"'ve\",\n",
       " 'a',\n",
       " 'about',\n",
       " 'above',\n",
       " 'across',\n",
       " 'after',\n",
       " 'afterwards',\n",
       " 'again',\n",
       " 'against',\n",
       " 'all',\n",
       " 'almost',\n",
       " 'alone',\n",
       " 'along',\n",
       " 'already',\n",
       " 'also']"
      ]
     },
     "execution_count": 20,
     "metadata": {},
     "output_type": "execute_result"
    }
   ],
   "source": [
    "sorted([*nlp.Defaults.stop_words])[:20]"
   ]
  },
  {
   "cell_type": "code",
   "execution_count": 21,
   "id": "19b1702f",
   "metadata": {},
   "outputs": [
    {
     "name": "stdout",
     "output_type": "stream",
     "text": [
      "name 'stop_words' is not defined\n"
     ]
    }
   ],
   "source": [
    "# What stop words appear in spacy but not sklearn?\n",
    "try: nlp.Defaults.stop_words - stop_words.ENGLISH_STOP_WORDS\n",
    "except Exception as e: print(e)"
   ]
  },
  {
   "cell_type": "code",
   "execution_count": 22,
   "id": "b0c5f5f9",
   "metadata": {},
   "outputs": [],
   "source": [
    "from sklearn.feature_extraction.text import CountVectorizer, TfidfVectorizer\n",
    "import nltk"
   ]
  },
  {
   "cell_type": "code",
   "execution_count": 23,
   "id": "21b225cb",
   "metadata": {},
   "outputs": [
    {
     "data": {
      "text/plain": [
       "(2034, 26576)"
      ]
     },
     "execution_count": 23,
     "metadata": {},
     "output_type": "execute_result"
    }
   ],
   "source": [
    "vectorizer = CountVectorizer(stop_words='english')\n",
    "\n",
    "vectors = vectorizer.fit_transform(newsgroups_train.data).todense()  # (documents, vocab)\n",
    "vectors.shape"
   ]
  },
  {
   "cell_type": "code",
   "execution_count": 25,
   "id": "de9a85ff",
   "metadata": {},
   "outputs": [
    {
     "name": "stdout",
     "output_type": "stream",
     "text": [
      "2034 (2034, 26576)\n"
     ]
    }
   ],
   "source": [
    "print(len(newsgroups_train.data), vectors.shape)"
   ]
  },
  {
   "cell_type": "code",
   "execution_count": 26,
   "id": "13824957",
   "metadata": {},
   "outputs": [
    {
     "data": {
      "text/plain": [
       "(26576,)"
      ]
     },
     "execution_count": 26,
     "metadata": {},
     "output_type": "execute_result"
    }
   ],
   "source": [
    "vocab = np.array(vectorizer.get_feature_names())\n",
    "vocab.shape"
   ]
  },
  {
   "cell_type": "code",
   "execution_count": 27,
   "id": "f3b1d72f",
   "metadata": {},
   "outputs": [
    {
     "data": {
      "text/plain": [
       "array(['cosmonauts', 'cosmos', 'cosponsored', 'cost', 'costa', 'costar',\n",
       "       'costing', 'costly', 'costruction', 'costs', 'cosy', 'cote',\n",
       "       'couched', 'couldn', 'council', 'councils', 'counsel',\n",
       "       'counselees', 'counselor', 'count'], dtype='<U80')"
      ]
     },
     "execution_count": 27,
     "metadata": {},
     "output_type": "execute_result"
    }
   ],
   "source": [
    "vocab[7000:7020]"
   ]
  },
  {
   "cell_type": "markdown",
   "id": "04ce320e",
   "metadata": {},
   "source": [
    "# Singular Value Decomposition (SVD)\n",
    "Latent Semantic Analysis (LSA) uses SVD. Sometimes, we hear topic modelling referred to as LSA. "
   ]
  },
  {
   "cell_type": "code",
   "execution_count": 28,
   "id": "400c1489",
   "metadata": {},
   "outputs": [
    {
     "name": "stdout",
     "output_type": "stream",
     "text": [
      "CPU times: user 1min 11s, sys: 2min 10s, total: 3min 22s\n",
      "Wall time: 2min 45s\n"
     ]
    }
   ],
   "source": [
    "%time U, s, Vh = linalg.svd(vectors, full_matrices=False)"
   ]
  },
  {
   "cell_type": "code",
   "execution_count": 29,
   "id": "1340bad7",
   "metadata": {},
   "outputs": [
    {
     "name": "stdout",
     "output_type": "stream",
     "text": [
      "(2034, 2034) (2034,) (2034, 26576)\n"
     ]
    }
   ],
   "source": [
    "print(U.shape, s.shape, Vh.shape)"
   ]
  },
  {
   "cell_type": "code",
   "execution_count": 30,
   "id": "ee5eafe6",
   "metadata": {},
   "outputs": [
    {
     "data": {
      "text/plain": [
       "array([433.92698542, 291.51012741, 240.71137677, 220.00048043])"
      ]
     },
     "execution_count": 30,
     "metadata": {},
     "output_type": "execute_result"
    }
   ],
   "source": [
    "# Confirm decomposition of input\n",
    "s[:4]"
   ]
  },
  {
   "cell_type": "code",
   "execution_count": 31,
   "id": "81d9cfd4",
   "metadata": {},
   "outputs": [
    {
     "data": {
      "text/plain": [
       "array([433.92698542, 291.51012741, 240.71137677, 220.00048043])"
      ]
     },
     "execution_count": 31,
     "metadata": {},
     "output_type": "execute_result"
    }
   ],
   "source": [
    "np.diag(np.diag(s[:4]))"
   ]
  },
  {
   "cell_type": "code",
   "execution_count": 32,
   "id": "5ad46f82",
   "metadata": {},
   "outputs": [
    {
     "data": {
      "text/plain": [
       "True"
      ]
     },
     "execution_count": 32,
     "metadata": {},
     "output_type": "execute_result"
    }
   ],
   "source": [
    "#Exercise: confirm that U, s, Vh is a decomposition of `vectors`\n",
    "\n",
    "reconstructed_vectors = U @ np.diag(s) @ Vh  # takes very long to compute. Move to GPU would be better.\n",
    "# np.linalg.norm(reconstructed_vectors - vectors)  # check for zero\n",
    "np.allclose(reconstructed_vectors, vectors)  # alternatively, use this. "
   ]
  },
  {
   "cell_type": "code",
   "execution_count": 36,
   "id": "f5b7160a",
   "metadata": {},
   "outputs": [
    {
     "data": {
      "text/plain": [
       "True"
      ]
     },
     "execution_count": 36,
     "metadata": {},
     "output_type": "execute_result"
    }
   ],
   "source": [
    "# Exercise: confirm U and V are orthonormal\n",
    "# so dot product of two are zero\n",
    "U @ Vh == 0\n",
    "\n",
    "# answer\n",
    "np.allclose(U.T @ U, np.eye(U.shape[0]))\n",
    "np.allclose(Vh @ Vh.T, np.eye(Vh.shape[0]))"
   ]
  },
  {
   "cell_type": "markdown",
   "id": "e5ead71e",
   "metadata": {},
   "source": [
    "What can we say about singular values s?"
   ]
  },
  {
   "cell_type": "code",
   "execution_count": 34,
   "id": "8a177fdf",
   "metadata": {},
   "outputs": [
    {
     "data": {
      "text/plain": [
       "[<matplotlib.lines.Line2D at 0x7fe513c443d0>]"
      ]
     },
     "execution_count": 34,
     "metadata": {},
     "output_type": "execute_result"
    },
    {
     "data": {
      "image/png": "[encoded data removed]",
      "text/plain": [
       "<Figure size 432x288 with 1 Axes>"
      ]
     },
     "metadata": {
      "needs_background": "light"
     },
     "output_type": "display_data"
    }
   ],
   "source": [
    "plt.plot(s)"
   ]
  },
  {
   "cell_type": "code",
   "execution_count": 35,
   "id": "bc44daf2",
   "metadata": {},
   "outputs": [
    {
     "data": {
      "text/plain": [
       "[<matplotlib.lines.Line2D at 0x7fe513be7fd0>]"
      ]
     },
     "execution_count": 35,
     "metadata": {},
     "output_type": "execute_result"
    },
    {
     "data": {
      "image/png": "[encoded data removed]",
      "text/plain": [
       "<Figure size 432x288 with 1 Axes>"
      ]
     },
     "metadata": {
      "needs_background": "light"
     },
     "output_type": "display_data"
    }
   ],
   "source": [
    "plt.plot(s[:10])"
   ]
  },
  {
   "cell_type": "code",
   "execution_count": 37,
   "id": "8695829b",
   "metadata": {},
   "outputs": [],
   "source": [
    "num_top_words = 8\n",
    "\n",
    "def show_topics(a):\n",
    "    top_words = lambda t: [vocab[i] for i in np.argsort(t)][:-num_top_words-1:-1]\n",
    "    topic_words = ([top_words(t) for t in a])\n",
    "    return [\" \".join(t) for t in topic_words]"
   ]
  },
  {
   "cell_type": "code",
   "execution_count": 38,
   "id": "6b5f8dad",
   "metadata": {},
   "outputs": [
    {
     "data": {
      "text/plain": [
       "['ditto critus propagandist surname galacticentric kindergarten surreal imaginative',\n",
       " 'jpeg gif file color quality image jfif format',\n",
       " 'graphics edu pub mail 128 3d ray ftp',\n",
       " 'jesus god matthew people atheists atheism does graphics',\n",
       " 'image data processing analysis software available tools display',\n",
       " 'god atheists atheism religious believe religion argument true',\n",
       " 'space nasa lunar mars probe moon missions probes',\n",
       " 'image probe surface lunar mars probes moon orbit',\n",
       " 'argument fallacy conclusion example true ad argumentum premises',\n",
       " 'space larson image theory universe physical nasa material']"
      ]
     },
     "execution_count": 38,
     "metadata": {},
     "output_type": "execute_result"
    }
   ],
   "source": [
    "show_topics(Vh[:10])"
   ]
  },
  {
   "cell_type": "markdown",
   "id": "672b0cf8",
   "metadata": {},
   "source": [
    "We get topics that match the kinds of clusters we would expect, despite the fact that this is an **unsupervised algorithm**. \n",
    "\n",
    "## Non-negative Matrix Factorization (NMF)\n",
    "\n",
    "Usually we either use SVD or NMF. What does negative values means in lots of contexts. "
   ]
  },
  {
   "cell_type": "code",
   "execution_count": 39,
   "id": "bc55a6bd",
   "metadata": {},
   "outputs": [
    {
     "name": "stderr",
     "output_type": "stream",
     "text": [
      "/usr/local/lib/python3.7/site-packages/sklearn/decomposition/_nmf.py:315: FutureWarning: The 'init' value, when 'init=None' and n_components is less than n_samples and n_features, will be changed from 'nndsvd' to 'nndsvda' in 1.1 (renaming of 0.26).\n",
      "  \"'nndsvda' in 1.1 (renaming of 0.26).\"), FutureWarning)\n"
     ]
    },
    {
     "data": {
      "text/plain": [
       "['jpeg image gif file color images format quality',\n",
       " 'edu graphics pub mail 128 ray ftp send',\n",
       " 'space launch satellite nasa commercial satellites year market',\n",
       " 'jesus god people matthew atheists does atheism said',\n",
       " 'image data available software processing ftp edu analysis']"
      ]
     },
     "execution_count": 39,
     "metadata": {},
     "output_type": "execute_result"
    }
   ],
   "source": [
    "m, n = vectors.shape\n",
    "d = 5  # num topics\n",
    "\n",
    "clf = decomposition.NMF(n_components=d, random_state=1)\n",
    "\n",
    "W1 = clf.fit_transform(vectors)\n",
    "H1 = clf.components_\n",
    "\n",
    "show_topics(H1)"
   ]
  },
  {
   "cell_type": "markdown",
   "id": "e6ceb3da",
   "metadata": {},
   "source": [
    "### TD-IDF\n",
    "Topic Frequency - Inverse Document Frequency is a way to normalize term counts by taking into account how often they appear in a document, how long the document is, and how common/rare the term is. \n",
    "\n",
    "$$ TF = \\frac{\\text{Number of occurrences of term t in document}}{\\text{Number of words in documents}} $$  \n",
    "$$ IDF = \\log\\bigg(\\frac{\\text{Number of documents}}{\\text{Number of documents with term t in it}}\\bigg) $$"
   ]
  },
  {
   "cell_type": "code",
   "execution_count": 40,
   "id": "12e2df29",
   "metadata": {},
   "outputs": [
    {
     "data": {
      "text/plain": [
       "[\"a\\n\\nWhat about positional uncertainties in S-L 1993e?   I assume we know where\\nand what Galileo is doing within a few meters.   But without the\\nHGA,  don't we have to have some pretty good ideas, of where to look\\nbefore imaging?  If the HGA was working,  they could slew around\\nin near real time (Less speed of light delay).  But when they were\\nimaging toutatis????  didn't someone have to get lucky on a guess to\\nfind the first images?   \\n\\nAlso, I imagine S-L 1993e will be mostly a visual image.  so how will\\nthat affect the other imaging missions.  with the LGA,  there is a real\\ntight allocation of bandwidth.   It may be premature to hope for answers,\\nbut I thought i'd throw it on the floor.\",\n",
       " \"I would like to program Tseng ET4000 to nonstandard 1024x768 mode by\\nswitching to standard 1024x768 mode using BIOS and than changing some\\ntiming details (0x3D4 registers 0x00-0x1F) but I don't know how to\\nselect 36 MHz pixel clock I need. The BIOS function selects 40 MHz.\\n\\nIs there anybody who knows where to obtain technical info about this.\\nI am also interested in any other technical information about Tseng ET4000\\nand Trident 8900 and 9000 chipsets.\\n\\n\\t\\t\\tthanks very much\",\n",
       " 'In-Reply-To: <20APR199312262902@rigel.tamu.edu> lmp8913@rigel.tamu.edu (PRESTON, LISA M)',\n",
       " \"\\n\\n\\n\\nI'm not sure, but it almost sounds like they can't figure out where the \\n_nucleus_ is within the coma. If they're off by a couple hundred\\nmiles, well, you can imagine the rest...\\n\",\n",
       " \"Hello,\\n     I am looking to add voice input capability to a user interface I am\\ndeveloping on an HP730 (UNIX) workstation.  I would greatly appreciate \\ninformation anyone would care to offer about voice input systems that are \\neasily accessible from the UNIX environment. \\n\\n     The names or adresses of applicable vendors, as well as any \\nexperiences you have had with specific systems, would be very helpful.\\n\\n     Please respond via email; I will post a summary if there is \\nsufficient interest.\\n\\n\\nThanks,\\nKen\\n\\n\\nP.S.  I have found several impressive systems for IBM PC's, but I would \\nlike to avoid the hassle of purchasing and maintaining a separate PC if \\nat all possible.\\n\\n-------------------------------------------------------------------------------\\nKen Hinckley (kph2q@virginia.edu)\\nUniversity of Virginia \\nNeurosurgical Visualization Laboratory\",\n",
       " '\\nIt was a test of the first reusable tool.\\n\\n\\nPointy so they can find them or so they will stick into their pants better, and\\nbe closer to their brains?',\n",
       " '\\nSize of armies, duration, numbers of casualties both absolute and as a\\npercentage of those involved, geographical area and numbers of countries\\ntoo, are all measures of size.  In this case I\\'d say the relevant\\nstatistic would be the number of combatants (total troops) compared to\\ntotal casualties from among the total civilian population in the\\naffected geographical area.\\n\\n\\nVietnam and Korea might make good comparisons.\\n\\n\\nWestern news in general, but in particular the American \"mass media\":\\nCBS, NBC, ABC, etc.  The general tone of the news during the whole\\nwar was one of \"those poor, poor Iraqis\" along with \"look how precisely\\nthis cruise missile blew this building to bits\".\\n\\n\\nI agree.\\n\\n\\nPerhaps so.  And maybe the atomic bomb was a mistake too.  But that\\'s easy\\nto say from our \"enlightened\" viewpoint here in the 90\\'s, right?  Back\\nthen, it was *all-out* war, and Germany and Japan had to be squashed.\\nAfter all, a million or more British had already died, hundreds of \\nthousands of French, a couple hundread thousand or so Americans, and \\nmillions of Russians, not to mention a few million Jews, Poles, and \\nother people of slavic descent in German concentration camps.  All \\nthings considered, the fire-bombings and the atomic bomb were\\nessential (and therefore justified) in bringing the war to a quick\\nend to avoid even greater allied losses.\\n\\nI, for one, don\\'t regret it.\\n\\n\\nSure.  And it\\'s the people who suffer because of them.  All the more\\nreason to depose these \"entrenched political rulers operating in their\\nown selfish interests\"!  Or do you mean that this applies to the allies\\nas well??\\n\\n\\nI make no claim or effort to justify the misguided foreign policy of the\\nWest before the war.  It is evident that the West, especially America,\\nmisjudged Hussein drastically.  But once Hussein invaded Kuwait and \\nthreatened to militarily corner a significant portion of the world\\'s\\noil supply, he had to be stopped.  Sure the war could have been\\nprevented by judicious and concerted effort on the part of the West\\nbefore Hussein invaded Kuwait, but it is still *Hussein* who is\\nresponsible for his decision to invade.  And once he did so, a\\nstrong response from the West was required.\\n\\n\\nWell, it\\'s not very \"loving\" to allow a Hussein or a Hitler to gobble up\\nnearby countries and keep them.  Or to allow them to continue with mass\\nslaughter of certain peoples under their dominion.  So, I\\'d have to\\nsay yes, stopping Hussein was the most \"loving\" thing to do for the\\nmost people involved once he set his mind on military conquest.\\n\\nI mentioned it.\\n\\nIf we hadn\\'t intervened, allowing Hussein to keep Kuwait, then it would\\nhave been appeasement.  It is precisely the lessons the world learned\\nin WW2 that motivated the Western alliance to war.  Letting Hitler take\\nAustria and Czechoslavkia did not stop WW2 from happening, and letting\\nHussein keep Kuwait would not have stopped an eventual Gulf War to\\nprotect Saudi Arabia.\\n\\n\\nSure.  What was truly unfortunate was that they followed Hitler in\\nhis grandiose quest for a \"Thousand Year Reich\".  The consequences\\nstemmed from that.\\n\\nWhat should I say about them?  Anything in particular?\\n\\n\\n\\nSo?  It was the *policemen* on trial not Rodney King!!  And under American\\nlaw they deserved a jury of *their* peers!  If there had been black\\nofficers involved, I\\'m sure their would have been black jurors too.\\nThis point (of allegedly racial motivations) is really shallow.\\n\\n\\nSo?  It\\'s \"hard to imagine\"?  So when has Argument from Incredulity\\ngained acceptance from the revered author of \"Constructing a Logical\\nArgument\"?  Can we expect another revision soon??  :)  (Just kidding.)\\n\\n\\nI have to admit that I wonder this too.  But *neither* the prosecution\\nnor the defense is talking.  So one cannot conclude either way due to\\nthe silence of the principals.  \\n\\n\\nOK.  It certainly seemed to me that there was excessive force involved.\\nAnd frankly, the original \"not guilty\" verdict baffled me too.  But then\\nI learned that the prosecution in the first case did not try to convict\\non a charge of excessive force or simple assault which they probably\\nwould have won, they tried to get a conviction on a charge of aggravated\\nassault with intent to inflict serious bodily harm.  A charge, which\\nnews commentators said, was akin to attempted murder under California\\nlaw.  Based on what the prosecution was asking for, it\\'s evident that \\nthe first jury decided that the officers were \"not guilty\".  Note, \\nnot \"not guilty\" of doing wrong, but \"not guilty\" of aggravated assault \\nwith the *intent* of inflicting serious bodily harm.  The seeds of the \\nprosecutions defeat were in their own overconfidence in obtaining a \\nverdict such that they went for the most extreme charge they could.\\n\\nIf the facts as the news commentators presented them are true, then\\nI feel the \"not guilty\" verdict was a reasonable one.\\n\\n\\nThanks mathew, I like the quote.  Pretty funny actually.  (I\\'m a \\nMonty Python fan, you know.  Kind of seems in that vein.)\\n\\nOf course, oversimplifying any moral argument can make it seem\\ncontradictory.  But then, you know that already.  \\n\\nRegards,',\n",
       " \"<stuff deleted>\\n\\nYou mean like: seconds, minutes, hours, days, months, years. . .  :-)\\n\\nRemember,  the Fahrenheit temperature scale is also a centigrade scale.  Some\\nrevisionists tell the history something like this:  The coldest point in a\\nparticular Russian winter was marked on the thermometer as was the body\\ntemperature of a volunteer (turns out he was sick, but you can't win 'em all).\\nThen the space in between the marks on the thermometer was then divided into\\nhundredths.\\n\\t\\t\\t\\t\\t\\t\\t\\t:-)\\n\\nFWIW,\\n\\nDoug Page\\n\",\n",
       " \"\\nIt wasn't especially prominent, as I recall.  However, quite possibly it's\\nno longer on display; NASM, like most museums, has much more stuff than it\\ncan display at once, and does rotate the displays occasionally.\",\n",
       " \"DM> Fact or rumor....?  Madalyn Murray O'Hare an atheist who eliminated the\\nDM> use of the bible reading and prayer in public schools 15 years ago is now\\nDM> going to appear before the FCC with a petition to stop the reading of the\\nDM> Gospel on the airways of America.  And she is also campaigning to remove\\nDM> Christmas programs, songs, etc from the public schools.  If it is true\\nDM> then mail to Federal Communications Commission 1919 H Street Washington DC\\nDM> 20054 expressing your opposition to her request.  Reference Petition number\\n\\nDM> 2493.\\n\\nFalse.  This story has been going around for years.  There's not a drop of\\ntruth.  Note that I don't care for O'Hare (O'Hair?) myself, but this\\nis one thing she's not guilty of.\\n\"]"
      ]
     },
     "execution_count": 40,
     "metadata": {},
     "output_type": "execute_result"
    }
   ],
   "source": [
    "vectorizer_tfidf = TfidfVectorizer(stop_words=\"english\")\n",
    "vectors_tfidf = vectorizer_tfidf.fit_transform(newsgroups_train.data)  # (documents, vocab)\n",
    "\n",
    "newsgroups_train.data[10:20]"
   ]
  },
  {
   "cell_type": "code",
   "execution_count": 41,
   "id": "f05068b8",
   "metadata": {},
   "outputs": [
    {
     "name": "stderr",
     "output_type": "stream",
     "text": [
      "/usr/local/lib/python3.7/site-packages/sklearn/decomposition/_nmf.py:315: FutureWarning: The 'init' value, when 'init=None' and n_components is less than n_samples and n_features, will be changed from 'nndsvd' to 'nndsvda' in 1.1 (renaming of 0.26).\n",
      "  \"'nndsvda' in 1.1 (renaming of 0.26).\"), FutureWarning)\n"
     ]
    },
    {
     "data": {
      "text/plain": [
       "['people don think just like objective say morality',\n",
       " 'graphics thanks files image file program windows know',\n",
       " 'space nasa launch shuttle orbit moon lunar earth',\n",
       " 'ico bobbe tek beauchaine bronx manhattan sank queens',\n",
       " 'god jesus bible believe christian atheism does belief']"
      ]
     },
     "execution_count": 41,
     "metadata": {},
     "output_type": "execute_result"
    }
   ],
   "source": [
    "W1 = clf.fit_transform(vectors_tfidf)\n",
    "H1 = clf.components_\n",
    "\n",
    "show_topics(H1)"
   ]
  },
  {
   "cell_type": "code",
   "execution_count": 42,
   "id": "8655d7c0",
   "metadata": {},
   "outputs": [
    {
     "data": {
      "text/plain": [
       "[<matplotlib.lines.Line2D at 0x7fe4f5cdcc90>]"
      ]
     },
     "execution_count": 42,
     "metadata": {},
     "output_type": "execute_result"
    },
    {
     "data": {
      "image/png": "[encoded data removed]",
      "text/plain": [
       "<Figure size 432x288 with 1 Axes>"
      ]
     },
     "metadata": {
      "needs_background": "light"
     },
     "output_type": "display_data"
    }
   ],
   "source": [
    "plt.plot(clf.components_[0])"
   ]
  },
  {
   "cell_type": "code",
   "execution_count": 43,
   "id": "a49f884e",
   "metadata": {},
   "outputs": [
    {
     "data": {
      "text/plain": [
       "43.712926057952785"
      ]
     },
     "execution_count": 43,
     "metadata": {},
     "output_type": "execute_result"
    }
   ],
   "source": [
    "clf.reconstruction_err_"
   ]
  },
  {
   "cell_type": "markdown",
   "id": "3f552c00",
   "metadata": {},
   "source": [
    "SVD is unique decomposition, NMF **is not**. \n",
    "\n",
    "## Truncated SVD"
   ]
  },
  {
   "cell_type": "code",
   "execution_count": 48,
   "id": "8b9ab688",
   "metadata": {},
   "outputs": [
    {
     "name": "stdout",
     "output_type": "stream",
     "text": [
      "CPU times: user 1min 4s, sys: 24.5 s, total: 1min 29s\n",
      "Wall time: 1min 4s\n"
     ]
    }
   ],
   "source": [
    "%time u, s, v = np.linalg.svd(vectors, full_matrices=False)"
   ]
  },
  {
   "cell_type": "code",
   "execution_count": 47,
   "id": "67f90b0a",
   "metadata": {},
   "outputs": [],
   "source": [
    "from sklearn import decomposition\n",
    "import fbpca"
   ]
  },
  {
   "cell_type": "code",
   "execution_count": 49,
   "id": "83a533fe",
   "metadata": {},
   "outputs": [
    {
     "name": "stdout",
     "output_type": "stream",
     "text": [
      "CPU times: user 11.9 s, sys: 31.7 s, total: 43.6 s\n",
      "Wall time: 58.2 s\n"
     ]
    }
   ],
   "source": [
    "%time u, s, v = decomposition.randomized_svd(vectors, 10)"
   ]
  },
  {
   "cell_type": "markdown",
   "id": "38936cd2",
   "metadata": {},
   "source": [
    "Using fbpca"
   ]
  },
  {
   "cell_type": "code",
   "execution_count": 50,
   "id": "8f229c94",
   "metadata": {},
   "outputs": [
    {
     "name": "stdout",
     "output_type": "stream",
     "text": [
      "CPU times: user 1.81 s, sys: 1.14 s, total: 2.94 s\n",
      "Wall time: 1.84 s\n"
     ]
    }
   ],
   "source": [
    "%time u, s, v = fbpca.pca(vectors, 10)"
   ]
  },
  {
   "cell_type": "markdown",
   "id": "c9380626",
   "metadata": {},
   "source": [
    "# 2b: Odds and Ends"
   ]
  },
  {
   "cell_type": "code",
   "execution_count": 51,
   "id": "6ca13209",
   "metadata": {},
   "outputs": [
    {
     "data": {
      "image/jpeg": "[encoded data removed]",
      "text/html": [
       "\n",
       "        <iframe\n",
       "            width=\"400\"\n",
       "            height=\"300\"\n",
       "            src=\"https://www.youtube.com/embed/kYB8IZa5AuE\"\n",
       "            frameborder=\"0\"\n",
       "            allowfullscreen\n",
       "        ></iframe>\n",
       "        "
      ],
      "text/plain": [
       "<IPython.lib.display.YouTubeVideo at 0x7fe4f5c76050>"
      ]
     },
     "execution_count": 51,
     "metadata": {},
     "output_type": "execute_result"
    }
   ],
   "source": [
    "from IPython.display import YouTubeVideo\n",
    "YouTubeVideo(\"kYB8IZa5AuE\")"
   ]
  },
  {
   "cell_type": "code",
   "execution_count": 3,
   "id": "15829588",
   "metadata": {},
   "outputs": [],
   "source": [
    "import numpy as np\n",
    "from sklearn.feature_extraction.text import CountVectorizer, TfidfVectorizer\n",
    "from sklearn import decomposition\n",
    "from glob import glob\n",
    "import os"
   ]
  },
  {
   "cell_type": "code",
   "execution_count": 4,
   "id": "4db15c1b",
   "metadata": {},
   "outputs": [
    {
     "data": {
      "text/plain": [
       "27"
      ]
     },
     "execution_count": 4,
     "metadata": {},
     "output_type": "execute_result"
    }
   ],
   "source": [
    "filenames = []\n",
    "for folder in [\"british-fiction-corpus\"]:  # \"french-plays\", \"hugo-les-misérables\"\n",
    "    filenames.extend(glob(folder + \"/*.txt\"))\n",
    "    \n",
    "len(filenames)"
   ]
  },
  {
   "cell_type": "code",
   "execution_count": 5,
   "id": "0a064b04",
   "metadata": {},
   "outputs": [
    {
     "data": {
      "text/plain": [
       "((27, 55035), 55035)"
      ]
     },
     "execution_count": 5,
     "metadata": {},
     "output_type": "execute_result"
    }
   ],
   "source": [
    "vectorizer = TfidfVectorizer(input=\"filename\", stop_words=\"english\")\n",
    "dtm = vectorizer.fit_transform(filenames).toarray()\n",
    "vocab = np.array(vectorizer.get_feature_names())\n",
    "dtm.shape, len(vocab)"
   ]
  },
  {
   "cell_type": "code",
   "execution_count": 6,
   "id": "4e0c14e2",
   "metadata": {},
   "outputs": [
    {
     "data": {
      "text/plain": [
       "['Thackeray_Vanity.txt',\n",
       " 'Eliot_Middlemarch.txt',\n",
       " 'Fielding_Tom.txt',\n",
       " 'Eliot_Adam.txt',\n",
       " 'CBronte_Jane.txt',\n",
       " 'Fielding_Joseph.txt',\n",
       " 'ABronte_Agnes.txt',\n",
       " 'Richardson_Clarissa.txt',\n",
       " 'CBronte_Professor.txt',\n",
       " 'Austen_Pride.txt',\n",
       " 'Sterne_Tristram.txt',\n",
       " 'Austen_Emma.txt',\n",
       " 'Trollope_Phineas.txt',\n",
       " 'EBronte_Wuthering.txt',\n",
       " 'Thackeray_Pendennis.txt',\n",
       " 'Dickens_Hard.txt',\n",
       " 'Richardson_Pamela.txt',\n",
       " 'Dickens_David.txt',\n",
       " 'Thackeray_Barry.txt',\n",
       " 'Trollope_Barchester.txt',\n",
       " 'ABronte_Tenant.txt',\n",
       " 'Dickens_Bleak.txt',\n",
       " 'Sterne_Sentimental.txt',\n",
       " 'Trollope_Prime.txt',\n",
       " 'Eliot_Mill.txt',\n",
       " 'Austen_Sense.txt',\n",
       " 'CBronte_Villette.txt']"
      ]
     },
     "execution_count": 6,
     "metadata": {},
     "output_type": "execute_result"
    }
   ],
   "source": [
    "from pathlib import Path\n",
    "filenames = [Path(f) for f in filenames]\n",
    "\n",
    "[f.name for f in filenames]"
   ]
  },
  {
   "cell_type": "markdown",
   "id": "72ab23c6",
   "metadata": {},
   "source": [
    "### NMF"
   ]
  },
  {
   "cell_type": "code",
   "execution_count": 11,
   "id": "1dcd2cbc",
   "metadata": {},
   "outputs": [
    {
     "name": "stderr",
     "output_type": "stream",
     "text": [
      "/usr/local/lib/python3.7/site-packages/sklearn/decomposition/_nmf.py:315: FutureWarning: The 'init' value, when 'init=None' and n_components is less than n_samples and n_features, will be changed from 'nndsvd' to 'nndsvda' in 1.1 (renaming of 0.26).\n",
      "  \"'nndsvda' in 1.1 (renaming of 0.26).\"), FutureWarning)\n"
     ]
    }
   ],
   "source": [
    "clf = decomposition.NMF(n_components=10, random_state=1)\n",
    "\n",
    "W1 = clf.fit_transform(dtm)\n",
    "H1 = clf.components_\n",
    "\n",
    "num_top_words = 8\n",
    "\n",
    "\n",
    "def show_topics(a):\n",
    "    top_words = lambda t: [vocab[i] for i in np.argsort(t)[:-num_top_words-1:-1]]\n",
    "    topic_words = ([top_words(t) for t in a])\n",
    "    return [' '.join(t) for t in topic_words]\n",
    "\n",
    "\n",
    "def get_all_topic_words(H):\n",
    "    top_indices = lambda t: {i for i in np.argsort(t)[:-num_top_words-1:-1]}\n",
    "    topic_indices = [top_indices(t) for t in H]\n",
    "    return sorted(set.union(*topic_indices))"
   ]
  },
  {
   "cell_type": "code",
   "execution_count": 12,
   "id": "3c719dd7",
   "metadata": {},
   "outputs": [
    {
     "data": {
      "text/plain": [
       "array(['adams', 'allworthy', 'bounderby', 'brandon', 'catherine', 'cathy',\n",
       "       'corporal', 'crawley', 'darcy', 'dashwood', 'did', 'earnshaw',\n",
       "       'edgar', 'elinor', 'elizabeth', 'elton', 'emma', 'father',\n",
       "       'ferrars', 'glegg', 'good', 'gradgrind', 'hareton', 'heathcliff',\n",
       "       'jennings', 'jones', 'joseph', 'knightley', 'know', 'lady', 'like',\n",
       "       'linton', 'little', 'll', 'lopez', 'louisa', 'lyndon', 'maggie',\n",
       "       'man', 'marianne', 'miss', 'mr', 'mrs', 'old', 'osborne',\n",
       "       'pendennis', 'philip', 'phineas', 'quoth', 'said', 'sissy',\n",
       "       'sophia', 'sparsit', 'stephen', 'think', 'thought', 'time', 'tis',\n",
       "       'toby', 'tom', 'trim', 'tulliver', 'uncle', 'wakem', 'weston',\n",
       "       'willoughby'], dtype='<U31')"
      ]
     },
     "execution_count": 12,
     "metadata": {},
     "output_type": "execute_result"
    }
   ],
   "source": [
    "ind = get_all_topic_words(H1)\n",
    "vocab[ind]"
   ]
  },
  {
   "cell_type": "code",
   "execution_count": 13,
   "id": "cb9b742c",
   "metadata": {},
   "outputs": [
    {
     "data": {
      "text/plain": [
       "['mr said phineas man lopez know mrs think',\n",
       " 'said little like did time know good thought',\n",
       " 'adams jones said allworthy lady sophia mr joseph',\n",
       " 'mr darcy emma weston knightley miss elton elizabeth',\n",
       " 'toby said uncle father corporal quoth tis trim',\n",
       " 'elinor marianne dashwood jennings willoughby mrs brandon ferrars',\n",
       " 'maggie tulliver said tom glegg philip mr wakem',\n",
       " 'heathcliff linton hareton catherine earnshaw cathy edgar ll',\n",
       " 'bounderby gradgrind sparsit said mr sissy louisa stephen',\n",
       " 'said crawley lyndon pendennis old little osborne lady']"
      ]
     },
     "execution_count": 13,
     "metadata": {},
     "output_type": "execute_result"
    }
   ],
   "source": [
    "show_topics(H1)"
   ]
  },
  {
   "cell_type": "code",
   "execution_count": 14,
   "id": "80ebd51e",
   "metadata": {},
   "outputs": [
    {
     "data": {
      "text/plain": [
       "((27, 10), (10, 66))"
      ]
     },
     "execution_count": 14,
     "metadata": {},
     "output_type": "execute_result"
    }
   ],
   "source": [
    "W1.shape, H1[:, ind].shape"
   ]
  },
  {
   "cell_type": "markdown",
   "id": "d19e08df",
   "metadata": {},
   "source": [
    "#### Export to CSVs"
   ]
  },
  {
   "cell_type": "code",
   "execution_count": 15,
   "id": "3da8092d",
   "metadata": {},
   "outputs": [],
   "source": [
    "from IPython.display import FileLink, FileLinks"
   ]
  },
  {
   "cell_type": "code",
   "execution_count": 23,
   "id": "68e6ef96",
   "metadata": {},
   "outputs": [],
   "source": [
    "def savelink(filename, file):\n",
    "    np.savetxt(filename, file, delimiter=\",\", fmt=\"%.14f\")\n",
    "    return FileLink(filename)"
   ]
  },
  {
   "cell_type": "code",
   "execution_count": 33,
   "id": "4eeba8d9",
   "metadata": {},
   "outputs": [
    {
     "data": {
      "text/html": [
       "<a href='output/britlit_W.csv' target='_blank'>output/britlit_W.csv</a><br>"
      ],
      "text/plain": [
       "/home/nt-user/workspace/output/britlit_W.csv"
      ]
     },
     "execution_count": 33,
     "metadata": {},
     "output_type": "execute_result"
    }
   ],
   "source": [
    "savelink(\"output/britlit_W.csv\", W1)"
   ]
  },
  {
   "cell_type": "code",
   "execution_count": 34,
   "id": "add111d8",
   "metadata": {},
   "outputs": [
    {
     "data": {
      "text/html": [
       "<a href='output/britlit_H.csv' target='_blank'>output/britlit_H.csv</a><br>"
      ],
      "text/plain": [
       "/home/nt-user/workspace/output/britlit_H.csv"
      ]
     },
     "execution_count": 34,
     "metadata": {},
     "output_type": "execute_result"
    }
   ],
   "source": [
    "savelink(\"output/britlit_H.csv\", H1[:, ind])"
   ]
  },
  {
   "cell_type": "code",
   "execution_count": 35,
   "id": "1d22d913",
   "metadata": {},
   "outputs": [
    {
     "data": {
      "text/html": [
       "<a href='output/britlit_raw.csv' target='_blank'>output/britlit_raw.csv</a><br>"
      ],
      "text/plain": [
       "/home/nt-user/workspace/output/britlit_raw.csv"
      ]
     },
     "execution_count": 35,
     "metadata": {},
     "output_type": "execute_result"
    }
   ],
   "source": [
    "savelink(\"output/britlit_raw.csv\", dtm[:, ind])"
   ]
  },
  {
   "cell_type": "code",
   "execution_count": 19,
   "id": "8ae60150",
   "metadata": {},
   "outputs": [
    {
     "data": {
      "text/plain": [
       "array(['adams', 'allworthy', 'bounderby', 'brandon', 'catherine', 'cathy',\n",
       "       'corporal', 'crawley', 'darcy', 'dashwood', 'did', 'earnshaw',\n",
       "       'edgar', 'elinor', 'elizabeth', 'elton', 'emma', 'father',\n",
       "       'ferrars', 'glegg', 'good', 'gradgrind', 'hareton', 'heathcliff',\n",
       "       'jennings', 'jones', 'joseph', 'knightley', 'know', 'lady', 'like',\n",
       "       'linton', 'little', 'll', 'lopez', 'louisa', 'lyndon', 'maggie',\n",
       "       'man', 'marianne', 'miss', 'mr', 'mrs', 'old', 'osborne',\n",
       "       'pendennis', 'philip', 'phineas', 'quoth', 'said', 'sissy',\n",
       "       'sophia', 'sparsit', 'stephen', 'think', 'thought', 'time', 'tis',\n",
       "       'toby', 'tom', 'trim', 'tulliver', 'uncle', 'wakem', 'weston',\n",
       "       'willoughby'], dtype='<U10')"
      ]
     },
     "execution_count": 19,
     "metadata": {},
     "output_type": "execute_result"
    }
   ],
   "source": [
    "np.array([str(word) for word in vocab[ind]])"
   ]
  },
  {
   "cell_type": "markdown",
   "id": "0e8d8169",
   "metadata": {},
   "source": [
    "#### SVD"
   ]
  },
  {
   "cell_type": "code",
   "execution_count": 20,
   "id": "ce352a13",
   "metadata": {},
   "outputs": [
    {
     "data": {
      "text/plain": [
       "45"
      ]
     },
     "execution_count": 20,
     "metadata": {},
     "output_type": "execute_result"
    }
   ],
   "source": [
    "U, s, V = decomposition.randomized_svd(dtm, 10)\n",
    "ind = get_all_topic_words(V)\n",
    "len(ind)"
   ]
  },
  {
   "cell_type": "code",
   "execution_count": 21,
   "id": "d50fbd80",
   "metadata": {},
   "outputs": [
    {
     "data": {
      "text/plain": [
       "array(['adams', 'allworthy', 'bounderby', 'catherine', 'crawley',\n",
       "       'crimsworth', 'darcy', 'dashwood', 'did', 'elinor', 'elton',\n",
       "       'emma', 'fleur', 'good', 'hareton', 'heathcliff', 'hunsden',\n",
       "       'jennings', 'jones', 'joseph', 'knightley', 'know', 'lady',\n",
       "       'linton', 'little', 'lopez', 'madame', 'maggie', 'man', 'marianne',\n",
       "       'mdlle', 'miss', 'monsieur', 'mr', 'mrs', 'osborne', 'pelet',\n",
       "       'phineas', 'said', 'sophia', 'toby', 'tom', 'tulliver', 'uncle',\n",
       "       'weston'], dtype='<U31')"
      ]
     },
     "execution_count": 21,
     "metadata": {},
     "output_type": "execute_result"
    }
   ],
   "source": [
    "vocab[ind]"
   ]
  },
  {
   "cell_type": "code",
   "execution_count": 22,
   "id": "660b4159",
   "metadata": {},
   "outputs": [
    {
     "data": {
      "text/plain": [
       "['mr said phineas man lopez know mrs think',\n",
       " 'said little like did time know good thought',\n",
       " 'adams jones said allworthy lady sophia mr joseph',\n",
       " 'mr darcy emma weston knightley miss elton elizabeth',\n",
       " 'toby said uncle father corporal quoth tis trim',\n",
       " 'elinor marianne dashwood jennings willoughby mrs brandon ferrars',\n",
       " 'maggie tulliver said tom glegg philip mr wakem',\n",
       " 'heathcliff linton hareton catherine earnshaw cathy edgar ll',\n",
       " 'bounderby gradgrind sparsit said mr sissy louisa stephen',\n",
       " 'said crawley lyndon pendennis old little osborne lady']"
      ]
     },
     "execution_count": 22,
     "metadata": {},
     "output_type": "execute_result"
    }
   ],
   "source": [
    "show_topics(H1)"
   ]
  },
  {
   "cell_type": "code",
   "execution_count": 29,
   "id": "d1864adc",
   "metadata": {},
   "outputs": [
    {
     "data": {
      "text/html": [
       "<a href='output/britlit_U.csv' target='_blank'>output/britlit_U.csv</a><br>"
      ],
      "text/plain": [
       "/home/nt-user/workspace/output/britlit_U.csv"
      ]
     },
     "execution_count": 29,
     "metadata": {},
     "output_type": "execute_result"
    }
   ],
   "source": [
    "savelink(\"output/britlit_U.csv\", U)"
   ]
  },
  {
   "cell_type": "code",
   "execution_count": 30,
   "id": "2f4a5e7e",
   "metadata": {},
   "outputs": [
    {
     "data": {
      "text/html": [
       "<a href='output/britlit_V.csv' target='_blank'>output/britlit_V.csv</a><br>"
      ],
      "text/plain": [
       "/home/nt-user/workspace/output/britlit_V.csv"
      ]
     },
     "execution_count": 30,
     "metadata": {},
     "output_type": "execute_result"
    }
   ],
   "source": [
    "savelink(\"output/britlit_V.csv\", V[:,ind])"
   ]
  },
  {
   "cell_type": "code",
   "execution_count": 31,
   "id": "8ac6b7a3",
   "metadata": {},
   "outputs": [
    {
     "data": {
      "text/html": [
       "<a href='output/britlit_raw_svd.csv' target='_blank'>output/britlit_raw_svd.csv</a><br>"
      ],
      "text/plain": [
       "/home/nt-user/workspace/output/britlit_raw_svd.csv"
      ]
     },
     "execution_count": 31,
     "metadata": {},
     "output_type": "execute_result"
    }
   ],
   "source": [
    "savelink(\"output/britlit_raw_svd.csv\", dtm[:, ind])"
   ]
  },
  {
   "cell_type": "code",
   "execution_count": 32,
   "id": "1d16c7d9",
   "metadata": {},
   "outputs": [
    {
     "data": {
      "text/html": [
       "<a href='output/britlit_S.csv' target='_blank'>output/britlit_S.csv</a><br>"
      ],
      "text/plain": [
       "/home/nt-user/workspace/output/britlit_S.csv"
      ]
     },
     "execution_count": 32,
     "metadata": {},
     "output_type": "execute_result"
    }
   ],
   "source": [
    "savelink(\"output/britlit_S.csv\", np.diag(s))"
   ]
  },
  {
   "cell_type": "code",
   "execution_count": 36,
   "id": "2c8523e3",
   "metadata": {},
   "outputs": [
    {
     "data": {
      "text/plain": [
       "array(['adams', 'allworthy', 'bounderby', 'catherine', 'crawley',\n",
       "       'crimsworth', 'darcy', 'dashwood', 'did', 'elinor', 'elton',\n",
       "       'emma', 'fleur', 'good', 'hareton', 'heathcliff', 'hunsden',\n",
       "       'jennings', 'jones', 'joseph', 'knightley', 'know', 'lady',\n",
       "       'linton', 'little', 'lopez', 'madame', 'maggie', 'man', 'marianne',\n",
       "       'mdlle', 'miss', 'monsieur', 'mr', 'mrs', 'osborne', 'pelet',\n",
       "       'phineas', 'said', 'sophia', 'toby', 'tom', 'tulliver', 'uncle',\n",
       "       'weston'], dtype='<U10')"
      ]
     },
     "execution_count": 36,
     "metadata": {},
     "output_type": "execute_result"
    }
   ],
   "source": [
    "np.array([str(word) for word in vocab[ind]])"
   ]
  },
  {
   "cell_type": "code",
   "execution_count": null,
   "id": "ca798ee6",
   "metadata": {},
   "outputs": [],
   "source": []
  }
 ],
 "metadata": {
  "kernelspec": {
   "display_name": "Python 3",
   "language": "python",
   "name": "python3"
  },
  "language_info": {
   "codemirror_mode": {
    "name": "ipython",
    "version": 3
   },
   "file_extension": ".py",
   "mimetype": "text/x-python",
   "name": "python",
   "nbconvert_exporter": "python",
   "pygments_lexer": "ipython3",
   "version": "3.7.4"
  }
 },
 "nbformat": 4,
 "nbformat_minor": 5
}
