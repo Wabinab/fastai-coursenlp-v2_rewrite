{
 "cells": [
  {
   "cell_type": "markdown",
   "source": [
    "#### Chapter 8: Attention and the Transformer\n",
    "*RNN is losing its luster with researchers.*\n",
    "\n",
    "RNNs can be a pain: parallelization can be tricky and they can be difficult to debug. Attention have achieving state of the art results on NLP. Convolutions may beat attention on some tasks, including English to German translation. Perhaps various strengths of RNNs, CNNs, and transformers/attention combine the best of each. \n",
    "\n",
    "## NOTE: \n",
    "This notebook easily gets out of memory error. In order to run without restarting jupyter notebook, choose one of the following: \n",
    "- Decreasing batch size until you can run both without CUDA OOM. \n",
    "- Deleting unneeded `learn`, etc. This is already done in this notebook (hopefully) to reduce memory wastage. However, this is not certain. Sometimes it takes time before python's internal program clear its cache, especially for GPU. Even `torch.cuda.empty_cache()` is not certain. It is unsure whether proper delete will make it certain. \n",
    "- Use a GPU with large Memory. Ideally, you need 18GB (predicted) to run properly. Better, get a GPU instance with 40GB or more, just to make sure it runs without human intervention. (You could rent one of the A6000 instances on [Datacrunch.io](https://datacrunch.io/) for $1.10 per hour, and you can use jupyter notebook with fastai image already provided by DataCrunch, or [follow this guide to set it up yourself](https://wabinab.github.io/2021/06/30/Setting-up-Datacrunch.io-from-scratch.html) ).\n",
    "\n",
    "The Kaggle notebook is [here](https://www.kaggle.com/wabinab/fastai-nlp-chapter-8)"
   ],
   "metadata": {
    "papermill": {
     "duration": 0.035959,
     "end_time": "2021-09-18T07:03:09.918808",
     "exception": false,
     "start_time": "2021-09-18T07:03:09.882849",
     "status": "completed"
    },
    "tags": []
   }
  },
  {
   "cell_type": "code",
   "execution_count": 1,
   "source": [
    "from fastai.text.all import *\n",
    "# from utils import *\n",
    "from nlp_utils import *  # different name used in Kaggle platform\n",
    "from IPython.display import clear_output\n",
    "\n",
    "path = Path(\"../input/nlp-fastai-dataset-chapter-8\")\n",
    "path.ls()"
   ],
   "outputs": [
    {
     "output_type": "execute_result",
     "data": {
      "text/plain": [
       "(#1) [Path('../input/nlp-fastai-dataset-chapter-8/questions_easy.csv')]"
      ]
     },
     "metadata": {},
     "execution_count": 1
    }
   ],
   "metadata": {
    "execution": {
     "iopub.execute_input": "2021-09-18T07:03:09.990616Z",
     "iopub.status.busy": "2021-09-18T07:03:09.989036Z",
     "iopub.status.idle": "2021-09-18T07:03:17.434492Z",
     "shell.execute_reply": "2021-09-18T07:03:17.434919Z",
     "shell.execute_reply.started": "2021-09-18T06:52:31.346962Z"
    },
    "papermill": {
     "duration": 7.482847,
     "end_time": "2021-09-18T07:03:17.435250",
     "exception": false,
     "start_time": "2021-09-18T07:03:09.952403",
     "status": "completed"
    },
    "tags": []
   }
  },
  {
   "cell_type": "markdown",
   "source": [
    "It seems like too short a sequence length doesn't give good values here? (unsure) So we use the default sequence length. "
   ],
   "metadata": {
    "papermill": {
     "duration": 0.033121,
     "end_time": "2021-09-18T07:03:17.503062",
     "exception": false,
     "start_time": "2021-09-18T07:03:17.469941",
     "status": "completed"
    },
    "tags": []
   }
  },
  {
   "cell_type": "code",
   "execution_count": 2,
   "source": [
    "df = pd.read_csv(path/\"questions_easy.csv\")\n",
    "df[\"en\"] = df[\"en\"].apply(lambda x: x.lower())\n",
    "df[\"fr\"] = df[\"fr\"].apply(lambda x: x.lower())\n",
    "\n",
    "sl = 72\n",
    "\n",
    "dls = DataBlock(\n",
    "    blocks=(TextBlock.from_df(\"fr\", seq_len=sl, tok=SpacyTokenizer(\"fr\")), \n",
    "            TextBlock.from_df(\"en\", seq_len=sl, tok=SpacyTokenizer(\"en\"))),\n",
    "    get_x=ColReader(\"text\"), get_y=ColReader(\"text\"),\n",
    "    splitter=RandomSplitter(0.1)\n",
    ").dataloaders(df, bs=64, num_workers=os.cpu_count(), seq_len=sl)\n",
    "dls.show_batch(max_n=2)"
   ],
   "outputs": [
    {
     "output_type": "display_data",
     "data": {
      "text/plain": [
       "<IPython.core.display.HTML object>"
      ],
      "text/html": []
     },
     "metadata": {}
    },
    {
     "output_type": "stream",
     "name": "stderr",
     "text": [
      "/opt/conda/lib/python3.7/site-packages/numpy/core/_asarray.py:83: VisibleDeprecationWarning: Creating an ndarray from ragged nested sequences (which is a list-or-tuple of lists-or-tuples-or ndarrays with different lengths or shapes) is deprecated. If you meant to do this, you must specify 'dtype=object' when creating the ndarray\n",
      "  return array(a, dtype, copy=False, order=order)\n"
     ]
    },
    {
     "output_type": "display_data",
     "data": {
      "text/plain": [
       "<IPython.core.display.HTML object>"
      ],
      "text/html": []
     },
     "metadata": {}
    },
    {
     "output_type": "display_data",
     "data": {
      "text/plain": [
       "<IPython.core.display.HTML object>"
      ],
      "text/html": [
       "<table border=\"1\" class=\"dataframe\">\n",
       "  <thead>\n",
       "    <tr style=\"text-align: right;\">\n",
       "      <th></th>\n",
       "      <th>text</th>\n",
       "      <th>text_</th>\n",
       "    </tr>\n",
       "  </thead>\n",
       "  <tbody>\n",
       "    <tr>\n",
       "      <th>0</th>\n",
       "      <td>xxbos dans un tel cas , où il s’ agit d ’ apprécier si un nom commercial a un fondement juridique antérieur à celui d ’ une marque aux fins de l’ article 16 , paragraphe 1 , troisième phrase , de l’ accord adpic , peut -on considérer comme décisif : i ) le fait que , dans l’ état où la marque est enregistrée et sa protection réclamée , le nom commercial ait été , du moins dans une certaine mesure , connu dans les milieux professionnels xxunk xxunk de l’ état concerné avant la date à laquelle l’ enregistrement de la marque y a été demandé ; ou que , dans les relations commerciales intéressant l’ état où la marque est xxunk ée et sa protection réclamée , le nom commercial ait été utilisé avant la date à laquelle l’ enregistrement de la marque a été demandé</td>\n",
       "      <td>xxbos when assessing , in such a case , whether a trade name has a legal basis prior to a trade mark for the purposes of the third sentence of article 16(1 ) of the trips agreement , may it thus be considered as decisive : ( i ) whether the trade name was well known at least to some extent among the relevant trade circles in the state in which the trade mark is registered and in which protection is sought for it , before the point in time at which registration of the trade mark was applied for in the state in question ; or whether the trade name was used in commerce directed to the state in which the trade mark is registered and in which protection is sought for it , before the point in time at which registration of the trade mark was applied for in the state in question ; or what other factor may decide whether the trade name is to be regarded as an existing prior right within the meaning of the third sentence of article 16(1 ) of the trips agreement ?</td>\n",
       "    </tr>\n",
       "    <tr>\n",
       "      <th>1</th>\n",
       "      <td>xxbos que nous disent les médias au sujet de ses antécédents , de son patrimoine et de sa culture , des conditions dans lesquelles elle a grandi et a vécu ses années d’ adolescence ( lorsqu’ elle a commencé à xxunk des xxunk de solvants ) , des facteurs qui ont déclenché sa toxicomanie , de sa vie familiale , de l’ appui de son réseau de soutien social , de ses tentatives de traitement , de rétablissement et de guérison , de ses sentiments face à la maternité , de sa lutte contre la pauvreté , de son opinion quant au traitement approprié et utile , de ses aspirations ?</td>\n",
       "      <td>xxbos what does the media tell us about her background , her heritage and culture , the conditions in which she grew up and lived as an adolescent ( when her solvent addiction began ) , the precipitating factors leading to her solvent use , her family life , her social support network , her attempts at treatment , recovery and healing , her feelings about motherhood , her struggles living in poverty , her views on what appropriate and useful treatment would be , and her aspirations ?</td>\n",
       "    </tr>\n",
       "  </tbody>\n",
       "</table>"
      ]
     },
     "metadata": {}
    }
   ],
   "metadata": {
    "execution": {
     "iopub.execute_input": "2021-09-18T07:03:17.577086Z",
     "iopub.status.busy": "2021-09-18T07:03:17.576318Z",
     "iopub.status.idle": "2021-09-18T07:04:57.541758Z",
     "shell.execute_reply": "2021-09-18T07:04:57.542291Z",
     "shell.execute_reply.started": "2021-09-18T06:52:38.629709Z"
    },
    "papermill": {
     "duration": 100.006293,
     "end_time": "2021-09-18T07:04:57.542455",
     "exception": false,
     "start_time": "2021-09-18T07:03:17.536162",
     "status": "completed"
    },
    "tags": []
   }
  },
  {
   "cell_type": "markdown",
   "source": [
    "## Transformer Model\n",
    "### Shifting\n",
    "We add transform to dataloader that shifts the targets right and adds a padding at the beginning. "
   ],
   "metadata": {
    "papermill": {
     "duration": 0.033532,
     "end_time": "2021-09-18T07:04:57.610698",
     "exception": false,
     "start_time": "2021-09-18T07:04:57.577166",
     "status": "completed"
    },
    "tags": []
   }
  },
  {
   "cell_type": "code",
   "execution_count": 3,
   "source": [
    "v = dls.vocab[0]\n",
    "stoi(v, \"xxpad\")"
   ],
   "outputs": [
    {
     "output_type": "execute_result",
     "data": {
      "text/plain": [
       "1"
      ]
     },
     "metadata": {},
     "execution_count": 3
    }
   ],
   "metadata": {
    "execution": {
     "iopub.execute_input": "2021-09-18T07:04:57.686745Z",
     "iopub.status.busy": "2021-09-18T07:04:57.683833Z",
     "iopub.status.idle": "2021-09-18T07:04:57.690348Z",
     "shell.execute_reply": "2021-09-18T07:04:57.690738Z",
     "shell.execute_reply.started": "2021-09-18T06:54:19.016344Z"
    },
    "papermill": {
     "duration": 0.046294,
     "end_time": "2021-09-18T07:04:57.690859",
     "exception": false,
     "start_time": "2021-09-18T07:04:57.644565",
     "status": "completed"
    },
    "tags": []
   }
  },
  {
   "cell_type": "markdown",
   "source": [
    "Due to how fastai v2 works differently, although we can modify the dls, however it doesn't give the expected output. In fact, `after_batch` in `Transform` only returns either `x` or `y` rather than a tuple of `(x, y)`, resulting in error. Therefore, what we could do is to instead do the transformations during Callback. "
   ],
   "metadata": {
    "papermill": {
     "duration": 0.034114,
     "end_time": "2021-09-18T07:04:57.759235",
     "exception": false,
     "start_time": "2021-09-18T07:04:57.725121",
     "status": "completed"
    },
    "tags": []
   }
  },
  {
   "cell_type": "code",
   "execution_count": 4,
   "source": [
    "def shift_tfm(b):\n",
    "    x, y = b\n",
    "    y = F.pad(y, (1, 0), value=1)\n",
    "    return [x, y[:, :-1]], y[:, 1:]\n",
    "\n",
    "# class ShiftTfm(Transform):\n",
    "#     def encodes(self, b): return shift_tfm(b)\n",
    "#     def decodes(self, b): return b\n",
    "\n",
    "class ShiftTfm(Callback):\n",
    "    def before_batch(self): \n",
    "        self.learn.xb, _ = shift_tfm((self.x, self.y))\n",
    "\n",
    "\n",
    "# dls.add_tfms([ShiftTfm()], \"after_batch\")"
   ],
   "outputs": [],
   "metadata": {
    "execution": {
     "iopub.execute_input": "2021-09-18T07:04:57.833823Z",
     "iopub.status.busy": "2021-09-18T07:04:57.833007Z",
     "iopub.status.idle": "2021-09-18T07:04:57.835048Z",
     "shell.execute_reply": "2021-09-18T07:04:57.835536Z",
     "shell.execute_reply.started": "2021-09-18T06:54:19.028990Z"
    },
    "papermill": {
     "duration": 0.042222,
     "end_time": "2021-09-18T07:04:57.835661",
     "exception": false,
     "start_time": "2021-09-18T07:04:57.793439",
     "status": "completed"
    },
    "tags": []
   }
  },
  {
   "cell_type": "markdown",
   "source": [
    "It seems that we are unsure where does the **original** of the second value of `shift_tfm` should be assigned to. One doesn't know. However, if we check, then we know that `y[:, 1:]` is actually the original target. Hence, the target we did not modify, we just modify `self.learn.xb` so we can leave it without assigning it to anything. "
   ],
   "metadata": {
    "papermill": {
     "duration": 0.034054,
     "end_time": "2021-09-18T07:04:57.904350",
     "exception": false,
     "start_time": "2021-09-18T07:04:57.870296",
     "status": "completed"
    },
    "tags": []
   }
  },
  {
   "cell_type": "markdown",
   "source": [
    "### Embeddings\n",
    "The input and output embeddings are traditional PyTorch embeddings (or pretrained vectors). Transformer model isn't recurrent, so it has no idea of relative positions of words. TO help with that, input embeddings a positional encoding used which is cosine of certain frequency. "
   ],
   "metadata": {
    "papermill": {
     "duration": 0.036227,
     "end_time": "2021-09-18T07:04:57.974581",
     "exception": false,
     "start_time": "2021-09-18T07:04:57.938354",
     "status": "completed"
    },
    "tags": []
   }
  },
  {
   "cell_type": "code",
   "execution_count": 5,
   "source": [
    "d = 30\n",
    "torch.arange(0., d, 2.) / d"
   ],
   "outputs": [
    {
     "output_type": "execute_result",
     "data": {
      "text/plain": [
       "tensor([0.0000, 0.0667, 0.1333, 0.2000, 0.2667, 0.3333, 0.4000, 0.4667, 0.5333,\n",
       "        0.6000, 0.6667, 0.7333, 0.8000, 0.8667, 0.9333])"
      ]
     },
     "metadata": {},
     "execution_count": 5
    }
   ],
   "metadata": {
    "execution": {
     "iopub.execute_input": "2021-09-18T07:04:58.046595Z",
     "iopub.status.busy": "2021-09-18T07:04:58.045998Z",
     "iopub.status.idle": "2021-09-18T07:04:58.075561Z",
     "shell.execute_reply": "2021-09-18T07:04:58.075139Z",
     "shell.execute_reply.started": "2021-09-18T06:54:19.039043Z"
    },
    "papermill": {
     "duration": 0.066889,
     "end_time": "2021-09-18T07:04:58.075662",
     "exception": false,
     "start_time": "2021-09-18T07:04:58.008773",
     "status": "completed"
    },
    "tags": []
   }
  },
  {
   "cell_type": "code",
   "execution_count": 6,
   "source": [
    "class PositionalEncoding(Module):\n",
    "    \"\"\"\n",
    "    Encode the position with a sinusoid. \n",
    "    \"\"\"\n",
    "    def __init__(self, d): \n",
    "        self.register_buffer(\"freq\", 1 / (1e4 ** (torch.arange(0., d, 2.) / d)))\n",
    "\n",
    "    def forward(self, pos):\n",
    "        inp = torch.ger(pos, self.freq)\n",
    "        enc = torch.cat([inp.sin(), inp.cos()], dim=-1)\n",
    "        return enc"
   ],
   "outputs": [],
   "metadata": {
    "execution": {
     "iopub.execute_input": "2021-09-18T07:04:58.150692Z",
     "iopub.status.busy": "2021-09-18T07:04:58.149950Z",
     "iopub.status.idle": "2021-09-18T07:04:58.151931Z",
     "shell.execute_reply": "2021-09-18T07:04:58.152389Z",
     "shell.execute_reply.started": "2021-09-18T06:54:19.073894Z"
    },
    "papermill": {
     "duration": 0.042588,
     "end_time": "2021-09-18T07:04:58.152503",
     "exception": false,
     "start_time": "2021-09-18T07:04:58.109915",
     "status": "completed"
    },
    "tags": []
   }
  },
  {
   "cell_type": "code",
   "execution_count": 7,
   "source": [
    "tst_enc = PositionalEncoding(20)\n",
    "res = tst_enc(torch.arange(0, 100).float())\n",
    "plt.figure(dpi=100)\n",
    "for i in range(1, 5): plt.plot(res[:, i])"
   ],
   "outputs": [
    {
     "output_type": "display_data",
     "data": {
      "text/plain": [
       "<Figure size 600x400 with 1 Axes>"
      ],
      "image/png": "[encoded data removed]"
     },
     "metadata": {
      "needs_background": "light"
     }
    }
   ],
   "metadata": {
    "execution": {
     "iopub.execute_input": "2021-09-18T07:04:58.226332Z",
     "iopub.status.busy": "2021-09-18T07:04:58.225739Z",
     "iopub.status.idle": "2021-09-18T07:04:58.479444Z",
     "shell.execute_reply": "2021-09-18T07:04:58.478931Z",
     "shell.execute_reply.started": "2021-09-18T06:54:19.082411Z"
    },
    "papermill": {
     "duration": 0.292565,
     "end_time": "2021-09-18T07:04:58.479559",
     "exception": false,
     "start_time": "2021-09-18T07:04:58.186994",
     "status": "completed"
    },
    "tags": []
   }
  },
  {
   "cell_type": "code",
   "execution_count": 8,
   "source": [
    "res[:6, :6]"
   ],
   "outputs": [
    {
     "output_type": "execute_result",
     "data": {
      "text/plain": [
       "tensor([[ 0.0000,  0.0000,  0.0000,  0.0000,  0.0000,  0.0000],\n",
       "        [ 0.8415,  0.3877,  0.1578,  0.0631,  0.0251,  0.0100],\n",
       "        [ 0.9093,  0.7147,  0.3117,  0.1259,  0.0502,  0.0200],\n",
       "        [ 0.1411,  0.9300,  0.4578,  0.1882,  0.0753,  0.0300],\n",
       "        [-0.7568,  0.9998,  0.5923,  0.2497,  0.1003,  0.0400],\n",
       "        [-0.9589,  0.9132,  0.7121,  0.3103,  0.1253,  0.0500]])"
      ]
     },
     "metadata": {},
     "execution_count": 8
    }
   ],
   "metadata": {
    "execution": {
     "iopub.execute_input": "2021-09-18T07:04:58.557901Z",
     "iopub.status.busy": "2021-09-18T07:04:58.557130Z",
     "iopub.status.idle": "2021-09-18T07:04:58.561836Z",
     "shell.execute_reply": "2021-09-18T07:04:58.562309Z",
     "shell.execute_reply.started": "2021-09-18T06:54:19.343676Z"
    },
    "papermill": {
     "duration": 0.04621,
     "end_time": "2021-09-18T07:04:58.562428",
     "exception": false,
     "start_time": "2021-09-18T07:04:58.516218",
     "status": "completed"
    },
    "tags": []
   }
  },
  {
   "cell_type": "code",
   "execution_count": 9,
   "source": [
    "class TransformerEmbedding(Module):\n",
    "    \"Embedding + positional encoding + dropout\"\n",
    "    def __init__(self, vocab_sz, emb_sz, inp_p=0.):\n",
    "        super(TransformerEmbedding, self).__init__()\n",
    "        self.emb_sz = emb_sz\n",
    "        self.embed = embedding(vocab_sz, emb_sz)\n",
    "        self.pos_enc = PositionalEncoding(emb_sz)\n",
    "        self.drop = nn.Dropout(inp_p)\n",
    "        self._msq_emb_sz = math.sqrt(self.emb_sz)\n",
    "\n",
    "    def forward(self, inp):\n",
    "        pos = torch.arange(0, inp.size(1), device=inp.device).float()\n",
    "        return self.drop(self.embed(inp) * self._msq_emb_sz + self.pos_enc(pos))"
   ],
   "outputs": [],
   "metadata": {
    "execution": {
     "iopub.execute_input": "2021-09-18T07:04:58.638891Z",
     "iopub.status.busy": "2021-09-18T07:04:58.638142Z",
     "iopub.status.idle": "2021-09-18T07:04:58.644505Z",
     "shell.execute_reply": "2021-09-18T07:04:58.644929Z",
     "shell.execute_reply.started": "2021-09-18T06:54:19.356008Z"
    },
    "papermill": {
     "duration": 0.045737,
     "end_time": "2021-09-18T07:04:58.645074",
     "exception": false,
     "start_time": "2021-09-18T07:04:58.599337",
     "status": "completed"
    },
    "tags": []
   }
  },
  {
   "cell_type": "markdown",
   "source": [
    "### Feed Forward\n",
    "Two linear layers with skip connection and LayerNorm. "
   ],
   "metadata": {
    "papermill": {
     "duration": 0.036662,
     "end_time": "2021-09-18T07:04:58.718693",
     "exception": false,
     "start_time": "2021-09-18T07:04:58.682031",
     "status": "completed"
    },
    "tags": []
   }
  },
  {
   "cell_type": "code",
   "execution_count": 10,
   "source": [
    "def feed_forward(d_model, d_ff, ff_p=0., double_drop=True):\n",
    "    layers = [nn.Linear(d_model, d_ff), nn.ReLU()]\n",
    "    if double_drop: layers.append(nn.Dropout(ff_p))\n",
    "    return SequentialEx(*layers, nn.Linear(d_ff, d_model), nn.Dropout(ff_p),\n",
    "                MergeLayer(), nn.LayerNorm(d_model))"
   ],
   "outputs": [],
   "metadata": {
    "execution": {
     "iopub.execute_input": "2021-09-18T07:04:58.799744Z",
     "iopub.status.busy": "2021-09-18T07:04:58.798744Z",
     "iopub.status.idle": "2021-09-18T07:04:58.801330Z",
     "shell.execute_reply": "2021-09-18T07:04:58.800874Z",
     "shell.execute_reply.started": "2021-09-18T06:54:19.366549Z"
    },
    "papermill": {
     "duration": 0.04508,
     "end_time": "2021-09-18T07:04:58.801430",
     "exception": false,
     "start_time": "2021-09-18T07:04:58.756350",
     "status": "completed"
    },
    "tags": []
   }
  },
  {
   "cell_type": "markdown",
   "source": [
    "### Multi-head attention"
   ],
   "metadata": {
    "papermill": {
     "duration": 0.036755,
     "end_time": "2021-09-18T07:04:58.874796",
     "exception": false,
     "start_time": "2021-09-18T07:04:58.838041",
     "status": "completed"
    },
    "tags": []
   }
  },
  {
   "cell_type": "code",
   "execution_count": 11,
   "source": [
    "class MultiHeadAttention(Module):\n",
    "    def __init__(self, n_heads, d_model, d_head=None, p=0., bias=True, scale=True):\n",
    "        super(MultiHeadAttention, self).__init__()\n",
    "        d_head = ifnone(d_head, d_model // n_heads)\n",
    "        self.n_heads, self.d_head, self.scale = n_heads, d_head, scale\n",
    "        self.q_wgt, self.k_wgt, self.v_wgt = [nn.Linear(\n",
    "            d_model, n_heads * d_head, bias=bias\n",
    "        ) for o in range(3)]\n",
    "\n",
    "        self.out = nn.Linear(n_heads * d_head, d_model, bias=bias)\n",
    "        self.drop_att, self.drop_res = nn.Dropout(p), nn.Dropout(p)\n",
    "        self.ln = nn.LayerNorm(d_model)\n",
    "\n",
    "    def forward(self, q, kv, mask=None):\n",
    "        return self.ln(q + self.drop_res(self.out(\n",
    "            self._apply_attention(q, kv, mask=mask))))\n",
    "        \n",
    "    def create_attn_mat(self, x, layer, bs):\n",
    "        return layer(x).view(bs, x.size(1), self.n_heads, self.d_head\n",
    "                        ).permute(0, 2, 1, 3)\n",
    "\n",
    "    def _apply_attention(self, q, kv, mask=None):\n",
    "        bs, seq_len = q.size(0), q.size(1)\n",
    "        wq, wk, wv = map(lambda o: self.create_attn_mat(*o, bs),\n",
    "                        zip( (q, kv, kv), (self.q_wgt, self.k_wgt, self.v_wgt) ))\n",
    "        \n",
    "        attn_score = wq @ wk.transpose(2, 3)\n",
    "        if self.scale: attn_score /= math.sqrt(self.d_head)\n",
    "\n",
    "        if mask is not None:\n",
    "            attn_score = attn_score.float().masked_fill(mask, -float(\"inf\")) \\\n",
    "                                    .type_as(attn_score)\n",
    "\n",
    "        attn_prob = self.drop_att(F.softmax(attn_score, dim=-1))\n",
    "        attn_vec = attn_prob @ wv\n",
    "\n",
    "        return attn_vec.permute(0, 2, 1, 3).contiguous().view(bs, seq_len, -1)"
   ],
   "outputs": [],
   "metadata": {
    "execution": {
     "iopub.execute_input": "2021-09-18T07:04:58.962200Z",
     "iopub.status.busy": "2021-09-18T07:04:58.961400Z",
     "iopub.status.idle": "2021-09-18T07:04:58.963786Z",
     "shell.execute_reply": "2021-09-18T07:04:58.963399Z",
     "shell.execute_reply.started": "2021-09-18T06:54:19.376610Z"
    },
    "papermill": {
     "duration": 0.052071,
     "end_time": "2021-09-18T07:04:58.963886",
     "exception": false,
     "start_time": "2021-09-18T07:04:58.911815",
     "status": "completed"
    },
    "tags": []
   }
  },
  {
   "cell_type": "markdown",
   "source": [
    "## Masking\n",
    "The attention layer uses a mask to avoid paying attention to certain timesteps. First thing is we don't really want network to pay attention to padding, so we're going to mask it. Second is model isn't recurrent, we need to mask (in output) all tokens we're not supposed to see yet (otherwise cheating). "
   ],
   "metadata": {
    "papermill": {
     "duration": 0.036912,
     "end_time": "2021-09-18T07:04:59.037304",
     "exception": false,
     "start_time": "2021-09-18T07:04:59.000392",
     "status": "completed"
    },
    "tags": []
   }
  },
  {
   "cell_type": "code",
   "execution_count": 12,
   "source": [
    "def get_output_mask(inp, pad_idx=1):\n",
    "    return torch.triu(inp.new_ones((inp.size(1), inp.size(1))),\n",
    "    diagonal=1)[None, None].bool()\n",
    "\n",
    "\n",
    "torch.triu(torch.ones(10, 10), diagonal=1).bool()"
   ],
   "outputs": [
    {
     "output_type": "execute_result",
     "data": {
      "text/plain": [
       "tensor([[False,  True,  True,  True,  True,  True,  True,  True,  True,  True],\n",
       "        [False, False,  True,  True,  True,  True,  True,  True,  True,  True],\n",
       "        [False, False, False,  True,  True,  True,  True,  True,  True,  True],\n",
       "        [False, False, False, False,  True,  True,  True,  True,  True,  True],\n",
       "        [False, False, False, False, False,  True,  True,  True,  True,  True],\n",
       "        [False, False, False, False, False, False,  True,  True,  True,  True],\n",
       "        [False, False, False, False, False, False, False,  True,  True,  True],\n",
       "        [False, False, False, False, False, False, False, False,  True,  True],\n",
       "        [False, False, False, False, False, False, False, False, False,  True],\n",
       "        [False, False, False, False, False, False, False, False, False, False]])"
      ]
     },
     "metadata": {},
     "execution_count": 12
    }
   ],
   "metadata": {
    "execution": {
     "iopub.execute_input": "2021-09-18T07:04:59.117709Z",
     "iopub.status.busy": "2021-09-18T07:04:59.116957Z",
     "iopub.status.idle": "2021-09-18T07:04:59.122655Z",
     "shell.execute_reply": "2021-09-18T07:04:59.123061Z",
     "shell.execute_reply.started": "2021-09-18T06:54:19.393148Z"
    },
    "papermill": {
     "duration": 0.048983,
     "end_time": "2021-09-18T07:04:59.123178",
     "exception": false,
     "start_time": "2021-09-18T07:04:59.074195",
     "status": "completed"
    },
    "tags": []
   }
  },
  {
   "cell_type": "markdown",
   "source": [
    "### Encoder and Decoder Block\n",
    "Regroup layers in blocks. "
   ],
   "metadata": {
    "papermill": {
     "duration": 0.03718,
     "end_time": "2021-09-18T07:04:59.197333",
     "exception": false,
     "start_time": "2021-09-18T07:04:59.160153",
     "status": "completed"
    },
    "tags": []
   }
  },
  {
   "cell_type": "code",
   "execution_count": 13,
   "source": [
    "class EncoderBlock(Module):\n",
    "    \"\"\"Encoder block of Transformer Model.\"\"\"\n",
    "    def __init__(self, n_heads, d_model, d_head, d_inner, p=0., bias=True,\n",
    "                scale=True, double_drop=True):\n",
    "        super(EncoderBlock, self).__init__()\n",
    "        self.mha = MultiHeadAttention(n_heads, d_model, d_head, p=p, bias=bias,\n",
    "                    scale=scale)\n",
    "        self.ff = feed_forward(d_model, d_inner, ff_p=p, double_drop=double_drop)\n",
    "\n",
    "    def forward(self, x, mask=None): return self.ff(self.mha(x, x, mask=mask))"
   ],
   "outputs": [],
   "metadata": {
    "execution": {
     "iopub.execute_input": "2021-09-18T07:04:59.278010Z",
     "iopub.status.busy": "2021-09-18T07:04:59.274806Z",
     "iopub.status.idle": "2021-09-18T07:04:59.279959Z",
     "shell.execute_reply": "2021-09-18T07:04:59.280381Z",
     "shell.execute_reply.started": "2021-09-18T06:54:19.411441Z"
    },
    "papermill": {
     "duration": 0.046008,
     "end_time": "2021-09-18T07:04:59.280506",
     "exception": false,
     "start_time": "2021-09-18T07:04:59.234498",
     "status": "completed"
    },
    "tags": []
   }
  },
  {
   "cell_type": "code",
   "execution_count": 14,
   "source": [
    "class DecoderBlock(Module):\n",
    "    \"\"\"Decoder Block of a Transformer\"\"\"\n",
    "    def __init__(self, n_heads, d_model, d_head, d_inner, p=0., bias=True,\n",
    "                scale=True, double_drop=True):\n",
    "        super(DecoderBlock, self).__init__()\n",
    "        self.mha1 = MultiHeadAttention(n_heads, d_model, d_head, p=p, bias=bias, scale=scale)\n",
    "        self.mha2 = MultiHeadAttention(n_heads, d_model, d_head, p=p, bias=bias, scale=scale)\n",
    "        self.ff = feed_forward(d_model, d_inner, ff_p=p, double_drop=double_drop)\n",
    "\n",
    "    def forward(self, x, enc, mask_out=None): \n",
    "        return self.ff(self.mha2(\n",
    "            self.mha1(x, x, mask_out), enc\n",
    "        ))"
   ],
   "outputs": [],
   "metadata": {
    "execution": {
     "iopub.execute_input": "2021-09-18T07:04:59.361166Z",
     "iopub.status.busy": "2021-09-18T07:04:59.360451Z",
     "iopub.status.idle": "2021-09-18T07:04:59.362909Z",
     "shell.execute_reply": "2021-09-18T07:04:59.362498Z",
     "shell.execute_reply.started": "2021-09-18T06:54:19.421423Z"
    },
    "papermill": {
     "duration": 0.045591,
     "end_time": "2021-09-18T07:04:59.363024",
     "exception": false,
     "start_time": "2021-09-18T07:04:59.317433",
     "status": "completed"
    },
    "tags": []
   }
  },
  {
   "cell_type": "markdown",
   "source": [
    "### The Whole Model"
   ],
   "metadata": {
    "papermill": {
     "duration": 0.036873,
     "end_time": "2021-09-18T07:04:59.436686",
     "exception": false,
     "start_time": "2021-09-18T07:04:59.399813",
     "status": "completed"
    },
    "tags": []
   }
  },
  {
   "cell_type": "code",
   "execution_count": 15,
   "source": [
    "class Transformer(Module):\n",
    "    def __init__(self, inp_vsz, out_vsz, n_layers=6, n_heads=8, d_model=256,\n",
    "                d_head=32, d_inner=1024, p=0.1, bias=True, scale=True, \n",
    "                double_drop=True, pad_idx=1):\n",
    "        self.enc_emb = TransformerEmbedding(inp_vsz, d_model, p)\n",
    "        self.dec_emb = TransformerEmbedding(out_vsz, d_model, 0.)\n",
    "        self.n_layers = n_layers\n",
    "\n",
    "        args = (n_heads, d_model, d_head, d_inner, p, bias, scale, double_drop)\n",
    "\n",
    "        self.encoder = nn.ModuleList([EncoderBlock(*args) for _ in range(n_layers)])\n",
    "        self.decoder = nn.ModuleList([DecoderBlock(*args) for _ in range(n_layers)])\n",
    "        self.out = nn.Linear(d_model, out_vsz)\n",
    "        self.out.weight = self.dec_emb.embed.weight\n",
    "        self.pad_idx = pad_idx\n",
    "\n",
    "    def forward(self, inp, out):\n",
    "        mask_out = get_output_mask(out, self.pad_idx)\n",
    "        enc, out = self.enc_emb(inp), self.dec_emb(out)\n",
    "        for encd in self.encoder: enc = encd(enc)\n",
    "        for k, decd in enumerate(self.decoder): out = decd(out, enc, mask_out)\n",
    "            \n",
    "        ### The below code now raises NotImplementedError without any explanation.\n",
    "        ### One could only infer how to implement the code below. \n",
    "        ### However, the best would just be to use PyTorch's \n",
    "        ### nn.Transformer module instead of manual implementation nowadays. \n",
    "\n",
    "        # enc = compose(self.encoder)(enc)\n",
    "        # out = compose(self.decoder)(out, enc, mask_out)\n",
    "\n",
    "        return self.out(out)"
   ],
   "outputs": [],
   "metadata": {
    "execution": {
     "iopub.execute_input": "2021-09-18T07:04:59.519795Z",
     "iopub.status.busy": "2021-09-18T07:04:59.513772Z",
     "iopub.status.idle": "2021-09-18T07:04:59.521741Z",
     "shell.execute_reply": "2021-09-18T07:04:59.522192Z",
     "shell.execute_reply.started": "2021-09-18T06:54:19.433772Z"
    },
    "papermill": {
     "duration": 0.048736,
     "end_time": "2021-09-18T07:04:59.522308",
     "exception": false,
     "start_time": "2021-09-18T07:04:59.473572",
     "status": "completed"
    },
    "tags": []
   }
  },
  {
   "cell_type": "markdown",
   "source": [
    "### Training\n",
    "Due to the change of `compose` function, and change in PyTorch's `nn.ModuleList` function, the code above no longer works. We shall abandon here and see whom could solve this issue. As mentioned, new PyTorch's `nn.Transformer` does everything in one line of code, so in practice you don't need to write anything above anymore and just do that single line of code. \n",
    "\n",
    "One tries with `nn.Transformer` and encounters 2 problems: \n",
    "- Unlike fastai, it doesn't allow you to use varying `seq_len`. Hence, it must pass the test `assert seq_len == d_model`. This isn't true in fastai dataloaders. \n",
    "- Our input is of type `torch.Long` (expected because it is the Numericalized text, which are all integers). However, `nn.Transformer` can only take in floats, and will raise \"adam backward not supported for `torch.Long`\" instead. \n",
    "\n",
    "So, one doesn't know how to fix this. "
   ],
   "metadata": {
    "papermill": {
     "duration": 0.036867,
     "end_time": "2021-09-18T07:04:59.596522",
     "exception": false,
     "start_time": "2021-09-18T07:04:59.559655",
     "status": "completed"
    },
    "tags": []
   }
  },
  {
   "cell_type": "code",
   "execution_count": 16,
   "source": [
    "class DecoderBlock(nn.Module):\n",
    "    \"Decoder block of a Transformer model.\"\n",
    "    #Can't use Sequential directly cause more than one input...\n",
    "    def __init__(self, n_heads, d_model, d_head, d_inner, p=0., bias=True, scale=True, double_drop=True):\n",
    "        super().__init__()\n",
    "        self.mha1 = MultiHeadAttention(n_heads, d_model, d_head, p=p, bias=bias, scale=scale)\n",
    "        self.mha2 = MultiHeadAttention(n_heads, d_model, d_head, p=p, bias=bias, scale=scale)\n",
    "        self.ff   = feed_forward(d_model, d_inner, ff_p=p, double_drop=double_drop)\n",
    "    \n",
    "    def forward(self, x, enc, mask_out=None): return self.ff(self.mha2(self.mha1(x, x, mask_out), enc))"
   ],
   "outputs": [],
   "metadata": {
    "execution": {
     "iopub.execute_input": "2021-09-18T07:04:59.673653Z",
     "iopub.status.busy": "2021-09-18T07:04:59.672847Z",
     "iopub.status.idle": "2021-09-18T07:04:59.679147Z",
     "shell.execute_reply": "2021-09-18T07:04:59.679530Z",
     "shell.execute_reply.started": "2021-09-18T06:54:19.448624Z"
    },
    "papermill": {
     "duration": 0.046104,
     "end_time": "2021-09-18T07:04:59.679639",
     "exception": false,
     "start_time": "2021-09-18T07:04:59.633535",
     "status": "completed"
    },
    "tags": []
   }
  },
  {
   "cell_type": "code",
   "execution_count": 17,
   "source": [
    "n_x_vocab, n_y_vocab = [len(a) for a in dls.vocab]\n",
    "\n",
    "model = Transformer(n_x_vocab, n_y_vocab, d_model=256)\n",
    "learn = Learner(dls, model, metrics=[accuracy, CorpusBLEUMetric(n_y_vocab)],\n",
    "                loss_func=CrossEntropyLossFlat(), cbs=ShiftTfm()).to_fp16()\n",
    "learn.lr_find()"
   ],
   "outputs": [
    {
     "output_type": "display_data",
     "data": {
      "text/plain": [
       "<IPython.core.display.HTML object>"
      ],
      "text/html": []
     },
     "metadata": {}
    },
    {
     "output_type": "execute_result",
     "data": {
      "text/plain": [
       "SuggestedLRs(lr_min=0.07585775852203369, lr_steep=0.6309573650360107)"
      ]
     },
     "metadata": {},
     "execution_count": 17
    },
    {
     "output_type": "display_data",
     "data": {
      "text/plain": [
       "<Figure size 432x288 with 1 Axes>"
      ],
      "image/png": "[encoded data removed]"
     },
     "metadata": {
      "needs_background": "light"
     }
    }
   ],
   "metadata": {
    "execution": {
     "iopub.execute_input": "2021-09-18T07:04:59.758910Z",
     "iopub.status.busy": "2021-09-18T07:04:59.756843Z",
     "iopub.status.idle": "2021-09-18T07:05:21.747202Z",
     "shell.execute_reply": "2021-09-18T07:05:21.747701Z",
     "shell.execute_reply.started": "2021-09-18T06:54:19.459879Z"
    },
    "papermill": {
     "duration": 22.031244,
     "end_time": "2021-09-18T07:05:21.747844",
     "exception": false,
     "start_time": "2021-09-18T07:04:59.716600",
     "status": "completed"
    },
    "tags": []
   }
  },
  {
   "cell_type": "markdown",
   "source": [
    "`div_factor` is now renamed as `div`. "
   ],
   "metadata": {
    "papermill": {
     "duration": 0.038362,
     "end_time": "2021-09-18T07:05:21.825374",
     "exception": false,
     "start_time": "2021-09-18T07:05:21.787012",
     "status": "completed"
    },
    "tags": []
   }
  },
  {
   "cell_type": "code",
   "execution_count": 18,
   "source": [
    "learn.fit_one_cycle(8, 5e-4, div=5)"
   ],
   "outputs": [
    {
     "output_type": "display_data",
     "data": {
      "text/plain": [
       "<IPython.core.display.HTML object>"
      ],
      "text/html": [
       "<table border=\"1\" class=\"dataframe\">\n",
       "  <thead>\n",
       "    <tr style=\"text-align: left;\">\n",
       "      <th>epoch</th>\n",
       "      <th>train_loss</th>\n",
       "      <th>valid_loss</th>\n",
       "      <th>accuracy</th>\n",
       "      <th>corpus_bleu</th>\n",
       "      <th>time</th>\n",
       "    </tr>\n",
       "  </thead>\n",
       "  <tbody>\n",
       "    <tr>\n",
       "      <td>0</td>\n",
       "      <td>2.612405</td>\n",
       "      <td>2.551680</td>\n",
       "      <td>0.613113</td>\n",
       "      <td>0.506034</td>\n",
       "      <td>02:47</td>\n",
       "    </tr>\n",
       "    <tr>\n",
       "      <td>1</td>\n",
       "      <td>2.394847</td>\n",
       "      <td>2.276959</td>\n",
       "      <td>0.640047</td>\n",
       "      <td>0.520348</td>\n",
       "      <td>02:47</td>\n",
       "    </tr>\n",
       "    <tr>\n",
       "      <td>2</td>\n",
       "      <td>2.076768</td>\n",
       "      <td>1.978643</td>\n",
       "      <td>0.682057</td>\n",
       "      <td>0.545243</td>\n",
       "      <td>02:46</td>\n",
       "    </tr>\n",
       "    <tr>\n",
       "      <td>3</td>\n",
       "      <td>1.746329</td>\n",
       "      <td>1.633782</td>\n",
       "      <td>0.730228</td>\n",
       "      <td>0.580947</td>\n",
       "      <td>02:47</td>\n",
       "    </tr>\n",
       "    <tr>\n",
       "      <td>4</td>\n",
       "      <td>1.427112</td>\n",
       "      <td>1.458523</td>\n",
       "      <td>0.751800</td>\n",
       "      <td>0.601048</td>\n",
       "      <td>02:46</td>\n",
       "    </tr>\n",
       "    <tr>\n",
       "      <td>5</td>\n",
       "      <td>1.244635</td>\n",
       "      <td>1.375440</td>\n",
       "      <td>0.765143</td>\n",
       "      <td>0.616254</td>\n",
       "      <td>02:47</td>\n",
       "    </tr>\n",
       "    <tr>\n",
       "      <td>6</td>\n",
       "      <td>1.095367</td>\n",
       "      <td>1.342858</td>\n",
       "      <td>0.771417</td>\n",
       "      <td>0.623865</td>\n",
       "      <td>02:46</td>\n",
       "    </tr>\n",
       "    <tr>\n",
       "      <td>7</td>\n",
       "      <td>1.041345</td>\n",
       "      <td>1.343557</td>\n",
       "      <td>0.772104</td>\n",
       "      <td>0.624996</td>\n",
       "      <td>02:46</td>\n",
       "    </tr>\n",
       "  </tbody>\n",
       "</table>"
      ]
     },
     "metadata": {}
    }
   ],
   "metadata": {
    "collapsed": true,
    "execution": {
     "iopub.execute_input": "2021-09-18T07:05:21.907059Z",
     "iopub.status.busy": "2021-09-18T07:05:21.906527Z",
     "iopub.status.idle": "2021-09-18T07:27:38.314072Z",
     "shell.execute_reply": "2021-09-18T07:27:38.314475Z",
     "shell.execute_reply.started": "2021-09-18T06:54:52.607294Z"
    },
    "jupyter": {
     "outputs_hidden": true
    },
    "papermill": {
     "duration": 1336.450544,
     "end_time": "2021-09-18T07:27:38.314635",
     "exception": false,
     "start_time": "2021-09-18T07:05:21.864091",
     "status": "completed"
    },
    "tags": []
   }
  },
  {
   "cell_type": "markdown",
   "source": [
    "Due to the prediction requires callback as well, we can't just use `learn.get_preds`. Instead, we have to write our own `get_predictions` now. "
   ],
   "metadata": {
    "papermill": {
     "duration": 0.038756,
     "end_time": "2021-09-18T07:27:38.393190",
     "exception": false,
     "start_time": "2021-09-18T07:27:38.354434",
     "status": "completed"
    },
    "tags": []
   }
  },
  {
   "cell_type": "code",
   "execution_count": 19,
   "source": [
    "def get_preds(learn):\n",
    "    learn.model.eval()\n",
    "    inputs, targets, outputs = [], [], []\n",
    "\n",
    "    with torch.no_grad():\n",
    "        for xb, yb in progress_bar(learn.dls.valid):\n",
    "            xb, yb = shift_tfm((xb, yb))\n",
    "            out = learn.model(*xb)\n",
    "\n",
    "            for x, y, z in zip(xb[0], xb[1], out):\n",
    "                inputs.append(x.cpu())\n",
    "                targets.append(y.cpu())\n",
    "                outputs.append(z.argmax(1).cpu())\n",
    "\n",
    "    clear_output()\n",
    "    \n",
    "    return inputs, targets, outputs"
   ],
   "outputs": [],
   "metadata": {
    "execution": {
     "iopub.execute_input": "2021-09-18T07:27:38.478359Z",
     "iopub.status.busy": "2021-09-18T07:27:38.477678Z",
     "iopub.status.idle": "2021-09-18T07:27:38.480652Z",
     "shell.execute_reply": "2021-09-18T07:27:38.481034Z",
     "shell.execute_reply.started": "2021-09-18T06:57:58.032728Z"
    },
    "papermill": {
     "duration": 0.048915,
     "end_time": "2021-09-18T07:27:38.481160",
     "exception": false,
     "start_time": "2021-09-18T07:27:38.432245",
     "status": "completed"
    },
    "tags": []
   }
  },
  {
   "cell_type": "code",
   "execution_count": 20,
   "source": [
    "class GetPreds:\n",
    "    def __init__(self, inputs, preds, targs):\n",
    "        self.inputs, self.preds, self.targs = inputs, preds, targs\n",
    "\n",
    "    def get_predictions(self, num, ignore_pad=False): \n",
    "        \"\"\":ignore_pad: Whether to ignore pad for predictions. Default: False\"\"\"\n",
    "        return (\n",
    "            itos(dls.vocab[0], self.inputs[num], join=True, ignore_pad=True),\n",
    "            itos(dls.vocab[1], self.targs[num], join=True, ignore_pad=True),\n",
    "            itos(dls.vocab[1], self.preds[num], join=True, ignore_pad=ignore_pad)\n",
    "        )"
   ],
   "outputs": [],
   "metadata": {
    "execution": {
     "iopub.execute_input": "2021-09-18T07:27:38.604747Z",
     "iopub.status.busy": "2021-09-18T07:27:38.603752Z",
     "iopub.status.idle": "2021-09-18T07:27:38.605642Z",
     "shell.execute_reply": "2021-09-18T07:27:38.606097Z",
     "shell.execute_reply.started": "2021-09-18T06:57:58.568917Z"
    },
    "papermill": {
     "duration": 0.086044,
     "end_time": "2021-09-18T07:27:38.606217",
     "exception": false,
     "start_time": "2021-09-18T07:27:38.520173",
     "status": "completed"
    },
    "tags": []
   }
  },
  {
   "cell_type": "code",
   "execution_count": 21,
   "source": [
    "# inputs, preds, targs = learn.get_preds(with_input=True)\n",
    "inputs, targs, preds = get_preds(learn)\n",
    "p = GetPreds(inputs, preds, targs)"
   ],
   "outputs": [],
   "metadata": {
    "execution": {
     "iopub.execute_input": "2021-09-18T07:27:38.690752Z",
     "iopub.status.busy": "2021-09-18T07:27:38.689865Z",
     "iopub.status.idle": "2021-09-18T07:27:47.173721Z",
     "shell.execute_reply": "2021-09-18T07:27:47.174191Z",
     "shell.execute_reply.started": "2021-09-18T06:57:59.591809Z"
    },
    "papermill": {
     "duration": 8.528994,
     "end_time": "2021-09-18T07:27:47.174360",
     "exception": false,
     "start_time": "2021-09-18T07:27:38.645366",
     "status": "completed"
    },
    "tags": []
   }
  },
  {
   "cell_type": "code",
   "execution_count": 22,
   "source": [
    "p.get_predictions(10, ignore_pad=True)"
   ],
   "outputs": [
    {
     "output_type": "execute_result",
     "data": {
      "text/plain": [
       "(\"xxbos comment alors faut -il interpréter le cas des nez xxunk , qui , à la fin du xxunk siècle , ne se xxunk plus quand et comment ils en étaient venus à avoir des chevaux — un événement capital qu' on sait ne s' être produit qu' un siècle auparavant et qui a causé une transformation xxunk de la culture , qui de xxunk est devenue xxunk ?\",\n",
       " 'xxbos what then , are we to make of the xxunk xxunk who , by the late xxunk century , could no longer remember how and when they first acquired horses -- a xxunk event that is known to have occurred only a century earlier and led to a radical transformation from a xxunk to an xxunk culture ?',\n",
       " 'xxbos what then is is the going be a a xxunk xxunk , xxunk who the xxunk - , , when not longer be us they do they were xxunk the a a xxunk , , was not as be a as a xxunk ? xxunk a to be xxunk a , a xxunk , be xxunk , ,')"
      ]
     },
     "metadata": {},
     "execution_count": 22
    }
   ],
   "metadata": {
    "execution": {
     "iopub.execute_input": "2021-09-18T07:27:47.261116Z",
     "iopub.status.busy": "2021-09-18T07:27:47.260330Z",
     "iopub.status.idle": "2021-09-18T07:27:47.283556Z",
     "shell.execute_reply": "2021-09-18T07:27:47.283930Z",
     "shell.execute_reply.started": "2021-09-18T06:58:09.034043Z"
    },
    "papermill": {
     "duration": 0.069646,
     "end_time": "2021-09-18T07:27:47.284078",
     "exception": false,
     "start_time": "2021-09-18T07:27:47.214432",
     "status": "completed"
    },
    "tags": []
   }
  },
  {
   "cell_type": "code",
   "execution_count": 23,
   "source": [
    "p.get_predictions(700, ignore_pad=True)"
   ],
   "outputs": [
    {
     "output_type": "execute_result",
     "data": {
      "text/plain": [
       "('xxbos qu’ est -ce que les constatations indiquent quant à la nature réelle de la participation des jeunes à la vie politique au brésil ?',\n",
       " 'xxbos what do the results suggest about the real nature of youth and political involvement in brazil ?',\n",
       " 'xxbos what do the findings of about the nature nature of youth participation youth participation in brazil in')"
      ]
     },
     "metadata": {},
     "execution_count": 23
    }
   ],
   "metadata": {
    "execution": {
     "iopub.execute_input": "2021-09-18T07:27:47.376678Z",
     "iopub.status.busy": "2021-09-18T07:27:47.376191Z",
     "iopub.status.idle": "2021-09-18T07:27:47.380362Z",
     "shell.execute_reply": "2021-09-18T07:27:47.380723Z",
     "shell.execute_reply.started": "2021-09-18T06:58:09.080455Z"
    },
    "papermill": {
     "duration": 0.056711,
     "end_time": "2021-09-18T07:27:47.380846",
     "exception": false,
     "start_time": "2021-09-18T07:27:47.324135",
     "status": "completed"
    },
    "tags": []
   }
  },
  {
   "cell_type": "code",
   "execution_count": 24,
   "source": [
    "p.get_predictions(701, ignore_pad=True)"
   ],
   "outputs": [
    {
     "output_type": "execute_result",
     "data": {
      "text/plain": [
       "('xxbos quand le plan d’ action sera -t -il formulé , et est -ce que vous pouvez nous consulter tout au long du projet ?',\n",
       " 'xxbos when does the action plan get xxunk , and can you consult us throughout the process , as we would be really happy to help and be involved',\n",
       " 'xxbos when the the action plan come the , and what you find it about the project ? what long find be the care ? the ? in the in')"
      ]
     },
     "metadata": {},
     "execution_count": 24
    }
   ],
   "metadata": {
    "execution": {
     "iopub.execute_input": "2021-09-18T07:27:47.474040Z",
     "iopub.status.busy": "2021-09-18T07:27:47.473322Z",
     "iopub.status.idle": "2021-09-18T07:27:47.476129Z",
     "shell.execute_reply": "2021-09-18T07:27:47.476527Z",
     "shell.execute_reply.started": "2021-09-18T06:58:09.099316Z"
    },
    "papermill": {
     "duration": 0.055619,
     "end_time": "2021-09-18T07:27:47.476642",
     "exception": false,
     "start_time": "2021-09-18T07:27:47.421023",
     "status": "completed"
    },
    "tags": []
   }
  },
  {
   "cell_type": "code",
   "execution_count": 25,
   "source": [
    "p.get_predictions(2500, ignore_pad=True)"
   ],
   "outputs": [
    {
     "output_type": "execute_result",
     "data": {
      "text/plain": [
       "(\"xxbos quel est le meilleur xxunk pour le traitement d' un xxunk - réservoir ?\",\n",
       " 'xxbos which chemical is best for xxunk treatment ?',\n",
       " 'xxbos what is is the for xxunk treatment for')"
      ]
     },
     "metadata": {},
     "execution_count": 25
    }
   ],
   "metadata": {
    "execution": {
     "iopub.execute_input": "2021-09-18T07:27:47.600115Z",
     "iopub.status.busy": "2021-09-18T07:27:47.599275Z",
     "iopub.status.idle": "2021-09-18T07:27:47.631417Z",
     "shell.execute_reply": "2021-09-18T07:27:47.632551Z",
     "shell.execute_reply.started": "2021-09-18T06:58:09.118353Z"
    },
    "papermill": {
     "duration": 0.102826,
     "end_time": "2021-09-18T07:27:47.632849",
     "exception": false,
     "start_time": "2021-09-18T07:27:47.530023",
     "status": "completed"
    },
    "tags": []
   }
  },
  {
   "cell_type": "code",
   "execution_count": 26,
   "source": [
    "p.get_predictions(4002, ignore_pad=True)"
   ],
   "outputs": [
    {
     "output_type": "execute_result",
     "data": {
      "text/plain": [
       "('xxbos que devrais -je savoir sur le cancer du sein ?',\n",
       " 'xxbos what should i know about breast cancer ?',\n",
       " 'xxbos what should i know about cancer cancer ?')"
      ]
     },
     "metadata": {},
     "execution_count": 26
    }
   ],
   "metadata": {
    "execution": {
     "iopub.execute_input": "2021-09-18T07:27:47.772575Z",
     "iopub.status.busy": "2021-09-18T07:27:47.771777Z",
     "iopub.status.idle": "2021-09-18T07:27:47.784458Z",
     "shell.execute_reply": "2021-09-18T07:27:47.785188Z",
     "shell.execute_reply.started": "2021-09-18T06:58:09.139290Z"
    },
    "papermill": {
     "duration": 0.088303,
     "end_time": "2021-09-18T07:27:47.785319",
     "exception": false,
     "start_time": "2021-09-18T07:27:47.697016",
     "status": "completed"
    },
    "tags": []
   }
  },
  {
   "cell_type": "markdown",
   "source": [
    "### Label Smoothing\n",
    "Helped getting better BLEU/accuracy, even if it made the loss worse. "
   ],
   "metadata": {
    "papermill": {
     "duration": 0.067617,
     "end_time": "2021-09-18T07:27:47.919503",
     "exception": false,
     "start_time": "2021-09-18T07:27:47.851886",
     "status": "completed"
    },
    "tags": []
   }
  },
  {
   "cell_type": "code",
   "execution_count": 27,
   "source": [
    "try: del model, learn, inputs, preds, targs\n",
    "except Exception: pass\n",
    "import gc\n",
    "gc.collect()\n",
    "torch.cuda.empty_cache()"
   ],
   "outputs": [],
   "metadata": {
    "execution": {
     "iopub.execute_input": "2021-09-18T07:27:48.691306Z",
     "iopub.status.busy": "2021-09-18T07:27:48.690709Z",
     "iopub.status.idle": "2021-09-18T07:27:48.694753Z",
     "shell.execute_reply": "2021-09-18T07:27:48.694182Z",
     "shell.execute_reply.started": "2021-09-18T06:58:09.156893Z"
    },
    "papermill": {
     "duration": 0.705305,
     "end_time": "2021-09-18T07:27:48.694884",
     "exception": false,
     "start_time": "2021-09-18T07:27:47.989579",
     "status": "completed"
    },
    "tags": []
   }
  },
  {
   "cell_type": "code",
   "execution_count": 28,
   "source": [
    "model = Transformer(n_x_vocab, n_y_vocab, d_model=256)\n",
    "runtimeerror = True\n",
    "while runtimeerror:\n",
    "    try:\n",
    "        learn = Learner(dls, model, metrics=[accuracy, CorpusBLEUMetric(n_y_vocab)],\n",
    "                        loss_func=LabelSmoothingCrossEntropyFlat(axis=-1),\n",
    "                        cbs=ShiftTfm()).to_fp16()\n",
    "        learn.lr_find()\n",
    "        runtimeerror = False\n",
    "    except RuntimeError:\n",
    "        torch.cuda.empty_cache()\n",
    "        gc.collect()"
   ],
   "outputs": [
    {
     "output_type": "display_data",
     "data": {
      "text/plain": [
       "<IPython.core.display.HTML object>"
      ],
      "text/html": []
     },
     "metadata": {}
    },
    {
     "output_type": "display_data",
     "data": {
      "text/plain": [
       "<Figure size 432x288 with 1 Axes>"
      ],
      "image/png": "[encoded data removed]"
     },
     "metadata": {
      "needs_background": "light"
     }
    }
   ],
   "metadata": {
    "execution": {
     "iopub.execute_input": "2021-09-18T07:27:48.783422Z",
     "iopub.status.busy": "2021-09-18T07:27:48.780776Z",
     "iopub.status.idle": "2021-09-18T07:28:10.659592Z",
     "shell.execute_reply": "2021-09-18T07:28:10.659166Z",
     "shell.execute_reply.started": "2021-09-18T06:58:09.673365Z"
    },
    "papermill": {
     "duration": 21.923326,
     "end_time": "2021-09-18T07:28:10.659711",
     "exception": false,
     "start_time": "2021-09-18T07:27:48.736385",
     "status": "completed"
    },
    "tags": []
   }
  },
  {
   "cell_type": "code",
   "execution_count": 29,
   "source": [
    "learn.fit_one_cycle(8, 5e-4, div=5)"
   ],
   "outputs": [
    {
     "output_type": "display_data",
     "data": {
      "text/plain": [
       "<IPython.core.display.HTML object>"
      ],
      "text/html": [
       "<table border=\"1\" class=\"dataframe\">\n",
       "  <thead>\n",
       "    <tr style=\"text-align: left;\">\n",
       "      <th>epoch</th>\n",
       "      <th>train_loss</th>\n",
       "      <th>valid_loss</th>\n",
       "      <th>accuracy</th>\n",
       "      <th>corpus_bleu</th>\n",
       "      <th>time</th>\n",
       "    </tr>\n",
       "  </thead>\n",
       "  <tbody>\n",
       "    <tr>\n",
       "      <td>0</td>\n",
       "      <td>3.571004</td>\n",
       "      <td>3.431255</td>\n",
       "      <td>0.618098</td>\n",
       "      <td>0.509598</td>\n",
       "      <td>02:47</td>\n",
       "    </tr>\n",
       "    <tr>\n",
       "      <td>1</td>\n",
       "      <td>3.133108</td>\n",
       "      <td>3.105065</td>\n",
       "      <td>0.667916</td>\n",
       "      <td>0.533687</td>\n",
       "      <td>02:47</td>\n",
       "    </tr>\n",
       "    <tr>\n",
       "      <td>2</td>\n",
       "      <td>2.832716</td>\n",
       "      <td>2.787843</td>\n",
       "      <td>0.716181</td>\n",
       "      <td>0.570317</td>\n",
       "      <td>02:47</td>\n",
       "    </tr>\n",
       "    <tr>\n",
       "      <td>3</td>\n",
       "      <td>2.610104</td>\n",
       "      <td>2.624961</td>\n",
       "      <td>0.738432</td>\n",
       "      <td>0.594186</td>\n",
       "      <td>02:49</td>\n",
       "    </tr>\n",
       "    <tr>\n",
       "      <td>4</td>\n",
       "      <td>2.380480</td>\n",
       "      <td>2.470355</td>\n",
       "      <td>0.762328</td>\n",
       "      <td>0.612921</td>\n",
       "      <td>02:50</td>\n",
       "    </tr>\n",
       "    <tr>\n",
       "      <td>5</td>\n",
       "      <td>2.226314</td>\n",
       "      <td>2.415938</td>\n",
       "      <td>0.772480</td>\n",
       "      <td>0.625386</td>\n",
       "      <td>02:49</td>\n",
       "    </tr>\n",
       "    <tr>\n",
       "      <td>6</td>\n",
       "      <td>2.149630</td>\n",
       "      <td>2.397299</td>\n",
       "      <td>0.777689</td>\n",
       "      <td>0.630968</td>\n",
       "      <td>02:50</td>\n",
       "    </tr>\n",
       "    <tr>\n",
       "      <td>7</td>\n",
       "      <td>2.112837</td>\n",
       "      <td>2.397541</td>\n",
       "      <td>0.778005</td>\n",
       "      <td>0.631917</td>\n",
       "      <td>02:50</td>\n",
       "    </tr>\n",
       "  </tbody>\n",
       "</table>"
      ]
     },
     "metadata": {}
    }
   ],
   "metadata": {
    "execution": {
     "iopub.execute_input": "2021-09-18T07:28:10.748348Z",
     "iopub.status.busy": "2021-09-18T07:28:10.747531Z",
     "iopub.status.idle": "2021-09-18T07:50:42.470201Z",
     "shell.execute_reply": "2021-09-18T07:50:42.469732Z",
     "shell.execute_reply.started": "2021-09-18T06:58:31.730169Z"
    },
    "papermill": {
     "duration": 1351.768756,
     "end_time": "2021-09-18T07:50:42.470337",
     "exception": false,
     "start_time": "2021-09-18T07:28:10.701581",
     "status": "completed"
    },
    "tags": []
   }
  },
  {
   "cell_type": "code",
   "execution_count": 30,
   "source": [
    "gc.collect()\n",
    "torch.cuda.empty_cache()\n",
    "\n",
    "inputs, targs, preds = get_preds(learn)\n",
    "p = GetPreds(inputs, preds, targs)"
   ],
   "outputs": [],
   "metadata": {
    "execution": {
     "iopub.execute_input": "2021-09-18T07:50:42.599378Z",
     "iopub.status.busy": "2021-09-18T07:50:42.597161Z",
     "iopub.status.idle": "2021-09-18T07:50:51.791561Z",
     "shell.execute_reply": "2021-09-18T07:50:51.792405Z",
     "shell.execute_reply.started": "2021-09-18T07:01:21.334041Z"
    },
    "papermill": {
     "duration": 9.269936,
     "end_time": "2021-09-18T07:50:51.792640",
     "exception": false,
     "start_time": "2021-09-18T07:50:42.522704",
     "status": "completed"
    },
    "tags": []
   }
  },
  {
   "cell_type": "code",
   "execution_count": 31,
   "source": [
    "p.get_predictions(10, ignore_pad=True)"
   ],
   "outputs": [
    {
     "output_type": "execute_result",
     "data": {
      "text/plain": [
       "(\"xxbos comment alors faut -il interpréter le cas des nez xxunk , qui , à la fin du xxunk siècle , ne se xxunk plus quand et comment ils en étaient venus à avoir des chevaux — un événement capital qu' on sait ne s' être produit qu' un siècle auparavant et qui a causé une transformation xxunk de la culture , qui de xxunk est devenue xxunk ?\",\n",
       " 'xxbos what then , are we to make of the xxunk xxunk who , by the late xxunk century , could no longer remember how and when they first acquired horses -- a xxunk event that is known to have occurred only a century earlier and led to a radical transformation from a xxunk to an xxunk culture ?',\n",
       " 'xxbos what , is is the going do a a xxunk , , has who the xxunk xxunk , , when not longer be the was xxunk they were nations the from a product , was was not to be been in a xxunk , xxunk how to the xxunk ? ? the xxunk , be xxunk , ?')"
      ]
     },
     "metadata": {},
     "execution_count": 31
    }
   ],
   "metadata": {
    "execution": {
     "iopub.execute_input": "2021-09-18T07:50:51.894890Z",
     "iopub.status.busy": "2021-09-18T07:50:51.894071Z",
     "iopub.status.idle": "2021-09-18T07:50:51.915081Z",
     "shell.execute_reply": "2021-09-18T07:50:51.915484Z",
     "shell.execute_reply.started": "2021-09-18T07:01:38.530184Z"
    },
    "papermill": {
     "duration": 0.070337,
     "end_time": "2021-09-18T07:50:51.915613",
     "exception": false,
     "start_time": "2021-09-18T07:50:51.845276",
     "status": "completed"
    },
    "tags": []
   }
  },
  {
   "cell_type": "code",
   "execution_count": 32,
   "source": [
    "p.get_predictions(700, ignore_pad=True)"
   ],
   "outputs": [
    {
     "output_type": "execute_result",
     "data": {
      "text/plain": [
       "('xxbos qu’ est -ce que les constatations indiquent quant à la nature réelle de la participation des jeunes à la vie politique au brésil ?',\n",
       " 'xxbos what do the results suggest about the real nature of youth and political involvement in brazil ?',\n",
       " 'xxbos what do the findings tell about the nature nature of youth participation the participation in brazil ?')"
      ]
     },
     "metadata": {},
     "execution_count": 32
    }
   ],
   "metadata": {
    "execution": {
     "iopub.execute_input": "2021-09-18T07:50:52.016086Z",
     "iopub.status.busy": "2021-09-18T07:50:52.009334Z",
     "iopub.status.idle": "2021-09-18T07:50:52.018523Z",
     "shell.execute_reply": "2021-09-18T07:50:52.018912Z",
     "shell.execute_reply.started": "2021-09-18T07:01:38.843652Z"
    },
    "papermill": {
     "duration": 0.06072,
     "end_time": "2021-09-18T07:50:52.019055",
     "exception": false,
     "start_time": "2021-09-18T07:50:51.958335",
     "status": "completed"
    },
    "tags": []
   }
  },
  {
   "cell_type": "code",
   "execution_count": 33,
   "source": [
    "p.get_predictions(701, ignore_pad=True)"
   ],
   "outputs": [
    {
     "output_type": "execute_result",
     "data": {
      "text/plain": [
       "('xxbos quand le plan d’ action sera -t -il formulé , et est -ce que vous pouvez nous consulter tout au long du projet ?',\n",
       " 'xxbos when does the action plan get xxunk , and can you consult us throughout the process , as we would be really happy to help and be involved',\n",
       " 'xxbos when will the action plan to xxunk , and what you find with to the long ? be a know be able consulted ? the ? the the in')"
      ]
     },
     "metadata": {},
     "execution_count": 33
    }
   ],
   "metadata": {
    "execution": {
     "iopub.execute_input": "2021-09-18T07:50:52.118783Z",
     "iopub.status.busy": "2021-09-18T07:50:52.116787Z",
     "iopub.status.idle": "2021-09-18T07:50:52.121242Z",
     "shell.execute_reply": "2021-09-18T07:50:52.121645Z",
     "shell.execute_reply.started": "2021-09-18T07:01:39.210846Z"
    },
    "papermill": {
     "duration": 0.059256,
     "end_time": "2021-09-18T07:50:52.121767",
     "exception": false,
     "start_time": "2021-09-18T07:50:52.062511",
     "status": "completed"
    },
    "tags": []
   }
  },
  {
   "cell_type": "code",
   "execution_count": 34,
   "source": [
    "# This looks problematic with input as English instead of French... \n",
    "p.get_predictions(4001, ignore_pad=True)"
   ],
   "outputs": [
    {
     "output_type": "execute_result",
     "data": {
      "text/plain": [
       "('xxbos pour quelle maladie ou xxunk la guérison est-elle nécessaire ?',\n",
       " 'xxbos what is the disease or xxunk for which healing is needed ?',\n",
       " 'xxbos what is the xxunk or xxunk that the it is necessary ?')"
      ]
     },
     "metadata": {},
     "execution_count": 34
    }
   ],
   "metadata": {
    "execution": {
     "iopub.execute_input": "2021-09-18T07:50:52.219708Z",
     "iopub.status.busy": "2021-09-18T07:50:52.214759Z",
     "iopub.status.idle": "2021-09-18T07:50:52.223900Z",
     "shell.execute_reply": "2021-09-18T07:50:52.223256Z",
     "shell.execute_reply.started": "2021-09-18T07:01:39.919330Z"
    },
    "papermill": {
     "duration": 0.059438,
     "end_time": "2021-09-18T07:50:52.224026",
     "exception": false,
     "start_time": "2021-09-18T07:50:52.164588",
     "status": "completed"
    },
    "tags": []
   }
  },
  {
   "cell_type": "markdown",
   "source": [
    "Perhaps there are some problems with the data itself. "
   ],
   "metadata": {
    "papermill": {
     "duration": 0.04441,
     "end_time": "2021-09-18T07:50:52.311493",
     "exception": false,
     "start_time": "2021-09-18T07:50:52.267083",
     "status": "completed"
    },
    "tags": []
   }
  },
  {
   "cell_type": "markdown",
   "source": [
    "## Test Leakage\n",
    "If we change a token in targets at position n, it shouldn't impact the preds before that. "
   ],
   "metadata": {
    "papermill": {
     "duration": 0.042835,
     "end_time": "2021-09-18T07:50:52.398085",
     "exception": false,
     "start_time": "2021-09-18T07:50:52.355250",
     "status": "completed"
    },
    "tags": []
   }
  },
  {
   "cell_type": "code",
   "execution_count": 35,
   "source": [
    "learn.model.eval()\n",
    "\n",
    "xb, yb = dls.one_batch()\n",
    "xb, yb = shift_tfm((xb, yb))  # as usual, we need this since its now in callback.\n",
    "\n",
    "# We make some changes as our batch shape isn't the same as the original code. \n",
    "inp1, out1 = xb[0], xb[1]\n",
    "inp2, out2 = inp1.clone(), out1.clone()\n",
    "out2[15] = 10"
   ],
   "outputs": [],
   "metadata": {
    "execution": {
     "iopub.execute_input": "2021-09-18T07:50:52.488638Z",
     "iopub.status.busy": "2021-09-18T07:50:52.487859Z",
     "iopub.status.idle": "2021-09-18T07:50:52.632159Z",
     "shell.execute_reply": "2021-09-18T07:50:52.631625Z",
     "shell.execute_reply.started": "2021-09-18T07:01:31.412822Z"
    },
    "papermill": {
     "duration": 0.190458,
     "end_time": "2021-09-18T07:50:52.632284",
     "exception": false,
     "start_time": "2021-09-18T07:50:52.441826",
     "status": "completed"
    },
    "tags": []
   }
  },
  {
   "cell_type": "code",
   "execution_count": 36,
   "source": [
    "y1 = learn.model(inp1, out1)\n",
    "y2 = learn.model(inp2, out2)"
   ],
   "outputs": [],
   "metadata": {
    "execution": {
     "iopub.execute_input": "2021-09-18T07:50:52.726103Z",
     "iopub.status.busy": "2021-09-18T07:50:52.725272Z",
     "iopub.status.idle": "2021-09-18T07:50:52.862893Z",
     "shell.execute_reply": "2021-09-18T07:50:52.862453Z",
     "shell.execute_reply.started": "2021-09-18T07:01:31.555103Z"
    },
    "papermill": {
     "duration": 0.185347,
     "end_time": "2021-09-18T07:50:52.863035",
     "exception": false,
     "start_time": "2021-09-18T07:50:52.677688",
     "status": "completed"
    },
    "tags": []
   }
  },
  {
   "cell_type": "code",
   "execution_count": 37,
   "source": [
    "(y1[0, :15] - y2[0, :15]).abs().mean()"
   ],
   "outputs": [
    {
     "output_type": "execute_result",
     "data": {
      "text/plain": [
       "tensor(0., device='cuda:0', grad_fn=<MeanBackward0>)"
      ]
     },
     "metadata": {},
     "execution_count": 37
    }
   ],
   "metadata": {
    "execution": {
     "iopub.execute_input": "2021-09-18T07:50:52.954407Z",
     "iopub.status.busy": "2021-09-18T07:50:52.953797Z",
     "iopub.status.idle": "2021-09-18T07:50:52.969770Z",
     "shell.execute_reply": "2021-09-18T07:50:52.969351Z",
     "shell.execute_reply.started": "2021-09-18T07:01:31.695738Z"
    },
    "papermill": {
     "duration": 0.063236,
     "end_time": "2021-09-18T07:50:52.969881",
     "exception": false,
     "start_time": "2021-09-18T07:50:52.906645",
     "status": "completed"
    },
    "tags": []
   }
  },
  {
   "cell_type": "code",
   "execution_count": null,
   "source": [],
   "outputs": [],
   "metadata": {
    "papermill": {
     "duration": 0.044949,
     "end_time": "2021-09-18T07:50:53.060692",
     "exception": false,
     "start_time": "2021-09-18T07:50:53.015743",
     "status": "completed"
    },
    "tags": []
   }
  }
 ],
 "metadata": {
  "kernelspec": {
   "display_name": "Python 3",
   "language": "python",
   "name": "python3"
  },
  "language_info": {
   "codemirror_mode": {
    "name": "ipython",
    "version": 3
   },
   "file_extension": ".py",
   "mimetype": "text/x-python",
   "name": "python",
   "nbconvert_exporter": "python",
   "pygments_lexer": "ipython3",
   "version": "3.7.10"
  },
  "papermill": {
   "default_parameters": {},
   "duration": 2872.453257,
   "end_time": "2021-09-18T07:50:56.008047",
   "environment_variables": {},
   "exception": null,
   "input_path": "__notebook__.ipynb",
   "output_path": "__notebook__.ipynb",
   "parameters": {},
   "start_time": "2021-09-18T07:03:03.554790",
   "version": "2.3.3"
  }
 },
 "nbformat": 4,
 "nbformat_minor": 5
}