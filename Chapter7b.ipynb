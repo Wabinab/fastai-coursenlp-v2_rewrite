{
 "cells": [
  {
   "cell_type": "markdown",
   "source": [
    "# Seq2Seq Translation with Attention"
   ],
   "metadata": {}
  },
  {
   "cell_type": "code",
   "execution_count": 1,
   "source": [
    "from fastai.text.all import *\n",
    "from utils import *"
   ],
   "outputs": [],
   "metadata": {}
  },
  {
   "cell_type": "code",
   "execution_count": 3,
   "source": [
    "path = Config.config_path/\"giga-fren\"\n",
    "df = pd.read_csv(path/\"questions_easy.csv\")\n",
    "df[\"en\"] = df[\"en\"].apply(lambda x: x.lower())\n",
    "df[\"fr\"] = df[\"fr\"].apply(lambda x: x.lower())\n",
    "df.tail()"
   ],
   "outputs": [
    {
     "output_type": "execute_result",
     "data": {
      "text/html": [
       "<div>\n",
       "<style scoped>\n",
       "    .dataframe tbody tr th:only-of-type {\n",
       "        vertical-align: middle;\n",
       "    }\n",
       "\n",
       "    .dataframe tbody tr th {\n",
       "        vertical-align: top;\n",
       "    }\n",
       "\n",
       "    .dataframe thead th {\n",
       "        text-align: right;\n",
       "    }\n",
       "</style>\n",
       "<table border=\"1\" class=\"dataframe\">\n",
       "  <thead>\n",
       "    <tr style=\"text-align: right;\">\n",
       "      <th></th>\n",
       "      <th>en</th>\n",
       "      <th>fr</th>\n",
       "    </tr>\n",
       "  </thead>\n",
       "  <tbody>\n",
       "    <tr>\n",
       "      <th>52326</th>\n",
       "      <td>what are the mechanisms for increasing women's participation?</td>\n",
       "      <td>quels sont les mécanismes susceptibles d’améliorer cette participation?</td>\n",
       "    </tr>\n",
       "    <tr>\n",
       "      <th>52327</th>\n",
       "      <td>why is it still pushed aside, silenced, or the subject of jokes?</td>\n",
       "      <td>pourquoi, aujourd'hui encore, écarte-t-on cette question, la passe-t-on sous silence ou en fait-on un sujet de plaisanterie?</td>\n",
       "    </tr>\n",
       "    <tr>\n",
       "      <th>52328</th>\n",
       "      <td>why should they not demote a judge who rules against the government, or send the judge to some remote backwater as a reward for contrariness?</td>\n",
       "      <td>pourquoi ne devraient-ils pas destituer un juge qui rend une décision défavorable au gouvernement ou l'envoyer en quelque région reculée parce qu'il les a contrariés?</td>\n",
       "    </tr>\n",
       "    <tr>\n",
       "      <th>52329</th>\n",
       "      <td>why is it that we have achieved judicial independence when others have a hard time even understanding it?</td>\n",
       "      <td>pourquoi avons-nous réussi à atteindre l'indépendance de la magistrature alors que d'autres ont encore de la difficulté à comprendre ce concept?</td>\n",
       "    </tr>\n",
       "    <tr>\n",
       "      <th>52330</th>\n",
       "      <td>what's inside introduction to sti did you know…?</td>\n",
       "      <td>contenu introduction aux its saviez-vous que…?</td>\n",
       "    </tr>\n",
       "  </tbody>\n",
       "</table>\n",
       "</div>"
      ],
      "text/plain": [
       "                                                                                                                                                  en  \\\n",
       "52326                                                                                  what are the mechanisms for increasing women's participation?   \n",
       "52327                                                                               why is it still pushed aside, silenced, or the subject of jokes?   \n",
       "52328  why should they not demote a judge who rules against the government, or send the judge to some remote backwater as a reward for contrariness?   \n",
       "52329                                      why is it that we have achieved judicial independence when others have a hard time even understanding it?   \n",
       "52330                                                                                               what's inside introduction to sti did you know…?   \n",
       "\n",
       "                                                                                                                                                                           fr  \n",
       "52326                                                                                                 quels sont les mécanismes susceptibles d’améliorer cette participation?  \n",
       "52327                                            pourquoi, aujourd'hui encore, écarte-t-on cette question, la passe-t-on sous silence ou en fait-on un sujet de plaisanterie?  \n",
       "52328  pourquoi ne devraient-ils pas destituer un juge qui rend une décision défavorable au gouvernement ou l'envoyer en quelque région reculée parce qu'il les a contrariés?  \n",
       "52329                        pourquoi avons-nous réussi à atteindre l'indépendance de la magistrature alors que d'autres ont encore de la difficulté à comprendre ce concept?  \n",
       "52330                                                                                                                          contenu introduction aux its saviez-vous que…?  "
      ]
     },
     "metadata": {},
     "execution_count": 3
    }
   ],
   "metadata": {}
  },
  {
   "cell_type": "code",
   "execution_count": 42,
   "source": [
    "sl = 30\n",
    "\n",
    "dls = DataBlock(\n",
    "    blocks=(TextBlock.from_df(\"fr\", tok=SpacyTokenizer(\"fr\"), seq_len=sl),\n",
    "            TextBlock.from_df(\"en\", tok=SpacyTokenizer(\"en\"), seq_len=sl)),\n",
    "    get_x=ColReader(\"text\"), get_y=ColReader(\"text\"),\n",
    "    splitter=RandomSplitter(0.1)\n",
    ").dataloaders(df, bs=64, num_workers=os.cpu_count(), seq_len=sl)\n",
    "dls.show_batch(max_n=3)"
   ],
   "outputs": [
    {
     "output_type": "display_data",
     "data": {
      "text/html": [],
      "text/plain": [
       "<IPython.core.display.HTML object>"
      ]
     },
     "metadata": {}
    },
    {
     "output_type": "stream",
     "name": "stderr",
     "text": [
      "/anaconda/envs/fastai/lib/python3.8/site-packages/numpy/core/_asarray.py:102: VisibleDeprecationWarning: Creating an ndarray from ragged nested sequences (which is a list-or-tuple of lists-or-tuples-or ndarrays with different lengths or shapes) is deprecated. If you meant to do this, you must specify 'dtype=object' when creating the ndarray.\n",
      "  return array(a, dtype, copy=False, order=order)\n"
     ]
    },
    {
     "output_type": "display_data",
     "data": {
      "text/html": [],
      "text/plain": [
       "<IPython.core.display.HTML object>"
      ]
     },
     "metadata": {}
    },
    {
     "output_type": "display_data",
     "data": {
      "text/html": [
       "<table border=\"1\" class=\"dataframe\">\n",
       "  <thead>\n",
       "    <tr style=\"text-align: right;\">\n",
       "      <th></th>\n",
       "      <th>text</th>\n",
       "      <th>text_</th>\n",
       "    </tr>\n",
       "  </thead>\n",
       "  <tbody>\n",
       "    <tr>\n",
       "      <th>0</th>\n",
       "      <td>xxbos dans un tel cas , où il s’ agit d ’ apprécier si un nom commercial a un fondement juridique antérieur à celui d ’ une marque aux fins de l’ article 16 , paragraphe 1 , troisième phrase , de l’ accord adpic , peut -on considérer comme décisif : i ) le fait que , dans l’ état où la marque est enregistrée et sa protection réclamée , le nom commercial ait été , du moins dans une certaine mesure , connu dans les milieux professionnels xxunk xxunk de l’ état concerné avant la date à laquelle l’ enregistrement de la marque y a été demandé ; ou que , dans les relations commerciales intéressant l’ état où la marque est xxunk ée et sa protection réclamée , le nom commercial ait été utilisé avant la date à laquelle l’ enregistrement de la marque a été demandé</td>\n",
       "      <td>xxbos when assessing , in such a case , whether a trade name has a legal basis prior to a trade mark for the purposes of the third sentence of article 16(1 ) of the trips agreement , may it thus be considered as decisive : ( i ) whether the trade name was well known at least to some extent among the relevant trade circles in the state in which the trade mark is registered and in which protection is sought for it , before the point in time at which registration of the trade mark was applied for in the state in question ; or whether the trade name was used in commerce directed to the state in which the trade mark is registered and in which protection is sought for it , before the point in time at which registration of the trade mark was applied for in the state in question ; or what other factor may decide whether the trade name is to be regarded as an existing prior right within the meaning of the third sentence of article 16(1 ) of the trips agreement ?</td>\n",
       "    </tr>\n",
       "    <tr>\n",
       "      <th>1</th>\n",
       "      <td>xxbos quels types de délits en matière de propriété intellectuelle sont enregistrés en australie ( en particulier , quel est le volume de marchandises de contrefaçon et de marchandises pirates sur le marché ) et quel aspect des délits en matière de propriété intellectuelle a le plus d’ impact ( par exemple , la distribution à petite échelle , l’ implication du crime organisé , l’ importation des produits ou leur fabrication locale , la diffusion en ligne de musique , de films , d’ émissions xxunk ou de logiciels d’ entreprise ) ?</td>\n",
       "      <td>xxbos what kind of ip crime is affecting australia ( ie what is the volume of counterfeit / pirated goods on the market ) and what aspect of ip crime is xxunk the most ( eg small - scale market distribution , organised crime involvement , cross - border importation or domestic manufacture , online distribution of music , film , television and business software products ) ?</td>\n",
       "    </tr>\n",
       "    <tr>\n",
       "      <th>2</th>\n",
       "      <td>xxbos deux questions xxunk le projet : quels changements sont nécessaires à l' école pour que la mise en oeuvre de pratiques et de xxunk xxunk parviennent à atteindre le double objectif de la réussite et de l' égalité ; et quels sont les obstacles et les possibilités actuels pour relier les besoins des parents et de la communauté aux résultats des recherches et aux meilleures pratiques quand il faut maximiser le potentiel d' apprentissage , les rôles de vie adulte et les perspectives de carrière des étudiants à risques ?</td>\n",
       "      <td>xxbos what changes need to happen for schools in the implementation of inclusive education philosophy and practice to achieve xxunk goals of excellence and equity ?</td>\n",
       "    </tr>\n",
       "  </tbody>\n",
       "</table>"
      ],
      "text/plain": [
       "<IPython.core.display.HTML object>"
      ]
     },
     "metadata": {}
    }
   ],
   "metadata": {}
  },
  {
   "cell_type": "code",
   "execution_count": 43,
   "source": [
    "m = np.array([len(st.split(\" \")) for st in df.to_numpy()[:, 0]])\n",
    "np.where(m > 50)"
   ],
   "outputs": [
    {
     "output_type": "execute_result",
     "data": {
      "text/plain": [
       "(array([ 3514,  3571,  7127,  7381,  7382,  7469,  8196,  8205,  9277,\n",
       "         9343, 10073, 11388, 11671, 13900, 17602, 17605, 19245, 19935,\n",
       "        21893, 22414, 22475, 22476, 22478, 24131, 24314, 24389, 24611,\n",
       "        25905, 26362, 26365, 26372, 26373, 26983, 27535, 29495, 29643,\n",
       "        30264, 30508, 31297, 31643, 32052, 32192, 33303, 34690, 35244,\n",
       "        35413, 35794, 35799, 36506, 36624, 36706, 36790, 37142, 37635,\n",
       "        37749, 37945, 39059, 40286, 40344, 40462, 40466, 41088, 41691,\n",
       "        41716, 41948, 41983, 42512, 43437, 43628, 43727, 43730, 43731,\n",
       "        43732, 44374, 44532, 44676, 44806, 45098, 45310, 45441, 45565,\n",
       "        46404, 46481, 46967, 47242, 47442, 47506, 47596, 47654, 47743,\n",
       "        47797, 47910, 47934, 48381, 48625, 48905, 49375, 49777, 49914,\n",
       "        50031, 50035, 50694, 50869, 51484, 51838, 51939, 51987, 52294]),)"
      ]
     },
     "metadata": {},
     "execution_count": 43
    }
   ],
   "metadata": {}
  },
  {
   "cell_type": "code",
   "execution_count": 44,
   "source": [
    "model_path = Config.config_path/\"models\"\n",
    "emb_enc = torch.load(model_path/\"fr_emb.pth\")\n",
    "emb_dec = torch.load(model_path/\"en_emb.pth\")"
   ],
   "outputs": [],
   "metadata": {}
  },
  {
   "cell_type": "code",
   "execution_count": 45,
   "source": [
    "emb_dec"
   ],
   "outputs": [
    {
     "output_type": "execute_result",
     "data": {
      "text/plain": [
       "Embedding(9112, 300, padding_idx=1)"
      ]
     },
     "metadata": {},
     "execution_count": 45
    }
   ],
   "metadata": {}
  },
  {
   "cell_type": "code",
   "execution_count": 46,
   "source": [
    "def seq2seq_loss(out, targ, pad_idx=1):\n",
    "    bs, targ_len = targ.size()\n",
    "    _, out_len, vs = out.size()\n",
    "    if targ_len > out_len: out = F.pad(out, (0, 0, 0, targ_len - out_len, 0, 0), value=pad_idx)\n",
    "    if out_len > targ_len: targ = F.pad(targ, (0, out_len - targ_len, 0, 0), value=pad_idx)\n",
    "    return CrossEntropyLossFlat()(out, targ)\n",
    "\n",
    "\n",
    "def seq2seq_acc(out, targ, pad_idx=1):\n",
    "    bs, targ_len = targ.size()\n",
    "    _, out_len, vs = out.size()\n",
    "    if targ_len > out_len: out = F.pad(out, (0, 0, 0, targ_len - out_len, 0, 0), value=pad_idx)\n",
    "    if out_len > targ_len: targ = F.pad(targ, (0, out_len - targ_len, 0, 0), value=pad_idx)\n",
    "    out = out.argmax(2)\n",
    "    return (out == targ).float().mean()"
   ],
   "outputs": [],
   "metadata": {}
  },
  {
   "cell_type": "code",
   "execution_count": 47,
   "source": [
    "class NGram():\n",
    "    def __init__(self, ngram, max_n=5000): self.ngram,self.max_n = ngram,max_n\n",
    "    def __eq__(self, other):\n",
    "        if len(self.ngram) != len(other.ngram): return False\n",
    "        return np.all(np.array(self.ngram) == np.array(other.ngram))\n",
    "    def __hash__(self): return int(sum([o * self.max_n**i for i,o in enumerate(self.ngram)]))"
   ],
   "outputs": [],
   "metadata": {}
  },
  {
   "cell_type": "code",
   "execution_count": 48,
   "source": [
    "def get_grams(x, n, max_n=5000):\n",
    "    return x if n==1 else [NGram(x[i:i+n], max_n=max_n) for i in range(len(x)-n+1)]"
   ],
   "outputs": [],
   "metadata": {}
  },
  {
   "cell_type": "code",
   "execution_count": 49,
   "source": [
    "def get_correct_ngrams(pred, targ, n, max_n=5000):\n",
    "    pred_grams,targ_grams = get_grams(pred, n, max_n=max_n),get_grams(targ, n, max_n=max_n)\n",
    "    pred_cnt,targ_cnt = Counter(pred_grams),Counter(targ_grams)\n",
    "    return sum([min(c, targ_cnt[g]) for g,c in pred_cnt.items()]),len(pred_grams)"
   ],
   "outputs": [],
   "metadata": {}
  },
  {
   "cell_type": "code",
   "execution_count": 56,
   "source": [
    "class GetPreds:\n",
    "    def __init__(self, inputs, preds, targs):\n",
    "        self.inputs, self.preds, self.targs = inputs, preds, targs\n",
    "\n",
    "    def get_predictions(self, num, ignore_pad=False): \n",
    "        \"\"\":ignore_pad: Whether to ignore pad for predictions. Default: False\"\"\"\n",
    "        return (\n",
    "            itos(dls.vocab[0], self.inputs[num], join=True, ignore_pad=True),\n",
    "            itos(dls.vocab[1], self.targs[num], join=True, ignore_pad=True),\n",
    "            itos(dls.vocab[1], self.preds[num].argmax(1), join=True, ignore_pad=ignore_pad)\n",
    "        )"
   ],
   "outputs": [],
   "metadata": {}
  },
  {
   "cell_type": "code",
   "execution_count": 51,
   "source": [
    "class TeacherForcing(Callback):\n",
    "    def __init__(self, end_epoch, full_force_for=0): \n",
    "        self.fff = full_force_for - 1  # start counting from zero. \n",
    "        self.end_epoch = end_epoch\n",
    "    \n",
    "    def before_batch(self): \n",
    "        self.learn.xb = (self.x, self.y)\n",
    "\n",
    "    def before_epoch(self):\n",
    "        self.learn.model.pr_force = 1 - ((self.learn.epoch - self.fff) / (self.end_epoch - self.fff))\n",
    "        if self.learn.epoch <= self.fff: self.learn.model.pr_force = 1"
   ],
   "outputs": [],
   "metadata": {}
  },
  {
   "cell_type": "markdown",
   "source": [
    "## Implementing Attention"
   ],
   "metadata": {}
  },
  {
   "cell_type": "code",
   "execution_count": 52,
   "source": [
    "class Seq2SeqRNN_attn(Module):\n",
    "    def __init__(self, emb_enc, emb_dec, nh, out_sl, nl=2, bos_idx=0, pad_idx=1):\n",
    "        self.nl, self.nh, self.out_sl, self.pr_force = nl, nh, out_sl, 1\n",
    "        self.bos_idx, self.pad_idx = bos_idx, pad_idx\n",
    "        self.emb_enc, self.emb_dec = emb_enc, emb_dec\n",
    "        self.emb_sz_enc, self.emb_sz_dec = emb_enc.embedding_dim, emb_enc.embedding_dim\n",
    "        self.voc_sz_dec = emb_dec.num_embeddings\n",
    "\n",
    "        self.emb_enc_drop = nn.Dropout(0.15)\n",
    "        self.gru_enc = nn.GRU(self.emb_sz_enc, nh, num_layers=nl, dropout=0.25,\n",
    "                        batch_first=True, bidirectional=True)\n",
    "        self.out_enc = nn.Linear(2 * nh, self.emb_sz_dec, bias=False)\n",
    "\n",
    "        self.gru_dec = nn.GRU(self.emb_sz_dec + 2 * nh, self.emb_sz_dec, num_layers=nl,\n",
    "                        dropout=0.1, batch_first=True)\n",
    "        self.out_drop = nn.Dropout(0.35)\n",
    "        self.out = nn.Linear(self.emb_sz_dec, self.voc_sz_dec)\n",
    "        self.out.weight.data = self.emb_dec.weight.data\n",
    "\n",
    "        self.enc_att = nn.Linear(2 * nh, self.emb_sz_dec, bias=False)\n",
    "        self.hid_att = nn.Linear(self.emb_sz_dec, self.emb_sz_dec)\n",
    "        self.V = self.init_param(self.emb_sz_dec)\n",
    "\n",
    "    def encoder(self, bs, inp):\n",
    "        h = self.initHidden(bs)\n",
    "        emb = self.emb_enc_drop(self.emb_enc(inp))\n",
    "        enc_out, hid = self.gru_enc(emb, 2 * h)\n",
    "\n",
    "        pre_hid = hid.view(2, self.nl, bs, self.nh).permute(1, 2, 0, 3).contiguous()\n",
    "        pre_hid = pre_hid.view(self.nl, bs, 2 * self.nh)\n",
    "        hid = self.out_enc(pre_hid)\n",
    "\n",
    "        return hid, enc_out\n",
    "\n",
    "    def decoder(self, dec_inp, hid, enc_att, enc_out):\n",
    "        hid_att = self.hid_att(hid[-1])\n",
    "\n",
    "        # enc_out and hid through linear layers\n",
    "        u = torch.tanh(enc_att + hid_att[:, None])\n",
    "\n",
    "        # Learn importance each time step\n",
    "        attn_wgts = F.softmax(u @ self.V, 1)\n",
    "\n",
    "        # weighted average of enc_out (output at every time step)\n",
    "        ctx = (attn_wgts[..., None] * enc_out).sum(1)\n",
    "        emb = self.emb_dec(dec_inp)\n",
    "\n",
    "        # Concat decoder embed with context\n",
    "        outp, hid = self.gru_dec(torch.cat([emb, ctx], 1)[:, None], hid)\n",
    "        outp = self.out(self.out_drop(outp[:, 0]))\n",
    "        return hid, outp\n",
    "\n",
    "    def show(self, nm, v): \n",
    "        if False: print(f\"{nm}={v[nm].shape}\")\n",
    "\n",
    "    def forward(self, inp, targ=None):\n",
    "        bs, sl = inp.size()\n",
    "        hid, enc_out = self.encoder(bs, inp)\n",
    "        # self.show(\"hid\", vars())\n",
    "        dec_inp = inp.new_zeros(bs).long() + self.bos_idx\n",
    "        enc_att = self.enc_att(enc_out)\n",
    "\n",
    "        res = []\n",
    "\n",
    "        for i in range(self.out_sl):\n",
    "            hid, outp = self.decoder(dec_inp, hid, enc_att, enc_out)\n",
    "            res.append(outp)\n",
    "            dec_inp = outp.max(1)[1]\n",
    "            if (dec_inp==self.pad_idx).all(): break\n",
    "\n",
    "            if (targ is not None) and (random.random() < self.pr_force):\n",
    "                if i >= targ.shape[1]: continue\n",
    "                assert dec_inp.shape == targ[:, i].shape\n",
    "                dec_inp = targ[:, i]\n",
    "        \n",
    "        return torch.stack(res, dim=1)\n",
    "\n",
    "    def initHidden(self, bs): return one_param(self).new_zeros(2 * self.nl, bs, self.nh)\n",
    "    def init_param(self, *sz): return nn.Parameter(torch.randn(sz) / math.sqrt(sz[0]))"
   ],
   "outputs": [],
   "metadata": {}
  },
  {
   "cell_type": "code",
   "execution_count": 53,
   "source": [
    "model = Seq2SeqRNN_attn(emb_enc, emb_dec, 256, 30)\n",
    "model"
   ],
   "outputs": [
    {
     "output_type": "execute_result",
     "data": {
      "text/plain": [
       "Seq2SeqRNN_attn(\n",
       "  (emb_enc): Embedding(11600, 300, padding_idx=1)\n",
       "  (emb_dec): Embedding(9112, 300, padding_idx=1)\n",
       "  (emb_enc_drop): Dropout(p=0.15, inplace=False)\n",
       "  (gru_enc): GRU(300, 256, num_layers=2, batch_first=True, dropout=0.25, bidirectional=True)\n",
       "  (out_enc): Linear(in_features=512, out_features=300, bias=False)\n",
       "  (gru_dec): GRU(812, 300, num_layers=2, batch_first=True, dropout=0.1)\n",
       "  (out_drop): Dropout(p=0.35, inplace=False)\n",
       "  (out): Linear(in_features=300, out_features=9112, bias=True)\n",
       "  (enc_att): Linear(in_features=512, out_features=300, bias=False)\n",
       "  (hid_att): Linear(in_features=300, out_features=300, bias=True)\n",
       ")"
      ]
     },
     "metadata": {},
     "execution_count": 53
    }
   ],
   "metadata": {}
  },
  {
   "cell_type": "code",
   "execution_count": 54,
   "source": [
    "torch.cuda.empty_cache()\n",
    "learn = Learner(dls, model, loss_func=seq2seq_loss, \n",
    "            metrics=[seq2seq_acc, CorpusBLEUMetric(len(dls.vocab[1]))],\n",
    "            cbs=[TeacherForcing(30, 3)])\n",
    "learn.lr_find()"
   ],
   "outputs": [
    {
     "output_type": "display_data",
     "data": {
      "text/html": [],
      "text/plain": [
       "<IPython.core.display.HTML object>"
      ]
     },
     "metadata": {}
    },
    {
     "output_type": "execute_result",
     "data": {
      "text/plain": [
       "SuggestedLRs(valley=tensor(0.0003))"
      ]
     },
     "metadata": {},
     "execution_count": 54
    },
    {
     "output_type": "display_data",
     "data": {
      "image/png": "[encoded data removed]",
      "text/plain": [
       "<Figure size 432x288 with 1 Axes>"
      ]
     },
     "metadata": {
      "needs_background": "light"
     }
    }
   ],
   "metadata": {}
  },
  {
   "cell_type": "code",
   "execution_count": 55,
   "source": [
    "learn.fit_one_cycle(15, 3e-3)"
   ],
   "outputs": [
    {
     "output_type": "display_data",
     "data": {
      "text/html": [
       "<table border=\"1\" class=\"dataframe\">\n",
       "  <thead>\n",
       "    <tr style=\"text-align: left;\">\n",
       "      <th>epoch</th>\n",
       "      <th>train_loss</th>\n",
       "      <th>valid_loss</th>\n",
       "      <th>seq2seq_acc</th>\n",
       "      <th>corpus_bleu</th>\n",
       "      <th>time</th>\n",
       "    </tr>\n",
       "  </thead>\n",
       "  <tbody>\n",
       "    <tr>\n",
       "      <td>0</td>\n",
       "      <td>3.274745</td>\n",
       "      <td>3.290447</td>\n",
       "      <td>0.550881</td>\n",
       "      <td>0.366174</td>\n",
       "      <td>02:54</td>\n",
       "    </tr>\n",
       "    <tr>\n",
       "      <td>1</td>\n",
       "      <td>2.696936</td>\n",
       "      <td>2.795808</td>\n",
       "      <td>0.604760</td>\n",
       "      <td>0.386262</td>\n",
       "      <td>02:30</td>\n",
       "    </tr>\n",
       "    <tr>\n",
       "      <td>2</td>\n",
       "      <td>2.403678</td>\n",
       "      <td>2.460868</td>\n",
       "      <td>0.640072</td>\n",
       "      <td>0.408413</td>\n",
       "      <td>02:29</td>\n",
       "    </tr>\n",
       "    <tr>\n",
       "      <td>3</td>\n",
       "      <td>2.003400</td>\n",
       "      <td>2.324944</td>\n",
       "      <td>0.651999</td>\n",
       "      <td>0.431581</td>\n",
       "      <td>02:28</td>\n",
       "    </tr>\n",
       "    <tr>\n",
       "      <td>4</td>\n",
       "      <td>2.225621</td>\n",
       "      <td>2.254841</td>\n",
       "      <td>0.659783</td>\n",
       "      <td>0.427665</td>\n",
       "      <td>02:27</td>\n",
       "    </tr>\n",
       "    <tr>\n",
       "      <td>5</td>\n",
       "      <td>1.981703</td>\n",
       "      <td>2.263620</td>\n",
       "      <td>0.661931</td>\n",
       "      <td>0.433464</td>\n",
       "      <td>02:26</td>\n",
       "    </tr>\n",
       "    <tr>\n",
       "      <td>6</td>\n",
       "      <td>1.860337</td>\n",
       "      <td>2.396944</td>\n",
       "      <td>0.648175</td>\n",
       "      <td>0.417830</td>\n",
       "      <td>02:26</td>\n",
       "    </tr>\n",
       "    <tr>\n",
       "      <td>7</td>\n",
       "      <td>1.966225</td>\n",
       "      <td>2.274959</td>\n",
       "      <td>0.661903</td>\n",
       "      <td>0.440676</td>\n",
       "      <td>02:26</td>\n",
       "    </tr>\n",
       "    <tr>\n",
       "      <td>8</td>\n",
       "      <td>1.828020</td>\n",
       "      <td>2.370565</td>\n",
       "      <td>0.653450</td>\n",
       "      <td>0.431299</td>\n",
       "      <td>02:25</td>\n",
       "    </tr>\n",
       "    <tr>\n",
       "      <td>9</td>\n",
       "      <td>1.773579</td>\n",
       "      <td>2.422613</td>\n",
       "      <td>0.649914</td>\n",
       "      <td>0.433362</td>\n",
       "      <td>02:24</td>\n",
       "    </tr>\n",
       "    <tr>\n",
       "      <td>10</td>\n",
       "      <td>2.024141</td>\n",
       "      <td>2.519674</td>\n",
       "      <td>0.636507</td>\n",
       "      <td>0.424246</td>\n",
       "      <td>02:23</td>\n",
       "    </tr>\n",
       "    <tr>\n",
       "      <td>11</td>\n",
       "      <td>1.608306</td>\n",
       "      <td>2.515211</td>\n",
       "      <td>0.640341</td>\n",
       "      <td>0.428511</td>\n",
       "      <td>02:25</td>\n",
       "    </tr>\n",
       "    <tr>\n",
       "      <td>12</td>\n",
       "      <td>1.864239</td>\n",
       "      <td>2.626436</td>\n",
       "      <td>0.628741</td>\n",
       "      <td>0.421488</td>\n",
       "      <td>02:23</td>\n",
       "    </tr>\n",
       "    <tr>\n",
       "      <td>13</td>\n",
       "      <td>1.886644</td>\n",
       "      <td>2.737025</td>\n",
       "      <td>0.615172</td>\n",
       "      <td>0.410242</td>\n",
       "      <td>02:23</td>\n",
       "    </tr>\n",
       "    <tr>\n",
       "      <td>14</td>\n",
       "      <td>2.013999</td>\n",
       "      <td>2.858145</td>\n",
       "      <td>0.601201</td>\n",
       "      <td>0.401374</td>\n",
       "      <td>02:22</td>\n",
       "    </tr>\n",
       "  </tbody>\n",
       "</table>"
      ],
      "text/plain": [
       "<IPython.core.display.HTML object>"
      ]
     },
     "metadata": {}
    }
   ],
   "metadata": {}
  },
  {
   "cell_type": "code",
   "execution_count": 57,
   "source": [
    "inputs, preds, targs = learn.get_preds(with_input=True)\n",
    "p = GetPreds(inputs[0], preds, targs)"
   ],
   "outputs": [
    {
     "output_type": "display_data",
     "data": {
      "text/html": [],
      "text/plain": [
       "<IPython.core.display.HTML object>"
      ]
     },
     "metadata": {}
    }
   ],
   "metadata": {}
  },
  {
   "cell_type": "markdown",
   "source": [
    "It seems like this have 2 input features, and `inputs[0]` matches their english equivalent. One isn't sure that does `inputs[1]` represents here. "
   ],
   "metadata": {}
  },
  {
   "cell_type": "code",
   "execution_count": 73,
   "source": [
    "p.get_predictions(700)"
   ],
   "outputs": [
    {
     "output_type": "execute_result",
     "data": {
      "text/plain": [
       "(\"xxbos quels étaient vos plans en cas d' échec au concours ?\",\n",
       " 'xxbos what were your plans if you were to be unsuccessful in the competition ?',\n",
       " 'xxbos what were your plans if you were to be unsuccessful in the competition ? xxpad xxpad xxpad xxpad xxpad xxpad xxpad xxpad')"
      ]
     },
     "metadata": {},
     "execution_count": 73
    }
   ],
   "metadata": {}
  },
  {
   "cell_type": "code",
   "execution_count": 74,
   "source": [
    "p.get_predictions(701)"
   ],
   "outputs": [
    {
     "output_type": "execute_result",
     "data": {
      "text/plain": [
       "('xxbos quelles sont vos responsabilités en qualité de gestionnaire dans ce processus ?',\n",
       " 'xxbos what are you responsibilities as a manager in this process ?',\n",
       " 'xxbos what are your in as a manager in this process ? xxpad xxpad xxpad xxpad xxpad xxpad xxpad')"
      ]
     },
     "metadata": {},
     "execution_count": 74
    }
   ],
   "metadata": {}
  },
  {
   "cell_type": "code",
   "execution_count": 78,
   "source": [
    "p.get_predictions(4002)  # this is very funny"
   ],
   "outputs": [
    {
     "output_type": "execute_result",
     "data": {
      "text/plain": [
       "(\"xxbos comment s' en passer ?\",\n",
       " 'xxbos what would we do without it ?',\n",
       " 'x x p a d')"
      ]
     },
     "metadata": {},
     "execution_count": 78
    }
   ],
   "metadata": {}
  },
  {
   "cell_type": "code",
   "execution_count": 79,
   "source": [
    "p.get_predictions(4010)"
   ],
   "outputs": [
    {
     "output_type": "execute_result",
     "data": {
      "text/plain": [
       "('xxbos quelle est votre priorité - la salubrité ou la nutrition ?',\n",
       " 'xxbos which is your priority - safety or nutrition ?',\n",
       " 'xxbos what is your priority safety food or nutrition ? xxpad xxpad xxpad xxpad xxpad xxpad xxpad xxpad xxpad')"
      ]
     },
     "metadata": {},
     "execution_count": 79
    }
   ],
   "metadata": {}
  },
  {
   "cell_type": "code",
   "execution_count": null,
   "source": [],
   "outputs": [],
   "metadata": {}
  }
 ],
 "metadata": {
  "orig_nbformat": 4,
  "language_info": {
   "name": "python",
   "version": "3.8.2",
   "mimetype": "text/x-python",
   "codemirror_mode": {
    "name": "ipython",
    "version": 3
   },
   "pygments_lexer": "ipython3",
   "nbconvert_exporter": "python",
   "file_extension": ".py"
  },
  "kernelspec": {
   "name": "python3",
   "display_name": "Python 3.8.2 64-bit ('fastai': conda)"
  },
  "interpreter": {
   "hash": "5aa457f694240ca52bec53eda6ed84b45efde55787bbd717cb0e138c3a892911"
  }
 },
 "nbformat": 4,
 "nbformat_minor": 2
}