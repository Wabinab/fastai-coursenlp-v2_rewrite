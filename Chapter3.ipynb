{
 "cells": [
  {
   "cell_type": "markdown",
   "source": [
    "# Chapter 3: LogReg nb IMBD\n",
    "Note this notebook is too long. So long that at the final section you are almost always confirmed to have kernel dead. At least that's what one experienced. Try to rerun it again and see if it works or not. "
   ],
   "metadata": {}
  },
  {
   "cell_type": "code",
   "execution_count": 2,
   "source": [
    "%reload_ext autoreload\n",
    "%autoreload 2\n",
    "%matplotlib inline"
   ],
   "outputs": [],
   "metadata": {}
  },
  {
   "cell_type": "code",
   "execution_count": 3,
   "source": [
    "from fastai.text.all import *"
   ],
   "outputs": [],
   "metadata": {}
  },
  {
   "cell_type": "code",
   "execution_count": 4,
   "source": [
    "import sklearn.feature_extraction.text as sklearn_text\n",
    "import _pickle as cPickle\n",
    "import numpy as np"
   ],
   "outputs": [],
   "metadata": {}
  },
  {
   "cell_type": "code",
   "execution_count": 5,
   "source": [
    "path = untar_data(URLs.IMDB_SAMPLE)\n",
    "path"
   ],
   "outputs": [
    {
     "output_type": "execute_result",
     "data": {
      "text/plain": [
       "Path('/home/fastai2/.fastai/data/imdb_sample')"
      ]
     },
     "metadata": {},
     "execution_count": 5
    }
   ],
   "metadata": {}
  },
  {
   "cell_type": "code",
   "execution_count": 6,
   "source": [
    "df = pd.read_csv(path/\"texts.csv\")\n",
    "df.head()"
   ],
   "outputs": [
    {
     "output_type": "execute_result",
     "data": {
      "text/html": [
       "<div>\n",
       "<style scoped>\n",
       "    .dataframe tbody tr th:only-of-type {\n",
       "        vertical-align: middle;\n",
       "    }\n",
       "\n",
       "    .dataframe tbody tr th {\n",
       "        vertical-align: top;\n",
       "    }\n",
       "\n",
       "    .dataframe thead th {\n",
       "        text-align: right;\n",
       "    }\n",
       "</style>\n",
       "<table border=\"1\" class=\"dataframe\">\n",
       "  <thead>\n",
       "    <tr style=\"text-align: right;\">\n",
       "      <th></th>\n",
       "      <th>label</th>\n",
       "      <th>text</th>\n",
       "      <th>is_valid</th>\n",
       "    </tr>\n",
       "  </thead>\n",
       "  <tbody>\n",
       "    <tr>\n",
       "      <th>0</th>\n",
       "      <td>negative</td>\n",
       "      <td>Un-bleeping-believable! Meg Ryan doesn't even look her usual pert lovable self in this, which normally makes me forgive her shallow ticky acting schtick. Hard to believe she was the producer on this dog. Plus Kevin Kline: what kind of suicide trip has his career been on? Whoosh... Banzai!!! Finally this was directed by the guy who did Big Chill? Must be a replay of Jonestown - hollywood style. Wooofff!</td>\n",
       "      <td>False</td>\n",
       "    </tr>\n",
       "    <tr>\n",
       "      <th>1</th>\n",
       "      <td>positive</td>\n",
       "      <td>This is a extremely well-made film. The acting, script and camera-work are all first-rate. The music is good, too, though it is mostly early in the film, when things are still relatively cheery. There are no really superstars in the cast, though several faces will be familiar. The entire cast does an excellent job with the script.&lt;br /&gt;&lt;br /&gt;But it is hard to watch, because there is no good end to a situation like the one presented. It is now fashionable to blame the British for setting Hindus and Muslims against each other, and then cruelly separating them into two countries. There is som...</td>\n",
       "      <td>False</td>\n",
       "    </tr>\n",
       "    <tr>\n",
       "      <th>2</th>\n",
       "      <td>negative</td>\n",
       "      <td>Every once in a long while a movie will come along that will be so awful that I feel compelled to warn people. If I labor all my days and I can save but one soul from watching this movie, how great will be my joy.&lt;br /&gt;&lt;br /&gt;Where to begin my discussion of pain. For starters, there was a musical montage every five minutes. There was no character development. Every character was a stereotype. We had swearing guy, fat guy who eats donuts, goofy foreign guy, etc. The script felt as if it were being written as the movie was being shot. The production value was so incredibly low that it felt li...</td>\n",
       "      <td>False</td>\n",
       "    </tr>\n",
       "    <tr>\n",
       "      <th>3</th>\n",
       "      <td>positive</td>\n",
       "      <td>Name just says it all. I watched this movie with my dad when it came out and having served in Korea he had great admiration for the man. The disappointing thing about this film is that it only concentrate on a short period of the man's life - interestingly enough the man's entire life would have made such an epic bio-pic that it is staggering to imagine the cost for production.&lt;br /&gt;&lt;br /&gt;Some posters elude to the flawed characteristics about the man, which are cheap shots. The theme of the movie \"Duty, Honor, Country\" are not just mere words blathered from the lips of a high-brassed offic...</td>\n",
       "      <td>False</td>\n",
       "    </tr>\n",
       "    <tr>\n",
       "      <th>4</th>\n",
       "      <td>negative</td>\n",
       "      <td>This movie succeeds at being one of the most unique movies you've seen. However this comes from the fact that you can't make heads or tails of this mess. It almost seems as a series of challenges set up to determine whether or not you are willing to walk out of the movie and give up the money you just paid. If you don't want to feel slighted you'll sit through this horrible film and develop a real sense of pity for the actors involved, they've all seen better days, but then you realize they actually got paid quite a bit of money to do this and you'll lose pity for them just like you've alr...</td>\n",
       "      <td>False</td>\n",
       "    </tr>\n",
       "  </tbody>\n",
       "</table>\n",
       "</div>"
      ],
      "text/plain": [
       "      label  \\\n",
       "0  negative   \n",
       "1  positive   \n",
       "2  negative   \n",
       "3  positive   \n",
       "4  negative   \n",
       "\n",
       "                                                                                                                                                                                                                                                                                                                                                                                                                                                                                                                                                                                                                      text  \\\n",
       "0                                                                                                                                                                                                    Un-bleeping-believable! Meg Ryan doesn't even look her usual pert lovable self in this, which normally makes me forgive her shallow ticky acting schtick. Hard to believe she was the producer on this dog. Plus Kevin Kline: what kind of suicide trip has his career been on? Whoosh... Banzai!!! Finally this was directed by the guy who did Big Chill? Must be a replay of Jonestown - hollywood style. Wooofff!   \n",
       "1  This is a extremely well-made film. The acting, script and camera-work are all first-rate. The music is good, too, though it is mostly early in the film, when things are still relatively cheery. There are no really superstars in the cast, though several faces will be familiar. The entire cast does an excellent job with the script.<br /><br />But it is hard to watch, because there is no good end to a situation like the one presented. It is now fashionable to blame the British for setting Hindus and Muslims against each other, and then cruelly separating them into two countries. There is som...   \n",
       "2  Every once in a long while a movie will come along that will be so awful that I feel compelled to warn people. If I labor all my days and I can save but one soul from watching this movie, how great will be my joy.<br /><br />Where to begin my discussion of pain. For starters, there was a musical montage every five minutes. There was no character development. Every character was a stereotype. We had swearing guy, fat guy who eats donuts, goofy foreign guy, etc. The script felt as if it were being written as the movie was being shot. The production value was so incredibly low that it felt li...   \n",
       "3  Name just says it all. I watched this movie with my dad when it came out and having served in Korea he had great admiration for the man. The disappointing thing about this film is that it only concentrate on a short period of the man's life - interestingly enough the man's entire life would have made such an epic bio-pic that it is staggering to imagine the cost for production.<br /><br />Some posters elude to the flawed characteristics about the man, which are cheap shots. The theme of the movie \"Duty, Honor, Country\" are not just mere words blathered from the lips of a high-brassed offic...   \n",
       "4  This movie succeeds at being one of the most unique movies you've seen. However this comes from the fact that you can't make heads or tails of this mess. It almost seems as a series of challenges set up to determine whether or not you are willing to walk out of the movie and give up the money you just paid. If you don't want to feel slighted you'll sit through this horrible film and develop a real sense of pity for the actors involved, they've all seen better days, but then you realize they actually got paid quite a bit of money to do this and you'll lose pity for them just like you've alr...   \n",
       "\n",
       "   is_valid  \n",
       "0     False  \n",
       "1     False  \n",
       "2     False  \n",
       "3     False  \n",
       "4     False  "
      ]
     },
     "metadata": {},
     "execution_count": 6
    }
   ],
   "metadata": {}
  },
  {
   "cell_type": "code",
   "execution_count": 7,
   "source": [
    "path.ls()"
   ],
   "outputs": [
    {
     "output_type": "execute_result",
     "data": {
      "text/plain": [
       "(#1) [Path('/home/fastai2/.fastai/data/imdb_sample/texts.csv')]"
      ]
     },
     "metadata": {},
     "execution_count": 7
    }
   ],
   "metadata": {}
  },
  {
   "cell_type": "code",
   "execution_count": 8,
   "source": [
    "imdb_clas = DataBlock(\n",
    "    blocks=(TextBlock.from_df(\"text\", seq_len=72), CategoryBlock),\n",
    "    get_x=ColReader(\"text\"), get_y=ColReader(\"label\"), splitter=ColSplitter()\n",
    ")\n",
    "\n",
    "dls = imdb_clas.dataloaders(df, bs=64)\n",
    "dls.show_batch()"
   ],
   "outputs": [
    {
     "output_type": "display_data",
     "data": {
      "text/html": [],
      "text/plain": [
       "<IPython.core.display.HTML object>"
      ]
     },
     "metadata": {}
    },
    {
     "output_type": "stream",
     "name": "stderr",
     "text": [
      "/anaconda/envs/fastai/lib/python3.8/site-packages/numpy/core/_asarray.py:102: VisibleDeprecationWarning: Creating an ndarray from ragged nested sequences (which is a list-or-tuple of lists-or-tuples-or ndarrays with different lengths or shapes) is deprecated. If you meant to do this, you must specify 'dtype=object' when creating the ndarray.\n",
      "  return array(a, dtype, copy=False, order=order)\n"
     ]
    },
    {
     "output_type": "display_data",
     "data": {
      "text/html": [
       "<table border=\"1\" class=\"dataframe\">\n",
       "  <thead>\n",
       "    <tr style=\"text-align: right;\">\n",
       "      <th></th>\n",
       "      <th>text</th>\n",
       "      <th>category</th>\n",
       "    </tr>\n",
       "  </thead>\n",
       "  <tbody>\n",
       "    <tr>\n",
       "      <th>0</th>\n",
       "      <td>xxbos xxmaj raising xxmaj victor xxmaj vargas : a xxmaj review \\n\\n xxmaj you know , xxmaj raising xxmaj victor xxmaj vargas is like sticking your hands into a big , xxunk bowl of xxunk . xxmaj it 's warm and gooey , but you 're not sure if it feels right . xxmaj try as i might , no matter how warm and gooey xxmaj raising xxmaj victor xxmaj vargas became i was always aware that something did n't quite feel right . xxmaj victor xxmaj vargas suffers from a certain xxunk on the director 's part . xxmaj apparently , the director thought that the ethnic backdrop of a xxmaj latino family on the lower east side , and an xxunk storyline would make the film critic proof . xxmaj he was right , but it did n't fool me . xxmaj raising xxmaj victor xxmaj vargas is</td>\n",
       "      <td>negative</td>\n",
       "    </tr>\n",
       "    <tr>\n",
       "      <th>1</th>\n",
       "      <td>xxbos xxup the xxup shop xxup around xxup the xxup corner is one of the xxunk and most feel - good romantic comedies ever made . xxmaj there 's just no getting around that , and it 's hard to actually put one 's feeling for this film into words . xxmaj it 's not one of those films that tries too hard , nor does it come up with the xxunk possible scenarios to get the two protagonists together in the end . xxmaj in fact , all its charm is xxunk , contained within the characters and the setting and the plot … which is highly believable to xxunk . xxmaj it 's easy to think that such a love story , as beautiful as any other ever told , * could * happen to you … a feeling you do n't often get from other romantic comedies</td>\n",
       "      <td>positive</td>\n",
       "    </tr>\n",
       "    <tr>\n",
       "      <th>2</th>\n",
       "      <td>xxbos xxmaj now that xxmaj che(2008 ) has finished its relatively short xxmaj australian cinema run ( extremely limited xxunk screen in xxmaj xxunk , after xxunk ) , i can xxunk join both xxunk of \" at xxmaj the xxmaj movies \" in taking xxmaj steven xxmaj soderbergh to task . \\n\\n xxmaj it 's usually satisfying to watch a film director change his style / subject , but xxmaj soderbergh 's most recent stinker , xxmaj the xxmaj girlfriend xxmaj xxunk ) , was also missing a story , so narrative ( and editing ? ) seem to suddenly be xxmaj soderbergh 's main challenge . xxmaj strange , after xxunk years in the business . xxmaj he was probably never much good at narrative , just xxunk it well inside \" edgy \" projects . \\n\\n xxmaj none of this excuses him this present , almost diabolical</td>\n",
       "      <td>negative</td>\n",
       "    </tr>\n",
       "    <tr>\n",
       "      <th>3</th>\n",
       "      <td>xxbos xxmaj this film sat on my xxmaj xxunk for weeks before i watched it . i xxunk a self - indulgent xxunk flick about relationships gone bad . i was wrong ; this was an xxunk xxunk into the screwed - up xxunk of xxmaj new xxmaj xxunk . \\n\\n xxmaj the format is the same as xxmaj max xxmaj xxunk ' \" la xxmaj xxunk , \" based on a play by xxmaj arthur xxmaj xxunk , who is given an \" inspired by \" credit . xxmaj it starts from one person , a prostitute , standing on a street corner in xxmaj brooklyn . xxmaj she is picked up by a home contractor , who has sex with her on the hood of a car , but ca n't come . xxmaj he refuses to pay her . xxmaj when he 's off xxunk , she</td>\n",
       "      <td>positive</td>\n",
       "    </tr>\n",
       "    <tr>\n",
       "      <th>4</th>\n",
       "      <td>xxbos i really wanted to love this show . i truly , honestly did . \\n\\n xxmaj for the first time , gay viewers get their own version of the \" the xxmaj bachelor \" . xxmaj with the help of his obligatory \" hag \" xxmaj xxunk , xxmaj james , a good looking , well - to - do thirty - something has the chance of love with 15 suitors ( or \" mates \" as they are referred to in the show ) . xxmaj the only problem is half of them are straight and xxmaj james does n't know this . xxmaj if xxmaj james picks a gay one , they get a trip to xxmaj new xxmaj zealand , and xxmaj if he picks a straight one , straight guy gets $ 25 , xxrep 3 0 . xxmaj how can this not be fun</td>\n",
       "      <td>negative</td>\n",
       "    </tr>\n",
       "    <tr>\n",
       "      <th>5</th>\n",
       "      <td>xxbos xxmaj many neglect that this is n't just a classic due to the fact that it 's the first 3d game , or even the first xxunk - up . xxmaj it 's also one of the first xxunk games , one of the xxunk definitely the first ) truly claustrophobic games , and just a pretty well - xxunk gaming experience in general . xxmaj with graphics that are terribly dated today , the game xxunk you into the role of xxunk even * think * xxmaj i 'm going to attempt spelling his last name ! ) , an xxmaj american xxup xxunk . caught in an underground bunker . xxmaj you fight and search your way through xxunk in order to achieve different xxunk for the six xxunk , let 's face it , most of them are just an excuse to hand you a weapon</td>\n",
       "      <td>positive</td>\n",
       "    </tr>\n",
       "    <tr>\n",
       "      <th>6</th>\n",
       "      <td>xxbos xxmaj the xxmaj blob starts with one of the most bizarre theme songs ever , xxunk by an uncredited xxmaj burt xxmaj xxunk of all people ! xxmaj you really have to hear it to believe it , xxmaj the xxmaj blob may be worth watching just for this song alone &amp; my user comment summary is just a little taste of the classy lyrics … xxmaj after this xxunk opening credits sequence xxmaj the xxmaj blob introduces us , the viewer that is , to xxmaj steve xxmaj xxunk ( steve mcqueen as xxmaj steven mcqueen ) &amp; his girlfriend xxmaj jane xxmaj martin ( xxunk xxmaj xxunk ) who are xxunk on their own somewhere &amp; witness what looks like a meteorite falling to xxmaj earth in nearby woods . xxmaj an old man ( xxunk xxmaj xxunk as xxmaj xxunk xxmaj xxunk ) who lives in</td>\n",
       "      <td>negative</td>\n",
       "    </tr>\n",
       "    <tr>\n",
       "      <th>7</th>\n",
       "      <td>xxbos xxmaj the year 2005 saw no xxunk than 3 filmed productions of xxup h. xxup g. xxmaj wells ' great novel , \" war of the xxmaj worlds \" . xxmaj this is perhaps the least well - known and very probably the best of them . xxmaj no other version of xxunk has ever attempted not only to present the story very much as xxmaj wells wrote it , but also to create the atmosphere of the time in which it was supposed to take place : the last year of the 19th xxmaj century , 1900 \n",
       "▁ using xxmaj wells ' original setting , in and near xxmaj xxunk , xxmaj england . \\n\\n imdb seems xxunk to what they regard as \" spoilers \" . xxmaj that might apply with some films , where the ending might actually be a surprise , but with regard to</td>\n",
       "      <td>positive</td>\n",
       "    </tr>\n",
       "    <tr>\n",
       "      <th>8</th>\n",
       "      <td>xxbos xxmaj well , what can i say . \\n\\n \" what the xxmaj xxunk do we xxmaj know \" has achieved the nearly impossible - leaving behind such masterpieces of the genre as \" the xxmaj xxunk \" , \" the xxmaj xxunk xxmaj master \" , \" xxunk \" , and so fourth , it will go down in history as the single worst movie i have ever seen in its xxunk . xxmaj and that , ladies and gentlemen , is impressive indeed , for i have seen many a bad movie . \\n\\n xxmaj this masterpiece of modern cinema consists of two xxunk parts , xxunk between a silly and contrived plot about an extremely annoying photographer , abandoned by her husband and forced to take anti - xxunk to survive , and a bunch of talking heads going on about how quantum physics supposedly xxunk</td>\n",
       "      <td>negative</td>\n",
       "    </tr>\n",
       "  </tbody>\n",
       "</table>"
      ],
      "text/plain": [
       "<IPython.core.display.HTML object>"
      ]
     },
     "metadata": {}
    }
   ],
   "metadata": {}
  },
  {
   "cell_type": "code",
   "execution_count": 9,
   "source": [
    "# Or optionally: \n",
    "# dls = TextDataLoaders.from_df(df, path=path, text_col=\"text\", label_col=\"label\",\n",
    "#                 valid_col=\"is_valid\")\n",
    "# dls.show_batch()"
   ],
   "outputs": [],
   "metadata": {}
  },
  {
   "cell_type": "code",
   "execution_count": 10,
   "source": [
    "dir(dls)"
   ],
   "outputs": [
    {
     "output_type": "execute_result",
     "data": {
      "text/plain": [
       "['_DataLoader__idxs',\n",
       " '__class__',\n",
       " '__delattr__',\n",
       " '__dict__',\n",
       " '__dir__',\n",
       " '__doc__',\n",
       " '__eq__',\n",
       " '__format__',\n",
       " '__ge__',\n",
       " '__getattr__',\n",
       " '__getattribute__',\n",
       " '__getitem__',\n",
       " '__gt__',\n",
       " '__hash__',\n",
       " '__init__',\n",
       " '__init_subclass__',\n",
       " '__le__',\n",
       " '__lt__',\n",
       " '__module__',\n",
       " '__ne__',\n",
       " '__new__',\n",
       " '__reduce__',\n",
       " '__reduce_ex__',\n",
       " '__repr__',\n",
       " '__setattr__',\n",
       " '__setstate__',\n",
       " '__sizeof__',\n",
       " '__str__',\n",
       " '__subclasshook__',\n",
       " '__weakref__',\n",
       " '_add_tfms',\n",
       " '_after_item',\n",
       " '_call',\n",
       " '_component_attr_filter',\n",
       " '_component_attr_filter',\n",
       " '_component_attr_filter',\n",
       " '_dbunch_type',\n",
       " '_dbunch_type',\n",
       " '_decode_batch',\n",
       " '_default',\n",
       " '_default',\n",
       " '_default',\n",
       " '_device',\n",
       " '_dir',\n",
       " '_dir',\n",
       " '_dir',\n",
       " '_dl_type',\n",
       " '_dl_type',\n",
       " '_do_call',\n",
       " '_do_one',\n",
       " '_docs',\n",
       " '_docs',\n",
       " '_get',\n",
       " '_is_showable',\n",
       " '_methods',\n",
       " '_n_inp',\n",
       " '_new',\n",
       " '_new',\n",
       " '_noop_methods',\n",
       " '_one_pass',\n",
       " '_pre_show_batch',\n",
       " '_repr_pretty_',\n",
       " '_retain_dl',\n",
       " '_set',\n",
       " '_tokenize1',\n",
       " '_types',\n",
       " 'add',\n",
       " 'add_na',\n",
       " 'add_tfms',\n",
       " 'after_batch',\n",
       " 'after_item',\n",
       " 'after_iter',\n",
       " 'argwhere',\n",
       " 'attrgot',\n",
       " 'before_batch',\n",
       " 'before_iter',\n",
       " 'bs',\n",
       " 'c',\n",
       " 'cat',\n",
       " 'categorize',\n",
       " 'chunkify',\n",
       " 'col_reader',\n",
       " 'cols',\n",
       " 'concat',\n",
       " 'copy',\n",
       " 'counter',\n",
       " 'cpu',\n",
       " 'create_batch',\n",
       " 'create_batches',\n",
       " 'create_item',\n",
       " 'cuda',\n",
       " 'cycle',\n",
       " 'dataloaders',\n",
       " 'dataloaders',\n",
       " 'dataset',\n",
       " 'decode',\n",
       " 'decode',\n",
       " 'decode',\n",
       " 'decode_batch',\n",
       " 'decodes',\n",
       " 'default',\n",
       " 'device',\n",
       " 'device',\n",
       " 'do_batch',\n",
       " 'do_item',\n",
       " 'drop_last',\n",
       " 'encodes',\n",
       " 'enumerate',\n",
       " 'fake_l',\n",
       " 'filter',\n",
       " 'from_dblock',\n",
       " 'from_df',\n",
       " 'from_dsets',\n",
       " 'from_folder',\n",
       " 'fs',\n",
       " 'get_idxs',\n",
       " 'get_lengths',\n",
       " 'idx_max',\n",
       " 'indexed',\n",
       " 'infer',\n",
       " 'infer_idx',\n",
       " 'init_enc',\n",
       " 'input_types',\n",
       " 'itemgot',\n",
       " 'items',\n",
       " 'items',\n",
       " 'kwargs',\n",
       " 'label_delim',\n",
       " 'lengths',\n",
       " 'loaders',\n",
       " 'loss_func',\n",
       " 'map',\n",
       " 'map_dict',\n",
       " 'map_first',\n",
       " 'map_zip',\n",
       " 'map_zipwith',\n",
       " 'max_vocab',\n",
       " 'min_freq',\n",
       " 'mode',\n",
       " 'n',\n",
       " 'n_inp',\n",
       " 'n_inp',\n",
       " 'n_subsets',\n",
       " 'n_subsets',\n",
       " 'name',\n",
       " 'new',\n",
       " 'new_empty',\n",
       " 'new_empty',\n",
       " 'new_empty',\n",
       " 'num_workers',\n",
       " 'numericalize',\n",
       " 'o',\n",
       " 'o2i',\n",
       " 'offs',\n",
       " 'one_batch',\n",
       " 'order',\n",
       " 'overlapping_splits',\n",
       " 'overlapping_splits',\n",
       " 'partial_dataloaders',\n",
       " 'partial_dataloaders',\n",
       " 'path',\n",
       " 'pin_memory',\n",
       " 'prebatched',\n",
       " 'pref',\n",
       " 'product',\n",
       " 'randomize',\n",
       " 'range',\n",
       " 'reduce',\n",
       " 'renumerate',\n",
       " 'res',\n",
       " 'retain',\n",
       " 'rng',\n",
       " 'rules',\n",
       " 'sample',\n",
       " 'sep',\n",
       " 'set_split_idx',\n",
       " 'setattrs',\n",
       " 'setup',\n",
       " 'setups',\n",
       " 'show',\n",
       " 'show',\n",
       " 'show_batch',\n",
       " 'show_results',\n",
       " 'shuffle',\n",
       " 'shuffle',\n",
       " 'shuffle_fn',\n",
       " 'sort',\n",
       " 'sort_func',\n",
       " 'sorted',\n",
       " 'special_toks',\n",
       " 'split',\n",
       " 'split_idx',\n",
       " 'split_idx',\n",
       " 'splits',\n",
       " 'splits',\n",
       " 'stack',\n",
       " 'starmap',\n",
       " 'subset',\n",
       " 'subset',\n",
       " 'suff',\n",
       " 'sum',\n",
       " 'tensored',\n",
       " 'test_dl',\n",
       " 'text_cols',\n",
       " 'tfms',\n",
       " 'timeout',\n",
       " 'tls',\n",
       " 'to',\n",
       " 'to',\n",
       " 'tok',\n",
       " 'tokenizer',\n",
       " 'train',\n",
       " 'train_ds',\n",
       " 'train_setup',\n",
       " 'types',\n",
       " 'unique',\n",
       " 'val2idx',\n",
       " 'valid',\n",
       " 'valid',\n",
       " 'valid',\n",
       " 'valid_ds',\n",
       " 'vocab',\n",
       " 'weighted_dataloaders',\n",
       " 'wif',\n",
       " 'zip',\n",
       " 'zipwith']"
      ]
     },
     "metadata": {},
     "execution_count": 10
    }
   ],
   "metadata": {}
  },
  {
   "cell_type": "code",
   "execution_count": 11,
   "source": [
    "print(f\"There are {len(dls.train_ds)} and {len(dls.valid_ds)} reviews in the \" \\\n",
    "\"training and validations sets, respectively.\")"
   ],
   "outputs": [
    {
     "output_type": "stream",
     "name": "stdout",
     "text": [
      "There are 800 and 200 reviews in the training and validations sets, respectively.\n"
     ]
    }
   ],
   "metadata": {}
  },
  {
   "cell_type": "code",
   "execution_count": 12,
   "source": [
    "np.array(dls.vocab[0])"
   ],
   "outputs": [
    {
     "output_type": "execute_result",
     "data": {
      "text/plain": [
       "array(['xxunk', 'xxpad', 'xxbos', ..., 'xxfake', 'xxfake', 'xxfake'],\n",
       "      dtype='<U17')"
      ]
     },
     "metadata": {},
     "execution_count": 12
    }
   ],
   "metadata": {}
  },
  {
   "cell_type": "code",
   "execution_count": 13,
   "source": [
    "rare_words = ['acrid','a_random_made_up_nonexistant_word',\n",
    "        'acrimonious','allosteric','anodyne','antikythera']\n",
    "[(word in dls.vocab[0]) for word in rare_words]"
   ],
   "outputs": [
    {
     "output_type": "execute_result",
     "data": {
      "text/plain": [
       "[False, False, False, False, False, False]"
      ]
     },
     "metadata": {},
     "execution_count": 13
    }
   ],
   "metadata": {}
  },
  {
   "cell_type": "code",
   "execution_count": 14,
   "source": [
    "# Default value\n",
    "dls.vocab[0][0]"
   ],
   "outputs": [
    {
     "output_type": "execute_result",
     "data": {
      "text/plain": [
       "'xxunk'"
      ]
     },
     "metadata": {},
     "execution_count": 14
    }
   ],
   "metadata": {}
  },
  {
   "cell_type": "code",
   "execution_count": 15,
   "source": [
    "torch.count_nonzero((dls.train.one_batch()[0][0] == 0).cpu()).item()"
   ],
   "outputs": [
    {
     "output_type": "execute_result",
     "data": {
      "text/plain": [
       "84"
      ]
     },
     "metadata": {},
     "execution_count": 15
    }
   ],
   "metadata": {}
  },
  {
   "cell_type": "code",
   "execution_count": 16,
   "source": [
    "unk_tot = 0\n",
    "for data, items in dls.train:\n",
    "    unk_tot += torch.count_nonzero((data[0].squeeze() == 0).cpu()).item()\n",
    "\n",
    "unk_tot"
   ],
   "outputs": [
    {
     "output_type": "execute_result",
     "data": {
      "text/plain": [
       "265"
      ]
     },
     "metadata": {},
     "execution_count": 16
    }
   ],
   "metadata": {}
  },
  {
   "cell_type": "code",
   "execution_count": 17,
   "source": [
    "dls.vocab[0][:25]"
   ],
   "outputs": [
    {
     "output_type": "execute_result",
     "data": {
      "text/plain": [
       "['xxunk',\n",
       " 'xxpad',\n",
       " 'xxbos',\n",
       " 'xxeos',\n",
       " 'xxfld',\n",
       " 'xxrep',\n",
       " 'xxwrep',\n",
       " 'xxup',\n",
       " 'xxmaj',\n",
       " 'the',\n",
       " ',',\n",
       " '.',\n",
       " 'and',\n",
       " 'a',\n",
       " 'of',\n",
       " 'to',\n",
       " 'is',\n",
       " 'it',\n",
       " 'in',\n",
       " 'i',\n",
       " 'that',\n",
       " 'this',\n",
       " '\"',\n",
       " \"'s\",\n",
       " '-']"
      ]
     },
     "metadata": {},
     "execution_count": 17
    }
   ],
   "metadata": {}
  },
  {
   "cell_type": "code",
   "execution_count": 18,
   "source": [
    "len(dls.vocab.itemgot()[0])"
   ],
   "outputs": [
    {
     "output_type": "execute_result",
     "data": {
      "text/plain": [
       "7080"
      ]
     },
     "metadata": {},
     "execution_count": 18
    }
   ],
   "metadata": {}
  },
  {
   "cell_type": "code",
   "execution_count": 19,
   "source": [
    "TokenCounter = lambda review_index: Counter((dls.items.text)[review_index])\n",
    "TokenCounter(0).items()"
   ],
   "outputs": [
    {
     "output_type": "execute_result",
     "data": {
      "text/plain": [
       "dict_items([('xxbos', 1), ('xxmaj', 14), ('un', 1), ('-', 3), ('bleeping', 1), ('believable', 1), ('!', 3), ('meg', 1), ('ryan', 1), ('does', 1), (\"n't\", 1), ('even', 1), ('look', 1), ('her', 2), ('usual', 1), ('pert', 1), ('lovable', 1), ('self', 1), ('in', 1), ('this', 3), (',', 1), ('which', 1), ('normally', 1), ('makes', 1), ('me', 1), ('forgive', 1), ('shallow', 1), ('ticky', 1), ('acting', 1), ('schtick', 1), ('.', 3), ('hard', 1), ('to', 1), ('believe', 1), ('she', 1), ('was', 2), ('the', 2), ('producer', 1), ('on', 2), ('dog', 1), ('plus', 1), ('kevin', 1), ('kline', 1), (':', 1), ('what', 1), ('kind', 1), ('of', 2), ('suicide', 1), ('trip', 1), ('has', 1), ('his', 1), ('career', 1), ('been', 1), ('?', 2), ('whoosh', 1), ('…', 1), ('banzai', 1), ('xxrep', 3), ('3', 3), ('finally', 1), ('directed', 1), ('by', 1), ('guy', 1), ('who', 1), ('did', 1), ('big', 1), ('chill', 1), ('must', 1), ('be', 1), ('a', 1), ('replay', 1), ('jonestown', 1), ('hollywood', 1), ('style', 1), ('w', 1), ('o', 1), ('f', 1)])"
      ]
     },
     "metadata": {},
     "execution_count": 19
    }
   ],
   "metadata": {}
  },
  {
   "cell_type": "code",
   "execution_count": 20,
   "source": [
    "TokenCounter = lambda review_index: Counter(dls.train_ds[review_index][0].numpy())\n",
    "TokenCounter(0).items()"
   ],
   "outputs": [
    {
     "output_type": "execute_result",
     "data": {
      "text/plain": [
       "dict_items([(2, 1), (8, 14), (4499, 1), (24, 3), (0, 7), (951, 1), (54, 3), (4500, 1), (1769, 1), (95, 1), (37, 1), (78, 1), (198, 1), (62, 2), (852, 1), (2184, 1), (507, 1), (18, 1), (21, 3), (10, 1), (86, 1), (2035, 1), (192, 1), (90, 1), (3814, 1), (1895, 1), (124, 1), (11, 3), (251, 1), (15, 1), (277, 1), (73, 1), (25, 2), (9, 2), (1651, 1), (35, 2), (1138, 1), (1096, 1), (1353, 1), (2921, 1), (92, 1), (64, 1), (240, 1), (14, 2), (1576, 1), (1484, 1), (66, 1), (41, 1), (790, 1), (107, 1), (69, 2), (87, 1), (5, 3), (161, 3), (567, 1), (642, 1), (48, 1), (265, 1), (53, 1), (89, 1), (218, 1), (234, 1), (43, 1), (13, 1), (4501, 1), (4502, 1), (392, 1), (427, 1), (2627, 1), (1354, 1), (1288, 1)])"
      ]
     },
     "metadata": {},
     "execution_count": 20
    }
   ],
   "metadata": {}
  },
  {
   "cell_type": "code",
   "execution_count": 21,
   "source": [
    "TokenCounter(0).keys()"
   ],
   "outputs": [
    {
     "output_type": "execute_result",
     "data": {
      "text/plain": [
       "dict_keys([2, 8, 4499, 24, 0, 951, 54, 4500, 1769, 95, 37, 78, 198, 62, 852, 2184, 507, 18, 21, 10, 86, 2035, 192, 90, 3814, 1895, 124, 11, 251, 15, 277, 73, 25, 9, 1651, 35, 1138, 1096, 1353, 2921, 92, 64, 240, 14, 1576, 1484, 66, 41, 790, 107, 69, 87, 5, 161, 567, 642, 48, 265, 53, 89, 218, 234, 43, 13, 4501, 4502, 392, 427, 2627, 1354, 1288])"
      ]
     },
     "metadata": {},
     "execution_count": 21
    }
   ],
   "metadata": {}
  },
  {
   "cell_type": "code",
   "execution_count": 22,
   "source": [
    "TokenCounter(0).values()"
   ],
   "outputs": [
    {
     "output_type": "execute_result",
     "data": {
      "text/plain": [
       "dict_values([1, 14, 1, 3, 7, 1, 3, 1, 1, 1, 1, 1, 1, 2, 1, 1, 1, 1, 3, 1, 1, 1, 1, 1, 1, 1, 1, 3, 1, 1, 1, 1, 2, 2, 1, 2, 1, 1, 1, 1, 1, 1, 1, 2, 1, 1, 1, 1, 1, 1, 2, 1, 3, 3, 1, 1, 1, 1, 1, 1, 1, 1, 1, 1, 1, 1, 1, 1, 1, 1, 1])"
      ]
     },
     "metadata": {},
     "execution_count": 22
    }
   ],
   "metadata": {}
  },
  {
   "cell_type": "markdown",
   "source": [
    "## Make Embedding Vectors\n",
    "Instead of 6016 tokens that have in fastai1, we have 7080 tokens in fastai v2. "
   ],
   "metadata": {}
  },
  {
   "cell_type": "code",
   "execution_count": 23,
   "source": [
    "n_terms = len(dls.vocab.itemgot()[0])\n",
    "n_docs = len(dls.items.text)\n",
    "make_token_counter = lambda review_index: Counter(dls.train_ds[review_index][0].numpy())\n",
    "\n",
    "def count_vectorizer(review_index, n_terms=n_terms, \n",
    "        make_token_counter=make_token_counter):\n",
    "    \"\"\"\n",
    "    Input: review index, n_terms, tokenizer function. \n",
    "    output: embedding vector for the review. \n",
    "    \"\"\"\n",
    "    embedding_vector = np.zeros(n_terms)\n",
    "    keys = list(make_token_counter(review_index).keys())\n",
    "    values = list(make_token_counter(review_index).values())\n",
    "    embedding_vector[keys] = values\n",
    "    return embedding_vector\n",
    "\n",
    "\n",
    "embedding_vector = count_vectorizer(0)  # first review"
   ],
   "outputs": [],
   "metadata": {}
  },
  {
   "cell_type": "code",
   "execution_count": 24,
   "source": [
    "print(f\"The review is embedded in a {len(embedding_vector)} dimensional vector.\")\n",
    "embedding_vector"
   ],
   "outputs": [
    {
     "output_type": "stream",
     "name": "stdout",
     "text": [
      "The review is embedded in a 7080 dimensional vector.\n"
     ]
    },
    {
     "output_type": "execute_result",
     "data": {
      "text/plain": [
       "array([7., 0., 1., ..., 0., 0., 0.])"
      ]
     },
     "metadata": {},
     "execution_count": 24
    }
   ],
   "metadata": {}
  },
  {
   "cell_type": "markdown",
   "source": [
    "## Create a document-term matrix for IMDB"
   ],
   "metadata": {}
  },
  {
   "cell_type": "code",
   "execution_count": 25,
   "source": [
    "def make_full_doc_term_matrix(count_vectorizer, n_terms=n_terms, n_docs=n_docs):\n",
    "    for doc_index in range(n_docs):\n",
    "        embedding_vector = count_vectorizer(doc_index, n_terms)\n",
    "\n",
    "        # Append emb vec to doc-term matrix. \n",
    "        if doc_index == 0: A = embedding_vector\n",
    "        else: A = np.vstack((A, embedding_vector))\n",
    "\n",
    "    return A\n",
    "\n",
    "try: A = load_pickle(Path(\"output/A.pkl\"))\n",
    "except Exception: \n",
    "    A = make_full_doc_term_matrix(count_vectorizer)\n",
    "    save_pickle(Path(\"output/A.pkl\"), A)"
   ],
   "outputs": [],
   "metadata": {}
  },
  {
   "cell_type": "markdown",
   "source": [
    "### Explore sparsity of document-term matrix\n",
    "This is defined as the fraction of zero-valued elements. "
   ],
   "metadata": {}
  },
  {
   "cell_type": "code",
   "execution_count": 26,
   "source": [
    "NNZ = np.count_nonzero(A)\n",
    "sparsity = (A.size - NNZ) / A.size\n",
    "print(f\"Only {NNZ} of the size {A.size} elements in the document-term matrix \"\\\n",
    "    \"are nonzero.\")\n",
    "print(f\"The sparsity of the document-term matrix is {sparsity}.\")"
   ],
   "outputs": [
    {
     "output_type": "stream",
     "name": "stdout",
     "text": [
      "Only 114091 of the size 5664000 elements in the document-term matrix are nonzero.\n",
      "The sparsity of the document-term matrix is 0.9798568149717514.\n"
     ]
    }
   ],
   "metadata": {}
  },
  {
   "cell_type": "code",
   "execution_count": 27,
   "source": [
    "fig = plt.figure(dpi=100)\n",
    "plt.spy(A, markersize=0.10, aspect=\"auto\")\n",
    "fig.set_size_inches(8, 6)\n",
    "fig.savefig(\"output/doc_term_matrix.png\", dpi=800)"
   ],
   "outputs": [
    {
     "output_type": "display_data",
     "data": {
      "image/png": "[encoded data removed]",
      "text/plain": [
       "<Figure size 800x600 with 1 Axes>"
      ]
     },
     "metadata": {
      "needs_background": "light"
     }
    }
   ],
   "metadata": {}
  },
  {
   "cell_type": "markdown",
   "source": [
    "### Observation of image code cell above. \n",
    "1) Document-term matrix is *sparse*.  \n",
    "2) Density of matrix increases toward *left* edge. This makes sense because tokens are ordered by usage frequency, with frequency increasing toward the left.  \n",
    "3) There is a perplexing pattern of curved vertical *density ripples*. "
   ],
   "metadata": {}
  },
  {
   "cell_type": "markdown",
   "source": [
    "## Sparse matrix storage format (representation)\n",
    "\n",
    "1) Coordinate-wise storage.  \n",
    "Store using 3 arrays: the row, column and its value. We represent it coordinate-wise: we store the value say 75 at row 6 column 4. The space that is used is $\\text{number of entries} \\times 3$. The same value can show up multiple times, but the row and column varies. Accessing matrix elements looking by row or column is easy, and it not needed be ordered.  \n",
    "\n",
    "2) Compressed Sparse Row (CSR).  \n",
    "Store using 3 arrays: Value, Column and RowPointer (contains row-index range). Row Pointer array will be shorter than other arrays. It doesn't directly correspond to others. If the second value is 3: it means that at index 3 it will jump to the next row. Third value stores the index of item which it starts jumping to the next row. We continue this until the final row. The first value is always 0 signifying the beginning. Benefit is it stores even less than previous. If you access data by row a lot, this is easy way to do it. **Column access is difficult**. Entries from row requires consecutively located next to each other. \n",
    "\n",
    "3) Compressed Sparse Column (CSC).  \n",
    "Opposite of CSR. \n",
    "\n",
    "Other methods for storing matrices also available. Choose based on knowledge of underlying data structure. \n",
    "\n",
    "Advantage of CSR over coordinate-wise: number of operations for matrix-vector multiplication are the same. But number of memory accessed *is reduced (by 2 exactly) in CSR method*. "
   ],
   "metadata": {}
  },
  {
   "cell_type": "markdown",
   "source": [
    "### Translate regular matrix A into CSR format. "
   ],
   "metadata": {}
  },
  {
   "cell_type": "code",
   "execution_count": 28,
   "source": [
    "def get_doc_term_matrix(train_ds, n_terms):\n",
    "    \"\"\"\n",
    "    inputs: train_ds, n_terms. \n",
    "    output: CSR format as scipy.sparse.csr.csr_matrix object. \n",
    "    \"\"\"\n",
    "    values, column_indices, row_pointer = [], [], []\n",
    "    row_pointer.append(0)\n",
    "\n",
    "    for _, (doc, label) in enumerate(train_ds):\n",
    "        feature_counter = Counter(doc.data.numpy())\n",
    "        column_indices.extend(feature_counter.keys())\n",
    "        values.extend(feature_counter.values())\n",
    "         # Tack on N (number of nonzero elements in the matrix) to the end of the row_pointer array\n",
    "        row_pointer.append(len(values))\n",
    "\n",
    "    return scipy.sparse.csr_matrix((values, column_indices, row_pointer),\n",
    "                                    shape=(len(row_pointer) - 1, n_terms),\n",
    "                                    dtype=int)\n",
    "        "
   ],
   "outputs": [],
   "metadata": {}
  },
  {
   "cell_type": "code",
   "execution_count": 29,
   "source": [
    "%%time\n",
    "train_doc_term = get_doc_term_matrix(dls.train_ds, n_terms)"
   ],
   "outputs": [
    {
     "output_type": "stream",
     "name": "stdout",
     "text": [
      "CPU times: user 848 ms, sys: 10.5 ms, total: 858 ms\n",
      "Wall time: 857 ms\n"
     ]
    }
   ],
   "metadata": {}
  },
  {
   "cell_type": "code",
   "execution_count": 30,
   "source": [
    "type(train_doc_term), train_doc_term.shape"
   ],
   "outputs": [
    {
     "output_type": "execute_result",
     "data": {
      "text/plain": [
       "(scipy.sparse.csr.csr_matrix, (800, 7080))"
      ]
     },
     "metadata": {},
     "execution_count": 30
    }
   ],
   "metadata": {}
  },
  {
   "cell_type": "markdown",
   "source": [
    "For validation data"
   ],
   "metadata": {}
  },
  {
   "cell_type": "code",
   "execution_count": 31,
   "source": [
    "%time valid_doc_term = get_doc_term_matrix(dls.valid_ds, n_terms)"
   ],
   "outputs": [
    {
     "output_type": "stream",
     "name": "stdout",
     "text": [
      "CPU times: user 214 ms, sys: 4.23 ms, total: 218 ms\n",
      "Wall time: 216 ms\n"
     ]
    }
   ],
   "metadata": {}
  },
  {
   "cell_type": "code",
   "execution_count": 32,
   "source": [
    "type(valid_doc_term), valid_doc_term.shape"
   ],
   "outputs": [
    {
     "output_type": "execute_result",
     "data": {
      "text/plain": [
       "(scipy.sparse.csr.csr_matrix, (200, 7080))"
      ]
     },
     "metadata": {},
     "execution_count": 32
    }
   ],
   "metadata": {}
  },
  {
   "cell_type": "code",
   "execution_count": 33,
   "source": [
    "values, column_indices, row_pointer = [], [], []\n",
    "row_pointer.append(0)\n",
    "\n",
    "for _, (doc, label) in enumerate(dls.train_ds):\n",
    "    feature_counter = Counter(doc.data.numpy())\n",
    "    column_indices.extend(feature_counter.keys())\n",
    "    values.extend(feature_counter.values())\n",
    "        # Tack on N (number of nonzero elements in the matrix) to the end of the row_pointer array\n",
    "    row_pointer.append(len(values))"
   ],
   "outputs": [],
   "metadata": {}
  },
  {
   "cell_type": "code",
   "execution_count": 34,
   "source": [
    "values = np.array(values)\n",
    "column_indices = np.array(column_indices)\n",
    "row_pointer = np.array(row_pointer)"
   ],
   "outputs": [],
   "metadata": {}
  },
  {
   "cell_type": "code",
   "execution_count": 35,
   "source": [
    "scipy.sparse.csr_matrix((values, column_indices, row_pointer),\n",
    "                        shape=(len(row_pointer) - 1, n_terms),\n",
    "                        dtype=int)"
   ],
   "outputs": [
    {
     "output_type": "execute_result",
     "data": {
      "text/plain": [
       "<800x7080 sparse matrix of type '<class 'numpy.int64'>'\n",
       "\twith 114091 stored elements in Compressed Sparse Row format>"
      ]
     },
     "metadata": {},
     "execution_count": 35
    }
   ],
   "metadata": {}
  },
  {
   "cell_type": "markdown",
   "source": [
    "### Reconstruct a regular matrix from CSR sparse representation. \n",
    "Given CSR format (values, column_indices, row_pointer) of $m \\times n$ matrix $A$, how can we recover $A$? We create the matrix first with all zeros, and overwriting entries with non-zero entries in $A$. "
   ],
   "metadata": {}
  },
  {
   "cell_type": "code",
   "execution_count": 36,
   "source": [
    "def CSR_to_full(values, column_indices, row_ptr, m, n):\n",
    "    A = np.zeros(m, n)\n",
    "    for row in range(n):\n",
    "        if row_ptr is not null:\n",
    "            A[row, column_indices[row_ptr[row] : row_ptr[row + 1]]] = values[row_ptr[row] : row_ptr[row + 1]]\n",
    "\n",
    "    return A"
   ],
   "outputs": [],
   "metadata": {}
  },
  {
   "cell_type": "code",
   "execution_count": 37,
   "source": [
    "valid_doc_term.todense()[:10, :10]"
   ],
   "outputs": [
    {
     "output_type": "execute_result",
     "data": {
      "text/plain": [
       "matrix([[ 20,   0,   1,   0,   0,   0,   0,   1,  32,  10],\n",
       "        [  6,   0,   1,   0,   0,   0,   0,   1,   7,   7],\n",
       "        [  1,   0,   1,   0,   0,   0,   0,   0,  19,  12],\n",
       "        [ 55,   0,   1,   0,   0,   0,   0,   0,  43,  44],\n",
       "        [ 91,   0,   1,   0,   0,   0,   0,  14, 113,  42],\n",
       "        [ 12,   0,   1,   0,   0,   0,   0,   0,  22,   6],\n",
       "        [  4,   0,   1,   0,   0,   0,   0,   0,  20,   8],\n",
       "        [ 25,   0,   1,   0,   0,   2,   0,   7,  34,  25],\n",
       "        [  5,   0,   1,   0,   0,   0,   0,   1,  16,   9],\n",
       "        [ 12,   0,   1,   0,   0,   1,   0,   2,  14,   5]])"
      ]
     },
     "metadata": {},
     "execution_count": 37
    }
   ],
   "metadata": {}
  },
  {
   "cell_type": "markdown",
   "source": [
    "Consider second review in the validation set. "
   ],
   "metadata": {}
  },
  {
   "cell_type": "code",
   "execution_count": 38,
   "source": [
    "review = dls.items.text[1]\n",
    "review"
   ],
   "outputs": [
    {
     "output_type": "execute_result",
     "data": {
      "text/plain": [
       "(#462) ['xxbos','xxmaj','this','is','a','extremely','well','-','made','film'...]"
      ]
     },
     "metadata": {},
     "execution_count": 38
    }
   ],
   "metadata": {}
  },
  {
   "cell_type": "code",
   "execution_count": 39,
   "source": [
    "# Count how many \"it\" inside this review. \n",
    "Counter(review)[\"it\"]"
   ],
   "outputs": [
    {
     "output_type": "execute_result",
     "data": {
      "text/plain": [
       "7"
      ]
     },
     "metadata": {},
     "execution_count": 39
    }
   ],
   "metadata": {}
  },
  {
   "cell_type": "code",
   "execution_count": 40,
   "source": [
    "valid_doc_term[1].sum(), len(set(review))"
   ],
   "outputs": [
    {
     "output_type": "execute_result",
     "data": {
      "text/plain": [
       "(145, 210)"
      ]
     },
     "metadata": {},
     "execution_count": 40
    }
   ],
   "metadata": {}
  },
  {
   "cell_type": "code",
   "execution_count": 41,
   "source": [
    "review = dls.train_ds[1][0]"
   ],
   "outputs": [],
   "metadata": {}
  },
  {
   "cell_type": "markdown",
   "source": [
    "Convert back to text. "
   ],
   "metadata": {}
  },
  {
   "cell_type": "code",
   "execution_count": 42,
   "source": [
    "word_list = [dls.vocab.itemgot()[0][int(a)] for a in review]\n",
    "print(word_list)"
   ],
   "outputs": [
    {
     "output_type": "stream",
     "name": "stdout",
     "text": [
      "['xxbos', 'xxmaj', 'this', 'is', 'a', 'extremely', 'well', '-', 'made', 'film', '.', 'xxmaj', 'the', 'acting', ',', 'script', 'and', 'camera', '-', 'work', 'are', 'all', 'first', '-', 'rate', '.', 'xxmaj', 'the', 'music', 'is', 'good', ',', 'too', ',', 'though', 'it', 'is', 'mostly', 'early', 'in', 'the', 'film', ',', 'when', 'things', 'are', 'still', 'relatively', 'xxunk', '.', 'xxmaj', 'there', 'are', 'no', 'really', 'xxunk', 'in', 'the', 'cast', ',', 'though', 'several', 'faces', 'will', 'be', 'familiar', '.', 'xxmaj', 'the', 'entire', 'cast', 'does', 'an', 'excellent', 'job', 'with', 'the', 'script', '.', '\\n\\n', 'xxmaj', 'but', 'it', 'is', 'hard', 'to', 'watch', ',', 'because', 'there', 'is', 'no', 'good', 'end', 'to', 'a', 'situation', 'like', 'the', 'one', 'presented', '.', 'xxmaj', 'it', 'is', 'now', 'xxunk', 'to', 'blame', 'the', 'xxmaj', 'british', 'for', 'setting', 'xxmaj', 'hindus', 'and', 'xxmaj', 'muslims', 'against', 'each', 'other', ',', 'and', 'then', 'xxunk', 'xxunk', 'them', 'into', 'two', 'countries', '.', 'xxmaj', 'there', 'is', 'some', 'merit', 'in', 'this', 'view', ',', 'but', 'it', \"'s\", 'also', 'true', 'that', 'no', 'one', 'forced', 'xxmaj', 'hindus', 'and', 'xxmaj', 'muslims', 'in', 'the', 'region', 'to', 'xxunk', 'each', 'other', 'as', 'they', 'did', 'around', 'the', 'time', 'of', 'partition', '.', 'xxmaj', 'it', 'seems', 'more', 'likely', 'that', 'the', 'xxmaj', 'british', 'simply', 'saw', 'the', 'xxunk', 'between', 'the', 'xxunk', 'and', 'were', 'clever', 'enough', 'to', 'exploit', 'them', 'to', 'their', 'own', 'ends', '.', '\\n\\n', 'xxmaj', 'the', 'result', 'is', 'that', 'there', 'is', 'much', 'cruelty', 'and', 'inhumanity', 'in', 'the', 'situation', 'and', 'this', 'is', 'very', 'unpleasant', 'to', 'remember', 'and', 'to', 'see', 'on', 'the', 'screen', '.', 'xxmaj', 'but', 'it', 'is', 'never', 'painted', 'as', 'a', 'black', '-', 'and', '-', 'white', 'case', '.', 'xxmaj', 'there', 'is', 'xxunk', 'and', 'xxunk', 'on', 'both', 'sides', ',', 'and', 'also', 'the', 'hope', 'for', 'change', 'in', 'the', 'younger', 'generation', '.', '\\n\\n', 'xxmaj', 'there', 'is', 'redemption', 'of', 'a', 'sort', ',', 'in', 'the', 'end', ',', 'when', 'xxmaj', 'xxunk', 'has', 'to', 'make', 'a', 'hard', 'choice', 'between', 'a', 'man', 'who', 'has', 'ruined', 'her', 'life', ',', 'but', 'also', 'truly', 'loved', 'her', ',', 'and', 'her', 'family', 'which', 'has', 'xxunk', 'her', ',', 'then', 'later', 'come', 'looking', 'for', 'her', '.', 'xxmaj', 'but', 'by', 'that', 'point', ',', 'she', 'has', 'no', 'xxunk', 'that', 'is', 'without', 'great', 'pain', 'for', 'her', '.', '\\n\\n', 'xxmaj', 'this', 'film', 'carries', 'the', 'message', 'that', 'both', 'xxmaj', 'muslims', 'and', 'xxmaj', 'hindus', 'have', 'their', 'grave', 'faults', ',', 'and', 'also', 'that', 'both', 'can', 'be', 'xxunk', 'and', 'caring', 'people', '.', 'xxmaj', 'the', 'reality', 'of', 'partition', 'makes', 'that', 'xxunk', 'all', 'the', 'more', 'wrenching', ',', 'since', 'there', 'can', 'never', 'be', 'real', 'xxunk', 'across', 'the', 'xxmaj', 'india', '/', 'xxmaj', 'pakistan', 'border', '.', 'xxmaj', 'in', 'that', 'sense', ',', 'it', 'is', 'similar', 'to', '\"', 'mr', '&', 'xxmaj', 'mrs', 'xxmaj', 'xxunk', '\"', '.', '\\n\\n', 'xxmaj', 'in', 'the', 'end', ',', 'we', 'were', 'glad', 'to', 'have', 'seen', 'the', 'film', ',', 'even', 'though', 'the', 'resolution', 'was', 'heartbreaking', '.', 'xxmaj', 'if', 'the', 'xxup', 'uk', 'and', 'xxup', 'us', 'could', 'deal', 'with', 'their', 'own', 'xxunk', 'of', 'racism', 'with', 'this', 'kind', 'of', 'xxunk', ',', 'they', 'would', 'certainly', 'be', 'better', 'off', '.']\n"
     ]
    }
   ],
   "metadata": {}
  },
  {
   "cell_type": "code",
   "execution_count": 43,
   "source": [
    "reconstructed_text = \" \".join(word_list)\n",
    "print(reconstructed_text)"
   ],
   "outputs": [
    {
     "output_type": "stream",
     "name": "stdout",
     "text": [
      "xxbos xxmaj this is a extremely well - made film . xxmaj the acting , script and camera - work are all first - rate . xxmaj the music is good , too , though it is mostly early in the film , when things are still relatively xxunk . xxmaj there are no really xxunk in the cast , though several faces will be familiar . xxmaj the entire cast does an excellent job with the script . \n",
      "\n",
      " xxmaj but it is hard to watch , because there is no good end to a situation like the one presented . xxmaj it is now xxunk to blame the xxmaj british for setting xxmaj hindus and xxmaj muslims against each other , and then xxunk xxunk them into two countries . xxmaj there is some merit in this view , but it 's also true that no one forced xxmaj hindus and xxmaj muslims in the region to xxunk each other as they did around the time of partition . xxmaj it seems more likely that the xxmaj british simply saw the xxunk between the xxunk and were clever enough to exploit them to their own ends . \n",
      "\n",
      " xxmaj the result is that there is much cruelty and inhumanity in the situation and this is very unpleasant to remember and to see on the screen . xxmaj but it is never painted as a black - and - white case . xxmaj there is xxunk and xxunk on both sides , and also the hope for change in the younger generation . \n",
      "\n",
      " xxmaj there is redemption of a sort , in the end , when xxmaj xxunk has to make a hard choice between a man who has ruined her life , but also truly loved her , and her family which has xxunk her , then later come looking for her . xxmaj but by that point , she has no xxunk that is without great pain for her . \n",
      "\n",
      " xxmaj this film carries the message that both xxmaj muslims and xxmaj hindus have their grave faults , and also that both can be xxunk and caring people . xxmaj the reality of partition makes that xxunk all the more wrenching , since there can never be real xxunk across the xxmaj india / xxmaj pakistan border . xxmaj in that sense , it is similar to \" mr & xxmaj mrs xxmaj xxunk \" . \n",
      "\n",
      " xxmaj in the end , we were glad to have seen the film , even though the resolution was heartbreaking . xxmaj if the xxup uk and xxup us could deal with their own xxunk of racism with this kind of xxunk , they would certainly be better off .\n"
     ]
    }
   ],
   "metadata": {}
  },
  {
   "cell_type": "markdown",
   "source": [
    "# Video 5 material: \n",
    "## Naive Bayes Classifier. "
   ],
   "metadata": {}
  },
  {
   "cell_type": "code",
   "execution_count": 44,
   "source": [
    "dls.vocab.itemgot()[1]"
   ],
   "outputs": [
    {
     "output_type": "execute_result",
     "data": {
      "text/plain": [
       "['negative', 'positive']"
      ]
     },
     "metadata": {},
     "execution_count": 44
    }
   ],
   "metadata": {}
  },
  {
   "cell_type": "markdown",
   "source": [
    "They are arranged according to their index, so `negative` is in index 0 hence the integer representation is 0, while `positive` is 1. "
   ],
   "metadata": {}
  },
  {
   "cell_type": "code",
   "execution_count": 45,
   "source": [
    "m = np.array(dls.vocab.itemgot()[1])\n",
    "positive = np.where(m == \"positive\")[0].item()\n",
    "negative = np.where(m == \"negative\")[0].item()"
   ],
   "outputs": [],
   "metadata": {}
  },
  {
   "cell_type": "code",
   "execution_count": 46,
   "source": [
    "dls.train_ds.c"
   ],
   "outputs": [
    {
     "output_type": "execute_result",
     "data": {
      "text/plain": [
       "2"
      ]
     },
     "metadata": {},
     "execution_count": 46
    }
   ],
   "metadata": {}
  },
  {
   "cell_type": "code",
   "execution_count": 47,
   "source": [
    "g = np.array(dls.train_ds.items.label)\n",
    "lookupTable, train_y = np.unique(g, return_inverse=True)\n",
    "assert (lookupTable == np.array(dls.train.vocab.itemgot()[1])).all()"
   ],
   "outputs": [],
   "metadata": {}
  },
  {
   "cell_type": "code",
   "execution_count": 48,
   "source": [
    "g = np.array(dls.valid_ds.items.label)\n",
    "lookupTable, valid_y = np.unique(g, return_inverse=True)\n",
    "assert (lookupTable == np.array(dls.valid.vocab.itemgot()[1])).all()"
   ],
   "outputs": [],
   "metadata": {}
  },
  {
   "cell_type": "code",
   "execution_count": 49,
   "source": [
    "x = train_doc_term\n",
    "y = train_y\n",
    "valid_y = valid_y\n",
    "v = np.array(dls.vocab[0])"
   ],
   "outputs": [],
   "metadata": {}
  },
  {
   "cell_type": "code",
   "execution_count": 50,
   "source": [
    "x.shape"
   ],
   "outputs": [
    {
     "output_type": "execute_result",
     "data": {
      "text/plain": [
       "(800, 7080)"
      ]
     },
     "metadata": {},
     "execution_count": 50
    }
   ],
   "metadata": {}
  },
  {
   "cell_type": "markdown",
   "source": [
    "Unsure about why `x.shape` in original is (800, 260402). \n",
    "\n",
    "Next we list total occurrences count of tokens in positive and negative review. "
   ],
   "metadata": {}
  },
  {
   "cell_type": "code",
   "execution_count": 51,
   "source": [
    "C1 = np.squeeze(np.asarray(x[y==positive].sum(0)))\n",
    "C0 = np.squeeze(np.asarray(x[y==negative].sum(0)))"
   ],
   "outputs": [],
   "metadata": {}
  },
  {
   "cell_type": "code",
   "execution_count": 52,
   "source": [
    "print(C1[:10])\n",
    "print(C0[:10])"
   ],
   "outputs": [
    {
     "output_type": "stream",
     "name": "stdout",
     "text": [
      "[5698    0  383    0    0   64    0  627 9675 5249]\n",
      "[ 6275     0   417     0     0    93     3   852 10288  6143]\n"
     ]
    }
   ],
   "metadata": {}
  },
  {
   "cell_type": "markdown",
   "source": [
    "How often does \"love\" appear in negative vs positive review? \n",
    "\n",
    "Since we are going to acquire the original `stoi` we are going to write a function for it. "
   ],
   "metadata": {}
  },
  {
   "cell_type": "code",
   "execution_count": 53,
   "source": [
    "\"\"\"\n",
    ":vocab: (np.array) vocabulary.\n",
    ":word: (str) word to search. \n",
    "\"\"\"\n",
    "def stoi(vocab, word): return np.where(np.array(vocab) == word)[0].item()"
   ],
   "outputs": [],
   "metadata": {}
  },
  {
   "cell_type": "code",
   "execution_count": 54,
   "source": [
    "def itos(vocab, word): return vocab[word]"
   ],
   "outputs": [],
   "metadata": {}
  },
  {
   "cell_type": "code",
   "execution_count": 55,
   "source": [
    "ind = stoi(v, \"love\")\n",
    "pos_counts = C1[ind]\n",
    "neg_counts = C0[ind]\n",
    "print(f\"The word 'love' appears {pos_counts} and {neg_counts} times in \"\\\n",
    "    \"positive and negative documents, respectively.\")"
   ],
   "outputs": [
    {
     "output_type": "stream",
     "name": "stdout",
     "text": [
      "The word 'love' appears 132 and 75 times in positive and negative documents, respectively.\n"
     ]
    }
   ],
   "metadata": {}
  },
  {
   "cell_type": "code",
   "execution_count": 56,
   "source": [
    "# How often does the word \"hate\" appear in neg vs pos reviews? \n",
    "ind = stoi(v, \"hate\")\n",
    "pos_counts = C1[ind]\n",
    "neg_counts = C0[ind]\n",
    "print(f\"The word 'hate' appears {pos_counts} and {neg_counts} times in \"\\\n",
    "    \"positive and negative documents, respectively.\")"
   ],
   "outputs": [
    {
     "output_type": "stream",
     "name": "stdout",
     "text": [
      "The word 'hate' appears 5 and 13 times in positive and negative documents, respectively.\n"
     ]
    }
   ],
   "metadata": {}
  },
  {
   "cell_type": "markdown",
   "source": [
    "Let's took an example of a positive review containing the word \"hate\". And vice versa. This can confirm that this is really a positive and negative review and not labelling error. "
   ],
   "metadata": {}
  },
  {
   "cell_type": "code",
   "execution_count": 57,
   "source": [
    "np.set_printoptions(threshold=50)"
   ],
   "outputs": [],
   "metadata": {}
  },
  {
   "cell_type": "code",
   "execution_count": 58,
   "source": [
    "# We also develop a function to replace `movie_reviews.train.x[c].text` for below. \n",
    "def get_train_x_c(dls, c, train=True): \n",
    "    if train==True: return \" \".join(dls.train_ds.items.text[c])\n",
    "    else: return \" \".join(dls.valid_ds.items.text[c])"
   ],
   "outputs": [],
   "metadata": {}
  },
  {
   "cell_type": "code",
   "execution_count": 59,
   "source": [
    "index = stoi(v, \"hated\")\n",
    "a = np.argwhere((x[:, index] > 0))[:, 0]\n",
    "print(a)\n",
    "b = np.argwhere(y==positive)[:, 0]\n",
    "print(b)\n",
    "# Choose one text\n",
    "c = list(set(a).intersection(set(b)))[0]\n",
    "review = get_train_x_c(dls, c)\n",
    "review"
   ],
   "outputs": [
    {
     "output_type": "stream",
     "name": "stdout",
     "text": [
      "[ 15  49 304 351 393 612 695 773]\n",
      "[  1   3  10 ... 789 790 797]\n"
     ]
    },
    {
     "output_type": "execute_result",
     "data": {
      "text/plain": [
       "'xxbos xxmaj there are numerous films relating to xxup ww2 , but xxmaj mother xxmaj night is quite distinctive among them : xxmaj in this film , we are introduced to xxmaj howard xxmaj campbell ( nolte ) , an xxmaj american living in xxmaj berlin and married to a xxmaj german , xxmaj helga xxmaj noth ( lee ) , who decides to accept the role of a spy : xxmaj more specifically , a xxup cia agent xxmaj major xxmaj wirtanen ( goodman ) recruits xxmaj campbell who becomes a xxmaj nazi propagandist in order to enter the highest echelons of the xxmaj hitler regime . xxmaj however , the deal is that the xxup us xxmaj government will never acknowledge xxmaj campbell \\'s role in the war for national security reasons , and so xxmaj campbell becomes a hated figure across the xxup us . xxmaj after the war , he tries to conceal his identity , but the past comes back and haunts him . xxmaj his only \" friend \" is xxmaj wirtanen , but even he can not do much for the avalanche of events that fall upon poor xxmaj campbell … \\n\\n xxmaj the story is deeply touching , as we watch the tragedy of xxmaj campbell who although a great patriot , is treated by disdain by everybody who surrounds him . xxmaj not only that , but he also gradually realizes that even the persons who are most close to him , have many secrets of their own . xxmaj vonnegut provides us with a moving atmosphere , with xxmaj campbell \\'s despair building up and almost choking the viewer . \\n\\n xxmaj nolte plays the role of his life , in my opinion ; he is even better than in \" affliction \" , although in both roles he plays tragic figures who are destined to self - destruction . xxmaj sheryl xxmaj lee is also excellent , and the same can be said for the whole cast in general . \\n\\n i have n\\'t read the book , so i can not appraise how the film compares to it . xxmaj in any case , this is something of no importance here : xxmaj my critique is upon the film per se , and the film wholeheartedly deserves a 9 / 10 .'"
      ]
     },
     "metadata": {},
     "execution_count": 59
    }
   ],
   "metadata": {}
  },
  {
   "cell_type": "code",
   "execution_count": 60,
   "source": [
    "# Example of a negative review with the word love. \n",
    "index = stoi(v, \"loved\")\n",
    "a = np.argwhere((x[:, index] > 0))[:, 0]\n",
    "print(a)\n",
    "b = np.argwhere(y==negative)[:, 0]\n",
    "print(b)\n",
    "c = list(set(a).intersection(set(b)))[0]\n",
    "review = get_train_x_c(dls, c)\n",
    "review"
   ],
   "outputs": [
    {
     "output_type": "stream",
     "name": "stdout",
     "text": [
      "[  1  15  29  69  75  79 174 185 200 205 262 296 303 333 350 351 398 407\n",
      " 440 489 496 528 538 600 602 605 627 642 657 660 700 712 729 735 755 767\n",
      " 785]\n",
      "[  0   2   4 ... 796 798 799]\n"
     ]
    },
    {
     "output_type": "execute_result",
     "data": {
      "text/plain": [
       "'xxbos xxmaj oh if only i could give this rubbish less than one star ! xxmaj there were two mildly amusing parts in the whole film and that is it ! one was where a line or two from the song xxmaj do n\\'t xxmaj worry , xxmaj be xxmaj happy was sung by the slugs and the other was where xxmaj roddy fell of the toilet roll and landed with his feet and legs apart so that everything else he landed on on the way down hit him in the groin . xxmaj that is it there was nothing more amusing than that , at least not for me anyway ! xxmaj doctornappy2 is not right in saying \\' fans of the completely terrible \" shrek \" might enjoy , but \" wallace & xxmaj gromit \" fans will probably turn away in disgust . \\' xxmaj as i loved xxmaj shrek 1 2 and 3 and i also love xxmaj wallace and xxmaj gromit . xxmaj you see what it boils down to is that if an animation is done extremely well then it is definitely worth watching , this however was about as far from done well as you can possibly get ! xxmaj the continuity mistakes were too big in number . xxmaj some were pointed out by the makers of this site others were not . i wo n\\'t point out all of the others , but here are a few more to see : xxmaj when the young daughter leaves at the start of the film the catch to the cage door comes down and the hook part of it that is on the right clearly goes back around behind the round knob thus effectively making sure xxmaj roddy would not be able to get out and yet he does just by simply kicking at it . xxmaj at one point the ruby falls down xxmaj roddy \\'s back and gets pushed straight up into the the air by xxmaj rita all the while the ship is moving forwards . xxmaj in the next scene xxmaj roddy has caught it again . xxmaj this is impossible . xxmaj seeing as how the ship is moving forwards the only place when the ruby was ejected out from under the back of xxmaj roddy \\'s shirt the only place it could have landed was in the water not in xxmaj roddy \\'s hand . xxmaj there was a third one i wanted to point out but for now i have forgotten it . \\n\\n xxmaj too many , for want of a better word , \\' jokes \\' were repeated in one way or another , there was not enough time to establish any sort of connection with any of the characters , the characters were hollow , shallow and empty , and the whole film left you wanting … .wanting to watch 85 minutes of anything else ! xxmaj paint drying or grass growing are two superb options !'"
      ]
     },
     "metadata": {},
     "execution_count": 60
    }
   ],
   "metadata": {}
  },
  {
   "cell_type": "markdown",
   "source": [
    "### Building Naïve Bayes Classifier. \n",
    "Let's first compute the class likelihood AND the log-count ratios. "
   ],
   "metadata": {}
  },
  {
   "cell_type": "code",
   "execution_count": 61,
   "source": [
    "# class likelihood\n",
    "L1 = (C1 + 1) / ((y == positive).sum() + 1)\n",
    "L0 = (C0 + 1) / ((y == negative).sum() + 1)\n",
    "\n",
    "# Log-count ratio\n",
    "R = np.log(L1 / L0)\n",
    "print(R)"
   ],
   "outputs": [
    {
     "output_type": "stream",
     "name": "stdout",
     "text": [
      "[-0.01160323  0.08483888  0.         ...  0.08483888  0.08483888\n",
      "  0.08483888]\n"
     ]
    }
   ],
   "metadata": {}
  },
  {
   "cell_type": "markdown",
   "source": [
    "Find the vocabulary words most likely to be associated with positive and negative reviews. "
   ],
   "metadata": {}
  },
  {
   "cell_type": "code",
   "execution_count": 62,
   "source": [
    "# Get indices of the tokens with highest and lowest log-count ratios\n",
    "n_tokens = 10\n",
    "highest_R = np.argpartition(R, -n_tokens)[-n_tokens:]\n",
    "lowest_R = np.argpartition(R, n_tokens)[:n_tokens]\n",
    "\n",
    "print(f\"Highest {n_tokens} log-count ratios: {R[list(highest_R)]}\\n\")\n",
    "print(f\"Lowest {n_tokens} log-count ratios: {R[list(lowest_R)]}\")"
   ],
   "outputs": [
    {
     "output_type": "stream",
     "name": "stdout",
     "text": [
      "Highest 10 log-count ratios: [2.56974553 2.64978824 2.64978824 2.72389621 2.64978824 2.79288908\n",
      " 2.72389621 2.8574276  2.97521064 3.02927786]\n",
      "\n",
      "Lowest 10 log-count ratios: [-2.80553288 -2.55421845 -2.68774984 -2.8596001  -2.63645655 -2.62321132\n",
      " -2.55421845 -3.09321495 -3.13403694 -2.74837446]\n"
     ]
    }
   ],
   "metadata": {}
  },
  {
   "cell_type": "code",
   "execution_count": 63,
   "source": [
    "# Most positive words\n",
    "highest_R"
   ],
   "outputs": [
    {
     "output_type": "execute_result",
     "data": {
      "text/plain": [
       "array([2147, 1766, 1965,  935, 2033, 1193, 1758, 1646, 1483, 1414])"
      ]
     },
     "metadata": {},
     "execution_count": 63
    }
   ],
   "metadata": {}
  },
  {
   "cell_type": "code",
   "execution_count": 64,
   "source": [
    "[itos(v, k) for k in highest_R]"
   ],
   "outputs": [
    {
     "output_type": "execute_result",
     "data": {
      "text/plain": [
       "['paxton',\n",
       " 'davies',\n",
       " 'jabba',\n",
       " 'jimmy',\n",
       " 'gilliam',\n",
       " 'noir',\n",
       " 'felix',\n",
       " 'astaire',\n",
       " 'fanfan',\n",
       " 'biko']"
      ]
     },
     "metadata": {},
     "execution_count": 64
    }
   ],
   "metadata": {}
  },
  {
   "cell_type": "markdown",
   "source": [
    "There are only 2 movie reviews mention \"biko\"."
   ],
   "metadata": {}
  },
  {
   "cell_type": "code",
   "execution_count": 65,
   "source": [
    "token = \"biko\"\n",
    "train_doc_term[:, stoi(v, token)]"
   ],
   "outputs": [
    {
     "output_type": "execute_result",
     "data": {
      "text/plain": [
       "<800x1 sparse matrix of type '<class 'numpy.int64'>'\n",
       "\twith 2 stored elements in Compressed Sparse Row format>"
      ]
     },
     "metadata": {},
     "execution_count": 65
    }
   ],
   "metadata": {}
  },
  {
   "cell_type": "markdown",
   "source": [
    "Which movie review has most occurrences of \"biko\"?"
   ],
   "metadata": {}
  },
  {
   "cell_type": "code",
   "execution_count": 66,
   "source": [
    "index = np.argmax(train_doc_term[:, stoi(v, token)])\n",
    "n_times = train_doc_term[index, stoi(v, token)]\n",
    "print(f\"Review # {index} has {n_times} occurrences of '{token}'\\n\")\n",
    "print(get_train_x_c(dls, index))"
   ],
   "outputs": [
    {
     "output_type": "stream",
     "name": "stdout",
     "text": [
      "Review # 515 has 14 occurrences of 'biko'\n",
      "\n",
      "xxbos \" the xxmaj true xxmaj story xxmaj of xxmaj the xxmaj friendship xxmaj that xxmaj shook xxmaj south xxmaj africa xxmaj and xxmaj awakened xxmaj the xxmaj world . \" \n",
      "\n",
      " xxmaj richard xxmaj attenborough , who directed \" a xxmaj bridge xxmaj too xxmaj far \" and \" gandhi \" , wanted to bring the story of xxmaj steve xxmaj biko to life , and the journey and trouble that journalist xxmaj donald xxmaj woods went through in order to get his story told . xxmaj the films uses xxmaj wood 's two books for it 's information and basis - \" biko \" and \" asking for xxmaj trouble \" . \n",
      "\n",
      " xxmaj the film takes place in the late 1970 's , in xxmaj south xxmaj africa . xxmaj south xxmaj africa is in the grip of the terrible apartheid , which keeps the blacks separated from the whites and classifies the whites as the superior race . xxmaj the blacks are forced to live in shantytowns on the outskirts of the cities and towns , and they come under frequent harassment by the police and the army . xxmaj we are shown a dawn raid on a shantytown , as bulldozers and armed police force their way through the camp beating and even killing the inhabitants . xxmaj then we are introduced to xxmaj donald xxmaj woods ( kevin xxmaj kline ) , who is the editor of a popular newspaper . xxmaj after publishing a negative story about black activist xxmaj steve xxmaj biko ( denzel xxmaj washington ) , xxmaj woods goes to meet with him . xxmaj the two are wary of each other at first , but they soon become good friends and xxmaj biko shows the horrors of the apartheid system from a black persons point of view to xxmaj woods . xxmaj this encourages xxmaj woods to speak out against what 's happening around him , and makes him desperate to bring xxmaj steve xxmaj biko 's story out of the clutches of the white man 's xxmaj south xxmaj africa and to the world . xxmaj soon , xxmaj steve xxmaj biko is arrested and is killed in prison . xxmaj now xxmaj woods and his family are daring to escape from xxmaj south xxmaj africa to xxmaj england , where xxmaj woods can publish his book about xxmaj steve xxmaj biko and the apartheid . \n",
      "\n",
      " xxmaj when i first heard of \" cry xxmaj freedom \" , i was under the impression that it was a movie completely dedicated to the life of xxmaj steve xxmaj biko . i had never actually heard of xxmaj steve xxmaj biko before i seen this film , as the events in this film were really before my time . xxmaj but it 's more about the story of xxmaj donald xxmaj woods and his journey across the border into xxmaj lesotho as he tried to elude the xxmaj south xxmaj african officials . xxmaj woods was put on a five year type house arrest after xxmaj steve xxmaj biko was killed . xxmaj so in order to publish his manuscript on xxmaj steve xxmaj biko , he had to escape . xxmaj because the manuscript would be considered treason in xxmaj south xxmaj africa and that could have resulted in xxmaj woods meeting a fate similar to that of xxmaj biko 's . xxmaj the real xxmaj donald xxmaj woods and his wife acted as consultants to this film . \n",
      "\n",
      " xxmaj denzel xxmaj washington is only in the film for the first hour , and i was disappointed with that as i was expecting to see him for the entire movie . xxmaj but he was amazing as xxmaj steve xxmaj biko , and captured his personality from what xxmaj i 've read really well and his accent sounded perfect . xxmaj his performance earned him an xxmaj oscar nomination for xxmaj best xxmaj supporting xxmaj actor . xxmaj kevin xxmaj kline delivers a excellent and thought - evoking performance as xxmaj donald xxmaj woods , and xxmaj penelope xxmaj wilton is excellent as his wife xxmaj wendy . \n",
      "\n",
      " xxmaj filming took place in xxmaj zimbabwe , as needless to say problems arose when they tried to film it in xxmaj south xxmaj africa . xxmaj while in xxmaj south xxmaj africa , the xxmaj south xxmaj african gestapo followed the film crew everywhere , so they got the bad vibes and they pulled out and went to neighbouring xxmaj zimbabwe instead . xxmaj despite everything , and the fact that the apartheid did n't end ' til seven years later , \" cry xxmaj freedom \" was n't banned in xxmaj south xxmaj africa . xxmaj but cinemas showing the movie received bomb threats . \n",
      "\n",
      " xxmaj richard xxmaj attenborough brings the horrors of the apartheid to the screen with extreme force and determination . xxmaj he does n't hold back at the end of the movie when showing what was supposed to be a peaceful protest by students in a shantytown , turns into a massacre when police open fire on them . xxmaj the film ends with the names of all the anti - apartheid movers who died in prison , and the explanations for their deaths . xxmaj many had \" no xxmaj explanation \" . xxmaj quite a few were \" epilepsy \" , which is hard to believe , and many more either fell from the top of the stairs or were \" suicide from xxmaj hanging \" . xxmaj no one will ever know what really happened to them , but i think it 's fair to say that none of these men died at their own hands , but at the hands of others ; or to be more precise , at the hands of the police . \n",
      "\n",
      " \" cry xxmaj freedom \" is a must - see movie for it 's portrayal and story of xxmaj steve xxmaj biko . xxmaj it 's also a searing and devastating portrayal of a beautiful land divided and in the hellish grips of racial segregation and violence .\n"
     ]
    }
   ],
   "metadata": {}
  },
  {
   "cell_type": "markdown",
   "source": [
    "Most negative words:"
   ],
   "metadata": {}
  },
  {
   "cell_type": "code",
   "execution_count": 67,
   "source": [
    "lowest_R"
   ],
   "outputs": [
    {
     "output_type": "execute_result",
     "data": {
      "text/plain": [
       "array([1452, 1894, 1635,  559,  287, 1344, 1893, 1137,  988, 1138])"
      ]
     },
     "metadata": {},
     "execution_count": 67
    }
   ],
   "metadata": {}
  },
  {
   "cell_type": "code",
   "execution_count": 68,
   "source": [
    "[itos(v, k) for k in lowest_R]"
   ],
   "outputs": [
    {
     "output_type": "execute_result",
     "data": {
      "text/plain": [
       "['naschy',\n",
       " 'soderbergh',\n",
       " 'crater',\n",
       " 'crap',\n",
       " 'worst',\n",
       " 'disappointment',\n",
       " 'fuqua',\n",
       " 'vargas',\n",
       " 'porn',\n",
       " 'dog']"
      ]
     },
     "metadata": {},
     "execution_count": 68
    }
   ],
   "metadata": {}
  },
  {
   "cell_type": "code",
   "execution_count": 69,
   "source": [
    "# There's only one movie review mentions soderbergh\n",
    "token = \"soderbergh\"\n",
    "train_doc_term[:, stoi(v, token)]"
   ],
   "outputs": [
    {
     "output_type": "execute_result",
     "data": {
      "text/plain": [
       "<800x1 sparse matrix of type '<class 'numpy.int64'>'\n",
       "\twith 1 stored elements in Compressed Sparse Row format>"
      ]
     },
     "metadata": {},
     "execution_count": 69
    }
   ],
   "metadata": {}
  },
  {
   "cell_type": "code",
   "execution_count": 70,
   "source": [
    "index = np.argmax(train_doc_term[:, stoi(v, token)])\n",
    "n_times = train_doc_term[index, stoi(v, token)]\n",
    "print(f\"Review # {index} has {n_times} occurrences of '{token}'\\n\")\n",
    "print(get_train_x_c(dls, index))"
   ],
   "outputs": [
    {
     "output_type": "stream",
     "name": "stdout",
     "text": [
      "Review # 434 has 13 occurrences of 'soderbergh'\n",
      "\n",
      "xxbos xxmaj now that xxmaj che(2008 ) has finished its relatively short xxmaj australian cinema run ( extremely limited release:1 screen in xxmaj sydney , after 6wks ) , i can guiltlessly join both hosts of \" at xxmaj the xxmaj movies \" in taking xxmaj steven xxmaj soderbergh to task . \n",
      "\n",
      " xxmaj it 's usually satisfying to watch a film director change his style / subject , but xxmaj soderbergh 's most recent stinker , xxmaj the xxmaj girlfriend xxmaj experience(2009 ) , was also missing a story , so narrative ( and editing ? ) seem to suddenly be xxmaj soderbergh 's main challenge . xxmaj strange , after 20-odd years in the business . xxmaj he was probably never much good at narrative , just hid it well inside \" edgy \" projects . \n",
      "\n",
      " xxmaj none of this excuses him this present , almost diabolical failure . xxmaj as xxmaj david xxmaj stratton warns , \" two parts of xxmaj che do n't ( even ) make a whole \" . \n",
      "\n",
      " xxmaj epic biopic in name only , xxmaj che(2008 ) barely qualifies as a feature film ! xxmaj it certainly has no legs , inasmuch as except for its uncharacteristic ultimate resolution forced upon it by history , xxmaj soderbergh 's 4.5hrs - long dirge just goes nowhere . \n",
      "\n",
      " xxmaj even xxmaj margaret xxmaj pomeranz , the more forgiving of xxmaj australia 's xxmaj at xxmaj the xxmaj movies duo , noted about xxmaj soderbergh 's repetitious waste of ( hd digital storage ) : \" you 're in the woods … you 're in the woods … you 're in the woods … \" . i too am surprised xxmaj soderbergh did n't give us another 2.5hrs of xxup that somewhere between his existing two xxmaj parts , because he still left out massive chunks of xxmaj che 's \" revolutionary \" life ! \n",
      "\n",
      " xxmaj for a biopic of an important but infamous historical figure , xxmaj soderbergh unaccountably alienates , if not deliberately insults , his audiences by \n",
      "\n",
      " 1 . never providing most of xxmaj che 's story ; \n",
      "\n",
      " 2 . imposing unreasonable film lengths with mere dullard repetition ; \n",
      "\n",
      " 3 . ignoring both true hindsight and a narrative of events ; \n",
      "\n",
      " 4 . barely developing an idea , or a character ; \n",
      "\n",
      " 5 . remaining claustrophobically episodic ; \n",
      "\n",
      " 6 . ignoring proper context for scenes xxrep 3 - whatever we do get is mired in disruptive timeshifts ; \n",
      "\n",
      " 7 . linguistically dislocating all audiences ( even xxmaj spanish - speakers will be confused by the incongruous expositions in xxmaj english ) ; and \n",
      "\n",
      " 8 . pointlessly whitewashing his main subject into one dimension . xxmaj why , at xxup this late stage ? xxmaj the xxmaj t - shirt franchise has been a success ! \n",
      "\n",
      " xxmaj our sense of claustrophobia is surely due to xxmaj peter xxmaj buchman and xxmaj benjamin vander xxmaj veen basing their screenplay solely on xxmaj guevara 's memoirs . xxmaj so , like a poor student who has read only xxup one of his allotted texts for his assignment , xxmaj soderbergh 's product is exceedingly limited in perspective . \n",
      "\n",
      " xxmaj the audience is held captive within the same constrained knowledge , scenery and circumstances of the \" revolutionaries \" , but that does n't elicit our sympathy . xxmaj instead , it dawns on us that \" ah , xxmaj soderbergh 's trying to hobble his audiences the same as the xxmaj latino peasants were at the time \" . xxmaj but these are the xxup same illiterate xxmaj latino peasants who sold out the good doctor to his enemies . xxmaj why does xxmaj soderbergh feel the need to equate us with them , and keep us equally mentally captive ? xxmaj such audience straitjacketing must have a purpose . \n",
      "\n",
      " xxmaj part2 is more chronological than xxmaj part1 , but it 's literally mind - numbing with its repetitive bush - bashing , misery of outlook , and lack of variety or character arcs . deltoro 's xxmaj che has no opportunity to grow as a person while he struggles to educate his own ill - disciplined troops . xxmaj the only letup is the humour as xxmaj che deals with his sometimes deeply ignorant \" revolutionaries \" , some of whom violently lack self - control around local peasants or food . xxmaj we certainly get no insight into what caused the conditions , nor any strategic analyses of their guerrilla insurgency , such as it was . \n",
      "\n",
      " xxmaj part2 's excruciating countdown remains fearfully episodic : again , nothing is telegraphed or contextualized . xxmaj thus even the scenes with xxmaj fidel xxmaj castro ( demián xxmaj bichir ) are unexpected and disconcerting . xxmaj any selected events are portrayed minimally and xxmaj latino - centrically , with xxmaj part1 's interviews replaced by time - shifting meetings between the corrupt xxmaj bolivian president ( joaquim de xxmaj almeida ) and xxup us xxmaj government officials promising xxup cia intervention ( ! ) . \n",
      "\n",
      " xxmaj the rest of xxmaj part2 's \" woods \" and day - for - night blue filter just exasperate the audience until they 're eyeing the exits . \n",
      "\n",
      " xxmaj perhaps deltoro felt too keenly the frustration of many non - american xxmaj latinos about never getting a truthful , unspun history of xxmaj che 's exploits within their own countries . xxmaj when foreign governments still wo n't deliver a free press to their people -- for whatever reason -- then one can see how a popular xxmaj american indie producer might set out to entice the not - so - well - read ( \" i may not be able to read or write , but xxmaj i 'm xxup not illiterate!\"--cf.the xxmaj inspector xxmaj general(1949 ) ) out to their own local cinemas . xxmaj the film 's obvious neglects and gross over - simplifications hint very strongly that it 's aiming only at the comprehensions of the less - informed xxup who xxup still xxup speak xxup little xxmaj english . xxmaj if they did , they 'd have read tomes on the subject already , and critiqued the relevant social issues amongst themselves -- learning the lessons of history as they should . \n",
      "\n",
      " xxmaj such insights are precisely what societies still need -- and not just the remaining illiterate xxmaj latinos of xxmaj central and xxmaj south xxmaj america -- yet it 's what xxmaj che(2008 ) gleefully fails to deliver . xxmaj soderbergh buries his lead because he 's weak on narrative . i am gobsmacked why xxmaj benicio deltoro deliberately chose xxmaj soderbergh for this project if he knew this . xxmaj it 's been 44yrs , hindsight about xxmaj guevara was sorely wanted : it 's what i went to see this film for , but the director diabolically robs us of that . \n",
      "\n",
      " xxmaj david xxmaj stratton , writing in xxmaj the xxmaj australian ( 03-oct-2009 ) observed that while xxmaj part1 was \" uneven \" , xxmaj part2 actually \" goes rapidly downhill \" from there , \" charting xxmaj che 's final campaign in xxmaj bolivia in excruciating detail \" , which \" … feels almost unbearably slow and turgid \" . \n",
      "\n",
      " che : the xxmaj guerilla aka xxmaj part2 is certainly no travelogue for xxmaj bolivia , painting it a picture of misery and atavism . xxmaj the entire second half is only redeemed by the aforementioned humour , and the dramatic -- yet tragic -- capture and execution of the film 's subject . \n",
      "\n",
      " xxmaj the rest of this interminable cinema verite is just confusing , irritating misery -- shockingly , for a xxmaj soderbergh film , to be avoided at all costs . xxmaj it is bound to break the hearts of all who know even just a smattering about the subject.(2 / 10 )\n"
     ]
    }
   ],
   "metadata": {}
  },
  {
   "cell_type": "markdown",
   "source": [
    "### Compute prior probabilities for each class. "
   ],
   "metadata": {}
  },
  {
   "cell_type": "code",
   "execution_count": 71,
   "source": [
    "p = (y==positive).mean()\n",
    "q = (y==negative).mean()\n",
    "print(f\"The prior probabilities for positive and negative classes are {p} and {q}.\")"
   ],
   "outputs": [
    {
     "output_type": "stream",
     "name": "stdout",
     "text": [
      "The prior probabilities for positive and negative classes are 0.47875 and 0.52125.\n"
     ]
    }
   ],
   "metadata": {}
  },
  {
   "cell_type": "markdown",
   "source": [
    "The log probability ratio is a measure of bias, or *imbalance* in dataset. \n",
    "- $b = 0$ indicates perfectly balanced dataset. \n",
    "- $b > 0$ bias towards `positive` reviews. \n",
    "- $b < 0$ bias towards `negative`reviews. "
   ],
   "metadata": {}
  },
  {
   "cell_type": "code",
   "execution_count": 72,
   "source": [
    "b = np.log((y==positive).mean() / (y==negative).mean())\n",
    "print(f\"The log probability ratio is L = {b}\")"
   ],
   "outputs": [
    {
     "output_type": "stream",
     "name": "stdout",
     "text": [
      "The log probability ratio is L = -0.08505123261815539\n"
     ]
    }
   ],
   "metadata": {}
  },
  {
   "cell_type": "markdown",
   "source": [
    "The training set is slightly imbalanced towards negative reviews. "
   ],
   "metadata": {}
  },
  {
   "cell_type": "code",
   "execution_count": 73,
   "source": [
    "W = train_doc_term.sign()\n",
    "preds_train = (W @ R + b) > 0\n",
    "train_acc = (preds_train == y).mean()\n",
    "print(f\"The prediction accuracy for training set is {train_acc}.\")"
   ],
   "outputs": [
    {
     "output_type": "stream",
     "name": "stdout",
     "text": [
      "The prediction accuracy for training set is 0.91.\n"
     ]
    }
   ],
   "metadata": {}
  },
  {
   "cell_type": "code",
   "execution_count": 74,
   "source": [
    "W = valid_doc_term.sign()\n",
    "preds_valid = (W @ R + b) > 0\n",
    "valid_acc = (preds_valid == valid_y).mean()\n",
    "print(f\"The prediction accuracy for the validation set is {valid_acc}.\")"
   ],
   "outputs": [
    {
     "output_type": "stream",
     "name": "stdout",
     "text": [
      "The prediction accuracy for the validation set is 0.7.\n"
     ]
    }
   ],
   "metadata": {}
  },
  {
   "cell_type": "markdown",
   "source": [
    "# Working with full IMDb Dataset. "
   ],
   "metadata": {}
  },
  {
   "cell_type": "code",
   "execution_count": 75,
   "source": [
    "path = untar_data(URLs.IMDB)\n",
    "path.ls()"
   ],
   "outputs": [
    {
     "output_type": "execute_result",
     "data": {
      "text/plain": [
       "(#7) [Path('/home/fastai2/.fastai/data/imdb/imdb.vocab'),Path('/home/fastai2/.fastai/data/imdb/test'),Path('/home/fastai2/.fastai/data/imdb/train'),Path('/home/fastai2/.fastai/data/imdb/unsup'),Path('/home/fastai2/.fastai/data/imdb/tmp_lm'),Path('/home/fastai2/.fastai/data/imdb/README'),Path('/home/fastai2/.fastai/data/imdb/tmp_clas')]"
      ]
     },
     "metadata": {},
     "execution_count": 75
    }
   ],
   "metadata": {}
  },
  {
   "cell_type": "code",
   "execution_count": 76,
   "source": [
    "(path/\"train\").ls()"
   ],
   "outputs": [
    {
     "output_type": "execute_result",
     "data": {
      "text/plain": [
       "(#4) [Path('/home/fastai2/.fastai/data/imdb/train/labeledBow.feat'),Path('/home/fastai2/.fastai/data/imdb/train/unsupBow.feat'),Path('/home/fastai2/.fastai/data/imdb/train/pos'),Path('/home/fastai2/.fastai/data/imdb/train/neg')]"
      ]
     },
     "metadata": {},
     "execution_count": 76
    }
   ],
   "metadata": {}
  },
  {
   "cell_type": "code",
   "execution_count": 77,
   "source": [
    "dls_full = TextDataLoaders.from_folder(path, valid=\"test\")"
   ],
   "outputs": [],
   "metadata": {}
  },
  {
   "cell_type": "markdown",
   "source": [
    "### Create document-term matrices for training and validation sets. "
   ],
   "metadata": {}
  },
  {
   "cell_type": "code",
   "execution_count": 78,
   "source": [
    "n_terms = len(dls_full.vocab.itemgot()[0])"
   ],
   "outputs": [],
   "metadata": {}
  },
  {
   "cell_type": "code",
   "execution_count": 79,
   "source": [
    "path = Path(\"output\")"
   ],
   "outputs": [],
   "metadata": {}
  },
  {
   "cell_type": "code",
   "execution_count": 80,
   "source": [
    "%%time \n",
    "try: valid_doc_term = scipy.sparse.load_npz(\"output/valid_doc_term.npz\")\n",
    "except Exception:\n",
    "    valid_doc_term = get_doc_term_matrix(dls_full.valid_ds, n_terms)\n",
    "    scipy.sparse.save_npz(\"output/valid_doc_term.npz\", valid_doc_term)"
   ],
   "outputs": [
    {
     "output_type": "stream",
     "name": "stdout",
     "text": [
      "CPU times: user 160 ms, sys: 15.7 ms, total: 175 ms\n",
      "Wall time: 175 ms\n"
     ]
    }
   ],
   "metadata": {}
  },
  {
   "cell_type": "code",
   "execution_count": 81,
   "source": [
    "%%time \n",
    "try: train_doc_term = scipy.sparse.load_npz(\"output/train_doc_term.npz\")\n",
    "except Exception:\n",
    "    train_doc_term = get_doc_term_matrix(dls_full.train_ds, n_terms)\n",
    "    scipy.sparse.save_npz(\"output/train_doc_term.npz\", train_doc_term)"
   ],
   "outputs": [
    {
     "output_type": "stream",
     "name": "stdout",
     "text": [
      "CPU times: user 169 ms, sys: 7.96 ms, total: 177 ms\n",
      "Wall time: 176 ms\n"
     ]
    }
   ],
   "metadata": {}
  },
  {
   "cell_type": "markdown",
   "source": [
    "### Save the data"
   ],
   "metadata": {}
  },
  {
   "cell_type": "code",
   "execution_count": 82,
   "source": [
    "import pickle\n",
    "with open(\"output/reviews_full.pickle\", \"wb\") as handle:\n",
    "    pickle.dump(dls_full, handle, protocol=pickle.HIGHEST_PROTOCOL)"
   ],
   "outputs": [],
   "metadata": {}
  },
  {
   "cell_type": "markdown",
   "source": [
    "In the future, we can just load our data. "
   ],
   "metadata": {}
  },
  {
   "cell_type": "code",
   "execution_count": 83,
   "source": [
    "with open(\"output/reviews_full.pickle\", \"rb\") as handle:\n",
    "    pickle.load(handle)"
   ],
   "outputs": [],
   "metadata": {}
  },
  {
   "cell_type": "markdown",
   "source": [
    "In the data above, the `scipy.sparse.save_npz(...)` remains unchanged for saving and loading datasets without processing. However, we don't need to use pickle to save `dls_full` anymore. If you are using a persistent machine, fastai automatically saves it in it's data folders. If you are not using a persistent machine, you are going to download it everytime anyways so it doesn't matter. If you connect to a persistent disk, perhaps you can move the data (try checking if `untar_data` supports saving to particular path) to where you want to save it. \n",
    "\n",
    "## Understand Fastai's API for text data sets. "
   ],
   "metadata": {}
  },
  {
   "cell_type": "code",
   "execution_count": 84,
   "source": [
    "type(dls_full)"
   ],
   "outputs": [
    {
     "output_type": "execute_result",
     "data": {
      "text/plain": [
       "fastai.data.core.DataLoaders"
      ]
     },
     "metadata": {},
     "execution_count": 84
    }
   ],
   "metadata": {}
  },
  {
   "cell_type": "code",
   "execution_count": 85,
   "source": [
    "type(dls_full.valid_ds)"
   ],
   "outputs": [
    {
     "output_type": "execute_result",
     "data": {
      "text/plain": [
       "fastai.data.core.Datasets"
      ]
     },
     "metadata": {},
     "execution_count": 85
    }
   ],
   "metadata": {}
  },
  {
   "cell_type": "code",
   "execution_count": 86,
   "source": [
    "print(np.array(dls_full.vocab[0]))"
   ],
   "outputs": [
    {
     "output_type": "stream",
     "name": "stdout",
     "text": [
      "['xxunk' 'xxpad' 'xxbos' ... 'xxfake' 'xxfake' 'xxfake']\n"
     ]
    }
   ],
   "metadata": {}
  },
  {
   "cell_type": "markdown",
   "source": [
    "New vocab is not a `fastai.text.transform.Vocab` object anymore but return a single list which contains the \"vocabulary\" of tokenized texts. It's index are how it is tokenized. \n",
    "\n",
    "We will store the vocabulary in a variable. "
   ],
   "metadata": {}
  },
  {
   "cell_type": "code",
   "execution_count": 87,
   "source": [
    "full_vocab = np.array(dls_full.vocab[0])"
   ],
   "outputs": [],
   "metadata": {}
  },
  {
   "cell_type": "code",
   "execution_count": 88,
   "source": [
    "# itos\n",
    "full_vocab[100:110]"
   ],
   "outputs": [
    {
     "output_type": "execute_result",
     "data": {
      "text/plain": [
       "array(['been', 'people', 'other', 'great', 'into', 'also', 'will',\n",
       "       'first', 'because', 'him'], dtype='<U34')"
      ]
     },
     "metadata": {},
     "execution_count": 88
    }
   ],
   "metadata": {}
  },
  {
   "cell_type": "code",
   "execution_count": 89,
   "source": [
    "dls_full.valid_ds"
   ],
   "outputs": [
    {
     "output_type": "execute_result",
     "data": {
      "text/plain": [
       "(#25000) [(TensorText([    2,    22,   882,     8,  3146,    22,    16,   160,    14,    13,\n",
       "         1524,   392,   882,    54,     8,   401,     9,   313,    29,    20,\n",
       "         1701,    18,     9,   213,    14,   115, 41545,    35,     7,   291,\n",
       "           18,     9,     8,  2222,     8,  1564,    10,     8,   216,    11,\n",
       "           45,    16,    38,   435,    27,    17,    61,   168,  1601,    35,\n",
       "            8,  5177,   248,    18,     8,  1881,    10,     8,    20,    24,\n",
       "          129,    13, 10454,    18,    66,   763,    24,    16,    38,    83,\n",
       "        13624,    31,   483,  3081,    69,    44,  7595,    21,    13,    30,\n",
       "         4874,     9, 18346,    12,  7311,    14,   163,    13,  9634,     8,\n",
       "          300,  6397,    27,     8,     9,     8,   882,     8,  3146,     8,\n",
       "        19060,     8,  1065,    16,   229,    13,     8,  5177,   347,   772,\n",
       "           10,     8,    17, 14183,  2661,    54,     8,    17,   351,    93,\n",
       "           36,   114,   293,    54,    26,     8,  1057,    48,     8,  1697,\n",
       "           18,  7104,    22,   882,     8,  3146,    22,    25,   536,    48,\n",
       "            8,  6902,     8,  6283,    10,     8,    20,    25,    83,     9,\n",
       "          352,  4591,     9,   103,     8,  1043,   172, 36287,    15,  1489,\n",
       "           13,   882,    54,     8,    40,    87,   245,    49,   345,   321,\n",
       "            9,   343,   183,    28,     8,  1697,    23,    22,     9,     8,\n",
       "         1019,     8,    14,     8,  1266,     8,   628,    22,    12,    74,\n",
       "           42,    83,    44,    70,   882,  5523,    18,  8727,    28,     9,\n",
       "         4348,    22, 41546,     8,  3520,    22,    10,     8,  6283,    25,\n",
       "           75,     8,  1754,    56,     8, 11049,    31,    28,    22,   882,\n",
       "            8,  3146,    22,    40,   661,    18,    13,   502,  1161,   882,\n",
       "           21,  1751,    73,    71,    91,    10,     8,  1322,  3738,    18,\n",
       "          433,   297,  3353,     8,  5338,    48,     8,  2331,     8,     0,\n",
       "           17, 18115,    13,    68,   198,  2751,    48,     8,   612,     8,\n",
       "          211,    11,     8,  5370,     8,  1097,    12,     8,  1989,     8,\n",
       "         7157,    10,     8,     9,   647,   473,    16,   597,    48,     8,\n",
       "         4542,     8,  8923,    50,    85,    61,   139,    15,    59,    18,\n",
       "            9,   454,    10,     8,    49,   559,    50,   133,   113,   257,\n",
       "           14,    58,   626,    10,     8,    58,  1280,   150,    16,  1549,\n",
       "        22943,    10,    26,     8,    17,    16,  2246,    21,     8,   612,\n",
       "            8,   211,    61,   372,  6315,   143,     8,  1097,    54,     8,\n",
       "           17,    16,   703,     8,  1097,    23,   454,    51,     9,    71,\n",
       "          477,    69,    92,   107,    86,   109,    18,     9,    32,    23,\n",
       "         1361,   652,   151,   129,  4700,    48,    13, 10525,   618,     9,\n",
       "        12962,    10,     8,   211,    93,    36,    42,    95,    15,    59,\n",
       "          491,     9,    30,    12,   210,    62,    14,   288,    18,    13,\n",
       "          882,    10,     8,    40,    57,   309,  1058,   673,   184,    73,\n",
       "          467,     8,  9747, 36288,    18,    13, 10994,    54,     8,    49,\n",
       "          305,    50,   133,    85,  8305,   336,    24,   570,   401,    28,\n",
       "           22, 12963,    22,    37,     0,     8,   211,  1601,    18,    13,\n",
       "         3292,    14,  2457,   751,  1293,    18,     9,  8071,    12,  5326,\n",
       "         9944,    28,    41,   856,  1018,    69,    29,  1507,   176,    40,\n",
       "           25,   265,    23,    22,  7770,     8, 54984,     7, 19339,    22,\n",
       "           18,     9,  4125,    10,     8,    40,  1100,    18,  5137,    46,\n",
       "            9,   608,    14, 14808,    10,    26,    22,   882,     8,  3146,\n",
       "           22, 14948,     9,  1981,    48, 19060,  5619,    14,     8, 26309,\n",
       "           12,     8,  6447,     8,  2187,     8,   515,    10,     8,  1097,\n",
       "          312,    13, 16497,  7175,  2613,    48,     8,   882,     8,  3146,\n",
       "         1411,     8,  1989,     8,  7157,    15,  2837,     9,   369,    51,\n",
       "        30620,     8, 20720,    12,    15,   105,   214,    35, 36288,    12,\n",
       "           41,  1110,    50,    39,   283,    15,  2295,     9,   369,    29,\n",
       "           81,   222, 10277,   655,    10,     8,   612,     8,   211,    16,\n",
       "            9,   211,  8038,    51,   164,  2472,    50,  4789,     9,  1065,\n",
       "           12, 41547,    28,     8,  1097,    29,     9, 10661,    14,     8,\n",
       "          694,     8,  8923,    10,     8,    66,   723,  2106,    16,  2250,\n",
       "           48,    24,    12, 17899,    52,    66,    74,   159,    24,    48,\n",
       "            8,  7069,     8, 37835,    12,     8,   319,     8,  4599,   525,\n",
       "           73,    18,    13, 11616,   233,    27,     9,  1065,   920,    10,\n",
       "           26,     8,  3505,   175,    13, 24195,    68,   882,    11,  2808,\n",
       "           35,     8,  5177,   248,    11,    31,    18, 10333,    68,   504,\n",
       "           21,   468,   106,    43,  6972,    28,    10,     8,    79,    83,\n",
       "        22944,    16,    21,    55,    39,    75,  2368,    11,    38,    78,\n",
       "           13,  1612,    12,    21,   408,  1013,    28,   167,   783,  2987,\n",
       "           10,     7,  5885,    54,    26,     8, 15685,    96,     8,  5101,\n",
       "            9,  6262,  1256,    35,    22,   882,     8,  3146,    22,    25,\n",
       "            8,  1116,     8,   937,     8,  1733,    50,   331,    28,     8,\n",
       "         5370,     8,  1097,    74,  1024,    13, 10926,    21,    74,  2297,\n",
       "           66,    14,     8,  1097,    23,  2044,  2582,    18,     9,  5326,\n",
       "           10]), TensorCategory(1)),(TensorText([    2,     7, 25122,    10,    16,    38,    29,   167,    21,   205,\n",
       "         3716,  1473,    10,     8,   322,    11,    20,    32,    16,    13,\n",
       "        12114,    15,   130,  1863,   969,  1151,    24,   392,  1113,   125,\n",
       "         8592,   126,    53,     7,  1148,     7,    14,     7,     9,     7,\n",
       "         8975,    12,     7,  6398,    23,    12,    13,  1193,    24, 43880,\n",
       "           15,     9,   196,    24, 25123,     7,  1698,     7,   350,    10,\n",
       "           13,    68,    77,    64,    33,  3752,    13,   190,    14,   220,\n",
       "           24,     0,  1943,   125,  1863,     8,  5191,   556,  4934,    12,\n",
       "        11946,  4183,    24,  2359,   224,    24,    31,   181,   118,  2920,\n",
       "           64,    33,  2886,   380,    17,    27, 13725,    24,   844,    76,\n",
       "           26,     7, 25122,    10,    16,    49,    22, 37836,    22,  7129,\n",
       "           14,  1253, 17081,   422,   925,   467,     9,  1093,    12,  9787,\n",
       "            8, 11050,   550,    10,     8,    20,    44,    61,  9896,    11,\n",
       "           49,     8,  2972,     8, 37837,    24,  6330,   350,  7845,    11,\n",
       "           12,    78,    49,   143,    24, 12469,  2236,    21,   182,    17,\n",
       "         2372,   268,   822,    64, 15686,    39,   148,    22,   171,    22,\n",
       "           76,    26,     8,    91,    76,    19,    53,  9207,    27,    95,\n",
       "           37,    56,   263,    70,    76,    34,    27,     9,   387,   230,\n",
       "           24,    31,    28,    45,     9,  2988, 17900,    21,     8,    19,\n",
       "          162,   132,    11,    19,    97,    36,   367,    31,   660,    29,\n",
       "           13,   192,  3716,   158,    15,   114,    20,    44,   396,  2560,\n",
       "           10,    19,   699,    17,    74,    36,   606,    11,    31,    19,\n",
       "          153,   660,    21,     7, 25122,    10,    87,    13,   246,    70,\n",
       "          373,    12,    13,   246,   363, 32594,    10,     8,    38,   206,\n",
       "           27,  2920,    27,     7,  8975,    11,     7,  6398,    23,    11,\n",
       "           56,     7,  1698,     7,   350,    11,    31,   295,    13,   187,\n",
       "           29,   468,    14,   167,  2168,    14,   126,    76,   758,   125,\n",
       "          186,    26,     7,  5055,    76,    12,    19,  2655,    24,    20,\n",
       "           44,    61, 11051, 20406,    24, 11789,     8,  1984,     8, 32595,\n",
       "           18,   263,     9,   140,   233,    14,    41,   626,   996,    14,\n",
       "           41,    22,   631,   144,    22,    76]), TensorCategory(1)),(TensorText([   2,    8,   20,   16,   13,  676,   11,  139,   11, 1524,   30,   51,\n",
       "           9,  564, 3897,   10,    8,   17,   23,   44,   14,  167,   22, 1048,\n",
       "          24,  198, 3905, 4887,   22,  119,   21, 1534,   66,   68, 1938,   10,\n",
       "           8,   64,   33,   53,    9,  101,   18,   20,   44,   11,  221,   17,\n",
       "          13,  346,   10]), TensorCategory(1)),(TensorText([    2,     8,    17,    23,    38,    13,    30,    11,    31,    49,\n",
       "          576,    54,    26,     8,    38,     9,   679,   771,  1890,    19,\n",
       "          217,    17,    74,    43,    10,     8,   118,   130,   200,    39,\n",
       "         1421,    46,   302,    11,   148,  4450,   242,    97,    36,  2838,\n",
       "           17,    10,    13,  2150,    14,  2259,    24,  1323,  2274,    37,\n",
       "           92,    88,  3090,   223,    57,  1327,   164,    15,   389,     9,\n",
       "          144,    12,  1512,   278,  5886,  4651,    35,    12,   142,    15,\n",
       "        15217,     9,  1329,    34,    11,     9,   239,    16,   103,    37,\n",
       "           17,    23,    13,  2822,    54,    34,    11,     9,     8,  1009,\n",
       "          122,    39,    18,    17,    37,    12,    33,    99,    15,     7,\n",
       "           43,   194,    14,    81,   196,    34,    11,    17,    23,   174,\n",
       "           11,    17,    23,  2603,    11,    17,    23,  1118,   191,    19,\n",
       "          141,    20,    16,   477,    15,   498,    53,    49,  9945,   191,\n",
       "           31,    17,    85,    16,    21,  1166,    54,     8,  3776,     8,\n",
       "         1358,    18,  2154,    62,     9,   544,    18,    33,    54,    26,\n",
       "            8,    20,  3270,   645,   493,   182,   184,    15,     8,  1009,\n",
       "           45,   295,    17,    10,  7680]), TensorCategory(1)),(TensorText([    2,     8,     9,     8,  2768,    16,   870,    35,   131,    11,\n",
       "         1068,    28,  1477,    12,    61,   207,  2335,   138,    27,    91,\n",
       "           10,    31,   623,    14,    20,  2308,    11,    29,    11,   172,\n",
       "        28241, 12389,    61,   386,   201,    44,    14,     9,   111,  2251,\n",
       "         1496,   119,   145,    10,     9,   240,   131,    16,    57,    49,\n",
       "         1419,    15,   304, 28241,  2715,   209,    12,   214,    33,   104,\n",
       "            9,  2614,    14,    13,  1513,   489,    11,  2154,     9,   329,\n",
       "           66,  1591,    11,  5646,    11,  2745,    24,   657,    12,   354,\n",
       "         3653,  1209,    10,    26,     9,  1209,    51,    20,   341,    30,\n",
       "          106,  1330,    28,    33,    29,    13,   218,    77,    15,   235,\n",
       "           10,    20,    30,    16,    13,   429,   437,    29,     9,    22,\n",
       "         5620,    14,  2901,    22,  2973,    10,   847,     9,   673,   131,\n",
       "           11,    57,   304,   148,  4450,    43,  8812,    28,     9,  1209,\n",
       "           10,    12, 37838,   309,  1496,   215,    15,   722,    15,     9,\n",
       "          397,    14, 28241,    23,   180,    10,     9,   665,    16,  6597,\n",
       "           11,     9,   239,  2386,   203,     9,  1364,    57,  1496,    10,\n",
       "           26,     9,    30,    16,   363,    14,    13,    30,    12,    70,\n",
       "           14,    13,   180,    14,   551,    10,   115,    57,    21,     9,\n",
       "         3488,    16,    38, 10593,  1553,    11,    17,    16,     9,   220,\n",
       "           24,   279,    12,  3886,    10,    44,    14,     9,   111,  2366,\n",
       "          119,    14,    20,  2075,    10,     8,     9,     8,  2768,    16,\n",
       "           13,   225,   127,    10,    13,  4550,   185,  1515,    18,    30,\n",
       "          256,    10,    26,    49,  9439,   777,    54,    54]), TensorCategory(1)),(TensorText([    2,    13,     8,  1924,  5178,    12,  4565,   716,    62,    15,\n",
       "         2087,     9,   742,  9252,    14,     8,  9635,    10,    13,  1403,\n",
       "           14, 11193,    28,   498,    11,     8,  4170,     8, 33679,    37,\n",
       "           14,     9,     8,  1043,     0,  1220,     8,     0,     8, 54985,\n",
       "           34, 20124,     9,  1842,    14,     8,  9635,    28,    41,  7460,\n",
       "         4470,  1159,    12,    22,  1329,  1529,    22,    15, 19061,    49,\n",
       "         1458,  3400,    14,     8,  4551,   239,    10,     8,    41,  5192,\n",
       "          818,    15,     9,  3717,    14,    13,  3788,  8148,  8338,    51,\n",
       "          702,  8364,    11,   851,    12,  2870,    24,  4790,    15,  4030,\n",
       "           22, 46805,    22,    10,     8,    27,    40,  6009,   165,    20,\n",
       "         7543,   196,    11,     8,  2112, 15995,  9253,    12,  4031,    48,\n",
       "         2792,   163,    27,  5019,    24,  7343,  1220,     8, 16872,     8,\n",
       "        43881,    11, 15529, 36289,     8, 13845,     8,  2921,    11,   851,\n",
       "         3710,     8, 54986,    12,     8,     0,    11, 11271, 12201,     8,\n",
       "            0,     8,     0,    11,     8, 50408,    37,  2373,    23,  1548,\n",
       "           15,     8,  1038,     8,  2050,    34,    11, 41548,  3176,     8,\n",
       "         9635,     8,   417,     8, 28980,    11,  3569, 34913,     8,     0,\n",
       "            8,     0,    11,  9108,     0,     8, 46806,     8,     0,    11,\n",
       "            8,  2395,  4161,  1818,     8,     0,     0,    11,   926,  3176,\n",
       "            8, 54987,    11,     8, 24196,  1818,     8, 39578,    11,     9,\n",
       "           22,  4791,    14,     8, 46805,    22,     8, 33680,     8, 39579,\n",
       "           11,    12,  2489, 25124,     8,     0,     8, 43882,    12,     8,\n",
       "        43883,     8, 46807,    10]), TensorCategory(1)),(TensorText([    2,     0,    96,     8,  2162,     8,  4000,    37,  4118,    34,\n",
       "           24,   648,   248,   125,  6245,   125,  4118,   134,  2255,   155,\n",
       "          125,   186,   125, 18347,    26,     8,    35,     8,  7643,  3327,\n",
       "           11, 12033,    96,     8,   335,     8, 13069,    11,     9,  1830,\n",
       "         2490,  4998,    10,     8,   168,     9,   662,    12,   872,     9,\n",
       "          196,   106,   187,    15,     8,   365,    29,  1028,    51,     9,\n",
       "         8649,     8,   103,     8,  3753,    10,    26,     7, 27548,    96,\n",
       "            8,  1997,     8,  1266,    11,     8,  4323,     8,  3313,    11,\n",
       "            8,     0,     8, 46808,    11,     8,  1525,     8, 12964,    11,\n",
       "            8,  2253,     8,  9897,    11,     8,  4980,     8,  2694,    11,\n",
       "            8,  1502,     8, 22166,    11,     8,  2359,     8,  2777,    11,\n",
       "            8,  3125,     7,  6421,     8,  1009,    11,     8,  2201,     8,\n",
       "         6159,    10,    26,     7,  4575,    96,     8,    46,   218,   250,\n",
       "           11,   278,     8,  6399, 16660,    18,  7023,    28,     8,  8888,\n",
       "            8,  4772,    23,   107,   498,    32,    11,    13,   613,   124,\n",
       "         2028,   459,     8,  2162,     8,  4000,    10,     8,    49,   345,\n",
       "          261,    51,     8,  1619,    10,     8,  4772,    11,    50,  1214,\n",
       "          228,   142,     9,  3455,    21,    58,  2019,    97,  1667,   143,\n",
       "           51,     9,  1189,   969,    37,    19,   488,    15,    86,    66,\n",
       "           14,    58,  1189,   180,    11,    31,     8,  7004,    93,    36,\n",
       "          328,    15,    43, 24197,   112,    10,     8,   110,  1062,    34,\n",
       "           10,     8,    44,   171,    19,  1944,   143,    12,   143,    25,\n",
       "            9,   117,     9,     8,  3586,  1227,   978,    11,    53,  8813,\n",
       "            9,  3106,  5395,    28,    13,  4093,   498,    10,     8,  2162,\n",
       "          655,    73,   129,     9,    83,   124,    19,   449,   134,    19,\n",
       "           89,    36,    85,   480,    29,    58,  7045,   360,    56,    58,\n",
       "           74,    24,    43, 12202,    10,     8,    17,   309,    53,     9,\n",
       "          498,    24,  4470,  8072,    39,   403,   147,    37,  1261, 12560,\n",
       "           18,    15,   711,   104,     9,   774,    24,    80,    34,    11,\n",
       "           31,     9,   379,   153,    16,    36,   768,    10,     8,    92,\n",
       "          258,    43,   274,    15,   127,    29,    21,    15,   674,    27,\n",
       "          278,  6399,  2113,    10,    26,     7,  1498,    96,     8,   278,\n",
       "          107,    32,    14,     9,  4118,    23,    16,     9,   107,   498,\n",
       "           32,    14,  1189, 11790,     8,  8888,     8,  4772,    11,     8,\n",
       "         2162,     8,  4000,    10,     8,    20,    16,    13,    71,   613,\n",
       "           30,    11,    28,    83,    60,   750,   287,  1864,   136,    92,\n",
       "         1157,   218,  7896,    14,     9,    32,    23, 15687,   877,   643,\n",
       "           77,    11,   424,    28,    13,  5056,   379,    10,     8,    17,\n",
       "           25,   103,    15,    86,     8,  2545,     8, 12965,    18,   498,\n",
       "           27,    91,    11,    12,   206,   610,    27,    65,    92,   871,\n",
       "           16,    49,  2228,  3630,    14,  5887,   262, 24649, 19615,    10,\n",
       "           19,    71,    95,   527,     8,  4772,    23,   261,    11,    27,\n",
       "           72, 18581,     9,    32,   165,    78,     9,   111,  7399,   404,\n",
       "           10,    19,    89,    36,    85,    53,     8,   743,     8,  5164,\n",
       "           56,     8,  1194,     8, 11334,    11,   299,   108,    19,    25,\n",
       "           36,  2202,    15,   376,    14,   112,    11,    52,    19,    25,\n",
       "        10001,    12,  2347,    69,     8,  2162,   453,  1430,    73,    29,\n",
       "          824,    12,   296,   112,    21,    72,    93,    36,    22,  4112,\n",
       "           22,    15,   376,    58,  7045,   360,    56,    58,  7644,    24,\n",
       "         2852,     8,  2642,  1356,    10,     8,    17,    23,   105,   103,\n",
       "           15,    86,    21,  9108,  1189,  2809,     8,  5941,     8,  5164,\n",
       "           61,    36,  1129,    13,  1515,   184,    51,  1189,    15,   498,\n",
       "           10,    26,     8,   250,    32,  2255,    96,     8, 15368,    37,\n",
       "        11194,    34,    10,     8,   250,    32, 17082,    96,     8,     9,\n",
       "            8,   135,     8,  5672,    37, 12033,    34,    10,     8,   387,\n",
       "           32,    96,     8,     9,     8,  1177,     8,  2369,    37,  4118,\n",
       "           34,    10]), TensorCategory(1)),(TensorText([    2,     8,     9,   144,   413,   680,  5536,     9,   762,   955,\n",
       "           14,     9,   848,  1978,   134, 10738,    12,  3631,    73,  4934,\n",
       "           16,     9,  1111,  2789,  3107,    46,     9,  8111,    10,     8,\n",
       "          101, 21402,   714,     9,   144,   707,    15,   115,    22,  7544,\n",
       "           22,   340,    14,  3631,    73,   550,   801,  3003,    12, 15530,\n",
       "         3546,    11,    31,   833,    43,   595,    11,  2348,   193,   211,\n",
       "          230,    16,    62,   422,    17,    46,     9,  1434,    10,     8,\n",
       "          466,    11,     9,   144,    85,  7158,    15,     9,  1150,  3754,\n",
       "           11,    27,    92,    53,    15,    86,     9,  3869,    14,    13,\n",
       "           22,  1819,    23,    22,   261,    46,     9,  1434,    11,    27,\n",
       "            9,   144,  1572,    13,  2883,  1566,   113,   634,    48,     9,\n",
       "         4253, 13160,    10,    26,   186,   125,   186,   134,    13,   602,\n",
       "           11,   268,    12,  3286,   227,    21,  2237,     9,   329,    15,\n",
       "           85,  6400,    10,     8,    68,     8,   321,     8,   901,    10]), TensorCategory(1)),(TensorText([    2,    19,   135,    20,    30,    10,     8,    17,    16,     9,\n",
       "          107,    32,     8,  1165,  5339,    42,   145,   245,    10,     8,\n",
       "           17,    16,   452,    35,     9,    84,    14,    41,   137,    10,\n",
       "            8,    17,    16,   382,    24,   358,    11,    31,    17,    16,\n",
       "           71,    68,    10,     8,    17,   296,   110,     8,  1165,  5339,\n",
       "         2210,    73,    18,  3598,    18,     8,   185,     8,  5647,    10,\n",
       "           26,     8,    38,    83,    89,     8,  1165,  5339,   393,    18,\n",
       "           20,    30,    11,    40,   105,    25,     9,   568,    12,   172,\n",
       "           28,     8,  1898,     8,  1206,    10,     8,     9,     7,   291,\n",
       "          105,    61,     8,     9,     8,    75,     8,  5754,  1776,  4426,\n",
       "          988,    35,    17,    10,     8,    20,    30,   296,   110,     8,\n",
       "         1165,  5339,   289,    51,    98,   118,    68,    12,   110,    40,\n",
       "           87,    15,   828,    28,     9,   200,   209,   109,    10,     8,\n",
       "           17,   105,    61,   130,    14,     8,     9,     8,    75,     8,\n",
       "         5754,     8,  5504, 16498,    18,    20,    32,    10,     8,    33,\n",
       "          156,   813,    56,   826,    20,    32,    10,    26,     8,    17,\n",
       "           16,    13,   103,    30,    15,   127,    16,    33,    53,  4267,\n",
       "           11,    56,    16,    13,     8,  1165,  5339,   359,    10,    19,\n",
       "          106,    38,  2391,    20,    30,    29,    33,    10,     8,   161,\n",
       "           99,    20,    30,    27,   718,    27,    33,    80,    12,   127,\n",
       "           17,    10,     8,    33,   106,    53,    17,    10]), TensorCategory(1)),(TensorText([    2,     8,    65,    13,  1288,   204,  1708,  2632,    10,    26,\n",
       "            8,    59,    38,   187,    29,   103,   138,    11,   845,   131,\n",
       "          430,    11,    56,   257,  6757,    13,   504,    30,    10,    26,\n",
       "            8,    20,    16,  1066,  8513,    46,    17,    23,  2044,    10,\n",
       "            8,  3296,  5927,    11, 50409,   735,    11, 41549,    14,   370,\n",
       "           11,    12,     9, 30621,  1635,    33,    80,   835,    10,    26,\n",
       "            8,    20,  7737,   447,    48,     9,    22,  3700,    14,     8,\n",
       "         4267,    11,    22,     8,  7957,     8,  1448,     8,  1560,    11,\n",
       "           50,   339,   201,    29,    68,   250,  1268,    16,     9,  1233,\n",
       "           48,    82,    45,  8513,    16, 10870,    10,    26,     8,    33,\n",
       "           38,    83,    86,  8513,    46,    17,    23,  2044,    11,    31,\n",
       "           99,  6950,    14,    41,   224,  1183,    11,    12,    86,   157,\n",
       "           41,  5504,    88,   802,   472,     9,  4723,    10]), TensorCategory(1))...]"
      ]
     },
     "metadata": {},
     "execution_count": 89
    }
   ],
   "metadata": {}
  },
  {
   "cell_type": "markdown",
   "source": [
    "Notice that by calling dataset, we don't get the text. Rather, we get the training tokenized text instead. This is another difference between fastai v1 and v2. \n",
    "\n",
    "The second thing is that our `get_train_x_c` no longer works. With multiple `.txt` files, what returns is not a Pandas DataFrame but a list of `pathlib.Path` objects. This means we will have to rewrite our function. "
   ],
   "metadata": {}
  },
  {
   "cell_type": "code",
   "execution_count": 90,
   "source": [
    "def get_x_c_with_path(dls, c, train=True):\n",
    "    \"\"\"\n",
    "    c: the index. \n",
    "    train: whether this is a training dataset or not. \n",
    "    \"\"\"\n",
    "    if train: ds = dls.train_ds\n",
    "    else: ds = dls.valid_ds\n",
    "    \n",
    "    vocab = np.array(dls.vocab[0])\n",
    "    tensor_text_np = np.array(ds[c][0])\n",
    "    return \" \".join(vocab[tensor_text_np])"
   ],
   "outputs": [],
   "metadata": {}
  },
  {
   "cell_type": "code",
   "execution_count": 91,
   "source": [
    "# Since we get different text from the original, we use 1 instead of 0\n",
    "# as 1 is a shorter text. Feel free to change the value. \n",
    "get_x_c_with_path(dls_full, 1, train=False)"
   ],
   "outputs": [
    {
     "output_type": "execute_result",
     "data": {
      "text/plain": [
       "'xxbos xxup h.o.t.s . is not for those that want hardcore porn . xxmaj instead , this film is a precursor to many 80s era cult - classic college / frat films like xxup revenge xxup of xxup the xxup nerds and xxup porky \\'s and a post - cursor to the world - renown xxup animal xxup house . a good time if you dig a lot of big - xxunk 70s / 80s xxmaj playboy type chicks and cheezy slap - dick comedy - but nothing too notable if you wanna use it as whack - material … \\n\\n xxup h.o.t.s . is an \" unauthorized \" sorority of sexy outcasts doing battle against the popular and trendy xxmaj pi girls . xxmaj this one has pranks , an xxmaj aunt xxmaj jemima - ish house keeper , and even an over - heated robot that makes it relatively fun viewing if boobies are your \" thing \" … \\n\\n xxmaj well … i like tits as much ( or probably more … ) as the next guy - but with all the sleazy sh!t that xxmaj i \\'ve seen , i could n\\'t help but wish for a few hardcore scenes to make this one truly worthwhile . i knew it would n\\'t happen , but i still wish that xxup h.o.t.s . had a bit more sex and a bit less cheeze . xxmaj not quite as notable as xxup nerds , xxup porky \\'s , or xxup animal xxup house , but worth a look for fans of those types of films … 7 / 10 \\n\\n xxup p.s … and i forgot - this one has consummate douche - rag xxmaj danny xxmaj bonaduce in probably the best role of his career outside of his \" reality show \" …'"
      ]
     },
     "metadata": {},
     "execution_count": 91
    }
   ],
   "metadata": {}
  },
  {
   "cell_type": "code",
   "execution_count": 92,
   "source": [
    "# equivalent of .data\n",
    "np.array(dls_full.valid_ds[1][0])"
   ],
   "outputs": [
    {
     "output_type": "execute_result",
     "data": {
      "text/plain": [
       "array([    2,     7, 25122, ...,   144,    22,    76])"
      ]
     },
     "metadata": {},
     "execution_count": 92
    }
   ],
   "metadata": {}
  },
  {
   "cell_type": "code",
   "execution_count": 93,
   "source": [
    "# for all reviews\n",
    "dls_full.valid_ds"
   ],
   "outputs": [
    {
     "output_type": "execute_result",
     "data": {
      "text/plain": [
       "(#25000) [(TensorText([    2,    22,   882,     8,  3146,    22,    16,   160,    14,    13,\n",
       "         1524,   392,   882,    54,     8,   401,     9,   313,    29,    20,\n",
       "         1701,    18,     9,   213,    14,   115, 41545,    35,     7,   291,\n",
       "           18,     9,     8,  2222,     8,  1564,    10,     8,   216,    11,\n",
       "           45,    16,    38,   435,    27,    17,    61,   168,  1601,    35,\n",
       "            8,  5177,   248,    18,     8,  1881,    10,     8,    20,    24,\n",
       "          129,    13, 10454,    18,    66,   763,    24,    16,    38,    83,\n",
       "        13624,    31,   483,  3081,    69,    44,  7595,    21,    13,    30,\n",
       "         4874,     9, 18346,    12,  7311,    14,   163,    13,  9634,     8,\n",
       "          300,  6397,    27,     8,     9,     8,   882,     8,  3146,     8,\n",
       "        19060,     8,  1065,    16,   229,    13,     8,  5177,   347,   772,\n",
       "           10,     8,    17, 14183,  2661,    54,     8,    17,   351,    93,\n",
       "           36,   114,   293,    54,    26,     8,  1057,    48,     8,  1697,\n",
       "           18,  7104,    22,   882,     8,  3146,    22,    25,   536,    48,\n",
       "            8,  6902,     8,  6283,    10,     8,    20,    25,    83,     9,\n",
       "          352,  4591,     9,   103,     8,  1043,   172, 36287,    15,  1489,\n",
       "           13,   882,    54,     8,    40,    87,   245,    49,   345,   321,\n",
       "            9,   343,   183,    28,     8,  1697,    23,    22,     9,     8,\n",
       "         1019,     8,    14,     8,  1266,     8,   628,    22,    12,    74,\n",
       "           42,    83,    44,    70,   882,  5523,    18,  8727,    28,     9,\n",
       "         4348,    22, 41546,     8,  3520,    22,    10,     8,  6283,    25,\n",
       "           75,     8,  1754,    56,     8, 11049,    31,    28,    22,   882,\n",
       "            8,  3146,    22,    40,   661,    18,    13,   502,  1161,   882,\n",
       "           21,  1751,    73,    71,    91,    10,     8,  1322,  3738,    18,\n",
       "          433,   297,  3353,     8,  5338,    48,     8,  2331,     8,     0,\n",
       "           17, 18115,    13,    68,   198,  2751,    48,     8,   612,     8,\n",
       "          211,    11,     8,  5370,     8,  1097,    12,     8,  1989,     8,\n",
       "         7157,    10,     8,     9,   647,   473,    16,   597,    48,     8,\n",
       "         4542,     8,  8923,    50,    85,    61,   139,    15,    59,    18,\n",
       "            9,   454,    10,     8,    49,   559,    50,   133,   113,   257,\n",
       "           14,    58,   626,    10,     8,    58,  1280,   150,    16,  1549,\n",
       "        22943,    10,    26,     8,    17,    16,  2246,    21,     8,   612,\n",
       "            8,   211,    61,   372,  6315,   143,     8,  1097,    54,     8,\n",
       "           17,    16,   703,     8,  1097,    23,   454,    51,     9,    71,\n",
       "          477,    69,    92,   107,    86,   109,    18,     9,    32,    23,\n",
       "         1361,   652,   151,   129,  4700,    48,    13, 10525,   618,     9,\n",
       "        12962,    10,     8,   211,    93,    36,    42,    95,    15,    59,\n",
       "          491,     9,    30,    12,   210,    62,    14,   288,    18,    13,\n",
       "          882,    10,     8,    40,    57,   309,  1058,   673,   184,    73,\n",
       "          467,     8,  9747, 36288,    18,    13, 10994,    54,     8,    49,\n",
       "          305,    50,   133,    85,  8305,   336,    24,   570,   401,    28,\n",
       "           22, 12963,    22,    37,     0,     8,   211,  1601,    18,    13,\n",
       "         3292,    14,  2457,   751,  1293,    18,     9,  8071,    12,  5326,\n",
       "         9944,    28,    41,   856,  1018,    69,    29,  1507,   176,    40,\n",
       "           25,   265,    23,    22,  7770,     8, 54984,     7, 19339,    22,\n",
       "           18,     9,  4125,    10,     8,    40,  1100,    18,  5137,    46,\n",
       "            9,   608,    14, 14808,    10,    26,    22,   882,     8,  3146,\n",
       "           22, 14948,     9,  1981,    48, 19060,  5619,    14,     8, 26309,\n",
       "           12,     8,  6447,     8,  2187,     8,   515,    10,     8,  1097,\n",
       "          312,    13, 16497,  7175,  2613,    48,     8,   882,     8,  3146,\n",
       "         1411,     8,  1989,     8,  7157,    15,  2837,     9,   369,    51,\n",
       "        30620,     8, 20720,    12,    15,   105,   214,    35, 36288,    12,\n",
       "           41,  1110,    50,    39,   283,    15,  2295,     9,   369,    29,\n",
       "           81,   222, 10277,   655,    10,     8,   612,     8,   211,    16,\n",
       "            9,   211,  8038,    51,   164,  2472,    50,  4789,     9,  1065,\n",
       "           12, 41547,    28,     8,  1097,    29,     9, 10661,    14,     8,\n",
       "          694,     8,  8923,    10,     8,    66,   723,  2106,    16,  2250,\n",
       "           48,    24,    12, 17899,    52,    66,    74,   159,    24,    48,\n",
       "            8,  7069,     8, 37835,    12,     8,   319,     8,  4599,   525,\n",
       "           73,    18,    13, 11616,   233,    27,     9,  1065,   920,    10,\n",
       "           26,     8,  3505,   175,    13, 24195,    68,   882,    11,  2808,\n",
       "           35,     8,  5177,   248,    11,    31,    18, 10333,    68,   504,\n",
       "           21,   468,   106,    43,  6972,    28,    10,     8,    79,    83,\n",
       "        22944,    16,    21,    55,    39,    75,  2368,    11,    38,    78,\n",
       "           13,  1612,    12,    21,   408,  1013,    28,   167,   783,  2987,\n",
       "           10,     7,  5885,    54,    26,     8, 15685,    96,     8,  5101,\n",
       "            9,  6262,  1256,    35,    22,   882,     8,  3146,    22,    25,\n",
       "            8,  1116,     8,   937,     8,  1733,    50,   331,    28,     8,\n",
       "         5370,     8,  1097,    74,  1024,    13, 10926,    21,    74,  2297,\n",
       "           66,    14,     8,  1097,    23,  2044,  2582,    18,     9,  5326,\n",
       "           10]), TensorCategory(1)),(TensorText([    2,     7, 25122,    10,    16,    38,    29,   167,    21,   205,\n",
       "         3716,  1473,    10,     8,   322,    11,    20,    32,    16,    13,\n",
       "        12114,    15,   130,  1863,   969,  1151,    24,   392,  1113,   125,\n",
       "         8592,   126,    53,     7,  1148,     7,    14,     7,     9,     7,\n",
       "         8975,    12,     7,  6398,    23,    12,    13,  1193,    24, 43880,\n",
       "           15,     9,   196,    24, 25123,     7,  1698,     7,   350,    10,\n",
       "           13,    68,    77,    64,    33,  3752,    13,   190,    14,   220,\n",
       "           24,     0,  1943,   125,  1863,     8,  5191,   556,  4934,    12,\n",
       "        11946,  4183,    24,  2359,   224,    24,    31,   181,   118,  2920,\n",
       "           64,    33,  2886,   380,    17,    27, 13725,    24,   844,    76,\n",
       "           26,     7, 25122,    10,    16,    49,    22, 37836,    22,  7129,\n",
       "           14,  1253, 17081,   422,   925,   467,     9,  1093,    12,  9787,\n",
       "            8, 11050,   550,    10,     8,    20,    44,    61,  9896,    11,\n",
       "           49,     8,  2972,     8, 37837,    24,  6330,   350,  7845,    11,\n",
       "           12,    78,    49,   143,    24, 12469,  2236,    21,   182,    17,\n",
       "         2372,   268,   822,    64, 15686,    39,   148,    22,   171,    22,\n",
       "           76,    26,     8,    91,    76,    19,    53,  9207,    27,    95,\n",
       "           37,    56,   263,    70,    76,    34,    27,     9,   387,   230,\n",
       "           24,    31,    28,    45,     9,  2988, 17900,    21,     8,    19,\n",
       "          162,   132,    11,    19,    97,    36,   367,    31,   660,    29,\n",
       "           13,   192,  3716,   158,    15,   114,    20,    44,   396,  2560,\n",
       "           10,    19,   699,    17,    74,    36,   606,    11,    31,    19,\n",
       "          153,   660,    21,     7, 25122,    10,    87,    13,   246,    70,\n",
       "          373,    12,    13,   246,   363, 32594,    10,     8,    38,   206,\n",
       "           27,  2920,    27,     7,  8975,    11,     7,  6398,    23,    11,\n",
       "           56,     7,  1698,     7,   350,    11,    31,   295,    13,   187,\n",
       "           29,   468,    14,   167,  2168,    14,   126,    76,   758,   125,\n",
       "          186,    26,     7,  5055,    76,    12,    19,  2655,    24,    20,\n",
       "           44,    61, 11051, 20406,    24, 11789,     8,  1984,     8, 32595,\n",
       "           18,   263,     9,   140,   233,    14,    41,   626,   996,    14,\n",
       "           41,    22,   631,   144,    22,    76]), TensorCategory(1)),(TensorText([   2,    8,   20,   16,   13,  676,   11,  139,   11, 1524,   30,   51,\n",
       "           9,  564, 3897,   10,    8,   17,   23,   44,   14,  167,   22, 1048,\n",
       "          24,  198, 3905, 4887,   22,  119,   21, 1534,   66,   68, 1938,   10,\n",
       "           8,   64,   33,   53,    9,  101,   18,   20,   44,   11,  221,   17,\n",
       "          13,  346,   10]), TensorCategory(1)),(TensorText([    2,     8,    17,    23,    38,    13,    30,    11,    31,    49,\n",
       "          576,    54,    26,     8,    38,     9,   679,   771,  1890,    19,\n",
       "          217,    17,    74,    43,    10,     8,   118,   130,   200,    39,\n",
       "         1421,    46,   302,    11,   148,  4450,   242,    97,    36,  2838,\n",
       "           17,    10,    13,  2150,    14,  2259,    24,  1323,  2274,    37,\n",
       "           92,    88,  3090,   223,    57,  1327,   164,    15,   389,     9,\n",
       "          144,    12,  1512,   278,  5886,  4651,    35,    12,   142,    15,\n",
       "        15217,     9,  1329,    34,    11,     9,   239,    16,   103,    37,\n",
       "           17,    23,    13,  2822,    54,    34,    11,     9,     8,  1009,\n",
       "          122,    39,    18,    17,    37,    12,    33,    99,    15,     7,\n",
       "           43,   194,    14,    81,   196,    34,    11,    17,    23,   174,\n",
       "           11,    17,    23,  2603,    11,    17,    23,  1118,   191,    19,\n",
       "          141,    20,    16,   477,    15,   498,    53,    49,  9945,   191,\n",
       "           31,    17,    85,    16,    21,  1166,    54,     8,  3776,     8,\n",
       "         1358,    18,  2154,    62,     9,   544,    18,    33,    54,    26,\n",
       "            8,    20,  3270,   645,   493,   182,   184,    15,     8,  1009,\n",
       "           45,   295,    17,    10,  7680]), TensorCategory(1)),(TensorText([    2,     8,     9,     8,  2768,    16,   870,    35,   131,    11,\n",
       "         1068,    28,  1477,    12,    61,   207,  2335,   138,    27,    91,\n",
       "           10,    31,   623,    14,    20,  2308,    11,    29,    11,   172,\n",
       "        28241, 12389,    61,   386,   201,    44,    14,     9,   111,  2251,\n",
       "         1496,   119,   145,    10,     9,   240,   131,    16,    57,    49,\n",
       "         1419,    15,   304, 28241,  2715,   209,    12,   214,    33,   104,\n",
       "            9,  2614,    14,    13,  1513,   489,    11,  2154,     9,   329,\n",
       "           66,  1591,    11,  5646,    11,  2745,    24,   657,    12,   354,\n",
       "         3653,  1209,    10,    26,     9,  1209,    51,    20,   341,    30,\n",
       "          106,  1330,    28,    33,    29,    13,   218,    77,    15,   235,\n",
       "           10,    20,    30,    16,    13,   429,   437,    29,     9,    22,\n",
       "         5620,    14,  2901,    22,  2973,    10,   847,     9,   673,   131,\n",
       "           11,    57,   304,   148,  4450,    43,  8812,    28,     9,  1209,\n",
       "           10,    12, 37838,   309,  1496,   215,    15,   722,    15,     9,\n",
       "          397,    14, 28241,    23,   180,    10,     9,   665,    16,  6597,\n",
       "           11,     9,   239,  2386,   203,     9,  1364,    57,  1496,    10,\n",
       "           26,     9,    30,    16,   363,    14,    13,    30,    12,    70,\n",
       "           14,    13,   180,    14,   551,    10,   115,    57,    21,     9,\n",
       "         3488,    16,    38, 10593,  1553,    11,    17,    16,     9,   220,\n",
       "           24,   279,    12,  3886,    10,    44,    14,     9,   111,  2366,\n",
       "          119,    14,    20,  2075,    10,     8,     9,     8,  2768,    16,\n",
       "           13,   225,   127,    10,    13,  4550,   185,  1515,    18,    30,\n",
       "          256,    10,    26,    49,  9439,   777,    54,    54]), TensorCategory(1)),(TensorText([    2,    13,     8,  1924,  5178,    12,  4565,   716,    62,    15,\n",
       "         2087,     9,   742,  9252,    14,     8,  9635,    10,    13,  1403,\n",
       "           14, 11193,    28,   498,    11,     8,  4170,     8, 33679,    37,\n",
       "           14,     9,     8,  1043,     0,  1220,     8,     0,     8, 54985,\n",
       "           34, 20124,     9,  1842,    14,     8,  9635,    28,    41,  7460,\n",
       "         4470,  1159,    12,    22,  1329,  1529,    22,    15, 19061,    49,\n",
       "         1458,  3400,    14,     8,  4551,   239,    10,     8,    41,  5192,\n",
       "          818,    15,     9,  3717,    14,    13,  3788,  8148,  8338,    51,\n",
       "          702,  8364,    11,   851,    12,  2870,    24,  4790,    15,  4030,\n",
       "           22, 46805,    22,    10,     8,    27,    40,  6009,   165,    20,\n",
       "         7543,   196,    11,     8,  2112, 15995,  9253,    12,  4031,    48,\n",
       "         2792,   163,    27,  5019,    24,  7343,  1220,     8, 16872,     8,\n",
       "        43881,    11, 15529, 36289,     8, 13845,     8,  2921,    11,   851,\n",
       "         3710,     8, 54986,    12,     8,     0,    11, 11271, 12201,     8,\n",
       "            0,     8,     0,    11,     8, 50408,    37,  2373,    23,  1548,\n",
       "           15,     8,  1038,     8,  2050,    34,    11, 41548,  3176,     8,\n",
       "         9635,     8,   417,     8, 28980,    11,  3569, 34913,     8,     0,\n",
       "            8,     0,    11,  9108,     0,     8, 46806,     8,     0,    11,\n",
       "            8,  2395,  4161,  1818,     8,     0,     0,    11,   926,  3176,\n",
       "            8, 54987,    11,     8, 24196,  1818,     8, 39578,    11,     9,\n",
       "           22,  4791,    14,     8, 46805,    22,     8, 33680,     8, 39579,\n",
       "           11,    12,  2489, 25124,     8,     0,     8, 43882,    12,     8,\n",
       "        43883,     8, 46807,    10]), TensorCategory(1)),(TensorText([    2,     0,    96,     8,  2162,     8,  4000,    37,  4118,    34,\n",
       "           24,   648,   248,   125,  6245,   125,  4118,   134,  2255,   155,\n",
       "          125,   186,   125, 18347,    26,     8,    35,     8,  7643,  3327,\n",
       "           11, 12033,    96,     8,   335,     8, 13069,    11,     9,  1830,\n",
       "         2490,  4998,    10,     8,   168,     9,   662,    12,   872,     9,\n",
       "          196,   106,   187,    15,     8,   365,    29,  1028,    51,     9,\n",
       "         8649,     8,   103,     8,  3753,    10,    26,     7, 27548,    96,\n",
       "            8,  1997,     8,  1266,    11,     8,  4323,     8,  3313,    11,\n",
       "            8,     0,     8, 46808,    11,     8,  1525,     8, 12964,    11,\n",
       "            8,  2253,     8,  9897,    11,     8,  4980,     8,  2694,    11,\n",
       "            8,  1502,     8, 22166,    11,     8,  2359,     8,  2777,    11,\n",
       "            8,  3125,     7,  6421,     8,  1009,    11,     8,  2201,     8,\n",
       "         6159,    10,    26,     7,  4575,    96,     8,    46,   218,   250,\n",
       "           11,   278,     8,  6399, 16660,    18,  7023,    28,     8,  8888,\n",
       "            8,  4772,    23,   107,   498,    32,    11,    13,   613,   124,\n",
       "         2028,   459,     8,  2162,     8,  4000,    10,     8,    49,   345,\n",
       "          261,    51,     8,  1619,    10,     8,  4772,    11,    50,  1214,\n",
       "          228,   142,     9,  3455,    21,    58,  2019,    97,  1667,   143,\n",
       "           51,     9,  1189,   969,    37,    19,   488,    15,    86,    66,\n",
       "           14,    58,  1189,   180,    11,    31,     8,  7004,    93,    36,\n",
       "          328,    15,    43, 24197,   112,    10,     8,   110,  1062,    34,\n",
       "           10,     8,    44,   171,    19,  1944,   143,    12,   143,    25,\n",
       "            9,   117,     9,     8,  3586,  1227,   978,    11,    53,  8813,\n",
       "            9,  3106,  5395,    28,    13,  4093,   498,    10,     8,  2162,\n",
       "          655,    73,   129,     9,    83,   124,    19,   449,   134,    19,\n",
       "           89,    36,    85,   480,    29,    58,  7045,   360,    56,    58,\n",
       "           74,    24,    43, 12202,    10,     8,    17,   309,    53,     9,\n",
       "          498,    24,  4470,  8072,    39,   403,   147,    37,  1261, 12560,\n",
       "           18,    15,   711,   104,     9,   774,    24,    80,    34,    11,\n",
       "           31,     9,   379,   153,    16,    36,   768,    10,     8,    92,\n",
       "          258,    43,   274,    15,   127,    29,    21,    15,   674,    27,\n",
       "          278,  6399,  2113,    10,    26,     7,  1498,    96,     8,   278,\n",
       "          107,    32,    14,     9,  4118,    23,    16,     9,   107,   498,\n",
       "           32,    14,  1189, 11790,     8,  8888,     8,  4772,    11,     8,\n",
       "         2162,     8,  4000,    10,     8,    20,    16,    13,    71,   613,\n",
       "           30,    11,    28,    83,    60,   750,   287,  1864,   136,    92,\n",
       "         1157,   218,  7896,    14,     9,    32,    23, 15687,   877,   643,\n",
       "           77,    11,   424,    28,    13,  5056,   379,    10,     8,    17,\n",
       "           25,   103,    15,    86,     8,  2545,     8, 12965,    18,   498,\n",
       "           27,    91,    11,    12,   206,   610,    27,    65,    92,   871,\n",
       "           16,    49,  2228,  3630,    14,  5887,   262, 24649, 19615,    10,\n",
       "           19,    71,    95,   527,     8,  4772,    23,   261,    11,    27,\n",
       "           72, 18581,     9,    32,   165,    78,     9,   111,  7399,   404,\n",
       "           10,    19,    89,    36,    85,    53,     8,   743,     8,  5164,\n",
       "           56,     8,  1194,     8, 11334,    11,   299,   108,    19,    25,\n",
       "           36,  2202,    15,   376,    14,   112,    11,    52,    19,    25,\n",
       "        10001,    12,  2347,    69,     8,  2162,   453,  1430,    73,    29,\n",
       "          824,    12,   296,   112,    21,    72,    93,    36,    22,  4112,\n",
       "           22,    15,   376,    58,  7045,   360,    56,    58,  7644,    24,\n",
       "         2852,     8,  2642,  1356,    10,     8,    17,    23,   105,   103,\n",
       "           15,    86,    21,  9108,  1189,  2809,     8,  5941,     8,  5164,\n",
       "           61,    36,  1129,    13,  1515,   184,    51,  1189,    15,   498,\n",
       "           10,    26,     8,   250,    32,  2255,    96,     8, 15368,    37,\n",
       "        11194,    34,    10,     8,   250,    32, 17082,    96,     8,     9,\n",
       "            8,   135,     8,  5672,    37, 12033,    34,    10,     8,   387,\n",
       "           32,    96,     8,     9,     8,  1177,     8,  2369,    37,  4118,\n",
       "           34,    10]), TensorCategory(1)),(TensorText([    2,     8,     9,   144,   413,   680,  5536,     9,   762,   955,\n",
       "           14,     9,   848,  1978,   134, 10738,    12,  3631,    73,  4934,\n",
       "           16,     9,  1111,  2789,  3107,    46,     9,  8111,    10,     8,\n",
       "          101, 21402,   714,     9,   144,   707,    15,   115,    22,  7544,\n",
       "           22,   340,    14,  3631,    73,   550,   801,  3003,    12, 15530,\n",
       "         3546,    11,    31,   833,    43,   595,    11,  2348,   193,   211,\n",
       "          230,    16,    62,   422,    17,    46,     9,  1434,    10,     8,\n",
       "          466,    11,     9,   144,    85,  7158,    15,     9,  1150,  3754,\n",
       "           11,    27,    92,    53,    15,    86,     9,  3869,    14,    13,\n",
       "           22,  1819,    23,    22,   261,    46,     9,  1434,    11,    27,\n",
       "            9,   144,  1572,    13,  2883,  1566,   113,   634,    48,     9,\n",
       "         4253, 13160,    10,    26,   186,   125,   186,   134,    13,   602,\n",
       "           11,   268,    12,  3286,   227,    21,  2237,     9,   329,    15,\n",
       "           85,  6400,    10,     8,    68,     8,   321,     8,   901,    10]), TensorCategory(1)),(TensorText([    2,    19,   135,    20,    30,    10,     8,    17,    16,     9,\n",
       "          107,    32,     8,  1165,  5339,    42,   145,   245,    10,     8,\n",
       "           17,    16,   452,    35,     9,    84,    14,    41,   137,    10,\n",
       "            8,    17,    16,   382,    24,   358,    11,    31,    17,    16,\n",
       "           71,    68,    10,     8,    17,   296,   110,     8,  1165,  5339,\n",
       "         2210,    73,    18,  3598,    18,     8,   185,     8,  5647,    10,\n",
       "           26,     8,    38,    83,    89,     8,  1165,  5339,   393,    18,\n",
       "           20,    30,    11,    40,   105,    25,     9,   568,    12,   172,\n",
       "           28,     8,  1898,     8,  1206,    10,     8,     9,     7,   291,\n",
       "          105,    61,     8,     9,     8,    75,     8,  5754,  1776,  4426,\n",
       "          988,    35,    17,    10,     8,    20,    30,   296,   110,     8,\n",
       "         1165,  5339,   289,    51,    98,   118,    68,    12,   110,    40,\n",
       "           87,    15,   828,    28,     9,   200,   209,   109,    10,     8,\n",
       "           17,   105,    61,   130,    14,     8,     9,     8,    75,     8,\n",
       "         5754,     8,  5504, 16498,    18,    20,    32,    10,     8,    33,\n",
       "          156,   813,    56,   826,    20,    32,    10,    26,     8,    17,\n",
       "           16,    13,   103,    30,    15,   127,    16,    33,    53,  4267,\n",
       "           11,    56,    16,    13,     8,  1165,  5339,   359,    10,    19,\n",
       "          106,    38,  2391,    20,    30,    29,    33,    10,     8,   161,\n",
       "           99,    20,    30,    27,   718,    27,    33,    80,    12,   127,\n",
       "           17,    10,     8,    33,   106,    53,    17,    10]), TensorCategory(1)),(TensorText([    2,     8,    65,    13,  1288,   204,  1708,  2632,    10,    26,\n",
       "            8,    59,    38,   187,    29,   103,   138,    11,   845,   131,\n",
       "          430,    11,    56,   257,  6757,    13,   504,    30,    10,    26,\n",
       "            8,    20,    16,  1066,  8513,    46,    17,    23,  2044,    10,\n",
       "            8,  3296,  5927,    11, 50409,   735,    11, 41549,    14,   370,\n",
       "           11,    12,     9, 30621,  1635,    33,    80,   835,    10,    26,\n",
       "            8,    20,  7737,   447,    48,     9,    22,  3700,    14,     8,\n",
       "         4267,    11,    22,     8,  7957,     8,  1448,     8,  1560,    11,\n",
       "           50,   339,   201,    29,    68,   250,  1268,    16,     9,  1233,\n",
       "           48,    82,    45,  8513,    16, 10870,    10,    26,     8,    33,\n",
       "           38,    83,    86,  8513,    46,    17,    23,  2044,    11,    31,\n",
       "           99,  6950,    14,    41,   224,  1183,    11,    12,    86,   157,\n",
       "           41,  5504,    88,   802,   472,     9,  4723,    10]), TensorCategory(1))...]"
      ]
     },
     "metadata": {},
     "execution_count": 93
    }
   ],
   "metadata": {}
  },
  {
   "cell_type": "markdown",
   "source": [
    "### Data Exploration: negative to positive ratios"
   ],
   "metadata": {}
  },
  {
   "cell_type": "code",
   "execution_count": 94,
   "source": [
    "def neg_pos_given_word(word): print(C0[stoi(v, word)] / C1[stoi(v, word)])"
   ],
   "outputs": [],
   "metadata": {}
  },
  {
   "cell_type": "code",
   "execution_count": 95,
   "source": [
    "neg_pos_given_word(\"loved\")"
   ],
   "outputs": [
    {
     "output_type": "stream",
     "name": "stdout",
     "text": [
      "0.41379310344827586\n"
     ]
    }
   ],
   "metadata": {}
  },
  {
   "cell_type": "markdown",
   "source": [
    "### Naive Bayes Classifier with full IBDb dataset. \n",
    "Binarized Naïve Bayes"
   ],
   "metadata": {}
  },
  {
   "cell_type": "code",
   "execution_count": 96,
   "source": [
    "%%time\n",
    "from tqdm.auto import tqdm\n",
    "\n",
    "m = np.zeros((len(dls_full.train_ds), ))\n",
    "try: m = load_pickle(path/\"m.pkl\")\n",
    "except Exception: \n",
    "    for k, (data, label) in enumerate(dls_full.train_ds): m[k] = int(label)\n",
    "    save_pickle(path/\"m.pkl\", m)"
   ],
   "outputs": [
    {
     "output_type": "stream",
     "name": "stdout",
     "text": [
      "CPU times: user 354 µs, sys: 103 µs, total: 457 µs\n",
      "Wall time: 392 µs\n"
     ]
    }
   ],
   "metadata": {}
  },
  {
   "cell_type": "code",
   "execution_count": 97,
   "source": [
    "# %%time\n",
    "# import os\n",
    "# import joblib\n",
    "\n",
    "# compare = np.zeros((len(dls_full.train_ds), ))\n",
    "# def make_m(k, label): compare[k] = int(label)\n",
    "\n",
    "# _ = joblib.Parallel(n_jobs=os.cpu_count())(\n",
    "#     joblib.delayed(make_m)(k, label) \n",
    "#     for k, (data, label) in enumerate(dls_full.train_ds)\n",
    "# )\n",
    "\n",
    "# assert (m == compare).all()"
   ],
   "outputs": [],
   "metadata": {}
  },
  {
   "cell_type": "code",
   "execution_count": 98,
   "source": [
    "%%time\n",
    "valid_y = np.zeros((len(dls_full.valid_ds), ))\n",
    "try: valid_y = load_pickle(path/\"valid_y.pkl\")\n",
    "except Exception: \n",
    "    for k, (data, label) in enumerate(dls_full.valid_ds): valid_y[k] = int(label)\n",
    "    save_pickle(path/\"valid_y.pkl\", valid_y)"
   ],
   "outputs": [
    {
     "output_type": "stream",
     "name": "stdout",
     "text": [
      "CPU times: user 473 µs, sys: 137 µs, total: 610 µs\n",
      "Wall time: 423 µs\n"
     ]
    }
   ],
   "metadata": {}
  },
  {
   "cell_type": "code",
   "execution_count": 99,
   "source": [
    "x = train_doc_term\n",
    "y = m\n",
    "valid_y = valid_y"
   ],
   "outputs": [],
   "metadata": {}
  },
  {
   "cell_type": "code",
   "execution_count": 100,
   "source": [
    "x"
   ],
   "outputs": [
    {
     "output_type": "execute_result",
     "data": {
      "text/plain": [
       "<25000x60008 sparse matrix of type '<class 'numpy.int64'>'\n",
       "\twith 3731271 stored elements in Compressed Sparse Row format>"
      ]
     },
     "metadata": {},
     "execution_count": 100
    }
   ],
   "metadata": {}
  },
  {
   "cell_type": "code",
   "execution_count": 101,
   "source": [
    "positive = np.where(np.array(dls.vocab[1]) == \"positive\")[0][0]\n",
    "negative = np.where(np.array(dls.vocab[1]) == \"negative\")[0][0]"
   ],
   "outputs": [],
   "metadata": {}
  },
  {
   "cell_type": "code",
   "execution_count": 102,
   "source": [
    "C0 = np.squeeze(np.asarray(x[y==negative].sum(0))).astype(np.int32)\n",
    "C1 = np.squeeze(np.asarray(x[y==positive].sum(0))).astype(np.int32)"
   ],
   "outputs": [],
   "metadata": {}
  },
  {
   "cell_type": "code",
   "execution_count": 103,
   "source": [
    "C0"
   ],
   "outputs": [
    {
     "output_type": "execute_result",
     "data": {
      "text/plain": [
       "array([19048,     0, 12500, ...,     0,     0,     0], dtype=int32)"
      ]
     },
     "metadata": {},
     "execution_count": 103
    }
   ],
   "metadata": {}
  },
  {
   "cell_type": "code",
   "execution_count": 104,
   "source": [
    "C1"
   ],
   "outputs": [
    {
     "output_type": "execute_result",
     "data": {
      "text/plain": [
       "array([21952,     0, 12500, ...,     0,     0,     0], dtype=int32)"
      ]
     },
     "metadata": {},
     "execution_count": 104
    }
   ],
   "metadata": {}
  },
  {
   "cell_type": "markdown",
   "source": [
    "### Data Exploration: Log-count ratio"
   ],
   "metadata": {}
  },
  {
   "cell_type": "code",
   "execution_count": 105,
   "source": [
    "# Token likelihoods conditioned on class\n",
    "L1 = (C1 + 1) / ((y==positive).sum() + 1)\n",
    "L0 = (C0 + 1) / ((y==negative).sum() + 1)\n",
    "\n",
    "# Log count ratios\n",
    "R = np.log(L1 / L0)"
   ],
   "outputs": [],
   "metadata": {}
  },
  {
   "cell_type": "markdown",
   "source": [
    "### Examples of log-count ratios for a few words. \n",
    "Check that log-count ratios are negative for words with `negative` sentiments and positive for words with `positive` sentiment. "
   ],
   "metadata": {}
  },
  {
   "cell_type": "code",
   "execution_count": 106,
   "source": [
    "def rep_stoi_full(words): [print(R[stoi(full_vocab, word)]) for word in words]"
   ],
   "outputs": [],
   "metadata": {}
  },
  {
   "cell_type": "code",
   "execution_count": 107,
   "source": [
    "rep_stoi_full([\"hated\", \"loved\", \"liked\", \"worst\", \"best\"])"
   ],
   "outputs": [
    {
     "output_type": "stream",
     "name": "stdout",
     "text": [
      "-0.7135560521911525\n",
      "1.1563661500586044\n",
      "0.4435176726439585\n",
      "-2.2822210433076706\n",
      "0.7218617916673112\n"
     ]
    }
   ],
   "metadata": {}
  },
  {
   "cell_type": "markdown",
   "source": [
    "Since we have equal numbers of positive and negative reviews in dataset, bias $b$ is 0. "
   ],
   "metadata": {}
  },
  {
   "cell_type": "code",
   "execution_count": 108,
   "source": [
    "b = np.log((y==positive).mean() / (y==negative).mean())\n",
    "print(f\"The bias term b is {b}\")"
   ],
   "outputs": [
    {
     "output_type": "stream",
     "name": "stdout",
     "text": [
      "The bias term b is 0.0\n"
     ]
    }
   ],
   "metadata": {}
  },
  {
   "cell_type": "markdown",
   "source": [
    "Because of larger training set, we get better accuracy this time. "
   ],
   "metadata": {}
  },
  {
   "cell_type": "code",
   "execution_count": 109,
   "source": [
    "# Predict labels for validation data\n",
    "W = valid_doc_term.sign()\n",
    "preds = (W @ R + b) > 0\n",
    "val_acc = (preds == valid_y).mean()\n",
    "print(f\"Validation accuracy is {val_acc} for the full data set. \")"
   ],
   "outputs": [
    {
     "output_type": "stream",
     "name": "stdout",
     "text": [
      "Validation accuracy is 0.83236 for the full data set. \n"
     ]
    }
   ],
   "metadata": {}
  },
  {
   "cell_type": "markdown",
   "source": [
    "## Logistic Regression Classifier with full IMDb dataset. \n",
    "We can use scikit learn library to fit log-reg model where features are the unigrams. $C$ is a regularization parameter. "
   ],
   "metadata": {}
  },
  {
   "cell_type": "code",
   "execution_count": 110,
   "source": [
    "from sklearn.linear_model import LogisticRegression"
   ],
   "outputs": [],
   "metadata": {}
  },
  {
   "cell_type": "code",
   "execution_count": 111,
   "source": [
    "train_doc_term"
   ],
   "outputs": [
    {
     "output_type": "execute_result",
     "data": {
      "text/plain": [
       "<25000x60008 sparse matrix of type '<class 'numpy.int64'>'\n",
       "\twith 3731271 stored elements in Compressed Sparse Row format>"
      ]
     },
     "metadata": {},
     "execution_count": 111
    }
   ],
   "metadata": {}
  },
  {
   "cell_type": "code",
   "execution_count": 112,
   "source": [
    "# Using the full document-term matrix. \n",
    "m = LogisticRegression(C=0.1, dual=False, solver=\"liblinear\")  # or newton-cg\n",
    "# Others like \"sag\", \"saga\", and \"lbfgs\" are said to not converge \n",
    "m.fit(train_doc_term, y.astype(int))\n",
    "preds = m.predict(valid_doc_term)\n",
    "valid_acc = (preds == valid_y).mean()\n",
    "print(f\"Validation accuracy is {valid_acc} using the full doc-term matrix.\")"
   ],
   "outputs": [
    {
     "output_type": "stream",
     "name": "stdout",
     "text": [
      "Validation accuracy is 0.88292 using the full doc-term matrix.\n"
     ]
    }
   ],
   "metadata": {}
  },
  {
   "cell_type": "code",
   "execution_count": 113,
   "source": [
    "# Using binarized document-term matrix gets slightly higher accuracy. \n",
    "m = LogisticRegression(C=0.1, dual=False, solver=\"liblinear\")\n",
    "m.fit(train_doc_term.sign(), y.astype(int))\n",
    "preds = m.predict(valid_doc_term.sign())\n",
    "valid_acc = (preds == valid_y).mean()\n",
    "print(f\"Validation accuracy is {valid_acc} using the binarized doc-term matrix.\")"
   ],
   "outputs": [
    {
     "output_type": "stream",
     "name": "stdout",
     "text": [
      "Validation accuracy is 0.88392 using the binarized doc-term matrix.\n"
     ]
    }
   ],
   "metadata": {}
  },
  {
   "cell_type": "markdown",
   "source": [
    "## Trigram representation of IBDb sample: preprocessing. \n",
    "Naive Bayes features extended to include bigrams and trigrams as well as unigrams. This is used with binarized features. Each feature is a log-count ratio. Log reg model is then trained to predict sentiment. We use the smaller IMDB_SAMPLE due to large number of features. Bigrams is a sequence of words. \n",
    "\n",
    "We won't be calling the path for `IMDB_SAMPLE` again because our dls is not overwritten/deleted. "
   ],
   "metadata": {}
  },
  {
   "cell_type": "code",
   "execution_count": 114,
   "source": [
    "vocab_sample = dls.vocab.itemgot()[0]\n",
    "vocab_len = len(vocab_sample)\n",
    "print(f\"IMDb_sample vocab has {vocab_len} tokens.\")"
   ],
   "outputs": [
    {
     "output_type": "stream",
     "name": "stdout",
     "text": [
      "IMDb_sample vocab has 7080 tokens.\n"
     ]
    }
   ],
   "metadata": {}
  },
  {
   "cell_type": "markdown",
   "source": [
    "### Create the ngram-doc matrix for training data. \n",
    "doc-term matrix encodes token features, ngram-doc matrix encodes ngram features. "
   ],
   "metadata": {}
  },
  {
   "cell_type": "code",
   "execution_count": 115,
   "source": [
    "min_n = 1\n",
    "max_n = 3\n",
    "\n",
    "j_indices, indptr, values = [], [], []\n",
    "num_tokens = vocab_len\n",
    "\n",
    "itongram, ngramtoi = dict(), dict()"
   ],
   "outputs": [],
   "metadata": {}
  },
  {
   "cell_type": "code",
   "execution_count": 116,
   "source": [
    "%%time \n",
    "try: \n",
    "    feature_counter = load_pickle(Path(\"output/feature_counter.pkl\"))\n",
    "    j_indices = load_pickle(Path(\"output/j_indices.pkl\"))\n",
    "    values = load_pickle(Path(\"output/values.pkl\"))\n",
    "    this_doc_ngrams = load_pickle(Path(\"output/this_doc_ngrams.pkl\"))\n",
    "    ngram_counter = load_pickle(Path(\"output/ngram_counter.pkl\"))\n",
    "    indptr = load_pickle(Path(\"output/indptr.pkl\"))\n",
    "    itongram = load_pickle(Path(\"output/itongram.pkl\"))\n",
    "    ngramtoi = load_pickle(Path(\"output/ngramtoi.pkl\"))\n",
    "except Exception: \n",
    "    indptr.append(0)\n",
    "    for i, (doc, label) in enumerate(tqdm(dls.train_ds)):\n",
    "        feature_counter = Counter(doc.data.numpy())\n",
    "        j_indices.extend(feature_counter.keys())\n",
    "        values.extend(feature_counter.values())\n",
    "        this_doc_ngrams = list()\n",
    "\n",
    "        m = 0\n",
    "        for n in range(min_n, max_n + 1):\n",
    "            for k in range(vocab_len - n + 1):\n",
    "                ngram = np.array(doc.data[k: k + n])\n",
    "\n",
    "                if str(ngram) not in ngramtoi:\n",
    "                    if len(ngram) == 1:\n",
    "                        num = ngram[0]\n",
    "                        ngramtoi[str(ngram)] = num\n",
    "                        itongram[num] = ngram\n",
    "                    else:\n",
    "                        ngramtoi[str(ngram)] = num_tokens\n",
    "                        itongram[num_tokens] = ngram\n",
    "                        num_tokens += 1\n",
    "                \n",
    "                this_doc_ngrams.append(ngramtoi[str(ngram)])\n",
    "                m += 1\n",
    "\n",
    "        ngram_counter = Counter(this_doc_ngrams)\n",
    "        j_indices.extend(ngram_counter.keys())\n",
    "        values.extend(ngram_counter.values())\n",
    "        indptr.append(len(j_indices))\n",
    "\n",
    "    save_pickle(Path(\"output/feature_counter.pkl\"), feature_counter)\n",
    "    save_pickle(Path(\"output/j_indices.pkl\"), j_indices)\n",
    "    save_pickle(Path(\"output/values.pkl\"), values)\n",
    "    save_pickle(Path(\"output/this_doc_ngrams.pkl\"), this_doc_ngrams)\n",
    "    save_pickle(Path(\"output/ngram_counter.pkl\"), ngram_counter)\n",
    "    save_pickle(Path(\"output/indptr.pkl\"), indptr)\n",
    "    save_pickle(Path(\"output/itongram.pkl\"), itongram)\n",
    "    save_pickle(Path(\"output/ngramtoi.pkl\"), ngramtoi)"
   ],
   "outputs": [
    {
     "output_type": "stream",
     "name": "stdout",
     "text": [
      "CPU times: user 659 ms, sys: 88.3 ms, total: 747 ms\n",
      "Wall time: 562 ms\n"
     ]
    }
   ],
   "metadata": {}
  },
  {
   "cell_type": "markdown",
   "source": [
    "Using dictionaries to convert between indices and strings (in this case, n-grams) is a common and useful approach. Here, we created itongram (index to n-gram) and ngramtoi (ngram to index) dicts. This takes a few minutes (for theirs, about 3 min. In my case, slightly more than 20 minutes). "
   ],
   "metadata": {}
  },
  {
   "cell_type": "code",
   "execution_count": 117,
   "source": [
    "%%time\n",
    "try:\n",
    "    train_ngram_doc_matrix = load_pickle(Path(\"output/train_ngram_doc_matrix.pkl\"))\n",
    "except Exception:\n",
    "    train_ngram_doc_matrix = scipy.sparse.csr_matrix((values, j_indices, indptr),\n",
    "                            shape=(len(indptr) - 1, len(ngramtoi)), dtype=int)\n",
    "    save_pickle(Path(\"output/train_ngram_doc_matrix.pkl\"), train_ngram_doc_matrix)"
   ],
   "outputs": [
    {
     "output_type": "stream",
     "name": "stdout",
     "text": [
      "CPU times: user 0 ns, sys: 3.36 ms, total: 3.36 ms\n",
      "Wall time: 2.99 ms\n"
     ]
    }
   ],
   "metadata": {}
  },
  {
   "cell_type": "code",
   "execution_count": 118,
   "source": [
    "train_ngram_doc_matrix"
   ],
   "outputs": [
    {
     "output_type": "execute_result",
     "data": {
      "text/plain": [
       "<800x267669 sparse matrix of type '<class 'numpy.int64'>'\n",
       "\twith 683475 stored elements in Compressed Sparse Row format>"
      ]
     },
     "metadata": {},
     "execution_count": 118
    }
   ],
   "metadata": {}
  },
  {
   "cell_type": "markdown",
   "source": [
    "### Examine some ngrams in the training data. "
   ],
   "metadata": {}
  },
  {
   "cell_type": "code",
   "execution_count": 119,
   "source": [
    "len(ngramtoi), len(itongram)"
   ],
   "outputs": [
    {
     "output_type": "execute_result",
     "data": {
      "text/plain": [
       "(267669, 267669)"
      ]
     },
     "metadata": {},
     "execution_count": 119
    }
   ],
   "metadata": {}
  },
  {
   "cell_type": "code",
   "execution_count": 120,
   "source": [
    "itongram[29375]"
   ],
   "outputs": [
    {
     "output_type": "execute_result",
     "data": {
      "text/plain": [
       "array([55, 76, 34])"
      ]
     },
     "metadata": {},
     "execution_count": 120
    }
   ],
   "metadata": {}
  },
  {
   "cell_type": "code",
   "execution_count": 121,
   "source": [
    "ngramtoi[str(itongram[29375])]"
   ],
   "outputs": [
    {
     "output_type": "execute_result",
     "data": {
      "text/plain": [
       "29375"
      ]
     },
     "metadata": {},
     "execution_count": 121
    }
   ],
   "metadata": {}
  },
  {
   "cell_type": "code",
   "execution_count": 122,
   "source": [
    "def vsamp_to_word(arr): print([vocab_sample[val] for val in arr])"
   ],
   "outputs": [],
   "metadata": {}
  },
  {
   "cell_type": "code",
   "execution_count": 123,
   "source": [
    "vsamp_to_word(itongram[29375])"
   ],
   "outputs": [
    {
     "output_type": "stream",
     "name": "stdout",
     "text": [
      "['there', 'were', ')']\n"
     ]
    }
   ],
   "metadata": {}
  },
  {
   "cell_type": "code",
   "execution_count": 124,
   "source": [
    "itongram[100000]"
   ],
   "outputs": [
    {
     "output_type": "execute_result",
     "data": {
      "text/plain": [
       "array([ 428, 1339,   23])"
      ]
     },
     "metadata": {},
     "execution_count": 124
    }
   ],
   "metadata": {}
  },
  {
   "cell_type": "code",
   "execution_count": 125,
   "source": [
    "vsamp_to_word(itongram[100000])"
   ],
   "outputs": [
    {
     "output_type": "stream",
     "name": "stdout",
     "text": [
      "['early', '70', \"'s\"]\n"
     ]
    }
   ],
   "metadata": {}
  },
  {
   "cell_type": "code",
   "execution_count": 126,
   "source": [
    "itongram[100010]"
   ],
   "outputs": [
    {
     "output_type": "execute_result",
     "data": {
      "text/plain": [
       "array([ 375,   24, 5065])"
      ]
     },
     "metadata": {},
     "execution_count": 126
    }
   ],
   "metadata": {}
  },
  {
   "cell_type": "code",
   "execution_count": 127,
   "source": [
    "vsamp_to_word(itongram[100010])"
   ],
   "outputs": [
    {
     "output_type": "stream",
     "name": "stdout",
     "text": [
      "['full', '-', 'frontal']\n"
     ]
    }
   ],
   "metadata": {}
  },
  {
   "cell_type": "code",
   "execution_count": 128,
   "source": [
    "itongram[7500]"
   ],
   "outputs": [
    {
     "output_type": "execute_result",
     "data": {
      "text/plain": [
       "array([671,  18])"
      ]
     },
     "metadata": {},
     "execution_count": 128
    }
   ],
   "metadata": {}
  },
  {
   "cell_type": "code",
   "execution_count": 129,
   "source": [
    "vsamp_to_word(itongram[7500])"
   ],
   "outputs": [
    {
     "output_type": "stream",
     "name": "stdout",
     "text": [
      "['change', 'in']\n"
     ]
    }
   ],
   "metadata": {}
  },
  {
   "cell_type": "code",
   "execution_count": 130,
   "source": [
    "len(itongram[247])"
   ],
   "outputs": [
    {
     "output_type": "execute_result",
     "data": {
      "text/plain": [
       "1"
      ]
     },
     "metadata": {},
     "execution_count": 130
    }
   ],
   "metadata": {}
  },
  {
   "cell_type": "code",
   "execution_count": 131,
   "source": [
    "length = 1\n",
    "count = 0\n",
    "while length <= 1:\n",
    "    try: length = len(itongram[count])\n",
    "    except KeyError: pass\n",
    "    count += 1\n",
    "\n",
    "length, count"
   ],
   "outputs": [
    {
     "output_type": "execute_result",
     "data": {
      "text/plain": [
       "(2, 7082)"
      ]
     },
     "metadata": {},
     "execution_count": 131
    }
   ],
   "metadata": {}
  },
  {
   "cell_type": "markdown",
   "source": [
    "It seems like unigram, bigram and trigram are ordered in terms of length here. The above code shows the first bigram appearance. "
   ],
   "metadata": {}
  },
  {
   "cell_type": "code",
   "execution_count": 132,
   "source": [
    "length = 1\n",
    "count = 0\n",
    "while length <= 2:\n",
    "    try: length = len(itongram[count])\n",
    "    except KeyError: pass\n",
    "    count += 1\n",
    "\n",
    "length, count"
   ],
   "outputs": [
    {
     "output_type": "execute_result",
     "data": {
      "text/plain": [
       "(3, 7182)"
      ]
     },
     "metadata": {},
     "execution_count": 132
    }
   ],
   "metadata": {}
  },
  {
   "cell_type": "markdown",
   "source": [
    "And the first trigram appearance. \n",
    "\n",
    "### Create the ngram-doc matrix for validation data. "
   ],
   "metadata": {}
  },
  {
   "cell_type": "code",
   "execution_count": 133,
   "source": [
    "%%time \n",
    "j_indices_valid, indptr_valid, values_valid = [], [], []\n",
    "try: \n",
    "    j_indices_valid = load_pickle(path/\"j_indices_valid.pkl\")\n",
    "    indptr_valid = load_pickle(path/\"indptr_valid.pkl\")\n",
    "    values_valid = load_pickle(path/\"values_valid.pkl\")\n",
    "except Exception:\n",
    "    indptr_valid.append(0)\n",
    "    for i, (doc, label) in enumerate(tqdm(dls.valid_ds)):\n",
    "        feature_counter = Counter(doc.data.numpy())\n",
    "        j_indices_valid.extend(feature_counter.keys())\n",
    "        values_valid.extend(feature_counter.values())\n",
    "        this_doc_ngrams = list()\n",
    "\n",
    "        m = 0\n",
    "        for n in range(min_n, max_n + 1):\n",
    "            for k in range(vocab_len - n + 1):\n",
    "                ngram = np.array(doc.data[k: k + n])\n",
    "\n",
    "                if str(ngram) in ngramtoi: \n",
    "                    this_doc_ngrams.append(ngramtoi[str(ngram)])\n",
    "\n",
    "                m += 1\n",
    "\n",
    "        ngram_counter = Counter(this_doc_ngrams)\n",
    "        j_indices_valid.extend(ngram_counter.keys())\n",
    "        values_valid.extend(ngram_counter.values())\n",
    "        indptr_valid.append(len(j_indices_valid))\n",
    "\n",
    "    save_pickle(path/\"j_indices_valid.pkl\", j_indices_valid)\n",
    "    save_pickle(path/\"values_valid.pkl\", values_valid)\n",
    "    save_pickle(path/\"indptr_valid.pkl\", indptr_valid)"
   ],
   "outputs": [
    {
     "output_type": "stream",
     "name": "stdout",
     "text": [
      "CPU times: user 15.5 ms, sys: 0 ns, total: 15.5 ms\n",
      "Wall time: 15 ms\n"
     ]
    }
   ],
   "metadata": {}
  },
  {
   "cell_type": "markdown",
   "source": [
    "Of course by now you couldve noticed that this is not the best way to save things. We know we only need the sparse matrix, we could have just save the sparse matrix. But oh well since we already do it and one's lazy to make changes, we will just leave it the way it is. "
   ],
   "metadata": {}
  },
  {
   "cell_type": "code",
   "execution_count": 134,
   "source": [
    "# TO be deleted. \n",
    "save_pickle(path/\"j_indices_valid.pkl\", j_indices_valid)\n",
    "save_pickle(path/\"values_valid.pkl\", values_valid)\n",
    "save_pickle(path/\"indptr_valid.pkl\", indptr_valid)"
   ],
   "outputs": [],
   "metadata": {}
  },
  {
   "cell_type": "code",
   "execution_count": 135,
   "source": [
    "%%time\n",
    "values, j_indices, indptr = values_valid, j_indices_valid, indptr_valid\n",
    "valid_ngram_doc_matrix = scipy.sparse.csr_matrix((values, j_indices, indptr), \n",
    "                            shape=(len(indptr) - 1, len(ngramtoi)), dtype=int)"
   ],
   "outputs": [
    {
     "output_type": "stream",
     "name": "stdout",
     "text": [
      "CPU times: user 25.8 ms, sys: 195 µs, total: 26 ms\n",
      "Wall time: 25.7 ms\n"
     ]
    }
   ],
   "metadata": {}
  },
  {
   "cell_type": "code",
   "execution_count": 136,
   "source": [
    "valid_ngram_doc_matrix"
   ],
   "outputs": [
    {
     "output_type": "execute_result",
     "data": {
      "text/plain": [
       "<200x267669 sparse matrix of type '<class 'numpy.int64'>'\n",
       "\twith 120335 stored elements in Compressed Sparse Row format>"
      ]
     },
     "metadata": {},
     "execution_count": 136
    }
   ],
   "metadata": {}
  },
  {
   "cell_type": "markdown",
   "source": [
    "### Save ngram data\n",
    "This is the proper way of saving it. "
   ],
   "metadata": {}
  },
  {
   "cell_type": "code",
   "execution_count": 137,
   "source": [
    "scipy.sparse.save_npz(path/\"train_ngram_matrix.npz\", train_ngram_doc_matrix)\n",
    "scipy.sparse.save_npz(path/\"valid_ngram_matrix.npz\", valid_ngram_doc_matrix)\n",
    "\n",
    "# Don't ask me about the code below. One doesn't know why and what it's trying\n",
    "# to do. \n",
    "# with open(path/\"itongram.pkl\", \"wb\") as handle: b = pickle.dump(handle)\n",
    "# with open(path/\"ngramtoi.pkl\", \"wb\") as handle: b = pickle.dump(handle)"
   ],
   "outputs": [],
   "metadata": {}
  },
  {
   "cell_type": "markdown",
   "source": [
    "### Naive Bayes using Trigrams instead of tokens. "
   ],
   "metadata": {}
  },
  {
   "cell_type": "code",
   "execution_count": 138,
   "source": [
    "x = train_ngram_doc_matrix\n",
    "x"
   ],
   "outputs": [
    {
     "output_type": "execute_result",
     "data": {
      "text/plain": [
       "<800x267669 sparse matrix of type '<class 'numpy.int64'>'\n",
       "\twith 683475 stored elements in Compressed Sparse Row format>"
      ]
     },
     "metadata": {},
     "execution_count": 138
    }
   ],
   "metadata": {}
  },
  {
   "cell_type": "code",
   "execution_count": 139,
   "source": [
    "k = x.shape[1]\n",
    "print(f\"There are {k} 1-gram, 2-gram, and 3-gram features in the IMDb_sample vocab.\")"
   ],
   "outputs": [
    {
     "output_type": "stream",
     "name": "stdout",
     "text": [
      "There are 267669 1-gram, 2-gram, and 3-gram features in the IMDb_sample vocab.\n"
     ]
    }
   ],
   "metadata": {}
  },
  {
   "cell_type": "code",
   "execution_count": 140,
   "source": [
    "g = np.array(dls.train_ds.items.label)\n",
    "lookupTable, y = np.unique(g, return_inverse=True)\n",
    "assert (lookupTable == np.array(dls.train.vocab.itemgot()[1])).all()\n",
    "\n",
    "y, y.shape"
   ],
   "outputs": [
    {
     "output_type": "execute_result",
     "data": {
      "text/plain": [
       "(array([0, 1, 0, ..., 1, 0, 0]), (800,))"
      ]
     },
     "metadata": {},
     "execution_count": 140
    }
   ],
   "metadata": {}
  },
  {
   "cell_type": "code",
   "execution_count": 141,
   "source": [
    "g = np.array(dls.vocab.itemgot()[1])\n",
    "\n",
    "positive = np.where(g == \"positive\")[0].item()\n",
    "negative = np.where(g == \"negative\")[0].item()\n",
    "print(f'positive and negative review labels are represented numerically by {positive} and {negative}')"
   ],
   "outputs": [
    {
     "output_type": "stream",
     "name": "stdout",
     "text": [
      "positive and negative review labels are represented numerically by 1 and 0\n"
     ]
    }
   ],
   "metadata": {}
  },
  {
   "cell_type": "code",
   "execution_count": 142,
   "source": [
    "g = np.array(dls.valid_ds.items.label)\n",
    "lookupTable, valid_y = np.unique(g, return_inverse=True)\n",
    "assert (lookupTable == np.array(dls.valid.vocab.itemgot()[1])).all()\n",
    "valid_y, valid_y.shape"
   ],
   "outputs": [
    {
     "output_type": "execute_result",
     "data": {
      "text/plain": [
       "(array([1, 1, 1, ..., 0, 0, 1]), (200,))"
      ]
     },
     "metadata": {},
     "execution_count": 142
    }
   ],
   "metadata": {}
  },
  {
   "cell_type": "code",
   "execution_count": 143,
   "source": [
    "# Boolean indicator tells whether or not training label is positive. \n",
    "valid_labels = [label == positive for label in valid_y]\n",
    "valid_labels = np.array(valid_labels)[:, np.newaxis]\n",
    "valid_labels.shape"
   ],
   "outputs": [
    {
     "output_type": "execute_result",
     "data": {
      "text/plain": [
       "(200, 1)"
      ]
     },
     "metadata": {},
     "execution_count": 143
    }
   ],
   "metadata": {}
  },
  {
   "cell_type": "code",
   "execution_count": 144,
   "source": [
    "# Bool indicators for positive and negative reviews in training set. \n",
    "pos = (y == positive)\n",
    "neg = (y == negative)"
   ],
   "outputs": [],
   "metadata": {}
  },
  {
   "cell_type": "markdown",
   "source": [
    "### Naïve Bayes with Trigrams\n",
    "Input is full `ngram_doc_matrix`. Kernel dies if using sparse matrix. Switch to full dense matrix. "
   ],
   "metadata": {}
  },
  {
   "cell_type": "code",
   "execution_count": 145,
   "source": [
    "# Token occurrences count vectors. \n",
    "C0 = np.squeeze(x.todense()[neg].sum(0))\n",
    "C1 = np.squeeze(x.todense()[pos].sum(0))"
   ],
   "outputs": [],
   "metadata": {}
  },
  {
   "cell_type": "code",
   "execution_count": 146,
   "source": [
    "# Token class likelihood vectors\n",
    "L0 = (C0 + 1) / (neg.sum() + 1)\n",
    "L1 = (C1 + 1) / (pos.sum() + 1)"
   ],
   "outputs": [],
   "metadata": {}
  },
  {
   "cell_type": "code",
   "execution_count": 147,
   "source": [
    "# log-count ratio column vector. \n",
    "R = np.log(L1/L0).reshape((-1, 1))"
   ],
   "outputs": [],
   "metadata": {}
  },
  {
   "cell_type": "code",
   "execution_count": 148,
   "source": [
    "# bias\n",
    "(y == positive).mean(), (y==negative).mean()"
   ],
   "outputs": [
    {
     "output_type": "execute_result",
     "data": {
      "text/plain": [
       "(0.47875, 0.52125)"
      ]
     },
     "metadata": {},
     "execution_count": 148
    }
   ],
   "metadata": {}
  },
  {
   "cell_type": "code",
   "execution_count": 149,
   "source": [
    "b = np.log((y==positive).mean() / (y==negative).mean())\n",
    "b"
   ],
   "outputs": [
    {
     "output_type": "execute_result",
     "data": {
      "text/plain": [
       "-0.08505123261815539"
      ]
     },
     "metadata": {},
     "execution_count": 149
    }
   ],
   "metadata": {}
  },
  {
   "cell_type": "code",
   "execution_count": 150,
   "source": [
    "# Input is ngram doc matrix\n",
    "W = valid_ngram_doc_matrix"
   ],
   "outputs": [],
   "metadata": {}
  },
  {
   "cell_type": "code",
   "execution_count": 151,
   "source": [
    "# Label predictions with full ngram_doc_matrix. \n",
    "preds = W @ R + b\n",
    "preds = preds > 0"
   ],
   "outputs": [],
   "metadata": {}
  },
  {
   "cell_type": "code",
   "execution_count": 152,
   "source": [
    "# Accuracy is better than unigram model. Little worse than log reg. \n",
    "acc = (preds==valid_labels).mean()\n",
    "print(f\"Accuracy for Naive Bayes with full trigram model = {acc}\")"
   ],
   "outputs": [
    {
     "output_type": "stream",
     "name": "stdout",
     "text": [
      "Accuracy for Naive Bayes with full trigram model = 0.77\n"
     ]
    }
   ],
   "metadata": {}
  },
  {
   "cell_type": "markdown",
   "source": [
    "## Binarized Naïve Bayes with Trigrams. \n",
    "Input data is binarized `n_gram_doc_matrix`. "
   ],
   "metadata": {}
  },
  {
   "cell_type": "code",
   "execution_count": 153,
   "source": [
    "x = train_ngram_doc_matrix.sign()\n",
    "x"
   ],
   "outputs": [
    {
     "output_type": "execute_result",
     "data": {
      "text/plain": [
       "<800x267669 sparse matrix of type '<class 'numpy.int64'>'\n",
       "\twith 569384 stored elements in Compressed Sparse Row format>"
      ]
     },
     "metadata": {},
     "execution_count": 153
    }
   ],
   "metadata": {}
  },
  {
   "cell_type": "code",
   "execution_count": 154,
   "source": [
    "C0 = np.squeeze(x.todense()[neg].sum(0))\n",
    "C1 = np.squeeze(x.todense()[pos].sum(0))\n",
    "\n",
    "L1 = (C1 + 1) / ((y==positive).sum() + 1)\n",
    "L0 = (C0 + 1) / ((y==negative).sum() + 1)\n",
    "\n",
    "R = np.log(L1/L0).reshape((-1, 1))\n",
    "print(R)"
   ],
   "outputs": [
    {
     "output_type": "stream",
     "name": "stdout",
     "text": [
      "[[ 0.00113986]\n",
      " [ 0.08483888]\n",
      " [ 0.        ]\n",
      " ...\n",
      " [-0.6083083 ]\n",
      " [-0.6083083 ]\n",
      " [-0.6083083 ]]\n"
     ]
    }
   ],
   "metadata": {}
  },
  {
   "cell_type": "code",
   "execution_count": 155,
   "source": [
    "W = valid_ngram_doc_matrix.sign()\n",
    "\n",
    "preds = W @ R + b\n",
    "preds = preds > 0\n",
    "\n",
    "acc = (preds == valid_labels).mean()\n",
    "print(f\"Accuracy for Binarized Naïve Bayes with Trigrams Model = {acc}.\")"
   ],
   "outputs": [
    {
     "output_type": "stream",
     "name": "stdout",
     "text": [
      "Accuracy for Binarized Naïve Bayes with Trigrams Model = 0.745.\n"
     ]
    }
   ],
   "metadata": {}
  },
  {
   "cell_type": "markdown",
   "source": [
    "Slightly worse output/prediction here. \n",
    "\n",
    "# Logistic Regression classifier using Trigrams. \n",
    "Fit regularized log reg where features are trigrams. "
   ],
   "metadata": {}
  },
  {
   "cell_type": "code",
   "execution_count": 156,
   "source": [
    "from sklearn.linear_model import LogisticRegression\n",
    "from sklearn.feature_extraction.text import CountVectorizer"
   ],
   "outputs": [],
   "metadata": {}
  },
  {
   "cell_type": "markdown",
   "source": [
    "## Use `CountVectorizer` to create `train_ngram_doc` matrix. "
   ],
   "metadata": {}
  },
  {
   "cell_type": "code",
   "execution_count": 157,
   "source": [
    "veczr = CountVectorizer(ngram_range=(1, 3), preprocessor=noop,\n",
    "                        tokenizer=noop, max_features=800000)"
   ],
   "outputs": [],
   "metadata": {}
  },
  {
   "cell_type": "code",
   "execution_count": null,
   "source": [
    "train_docs = dls.train_ds\n",
    "try: train_words = load_pickle(path/\"train_words.pkl\")\n",
    "except Exception: \n",
    "    train_words = [[itos(np.array(dls.train.vocab[0]), o) for o in doc.data.numpy()] \n",
    "                for (doc, label) in tqdm(train_docs)]\n",
    "    save_pickle(path/\"train_words.pkl\", train_words)"
   ],
   "outputs": [],
   "metadata": {}
  },
  {
   "cell_type": "code",
   "execution_count": null,
   "source": [
    "valid_docs = dls.valid_ds\n",
    "try: valid_words = load_pickle(path/\"valid_words.pkl\")\n",
    "except Exception:\n",
    "    valid_words = [[itos(np.array(dls.valid.vocab[0]), o) for o in doc.data.numpy()]\n",
    "                    for (doc, label) in tqdm(valid_docs)]\n",
    "    save_pickle(path/\"valid_words.pkl\", valid_words)"
   ],
   "outputs": [],
   "metadata": {}
  },
  {
   "cell_type": "code",
   "execution_count": null,
   "source": [
    "%%time\n",
    "train_ngram_doc_matrix_veczr = veczr.fit_transform(train_words)\n",
    "train_ngram_doc_matrix_veczr"
   ],
   "outputs": [],
   "metadata": {}
  },
  {
   "cell_type": "code",
   "execution_count": null,
   "source": [
    "%%time \n",
    "valid_ngram_doc_matrix_veczr = veczr.transform(valid_words)\n",
    "valid_ngram_doc_matrix_veczr"
   ],
   "outputs": [],
   "metadata": {}
  },
  {
   "cell_type": "code",
   "execution_count": null,
   "source": [
    "vocab = veczr.get_feature_names()"
   ],
   "outputs": [],
   "metadata": {}
  },
  {
   "cell_type": "code",
   "execution_count": null,
   "source": [
    "np.array(vocab[200000:200005])"
   ],
   "outputs": [],
   "metadata": {}
  },
  {
   "cell_type": "markdown",
   "source": [
    "Binarized trigram counts"
   ],
   "metadata": {}
  },
  {
   "cell_type": "code",
   "execution_count": null,
   "source": [
    "%%time\n",
    "# fit model\n",
    "m = LogisticRegression(C=0.1, dual=False, solver=\"liblinear\")\n",
    "m.fit(train_ngram_doc_matrix_veczr.sign(), y.astype(int))\n",
    "\n",
    "# get preds\n",
    "preds = m.predict(valid_ngram_doc_matrix_veczr.sign())\n",
    "valid_labels = [label == positive for label in valid_y]\n",
    "\n",
    "# check acc\n",
    "acc = (preds == valid_labels).mean()\n",
    "print(f\"\"\"\n",
    "    Accuracy = {acc} for Logistic Regression, with binarized trigram counts from\n",
    "    `CountVectorizer`.\n",
    "\"\"\")"
   ],
   "outputs": [],
   "metadata": {}
  },
  {
   "cell_type": "markdown",
   "source": [
    "Full trigram counts: performance is worse. "
   ],
   "metadata": {}
  },
  {
   "cell_type": "code",
   "execution_count": null,
   "source": [
    "m = LogisticRegression(C=0.1, dual=False, solver=\"liblinear\")\n",
    "m.fit(train_ngram_doc_matrix_veczr, y.astype(int))\n",
    "\n",
    "preds = m.predict(valid_ngram_doc_matrix_veczr)\n",
    "acc = (preds == valid_labels).mean()\n",
    "print(f\"\"\"\n",
    "    Accuracy = {acc} for Logistic Regression, with full trigram counts from\n",
    "    `CountVectorizer`.\n",
    "\"\"\")"
   ],
   "outputs": [],
   "metadata": {}
  },
  {
   "cell_type": "markdown",
   "source": [
    "### This time, use our ngrams to create `train_ngram_doc` matrix. "
   ],
   "metadata": {}
  },
  {
   "cell_type": "code",
   "execution_count": null,
   "source": [
    "train_ngram_doc_matrix.shape"
   ],
   "outputs": [],
   "metadata": {}
  },
  {
   "cell_type": "code",
   "execution_count": null,
   "source": [
    "# FIt a model to binarized trigram counts\n",
    "m2 = None\n",
    "m2 = LogisticRegression(C=0.1, dual=False, solver=\"liblinear\")\n",
    "m2.fit(train_ngram_doc_matrix.sign(), y.astype(int))\n",
    "\n",
    "preds = m2.predict(valid_ngram_doc_matrix.sign())\n",
    "acc = (preds == valid_labels).mean()\n",
    "print(f\"Accuracy = {acc} for Log Reg, with binarized trigram counts. \")"
   ],
   "outputs": [],
   "metadata": {}
  },
  {
   "cell_type": "markdown",
   "source": [
    "On my computer the next cell keep giving \"session cannot generate requests\". It seems like jupyter notebook have reached the maximum available cells? Or maybe other reasons? "
   ],
   "metadata": {}
  },
  {
   "cell_type": "code",
   "execution_count": null,
   "source": [
    "# Fit model to full trigram counts: performance is worse. \n",
    "m2 = LogisticRegression(C=0.1, dual=False, solver=\"liblinear\")\n",
    "m2.fit(train_ngram_doc_matrix, y.astype(int))  # try no astype and see if it runs.\n",
    "\n",
    "preds = m2.predict(valid_ngram_doc_matrix)\n",
    "acc = (preds == valid_labels).mean()\n",
    "print(f\"Accuracy = {acc} for full Log Reg, with Trigrams.\")"
   ],
   "outputs": [],
   "metadata": {}
  },
  {
   "cell_type": "code",
   "execution_count": null,
   "source": [
    "# Look at vocabulary of vectorizer\n",
    "veczr.vocabulary_"
   ],
   "outputs": [],
   "metadata": {
    "tags": []
   }
  },
  {
   "cell_type": "markdown",
   "source": [
    "### Logistic Regression with log-count ratio gives slightly better result. "
   ],
   "metadata": {}
  },
  {
   "cell_type": "code",
   "execution_count": null,
   "source": [
    "x = train_ngram_doc_matrix.sign()\n",
    "valid_x = valid_ngram_doc_matrix.sign()"
   ],
   "outputs": [],
   "metadata": {}
  },
  {
   "cell_type": "code",
   "execution_count": null,
   "source": [
    "C0 = np.squeeze(x.todense()[neg].sum(axis=0))\n",
    "C1 = np.squeeze(x.todense()[pos].sum(axis=0))"
   ],
   "outputs": [],
   "metadata": {}
  },
  {
   "cell_type": "code",
   "execution_count": null,
   "source": [
    "L1 = (C1 + 1) / ((pos).sum() + 1)\n",
    "L0 = (C0 + 1) / ((neg).sum() + 1)\n",
    "\n",
    "R = np.log(L1/L0)\n",
    "R.shape"
   ],
   "outputs": [],
   "metadata": {}
  },
  {
   "cell_type": "markdown",
   "source": [
    "Here we fit regularized logistic regression where features are log-count ratios for trigrams':"
   ],
   "metadata": {}
  },
  {
   "cell_type": "code",
   "execution_count": null,
   "source": [
    "R_tile = np.tile(R, [x.shape[0], 1])\n",
    "print(R_tile.shape)"
   ],
   "outputs": [],
   "metadata": {}
  },
  {
   "cell_type": "code",
   "execution_count": null,
   "source": [
    "# x_nb = x.multiply(R)  # kernel dies with sparse matrix\n",
    "x_nb = np.multiply(x.todense(), R_tile)\n",
    "m = LogisticRegression(dual=False, C=0.1, solver=\"liblinear\")\n",
    "m.fit(x_nb, y)\n",
    "\n",
    "valid_x_nb = valid_x.multiply(R)\n",
    "preds = m.predict(valid_x_nb)\n",
    "\n",
    "acc = (preds == valid_labels).mean()\n",
    "print(f\"Accuracy = {acc} for Log Reg, with trigram log-count ratios. \")"
   ],
   "outputs": [],
   "metadata": {}
  },
  {
   "cell_type": "markdown",
   "source": [
    "# Summary (original) "
   ],
   "metadata": {}
  },
  {
   "cell_type": "code",
   "execution_count": null,
   "source": [
    "from IPython.display import HTML, display\n",
    "# Note: to install the `tabulate` package, \n",
    "#     go to a shell terminal and run the command\n",
    "#     `conda install tabulate`\n",
    "import tabulate\n",
    "table = [[\"Model\",\"Data Set\",\"Token Unit\",\"Validation Accuracy(%)\"],\n",
    "         [\"Naive Bayes\",\"IMDb_sample\", \"Full Unigram\",\"64.5 (from video #5)\"],\n",
    "         [\"Naive Bayes\",\"IMDb_sample\", \"Binarized Unigram\",\"68.0\"],\n",
    "         [\"Naive Bayes\",\"IMDb_sample\", \"Full Trigram\",\"76.0\"],\n",
    "         [\"Naive Bayes\",\"IMDb_sample\", \"Binarized Trigram\",\"73.5\"],\n",
    "         [\"Logistic Regression\",\"IMDb_sample\", \"Full Trigram\",\"78.0, 80.0 (our Trigrams)\"],\n",
    "         [\"Logistic Regression\",\"IMDb_sample\", \"Binarized Trigram\",\"83.0\"],\n",
    "         [\"Logistic Regression\",\"IMDb_sample\", \"Binarized Trigram log-count ratios\",\"83.5\"],\n",
    "         [\"Naive Bayes\",\"Full IMDb\",\"IMDb_sample\", \"Binarized Trigram\",\"83.3\"],\n",
    "         [\"Logistic Regression\",\"Full IMDb\", \"Full Trigram\",\"88.3\"],\n",
    "         [\"Logistic Regression\",\"Full IMDb\", \"Binarized Trigram\",\"88.5\"]]\n",
    "display(HTML(tabulate.tabulate(table, tablefmt='html')))"
   ],
   "outputs": [],
   "metadata": {}
  },
  {
   "cell_type": "code",
   "execution_count": null,
   "source": [],
   "outputs": [],
   "metadata": {}
  }
 ],
 "metadata": {
  "interpreter": {
   "hash": "5aa457f694240ca52bec53eda6ed84b45efde55787bbd717cb0e138c3a892911"
  },
  "kernelspec": {
   "name": "python3",
   "display_name": "Python 3.8.2 64-bit ('fastai': conda)"
  },
  "language_info": {
   "codemirror_mode": {
    "name": "ipython",
    "version": 3
   },
   "file_extension": ".py",
   "mimetype": "text/x-python",
   "name": "python",
   "nbconvert_exporter": "python",
   "pygments_lexer": "ipython3",
   "version": "3.8.2"
  }
 },
 "nbformat": 4,
 "nbformat_minor": 4
}