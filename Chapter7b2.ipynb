{
 "cells": [
  {
   "cell_type": "markdown",
   "source": [
    "# Neural Text Generation"
   ],
   "metadata": {}
  },
  {
   "cell_type": "code",
   "execution_count": 1,
   "source": [
    "from seq2seq import *\n",
    "from fastai.text.all import *\n",
    "from utils import *\n",
    "\n",
    "path = Config.config_path/\"giga-fren\"\n",
    "model_path = Config.config_path/\"models\"\n",
    "emb_enc = torch.load(model_path/\"fr_emb.pth\")\n",
    "emb_dec = torch.load(model_path/\"en_emb.pth\")"
   ],
   "outputs": [],
   "metadata": {}
  },
  {
   "cell_type": "code",
   "execution_count": 2,
   "source": [
    "class Seq2SeqRNN_attn(Module):\n",
    "    def __init__(self, emb_enc, emb_dec, nh, out_sl, nl=2, bos_idx=0, pad_idx=1):\n",
    "        self.nl, self.nh, self.out_sl, self.pr_force = nl, nh, out_sl, 1\n",
    "        self.bos_idx, self.pad_idx = bos_idx, pad_idx\n",
    "        self.emb_enc, self.emb_dec = emb_enc, emb_dec\n",
    "        self.emb_sz_enc, self.emb_sz_dec = emb_enc.embedding_dim, emb_enc.embedding_dim\n",
    "        self.voc_sz_dec = emb_dec.num_embeddings\n",
    "\n",
    "        self.emb_enc_drop = nn.Dropout(0.15)\n",
    "        self.gru_enc = nn.GRU(self.emb_sz_enc, nh, num_layers=nl, dropout=0.25,\n",
    "                        batch_first=True, bidirectional=True)\n",
    "        self.out_enc = nn.Linear(2 * nh, self.emb_sz_dec, bias=False)\n",
    "\n",
    "        self.gru_dec = nn.GRU(self.emb_sz_dec + 2 * nh, self.emb_sz_dec, num_layers=nl,\n",
    "                        dropout=0.1, batch_first=True)\n",
    "        self.out_drop = nn.Dropout(0.35)\n",
    "        self.out = nn.Linear(self.emb_sz_dec, self.voc_sz_dec)\n",
    "        self.out.weight.data = self.emb_dec.weight.data\n",
    "\n",
    "        self.enc_att = nn.Linear(2 * nh, self.emb_sz_dec, bias=False)\n",
    "        self.hid_att = nn.Linear(self.emb_sz_dec, self.emb_sz_dec)\n",
    "        self.V = self.init_param(self.emb_sz_dec)\n",
    "\n",
    "    def encoder(self, bs, inp):\n",
    "        h = self.initHidden(bs)\n",
    "        emb = self.emb_enc_drop(self.emb_enc(inp))\n",
    "        enc_out, hid = self.gru_enc(emb, 2 * h)\n",
    "\n",
    "        pre_hid = hid.view(2, self.nl, bs, self.nh).permute(1, 2, 0, 3).contiguous()\n",
    "        pre_hid = pre_hid.view(self.nl, bs, 2 * self.nh)\n",
    "        hid = self.out_enc(pre_hid)\n",
    "\n",
    "        return hid, enc_out\n",
    "\n",
    "    def decoder(self, dec_inp, hid, enc_att, enc_out):\n",
    "        hid_att = self.hid_att(hid[-1])\n",
    "\n",
    "        # enc_out and hid through linear layers\n",
    "        u = torch.tanh(enc_att + hid_att[:, None])\n",
    "\n",
    "        # Learn importance each time step\n",
    "        attn_wgts = F.softmax(u @ self.V, 1)\n",
    "\n",
    "        # weighted average of enc_out (output at every time step)\n",
    "        ctx = (attn_wgts[..., None] * enc_out).sum(1)\n",
    "        emb = self.emb_dec(dec_inp)\n",
    "\n",
    "        # Concat decoder embed with context\n",
    "        outp, hid = self.gru_dec(torch.cat([emb, ctx], 1)[:, None], hid)\n",
    "        outp = self.out(self.out_drop(outp[:, 0]))\n",
    "        return hid, outp\n",
    "\n",
    "    def show(self, nm, v): \n",
    "        if False: print(f\"{nm}={v[nm].shape}\")\n",
    "\n",
    "    def forward(self, inp, targ=None):\n",
    "        bs, sl = inp.size()\n",
    "        hid, enc_out = self.encoder(bs, inp)\n",
    "        # self.show(\"hid\", vars())\n",
    "        dec_inp = inp.new_zeros(bs).long() + self.bos_idx\n",
    "        enc_att = self.enc_att(enc_out)\n",
    "\n",
    "        res = []\n",
    "\n",
    "        for i in range(self.out_sl):\n",
    "            hid, outp = self.decoder(dec_inp, hid, enc_att, enc_out)\n",
    "            res.append(outp)\n",
    "            dec_inp = outp.max(1)[1]\n",
    "            if (dec_inp==self.pad_idx).all(): break\n",
    "\n",
    "            if (targ is not None) and (random.random() < self.pr_force):\n",
    "                if i >= targ.shape[1]: continue\n",
    "                assert dec_inp.shape == targ[:, i].shape\n",
    "                dec_inp = targ[:, i]\n",
    "        \n",
    "        return torch.stack(res, dim=1)\n",
    "\n",
    "    def initHidden(self, bs): return one_param(self).new_zeros(2 * self.nl, bs, self.nh)\n",
    "    def init_param(self, *sz): return nn.Parameter(torch.randn(sz) / math.sqrt(sz[0]))"
   ],
   "outputs": [],
   "metadata": {}
  },
  {
   "cell_type": "code",
   "execution_count": 3,
   "source": [
    "df = pd.read_csv(path/\"questions_easy.csv\")\n",
    "df[\"en\"] = df[\"en\"].apply(lambda x: x.lower())\n",
    "df[\"fr\"] = df[\"fr\"].apply(lambda x: x.lower())\n",
    "df.tail()\n",
    "\n",
    "sl = 30  # try longer or shorter? \n",
    "\n",
    "dls = DataBlock(\n",
    "    blocks=(TextBlock.from_df(\"fr\", tok=SpacyTokenizer(\"fr\"), seq_len=sl),\n",
    "            TextBlock.from_df(\"en\", tok=SpacyTokenizer(\"en\"), seq_len=sl)),\n",
    "    get_x=ColReader(\"text\"), get_y=ColReader(\"text\"),\n",
    "    splitter=RandomSplitter(0.1)\n",
    ").dataloaders(df, bs=64, num_workers=os.cpu_count(), seq_len=sl)\n",
    "dls.show_batch(max_n=3)"
   ],
   "outputs": [
    {
     "output_type": "display_data",
     "data": {
      "text/html": [],
      "text/plain": [
       "<IPython.core.display.HTML object>"
      ]
     },
     "metadata": {}
    },
    {
     "output_type": "stream",
     "name": "stderr",
     "text": [
      "/anaconda/envs/fastai/lib/python3.8/site-packages/numpy/core/_asarray.py:102: VisibleDeprecationWarning: Creating an ndarray from ragged nested sequences (which is a list-or-tuple of lists-or-tuples-or ndarrays with different lengths or shapes) is deprecated. If you meant to do this, you must specify 'dtype=object' when creating the ndarray.\n",
      "  return array(a, dtype, copy=False, order=order)\n"
     ]
    },
    {
     "output_type": "display_data",
     "data": {
      "text/html": [],
      "text/plain": [
       "<IPython.core.display.HTML object>"
      ]
     },
     "metadata": {}
    },
    {
     "output_type": "display_data",
     "data": {
      "text/html": [
       "<table border=\"1\" class=\"dataframe\">\n",
       "  <thead>\n",
       "    <tr style=\"text-align: right;\">\n",
       "      <th></th>\n",
       "      <th>text</th>\n",
       "      <th>text_</th>\n",
       "    </tr>\n",
       "  </thead>\n",
       "  <tbody>\n",
       "    <tr>\n",
       "      <th>0</th>\n",
       "      <td>xxbos dans un tel cas , où il s’ agit d ’ apprécier si un nom commercial a un fondement juridique antérieur à celui d ’ une marque aux fins de l’ article 16 , paragraphe 1 , troisième phrase , de l’ accord adpic , peut -on considérer comme décisif : i ) le fait que , dans l’ état où la marque est enregistrée et sa protection réclamée , le nom commercial ait été , du moins dans une certaine mesure , connu dans les milieux professionnels xxunk xxunk de l’ état concerné avant la date à laquelle l’ enregistrement de la marque y a été demandé ; ou que , dans les relations commerciales intéressant l’ état où la marque est xxunk ée et sa protection réclamée , le nom commercial ait été utilisé avant la date à laquelle l’ enregistrement de la marque a été demandé</td>\n",
       "      <td>xxbos when assessing , in such a case , whether a trade name has a legal basis prior to a trade mark for the purposes of the third sentence of article 16(1 ) of the trips agreement , may it thus be considered as decisive : ( i ) whether the trade name was well known at least to some extent among the relevant trade circles in the state in which the trade mark is registered and in which protection is sought for it , before the point in time at which registration of the trade mark was applied for in the state in question ; or whether the trade name was used in commerce directed to the state in which the trade mark is registered and in which protection is sought for it , before the point in time at which registration of the trade mark was applied for in the state in question ; or what other factor may decide whether the trade name is to be regarded as an existing prior right within the meaning of the third sentence of article 16(1 ) of the trips agreement ?</td>\n",
       "    </tr>\n",
       "    <tr>\n",
       "      <th>1</th>\n",
       "      <td>xxbos on lui avait alors demandé : « lorsque le temps presse , par exemple , au début de décembre , on a annoncé à ces deux unités , le royal canadian xxunk ( xxunk ) et le royal canadian xxunk ( xxunk ) , qu' elles feraient partie d' un xxunk tactique et qu' elles n avaient que quelques jours pour se préparer , n' est -ce pas là une situation où un officier supérieur comme vous devrait vérifier l' état de préparation opérationnelle de l' ensemble des troupes , pour déterminer si tous les membres de l' unité peuvent travailler ensemble ?</td>\n",
       "      <td>xxbos when asked \" if you have a very xxunk time line ; that is , in early december these two units , the royal canadian regiment ( xxunk ) and the royal canadian xxunk ( xxunk ) , are being told they are now going to be part of the battle group and they have literally days in which to prepare , is that not a situation where a superior officer like yourself should be deciding about operational readiness of the whole configuration , whether the whole unit can work together ?</td>\n",
       "    </tr>\n",
       "    <tr>\n",
       "      <th>2</th>\n",
       "      <td>xxbos c' est en se posant les questions qui suivent au cours de l' étape de la mise en oeuvre que l' on pourra déterminer si les objectifs , les stratégies et les plans opérationnels établis à l' origine ont été bien xxunk : \\ par \\ pard { \\ pard { \\ pard \\ plain { \\ xxunk \\ pard \\ plain xxunk \\ xxunk \\ xxunk \\ xxunk \\ xxunk \\ xxunk \\ xxunk systèmes de soutien , les procédures , les contrôles et les examens des projets peuvent -ils être intégrés avec succès dans le processus de changement ?</td>\n",
       "      <td>xxbos whether the earlier objectives , strategies and operational plans were well - conceived will inevitably show up in the implementation stage in response to the following questions : \\ par \\ pard { \\ pard { \\ pard \\ plain { \\ xxunk \\ pard \\ plain xxunk \\ xxunk \\ xxunk \\ xxunk \\ xxunk \\ xxunk \\ xxunk supporting systems , procedures , project controls and reviews be successfully incorporated into the change process ?</td>\n",
       "    </tr>\n",
       "  </tbody>\n",
       "</table>"
      ],
      "text/plain": [
       "<IPython.core.display.HTML object>"
      ]
     },
     "metadata": {}
    }
   ],
   "metadata": {}
  },
  {
   "cell_type": "markdown",
   "source": [
    "Check for average length of sentences"
   ],
   "metadata": {}
  },
  {
   "cell_type": "code",
   "execution_count": 4,
   "source": [
    "# En\n",
    "m = np.array([len(st.split(\" \")) for st in df.to_numpy()[:, 0]])\n",
    "m.mean(), m.std()"
   ],
   "outputs": [
    {
     "output_type": "execute_result",
     "data": {
      "text/plain": [
       "(11.588159981655233, 6.950316044697761)"
      ]
     },
     "metadata": {},
     "execution_count": 4
    }
   ],
   "metadata": {}
  },
  {
   "cell_type": "code",
   "execution_count": 5,
   "source": [
    "# Fr\n",
    "n = np.array([len(st.split(\" \")) for st in df.to_numpy()[:, 1]])\n",
    "n.mean(), n.std()"
   ],
   "outputs": [
    {
     "output_type": "execute_result",
     "data": {
      "text/plain": [
       "(13.114998757906404, 8.258423695368164)"
      ]
     },
     "metadata": {},
     "execution_count": 5
    }
   ],
   "metadata": {}
  },
  {
   "cell_type": "markdown",
   "source": [
    "This might be a good baseline for how long you want your sequence length (`seq_len`) to be: the default 72 might be too long. Let's see how many **percentages of sentences** are at least 72 length. "
   ],
   "metadata": {}
  },
  {
   "cell_type": "code",
   "execution_count": 6,
   "source": [
    "np.count_nonzero(m >= 72) / len(m) * 100, np.count_nonzero(n > 72) / len(n) * 100"
   ],
   "outputs": [
    {
     "output_type": "execute_result",
     "data": {
      "text/plain": [
       "(0.03248552483231736, 0.06688196289006516)"
      ]
     },
     "metadata": {},
     "execution_count": 6
    }
   ],
   "metadata": {}
  },
  {
   "cell_type": "markdown",
   "source": [
    "Only 0.032% for English and 0.067% for French! This isn't a good sequence length to use, as we would have padding all over the place? \n",
    "\n",
    "However, one does notice that it seems like the sequence length for fastai v2 differs across batch (and same within batch). This might be the counter action that fastai v2 deal with different length, and variable sequence length method. "
   ],
   "metadata": {}
  },
  {
   "cell_type": "code",
   "execution_count": 7,
   "source": [
    "model = Seq2SeqRNN_attn(emb_enc, emb_dec, 256, 30)\n",
    "learn = Learner(dls, model, loss_func=seq2seq_loss, \n",
    "                metrics=[seq2seq_acc, CorpusBLEUMetric(len(dls.vocab[1]))],\n",
    "                cbs=[TeacherForcing(30, 3)])\n",
    "learn.lr_find()"
   ],
   "outputs": [
    {
     "output_type": "display_data",
     "data": {
      "text/html": [],
      "text/plain": [
       "<IPython.core.display.HTML object>"
      ]
     },
     "metadata": {}
    },
    {
     "output_type": "execute_result",
     "data": {
      "text/plain": [
       "SuggestedLRs(valley=tensor(0.0003))"
      ]
     },
     "metadata": {},
     "execution_count": 7
    },
    {
     "output_type": "display_data",
     "data": {
      "image/png": "[encoded data removed]",
      "text/plain": [
       "<Figure size 432x288 with 1 Axes>"
      ]
     },
     "metadata": {
      "needs_background": "light"
     }
    }
   ],
   "metadata": {}
  },
  {
   "cell_type": "code",
   "execution_count": 12,
   "source": [
    "learn.fit_one_cycle(7, 2e-3)"
   ],
   "outputs": [
    {
     "output_type": "display_data",
     "data": {
      "text/html": [
       "<table border=\"1\" class=\"dataframe\">\n",
       "  <thead>\n",
       "    <tr style=\"text-align: left;\">\n",
       "      <th>epoch</th>\n",
       "      <th>train_loss</th>\n",
       "      <th>valid_loss</th>\n",
       "      <th>seq2seq_acc</th>\n",
       "      <th>corpus_bleu</th>\n",
       "      <th>time</th>\n",
       "    </tr>\n",
       "  </thead>\n",
       "  <tbody>\n",
       "    <tr>\n",
       "      <td>0</td>\n",
       "      <td>3.267984</td>\n",
       "      <td>2.941255</td>\n",
       "      <td>0.587048</td>\n",
       "      <td>0.397089</td>\n",
       "      <td>02:52</td>\n",
       "    </tr>\n",
       "    <tr>\n",
       "      <td>1</td>\n",
       "      <td>2.432247</td>\n",
       "      <td>2.429537</td>\n",
       "      <td>0.637897</td>\n",
       "      <td>0.434980</td>\n",
       "      <td>02:32</td>\n",
       "    </tr>\n",
       "    <tr>\n",
       "      <td>2</td>\n",
       "      <td>2.510777</td>\n",
       "      <td>2.112346</td>\n",
       "      <td>0.674652</td>\n",
       "      <td>0.460755</td>\n",
       "      <td>02:31</td>\n",
       "    </tr>\n",
       "    <tr>\n",
       "      <td>3</td>\n",
       "      <td>2.059308</td>\n",
       "      <td>2.047936</td>\n",
       "      <td>0.683675</td>\n",
       "      <td>0.468946</td>\n",
       "      <td>02:30</td>\n",
       "    </tr>\n",
       "    <tr>\n",
       "      <td>4</td>\n",
       "      <td>2.099344</td>\n",
       "      <td>1.938624</td>\n",
       "      <td>0.697954</td>\n",
       "      <td>0.489107</td>\n",
       "      <td>02:30</td>\n",
       "    </tr>\n",
       "    <tr>\n",
       "      <td>5</td>\n",
       "      <td>2.067464</td>\n",
       "      <td>1.994792</td>\n",
       "      <td>0.692945</td>\n",
       "      <td>0.485352</td>\n",
       "      <td>02:29</td>\n",
       "    </tr>\n",
       "    <tr>\n",
       "      <td>6</td>\n",
       "      <td>2.176093</td>\n",
       "      <td>1.993718</td>\n",
       "      <td>0.693948</td>\n",
       "      <td>0.490502</td>\n",
       "      <td>02:28</td>\n",
       "    </tr>\n",
       "  </tbody>\n",
       "</table>"
      ],
      "text/plain": [
       "<IPython.core.display.HTML object>"
      ]
     },
     "metadata": {}
    }
   ],
   "metadata": {}
  },
  {
   "cell_type": "code",
   "execution_count": 14,
   "source": [
    "learn.save(Path(os.getcwd())/\"output/neural\")"
   ],
   "outputs": [
    {
     "output_type": "execute_result",
     "data": {
      "text/plain": [
       "Path('/home/fastai2/notebooks/fastai_NLP/output/neural.pth')"
      ]
     },
     "metadata": {},
     "execution_count": 14
    }
   ],
   "metadata": {}
  },
  {
   "cell_type": "code",
   "execution_count": 8,
   "source": [
    "learn.load(Path(os.getcwd())/\"output/neural\")"
   ],
   "outputs": [
    {
     "output_type": "execute_result",
     "data": {
      "text/plain": [
       "<fastai.learner.Learner at 0x7fcf5c8164c0>"
      ]
     },
     "metadata": {},
     "execution_count": 8
    }
   ],
   "metadata": {}
  },
  {
   "cell_type": "markdown",
   "source": [
    "Here, the `xs`, `ys` and `zs` are our `inputs`, `targs` and `preds.argmax(1)` respectively, since they passed out as integers. Then, we get the str form, which are the `rxs`, `rys` and `rzs` by passing through our `GetPreds.get_predictions` function. "
   ],
   "metadata": {}
  },
  {
   "cell_type": "code",
   "execution_count": 14,
   "source": [
    "inputs, preds, targs = learn.get_preds(with_input=True)\n",
    "p = GetPreds(dls, inputs[0], preds, targs)"
   ],
   "outputs": [
    {
     "output_type": "display_data",
     "data": {
      "text/html": [],
      "text/plain": [
       "<IPython.core.display.HTML object>"
      ]
     },
     "metadata": {}
    }
   ],
   "metadata": {}
  },
  {
   "cell_type": "code",
   "execution_count": 16,
   "source": [
    "idx = 701\n",
    "rx, ry, rz = p.get_predictions(idx)\n",
    "x, y, z = inputs[0][idx], targs[idx], preds[idx]\n",
    "rx, ry, rz"
   ],
   "outputs": [
    {
     "output_type": "execute_result",
     "data": {
      "text/plain": [
       "(\"xxbos quel est le nom du tribunal ou des juges qui ont pris la décision d' appel et le nombre d' appels ?\",\n",
       " 'xxbos what is the name of the court / judges who decided the xxunk ) and number of appeals ?',\n",
       " 'xxbos what is the name of the court or judges who have to appeal to ? the of positions ? xxpad xxpad xxpad xxpad xxpad xxpad xxpad xxpad xxpad')"
      ]
     },
     "metadata": {},
     "execution_count": 16
    }
   ],
   "metadata": {}
  },
  {
   "cell_type": "code",
   "execution_count": 10,
   "source": [
    "def select_topk(outp, k=5):\n",
    "    probs = F.softmax(outp, dim=-1)\n",
    "    vals, idxs = probs.topk(k, dim=-1)\n",
    "    return idxs[torch.randint(k, (1,))]"
   ],
   "outputs": [],
   "metadata": {}
  },
  {
   "cell_type": "code",
   "execution_count": 11,
   "source": [
    "from random import choice\n",
    "\n",
    "def select_nucleus(outp, p=0.5):\n",
    "    probs = F.softmax(outp, dim=-1)\n",
    "    idxs = torch.argsort(probs, descending=True)\n",
    "    res, cumsum = [], 0\n",
    "\n",
    "    for idx in idxs:\n",
    "        res.append(idx)\n",
    "        cumsum += probs[idx]\n",
    "        if cumsum > p: return idxs.new_tensor([choice(res)])"
   ],
   "outputs": [],
   "metadata": {}
  },
  {
   "cell_type": "code",
   "execution_count": 12,
   "source": [
    "def decode(self, inp): \n",
    "    inp = inp[None]\n",
    "    bs, sl = inp.size()\n",
    "    hid, enc_out = self.encoder(bs, inp)\n",
    "    dec_inp = inp.new_zeros(bs).long() + self.bos_idx\n",
    "    enc_att = self.enc_att(enc_out)\n",
    "\n",
    "    res = []\n",
    "    for i in range(self.out_sl):\n",
    "        hid, outp = self.decoder(dec_inp, hid, enc_att, enc_out)\n",
    "        dec_inp = select_nucleus(outp[0], p=0.3)\n",
    "        # dec_inp = select_topk(outp[0], k=2)\n",
    "        res.append(dec_inp)\n",
    "        if (dec_inp == self.pad_idx).all(): break\n",
    "\n",
    "    return torch.cat(res)"
   ],
   "outputs": [],
   "metadata": {}
  },
  {
   "cell_type": "code",
   "execution_count": 25,
   "source": [
    "def predict_with_decode(learn, x, y):\n",
    "    learn.model.eval()\n",
    "    ds = learn.dls.train_ds\n",
    "    with torch.no_grad(): \n",
    "        try: out = decode(learn.model, x)\n",
    "        except Exception: out = decode(learn.model, x.cuda())\n",
    "        rx, ry, rz = p.get_predictions(idx)\n",
    "        # We overwrite rz since we don't need \"argmax\" anymore. \n",
    "        rz = itos(dls.vocab[1], out.cpu(), join=True, ignore_pad=True)\n",
    "    return rx, ry, rz"
   ],
   "outputs": [],
   "metadata": {}
  },
  {
   "cell_type": "code",
   "execution_count": 29,
   "source": [
    "rx, ry, rz = predict_with_decode(learn, x, y)\n",
    "rz"
   ],
   "outputs": [
    {
     "output_type": "execute_result",
     "data": {
      "text/plain": [
       "'xxbos what is the name of the court or court who decided to appeal and the number of appeal ?'"
      ]
     },
     "metadata": {},
     "execution_count": 29
    }
   ],
   "metadata": {}
  },
  {
   "cell_type": "code",
   "execution_count": null,
   "source": [],
   "outputs": [],
   "metadata": {}
  }
 ],
 "metadata": {
  "orig_nbformat": 4,
  "language_info": {
   "name": "python",
   "version": "3.8.2",
   "mimetype": "text/x-python",
   "codemirror_mode": {
    "name": "ipython",
    "version": 3
   },
   "pygments_lexer": "ipython3",
   "nbconvert_exporter": "python",
   "file_extension": ".py"
  },
  "kernelspec": {
   "name": "python3",
   "display_name": "Python 3.8.2 64-bit ('fastai': conda)"
  },
  "interpreter": {
   "hash": "5aa457f694240ca52bec53eda6ed84b45efde55787bbd717cb0e138c3a892911"
  }
 },
 "nbformat": 4,
 "nbformat_minor": 2
}